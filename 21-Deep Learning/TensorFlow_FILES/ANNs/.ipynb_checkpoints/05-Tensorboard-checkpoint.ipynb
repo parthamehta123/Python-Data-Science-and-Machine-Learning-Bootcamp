{
 "cells": [
  {
   "cell_type": "markdown",
   "metadata": {},
   "source": [
    "<a href=\"https://www.pieriandata.com\"><img src=\"../Pierian_Data_Logo.PNG\"></a>\n",
    "<strong><center>Copyright by Pierian Data Inc.</center></strong> \n",
    "<strong><center>Created by Jose Marcial Portilla.</center></strong>"
   ]
  },
  {
   "cell_type": "markdown",
   "metadata": {},
   "source": [
    "# Tensorboard\n",
    "\n",
    "---\n",
    "---\n",
    "\n",
    "**NOTE: You must watch the corresponding video to understand this lecture. This notebook can't serve as a full guide. Please watch the video BEFORE posting questions to the QA forum.**\n",
    "\n",
    "---\n",
    "---\n",
    "\n",
    "Let's explore the built in data visualization capabilities that come with Tensorboard.\n",
    "\n",
    "Full official tutorial available here: https://www.tensorflow.org/tensorboard/get_started\n",
    "\n",
    "## Data"
   ]
  },
  {
   "cell_type": "code",
   "execution_count": 1,
   "metadata": {},
   "outputs": [],
   "source": [
    "import pandas as pd\n",
    "import numpy as np"
   ]
  },
  {
   "cell_type": "code",
   "execution_count": 2,
   "metadata": {},
   "outputs": [],
   "source": [
    "df = pd.read_csv('../DATA/cancer_classification.csv')"
   ]
  },
  {
   "cell_type": "markdown",
   "metadata": {},
   "source": [
    "### Train Test Split"
   ]
  },
  {
   "cell_type": "code",
   "execution_count": 3,
   "metadata": {},
   "outputs": [],
   "source": [
    "X = df.drop('benign_0__mal_1',axis=1).values\n",
    "y = df['benign_0__mal_1'].values"
   ]
  },
  {
   "cell_type": "code",
   "execution_count": 4,
   "metadata": {},
   "outputs": [],
   "source": [
    "from sklearn.model_selection import train_test_split"
   ]
  },
  {
   "cell_type": "code",
   "execution_count": 5,
   "metadata": {},
   "outputs": [],
   "source": [
    "X_train, X_test, y_train, y_test = train_test_split(X,y,test_size=0.25,random_state=101)"
   ]
  },
  {
   "cell_type": "markdown",
   "metadata": {},
   "source": [
    "\n",
    "### Scaling Data"
   ]
  },
  {
   "cell_type": "code",
   "execution_count": 6,
   "metadata": {},
   "outputs": [],
   "source": [
    "from sklearn.preprocessing import MinMaxScaler"
   ]
  },
  {
   "cell_type": "code",
   "execution_count": 7,
   "metadata": {},
   "outputs": [],
   "source": [
    "scaler = MinMaxScaler()"
   ]
  },
  {
   "cell_type": "code",
   "execution_count": 8,
   "metadata": {},
   "outputs": [
    {
     "data": {
      "text/plain": [
       "MinMaxScaler()"
      ]
     },
     "execution_count": 8,
     "metadata": {},
     "output_type": "execute_result"
    }
   ],
   "source": [
    "scaler.fit(X_train)"
   ]
  },
  {
   "cell_type": "code",
   "execution_count": 9,
   "metadata": {},
   "outputs": [],
   "source": [
    "X_train = scaler.transform(X_train)\n",
    "X_test = scaler.transform(X_test)"
   ]
  },
  {
   "cell_type": "markdown",
   "metadata": {},
   "source": [
    "## Creating the Model"
   ]
  },
  {
   "cell_type": "code",
   "execution_count": 10,
   "metadata": {},
   "outputs": [],
   "source": [
    "import tensorflow as tf\n",
    "from tensorflow.keras.models import Sequential\n",
    "from tensorflow.keras.layers import Dense, Activation,Dropout"
   ]
  },
  {
   "cell_type": "code",
   "execution_count": 11,
   "metadata": {},
   "outputs": [],
   "source": [
    "from tensorflow.keras.callbacks import EarlyStopping,TensorBoard"
   ]
  },
  {
   "cell_type": "code",
   "execution_count": 12,
   "metadata": {},
   "outputs": [],
   "source": [
    "early_stop = EarlyStopping(monitor='val_loss', mode='min', verbose=1, patience=25)"
   ]
  },
  {
   "cell_type": "code",
   "execution_count": 13,
   "metadata": {},
   "outputs": [
    {
     "data": {
      "text/plain": [
       "'/Users/parthamehta/python-workspace/Python-Data-Science-and-Machine-Learning-Bootcamp/21-Deep Learning/TensorFlow_FILES/ANNs'"
      ]
     },
     "execution_count": 13,
     "metadata": {},
     "output_type": "execute_result"
    }
   ],
   "source": [
    "pwd"
   ]
  },
  {
   "cell_type": "markdown",
   "metadata": {},
   "source": [
    "## Creating the Tensorboard Callback\n",
    "\n",
    "TensorBoard is a visualization tool provided with TensorFlow.\n",
    "\n",
    "This callback logs events for TensorBoard, including:\n",
    "* Metrics summary plots\n",
    "* Training graph visualization\n",
    "* Activation histograms\n",
    "* Sampled profiling\n",
    "\n",
    "If you have installed TensorFlow with pip, you should be able\n",
    "to launch TensorBoard from the command line:\n",
    "\n",
    "```sh\n",
    "tensorboard --logdir=path_to_your_logs\n",
    "```\n",
    "\n",
    "You can find more information about TensorBoard\n",
    "[here](https://www.tensorflow.org/tensorboard/).\n",
    "\n",
    "    Arguments:\n",
    "        log_dir: the path of the directory where to save the log files to be\n",
    "          parsed by TensorBoard.\n",
    "        histogram_freq: frequency (in epochs) at which to compute activation and\n",
    "          weight histograms for the layers of the model. If set to 0, histograms\n",
    "          won't be computed. Validation data (or split) must be specified for\n",
    "          histogram visualizations.\n",
    "        write_graph: whether to visualize the graph in TensorBoard. The log file\n",
    "          can become quite large when write_graph is set to True.\n",
    "        write_images: whether to write model weights to visualize as image in\n",
    "          TensorBoard.\n",
    "        update_freq: `'batch'` or `'epoch'` or integer. When using `'batch'`,\n",
    "          writes the losses and metrics to TensorBoard after each batch. The same\n",
    "          applies for `'epoch'`. If using an integer, let's say `1000`, the\n",
    "          callback will write the metrics and losses to TensorBoard every 1000\n",
    "          samples. Note that writing too frequently to TensorBoard can slow down\n",
    "          your training.\n",
    "        profile_batch: Profile the batch to sample compute characteristics. By\n",
    "          default, it will profile the second batch. Set profile_batch=0 to\n",
    "          disable profiling. Must run in TensorFlow eager mode.\n",
    "        embeddings_freq: frequency (in epochs) at which embedding layers will\n",
    "          be visualized. If set to 0, embeddings won't be visualized.\n",
    "       "
   ]
  },
  {
   "cell_type": "code",
   "execution_count": 16,
   "metadata": {},
   "outputs": [],
   "source": [
    "from datetime import datetime"
   ]
  },
  {
   "cell_type": "code",
   "execution_count": 17,
   "metadata": {},
   "outputs": [
    {
     "data": {
      "text/plain": [
       "'2021-12-27--1313'"
      ]
     },
     "execution_count": 17,
     "metadata": {},
     "output_type": "execute_result"
    }
   ],
   "source": [
    "datetime.now().strftime(\"%Y-%m-%d--%H%M\")"
   ]
  },
  {
   "cell_type": "code",
   "execution_count": 18,
   "metadata": {},
   "outputs": [
    {
     "name": "stderr",
     "output_type": "stream",
     "text": [
      "2021-12-27 13:15:39.612776: I tensorflow/core/profiler/lib/profiler_session.cc:136] Profiler session initializing.\n",
      "2021-12-27 13:15:39.612799: I tensorflow/core/profiler/lib/profiler_session.cc:155] Profiler session started.\n",
      "2021-12-27 13:15:39.612948: I tensorflow/core/profiler/lib/profiler_session.cc:172] Profiler session tear down.\n"
     ]
    }
   ],
   "source": [
    "# WINDOWS: Use \"logs\\\\fit\"\n",
    "# MACOS/LINUX: Use \"logs\\fit\"\n",
    "\n",
    "log_directory = 'logs\\\\fit'\n",
    "\n",
    "# OPTIONAL: ADD A TIMESTAMP FOR UNIQUE FOLDER\n",
    "# timestamp = datetime.now().strftime(\"%Y-%m-%d--%H%M\")\n",
    "# log_directory = log_directory + '\\\\' + timestamp\n",
    "\n",
    "\n",
    "board = TensorBoard(log_dir=log_directory,histogram_freq=1,\n",
    "    write_graph=True,\n",
    "    write_images=True,\n",
    "    update_freq='epoch',\n",
    "    profile_batch=2,\n",
    "    embeddings_freq=1)"
   ]
  },
  {
   "cell_type": "markdown",
   "metadata": {},
   "source": [
    "Now create the model layers:"
   ]
  },
  {
   "cell_type": "code",
   "execution_count": 19,
   "metadata": {},
   "outputs": [
    {
     "name": "stderr",
     "output_type": "stream",
     "text": [
      "2021-12-27 13:16:02.716773: I tensorflow/compiler/jit/xla_cpu_device.cc:41] Not creating XLA devices, tf_xla_enable_xla_devices not set\n",
      "2021-12-27 13:16:02.717136: I tensorflow/core/platform/cpu_feature_guard.cc:142] This TensorFlow binary is optimized with oneAPI Deep Neural Network Library (oneDNN) to use the following CPU instructions in performance-critical operations:  AVX2 FMA\n",
      "To enable them in other operations, rebuild TensorFlow with the appropriate compiler flags.\n"
     ]
    }
   ],
   "source": [
    "model = Sequential()\n",
    "model.add(Dense(units=30,activation='relu'))\n",
    "model.add(Dropout(0.5))\n",
    "model.add(Dense(units=15,activation='relu'))\n",
    "model.add(Dropout(0.5))\n",
    "model.add(Dense(units=1,activation='sigmoid'))\n",
    "model.compile(loss='binary_crossentropy', optimizer='adam')"
   ]
  },
  {
   "cell_type": "markdown",
   "metadata": {},
   "source": [
    "## Train the Model"
   ]
  },
  {
   "cell_type": "code",
   "execution_count": 20,
   "metadata": {
    "scrolled": true
   },
   "outputs": [
    {
     "name": "stderr",
     "output_type": "stream",
     "text": [
      "2021-12-27 13:16:10.425557: I tensorflow/compiler/mlir/mlir_graph_optimization_pass.cc:116] None of the MLIR optimization passes are enabled (registered 2)\n"
     ]
    },
    {
     "name": "stdout",
     "output_type": "stream",
     "text": [
      "Epoch 1/600\n",
      " 1/14 [=>............................] - ETA: 4s - loss: 0.7699"
     ]
    },
    {
     "name": "stderr",
     "output_type": "stream",
     "text": [
      "2021-12-27 13:16:10.759745: I tensorflow/core/profiler/lib/profiler_session.cc:136] Profiler session initializing.\n",
      "2021-12-27 13:16:10.759757: I tensorflow/core/profiler/lib/profiler_session.cc:155] Profiler session started.\n",
      "2021-12-27 13:16:10.761564: I tensorflow/core/profiler/lib/profiler_session.cc:71] Profiler session collecting data.\n",
      "2021-12-27 13:16:10.762537: I tensorflow/core/profiler/lib/profiler_session.cc:172] Profiler session tear down.\n",
      "2021-12-27 13:16:10.764846: I tensorflow/core/profiler/rpc/client/save_profile.cc:137] Creating directory: logs\\fit/train/plugins/profile/2021_12_27_13_16_10\n",
      "2021-12-27 13:16:10.765648: I tensorflow/core/profiler/rpc/client/save_profile.cc:143] Dumped gzipped tool data for trace.json.gz to logs\\fit/train/plugins/profile/2021_12_27_13_16_10/Parthas-MBP.trace.json.gz\n",
      "2021-12-27 13:16:10.768280: I tensorflow/core/profiler/rpc/client/save_profile.cc:137] Creating directory: logs\\fit/train/plugins/profile/2021_12_27_13_16_10\n",
      "2021-12-27 13:16:10.768467: I tensorflow/core/profiler/rpc/client/save_profile.cc:143] Dumped gzipped tool data for memory_profile.json.gz to logs\\fit/train/plugins/profile/2021_12_27_13_16_10/Parthas-MBP.memory_profile.json.gz\n",
      "2021-12-27 13:16:10.769288: I tensorflow/core/profiler/rpc/client/capture_profile.cc:251] Creating directory: logs\\fit/train/plugins/profile/2021_12_27_13_16_10Dumped tool data for xplane.pb to logs\\fit/train/plugins/profile/2021_12_27_13_16_10/Parthas-MBP.xplane.pb\n",
      "Dumped tool data for overview_page.pb to logs\\fit/train/plugins/profile/2021_12_27_13_16_10/Parthas-MBP.overview_page.pb\n",
      "Dumped tool data for input_pipeline.pb to logs\\fit/train/plugins/profile/2021_12_27_13_16_10/Parthas-MBP.input_pipeline.pb\n",
      "Dumped tool data for tensorflow_stats.pb to logs\\fit/train/plugins/profile/2021_12_27_13_16_10/Parthas-MBP.tensorflow_stats.pb\n",
      "Dumped tool data for kernel_stats.pb to logs\\fit/train/plugins/profile/2021_12_27_13_16_10/Parthas-MBP.kernel_stats.pb\n",
      "\n"
     ]
    },
    {
     "name": "stdout",
     "output_type": "stream",
     "text": [
      "14/14 [==============================] - 1s 41ms/step - loss: 0.7334 - val_loss: 0.6907\n",
      "Epoch 2/600\n",
      "14/14 [==============================] - 0s 2ms/step - loss: 0.7095 - val_loss: 0.6792\n",
      "Epoch 3/600\n",
      "14/14 [==============================] - 0s 2ms/step - loss: 0.6840 - val_loss: 0.6670\n",
      "Epoch 4/600\n",
      "14/14 [==============================] - 0s 2ms/step - loss: 0.6799 - val_loss: 0.6527\n",
      "Epoch 5/600\n",
      "14/14 [==============================] - 0s 2ms/step - loss: 0.6632 - val_loss: 0.6371\n",
      "Epoch 6/600\n",
      "14/14 [==============================] - 0s 2ms/step - loss: 0.6517 - val_loss: 0.6180\n",
      "Epoch 7/600\n",
      "14/14 [==============================] - 0s 2ms/step - loss: 0.6259 - val_loss: 0.5945\n",
      "Epoch 8/600\n",
      "14/14 [==============================] - 0s 2ms/step - loss: 0.5974 - val_loss: 0.5678\n",
      "Epoch 9/600\n",
      "14/14 [==============================] - 0s 2ms/step - loss: 0.5762 - val_loss: 0.5373\n",
      "Epoch 10/600\n",
      "14/14 [==============================] - 0s 2ms/step - loss: 0.5601 - val_loss: 0.5085\n",
      "Epoch 11/600\n",
      "14/14 [==============================] - 0s 2ms/step - loss: 0.5361 - val_loss: 0.4796\n",
      "Epoch 12/600\n",
      "14/14 [==============================] - 0s 2ms/step - loss: 0.5369 - val_loss: 0.4542\n",
      "Epoch 13/600\n",
      "14/14 [==============================] - 0s 2ms/step - loss: 0.4986 - val_loss: 0.4276\n",
      "Epoch 14/600\n",
      "14/14 [==============================] - 0s 2ms/step - loss: 0.4913 - val_loss: 0.4060\n",
      "Epoch 15/600\n",
      "14/14 [==============================] - 0s 2ms/step - loss: 0.4580 - val_loss: 0.3874\n",
      "Epoch 16/600\n",
      "14/14 [==============================] - 0s 2ms/step - loss: 0.4547 - val_loss: 0.3707\n",
      "Epoch 17/600\n",
      "14/14 [==============================] - 0s 2ms/step - loss: 0.4228 - val_loss: 0.3531\n",
      "Epoch 18/600\n",
      "14/14 [==============================] - 0s 2ms/step - loss: 0.4077 - val_loss: 0.3382\n",
      "Epoch 19/600\n",
      "14/14 [==============================] - 0s 2ms/step - loss: 0.4182 - val_loss: 0.3213\n",
      "Epoch 20/600\n",
      "14/14 [==============================] - 0s 2ms/step - loss: 0.4116 - val_loss: 0.3066\n",
      "Epoch 21/600\n",
      "14/14 [==============================] - 0s 2ms/step - loss: 0.3951 - val_loss: 0.2921\n",
      "Epoch 22/600\n",
      "14/14 [==============================] - 0s 2ms/step - loss: 0.3562 - val_loss: 0.2786\n",
      "Epoch 23/600\n",
      "14/14 [==============================] - 0s 2ms/step - loss: 0.3707 - val_loss: 0.2644\n",
      "Epoch 24/600\n",
      "14/14 [==============================] - 0s 2ms/step - loss: 0.3418 - val_loss: 0.2526\n",
      "Epoch 25/600\n",
      "14/14 [==============================] - 0s 2ms/step - loss: 0.3566 - val_loss: 0.2418\n",
      "Epoch 26/600\n",
      "14/14 [==============================] - 0s 2ms/step - loss: 0.3404 - val_loss: 0.2326\n",
      "Epoch 27/600\n",
      "14/14 [==============================] - 0s 2ms/step - loss: 0.3204 - val_loss: 0.2205\n",
      "Epoch 28/600\n",
      "14/14 [==============================] - 0s 2ms/step - loss: 0.2763 - val_loss: 0.2036\n",
      "Epoch 29/600\n",
      "14/14 [==============================] - 0s 2ms/step - loss: 0.2681 - val_loss: 0.1902\n",
      "Epoch 30/600\n",
      "14/14 [==============================] - 0s 2ms/step - loss: 0.2842 - val_loss: 0.1887\n",
      "Epoch 31/600\n",
      "14/14 [==============================] - 0s 2ms/step - loss: 0.3063 - val_loss: 0.1762\n",
      "Epoch 32/600\n",
      "14/14 [==============================] - 0s 2ms/step - loss: 0.2396 - val_loss: 0.1801\n",
      "Epoch 33/600\n",
      "14/14 [==============================] - 0s 2ms/step - loss: 0.2744 - val_loss: 0.1708\n",
      "Epoch 34/600\n",
      "14/14 [==============================] - 0s 2ms/step - loss: 0.2245 - val_loss: 0.1600\n",
      "Epoch 35/600\n",
      "14/14 [==============================] - 0s 2ms/step - loss: 0.2298 - val_loss: 0.1579\n",
      "Epoch 36/600\n",
      "14/14 [==============================] - 0s 2ms/step - loss: 0.2450 - val_loss: 0.1518\n",
      "Epoch 37/600\n",
      "14/14 [==============================] - 0s 2ms/step - loss: 0.2765 - val_loss: 0.1507\n",
      "Epoch 38/600\n",
      "14/14 [==============================] - 0s 2ms/step - loss: 0.2271 - val_loss: 0.1481\n",
      "Epoch 39/600\n",
      "14/14 [==============================] - 0s 2ms/step - loss: 0.2250 - val_loss: 0.1389\n",
      "Epoch 40/600\n",
      "14/14 [==============================] - 0s 2ms/step - loss: 0.2257 - val_loss: 0.1405\n",
      "Epoch 41/600\n",
      "14/14 [==============================] - 0s 2ms/step - loss: 0.2161 - val_loss: 0.1398\n",
      "Epoch 42/600\n",
      "14/14 [==============================] - 0s 2ms/step - loss: 0.2258 - val_loss: 0.1396\n",
      "Epoch 43/600\n",
      "14/14 [==============================] - 0s 2ms/step - loss: 0.1974 - val_loss: 0.1364\n",
      "Epoch 44/600\n",
      "14/14 [==============================] - 0s 2ms/step - loss: 0.2296 - val_loss: 0.1335\n",
      "Epoch 45/600\n",
      "14/14 [==============================] - 0s 2ms/step - loss: 0.1920 - val_loss: 0.1299\n",
      "Epoch 46/600\n",
      "14/14 [==============================] - 0s 2ms/step - loss: 0.1739 - val_loss: 0.1266\n",
      "Epoch 47/600\n",
      "14/14 [==============================] - 0s 2ms/step - loss: 0.1815 - val_loss: 0.1204\n",
      "Epoch 48/600\n",
      "14/14 [==============================] - 0s 2ms/step - loss: 0.1856 - val_loss: 0.1326\n",
      "Epoch 49/600\n",
      "14/14 [==============================] - 0s 2ms/step - loss: 0.1682 - val_loss: 0.1232\n",
      "Epoch 50/600\n",
      "14/14 [==============================] - 0s 2ms/step - loss: 0.2136 - val_loss: 0.1158\n",
      "Epoch 51/600\n",
      "14/14 [==============================] - 0s 2ms/step - loss: 0.1965 - val_loss: 0.1264\n",
      "Epoch 52/600\n",
      "14/14 [==============================] - 0s 2ms/step - loss: 0.1307 - val_loss: 0.1155\n",
      "Epoch 53/600\n",
      "14/14 [==============================] - 0s 2ms/step - loss: 0.1442 - val_loss: 0.1090\n",
      "Epoch 54/600\n",
      "14/14 [==============================] - 0s 2ms/step - loss: 0.1669 - val_loss: 0.1076\n",
      "Epoch 55/600\n",
      "14/14 [==============================] - 0s 2ms/step - loss: 0.1636 - val_loss: 0.1076\n",
      "Epoch 56/600\n",
      "14/14 [==============================] - 0s 2ms/step - loss: 0.1947 - val_loss: 0.1058\n",
      "Epoch 57/600\n",
      "14/14 [==============================] - 0s 2ms/step - loss: 0.1481 - val_loss: 0.1033\n",
      "Epoch 58/600\n",
      "14/14 [==============================] - 0s 2ms/step - loss: 0.1579 - val_loss: 0.1153\n",
      "Epoch 59/600\n",
      "14/14 [==============================] - 0s 2ms/step - loss: 0.2028 - val_loss: 0.1038\n",
      "Epoch 60/600\n",
      "14/14 [==============================] - 0s 2ms/step - loss: 0.1756 - val_loss: 0.1190\n",
      "Epoch 61/600\n",
      "14/14 [==============================] - 0s 2ms/step - loss: 0.1588 - val_loss: 0.1103\n",
      "Epoch 62/600\n",
      "14/14 [==============================] - 0s 2ms/step - loss: 0.1587 - val_loss: 0.1029\n",
      "Epoch 63/600\n",
      "14/14 [==============================] - 0s 2ms/step - loss: 0.1422 - val_loss: 0.1160\n",
      "Epoch 64/600\n",
      "14/14 [==============================] - 0s 2ms/step - loss: 0.1500 - val_loss: 0.1011\n",
      "Epoch 65/600\n",
      "14/14 [==============================] - 0s 2ms/step - loss: 0.1497 - val_loss: 0.1100\n",
      "Epoch 66/600\n",
      "14/14 [==============================] - 0s 2ms/step - loss: 0.1526 - val_loss: 0.0990\n",
      "Epoch 67/600\n",
      "14/14 [==============================] - 0s 2ms/step - loss: 0.1720 - val_loss: 0.0967\n",
      "Epoch 68/600\n",
      "14/14 [==============================] - 0s 2ms/step - loss: 0.1738 - val_loss: 0.0991\n",
      "Epoch 69/600\n",
      "14/14 [==============================] - 0s 2ms/step - loss: 0.1514 - val_loss: 0.0967\n",
      "Epoch 70/600\n",
      "14/14 [==============================] - 0s 2ms/step - loss: 0.1484 - val_loss: 0.1007\n",
      "Epoch 71/600\n",
      "14/14 [==============================] - 0s 2ms/step - loss: 0.1410 - val_loss: 0.0977\n",
      "Epoch 72/600\n",
      "14/14 [==============================] - 0s 2ms/step - loss: 0.1052 - val_loss: 0.0923\n",
      "Epoch 73/600\n",
      "14/14 [==============================] - 0s 2ms/step - loss: 0.1292 - val_loss: 0.0955\n",
      "Epoch 74/600\n",
      "14/14 [==============================] - 0s 2ms/step - loss: 0.1238 - val_loss: 0.0943\n",
      "Epoch 75/600\n",
      "14/14 [==============================] - 0s 2ms/step - loss: 0.1469 - val_loss: 0.0926\n",
      "Epoch 76/600\n",
      "14/14 [==============================] - 0s 2ms/step - loss: 0.1232 - val_loss: 0.0906\n",
      "Epoch 77/600\n",
      "14/14 [==============================] - 0s 2ms/step - loss: 0.1279 - val_loss: 0.0966\n",
      "Epoch 78/600\n",
      "14/14 [==============================] - 0s 2ms/step - loss: 0.1319 - val_loss: 0.1099\n",
      "Epoch 79/600\n",
      "14/14 [==============================] - 0s 2ms/step - loss: 0.1209 - val_loss: 0.0950\n",
      "Epoch 80/600\n",
      "14/14 [==============================] - 0s 2ms/step - loss: 0.1327 - val_loss: 0.1056\n",
      "Epoch 81/600\n",
      "14/14 [==============================] - 0s 2ms/step - loss: 0.1326 - val_loss: 0.0951\n",
      "Epoch 82/600\n",
      "14/14 [==============================] - 0s 2ms/step - loss: 0.1050 - val_loss: 0.0964\n",
      "Epoch 83/600\n"
     ]
    },
    {
     "name": "stdout",
     "output_type": "stream",
     "text": [
      "14/14 [==============================] - 0s 2ms/step - loss: 0.1398 - val_loss: 0.0993\n",
      "Epoch 84/600\n",
      "14/14 [==============================] - 0s 2ms/step - loss: 0.1090 - val_loss: 0.0935\n",
      "Epoch 85/600\n",
      "14/14 [==============================] - 0s 2ms/step - loss: 0.1408 - val_loss: 0.0893\n",
      "Epoch 86/600\n",
      "14/14 [==============================] - 0s 2ms/step - loss: 0.1593 - val_loss: 0.1038\n",
      "Epoch 87/600\n",
      "14/14 [==============================] - 0s 3ms/step - loss: 0.1370 - val_loss: 0.0987\n",
      "Epoch 88/600\n",
      "14/14 [==============================] - 0s 2ms/step - loss: 0.1380 - val_loss: 0.0898\n",
      "Epoch 89/600\n",
      "14/14 [==============================] - 0s 2ms/step - loss: 0.1082 - val_loss: 0.0956\n",
      "Epoch 90/600\n",
      "14/14 [==============================] - 0s 2ms/step - loss: 0.1437 - val_loss: 0.0972\n",
      "Epoch 91/600\n",
      "14/14 [==============================] - 0s 2ms/step - loss: 0.1255 - val_loss: 0.0988\n",
      "Epoch 92/600\n",
      "14/14 [==============================] - 0s 2ms/step - loss: 0.1206 - val_loss: 0.0986\n",
      "Epoch 93/600\n",
      "14/14 [==============================] - 0s 2ms/step - loss: 0.0909 - val_loss: 0.0996\n",
      "Epoch 94/600\n",
      "14/14 [==============================] - 0s 2ms/step - loss: 0.1277 - val_loss: 0.0911\n",
      "Epoch 95/600\n",
      "14/14 [==============================] - 0s 2ms/step - loss: 0.1418 - val_loss: 0.0967\n",
      "Epoch 96/600\n",
      "14/14 [==============================] - 0s 2ms/step - loss: 0.1085 - val_loss: 0.1008\n",
      "Epoch 97/600\n",
      "14/14 [==============================] - 0s 2ms/step - loss: 0.0964 - val_loss: 0.0902\n",
      "Epoch 98/600\n",
      "14/14 [==============================] - 0s 2ms/step - loss: 0.0991 - val_loss: 0.0891\n",
      "Epoch 99/600\n",
      "14/14 [==============================] - 0s 2ms/step - loss: 0.0991 - val_loss: 0.0964\n",
      "Epoch 100/600\n",
      "14/14 [==============================] - 0s 2ms/step - loss: 0.1076 - val_loss: 0.1032\n",
      "Epoch 101/600\n",
      "14/14 [==============================] - 0s 2ms/step - loss: 0.1740 - val_loss: 0.0848\n",
      "Epoch 102/600\n",
      "14/14 [==============================] - 0s 2ms/step - loss: 0.1210 - val_loss: 0.0911\n",
      "Epoch 103/600\n",
      "14/14 [==============================] - 0s 2ms/step - loss: 0.1156 - val_loss: 0.0862\n",
      "Epoch 104/600\n",
      "14/14 [==============================] - 0s 2ms/step - loss: 0.0857 - val_loss: 0.0844\n",
      "Epoch 105/600\n",
      "14/14 [==============================] - 0s 2ms/step - loss: 0.1047 - val_loss: 0.0918\n",
      "Epoch 106/600\n",
      "14/14 [==============================] - 0s 2ms/step - loss: 0.1079 - val_loss: 0.0834\n",
      "Epoch 107/600\n",
      "14/14 [==============================] - 0s 2ms/step - loss: 0.1103 - val_loss: 0.1139\n",
      "Epoch 108/600\n",
      "14/14 [==============================] - 0s 2ms/step - loss: 0.1006 - val_loss: 0.0829\n",
      "Epoch 109/600\n",
      "14/14 [==============================] - 0s 2ms/step - loss: 0.1272 - val_loss: 0.0822\n",
      "Epoch 110/600\n",
      "14/14 [==============================] - 0s 2ms/step - loss: 0.0773 - val_loss: 0.0902\n",
      "Epoch 111/600\n",
      "14/14 [==============================] - 0s 2ms/step - loss: 0.1009 - val_loss: 0.1008\n",
      "Epoch 112/600\n",
      "14/14 [==============================] - 0s 2ms/step - loss: 0.0831 - val_loss: 0.0917\n",
      "Epoch 113/600\n",
      "14/14 [==============================] - 0s 2ms/step - loss: 0.1016 - val_loss: 0.0959\n",
      "Epoch 114/600\n",
      "14/14 [==============================] - 0s 2ms/step - loss: 0.0980 - val_loss: 0.0919\n",
      "Epoch 115/600\n",
      "14/14 [==============================] - 0s 2ms/step - loss: 0.1054 - val_loss: 0.0923\n",
      "Epoch 116/600\n",
      "14/14 [==============================] - 0s 2ms/step - loss: 0.0854 - val_loss: 0.0905\n",
      "Epoch 117/600\n",
      "14/14 [==============================] - 0s 2ms/step - loss: 0.1120 - val_loss: 0.0802\n",
      "Epoch 118/600\n",
      "14/14 [==============================] - 0s 2ms/step - loss: 0.1212 - val_loss: 0.0841\n",
      "Epoch 119/600\n",
      "14/14 [==============================] - 0s 2ms/step - loss: 0.1078 - val_loss: 0.0976\n",
      "Epoch 120/600\n",
      "14/14 [==============================] - 0s 2ms/step - loss: 0.0914 - val_loss: 0.0821\n",
      "Epoch 121/600\n",
      "14/14 [==============================] - 0s 2ms/step - loss: 0.1172 - val_loss: 0.0908\n",
      "Epoch 122/600\n",
      "14/14 [==============================] - 0s 2ms/step - loss: 0.0859 - val_loss: 0.0824\n",
      "Epoch 123/600\n",
      "14/14 [==============================] - 0s 2ms/step - loss: 0.0850 - val_loss: 0.0838\n",
      "Epoch 124/600\n",
      "14/14 [==============================] - 0s 2ms/step - loss: 0.0791 - val_loss: 0.1105\n",
      "Epoch 125/600\n",
      "14/14 [==============================] - 0s 2ms/step - loss: 0.1068 - val_loss: 0.0859\n",
      "Epoch 126/600\n",
      "14/14 [==============================] - 0s 2ms/step - loss: 0.0933 - val_loss: 0.0879\n",
      "Epoch 127/600\n",
      "14/14 [==============================] - 0s 2ms/step - loss: 0.1009 - val_loss: 0.0843\n",
      "Epoch 128/600\n",
      "14/14 [==============================] - 0s 2ms/step - loss: 0.0917 - val_loss: 0.0898\n",
      "Epoch 129/600\n",
      "14/14 [==============================] - 0s 2ms/step - loss: 0.0882 - val_loss: 0.0890\n",
      "Epoch 130/600\n",
      "14/14 [==============================] - 0s 2ms/step - loss: 0.1221 - val_loss: 0.0923\n",
      "Epoch 131/600\n",
      "14/14 [==============================] - 0s 2ms/step - loss: 0.0944 - val_loss: 0.0864\n",
      "Epoch 132/600\n",
      "14/14 [==============================] - 0s 2ms/step - loss: 0.1011 - val_loss: 0.0871\n",
      "Epoch 133/600\n",
      "14/14 [==============================] - 0s 2ms/step - loss: 0.0972 - val_loss: 0.0867\n",
      "Epoch 134/600\n",
      "14/14 [==============================] - 0s 2ms/step - loss: 0.1203 - val_loss: 0.0917\n",
      "Epoch 135/600\n",
      "14/14 [==============================] - 0s 2ms/step - loss: 0.0950 - val_loss: 0.0845\n",
      "Epoch 136/600\n",
      "14/14 [==============================] - 0s 2ms/step - loss: 0.0795 - val_loss: 0.0896\n",
      "Epoch 137/600\n",
      "14/14 [==============================] - 0s 2ms/step - loss: 0.1171 - val_loss: 0.1011\n",
      "Epoch 138/600\n",
      "14/14 [==============================] - 0s 2ms/step - loss: 0.1047 - val_loss: 0.0892\n",
      "Epoch 139/600\n",
      "14/14 [==============================] - 0s 2ms/step - loss: 0.0944 - val_loss: 0.0938\n",
      "Epoch 140/600\n",
      "14/14 [==============================] - 0s 2ms/step - loss: 0.1111 - val_loss: 0.0838\n",
      "Epoch 141/600\n",
      "14/14 [==============================] - 0s 2ms/step - loss: 0.1174 - val_loss: 0.0875\n",
      "Epoch 142/600\n",
      "14/14 [==============================] - 0s 3ms/step - loss: 0.0842 - val_loss: 0.0960\n",
      "Epoch 00142: early stopping\n"
     ]
    },
    {
     "data": {
      "text/plain": [
       "<tensorflow.python.keras.callbacks.History at 0x7f78a6dcb580>"
      ]
     },
     "execution_count": 20,
     "metadata": {},
     "output_type": "execute_result"
    }
   ],
   "source": [
    "model.fit(x=X_train, \n",
    "          y=y_train, \n",
    "          epochs=600,\n",
    "          validation_data=(X_test, y_test), verbose=1,\n",
    "          callbacks=[early_stop,board]\n",
    "          )"
   ]
  },
  {
   "cell_type": "markdown",
   "metadata": {},
   "source": [
    "# Running Tensorboard\n"
   ]
  },
  {
   "cell_type": "markdown",
   "metadata": {},
   "source": [
    "## Running through the Command Line\n",
    "\n",
    "**Watch video to see how to run Tensorboard through a command line call.**"
   ]
  },
  {
   "cell_type": "markdown",
   "metadata": {},
   "source": [
    "Tensorboard will run locally in your browser at [http://localhost:6006/](http://localhost:6006/)\n"
   ]
  },
  {
   "cell_type": "code",
   "execution_count": 21,
   "metadata": {},
   "outputs": [
    {
     "name": "stdout",
     "output_type": "stream",
     "text": [
      "logs\\fit\n"
     ]
    }
   ],
   "source": [
    "print(log_directory)"
   ]
  },
  {
   "cell_type": "code",
   "execution_count": 22,
   "metadata": {},
   "outputs": [
    {
     "data": {
      "text/plain": [
       "'/Users/parthamehta/python-workspace/Python-Data-Science-and-Machine-Learning-Bootcamp/21-Deep Learning/TensorFlow_FILES/ANNs'"
      ]
     },
     "execution_count": 22,
     "metadata": {},
     "output_type": "execute_result"
    }
   ],
   "source": [
    "pwd"
   ]
  },
  {
   "cell_type": "markdown",
   "metadata": {},
   "source": [
    "### Use cd at your command line to change directory to the file path reported back by pwd or your current .py file location.\n",
    "### Then run this code at your command line or terminal"
   ]
  },
  {
   "cell_type": "code",
   "execution_count": 21,
   "metadata": {},
   "outputs": [],
   "source": [
    "# tensorboard --logdir logs\\fit "
   ]
  },
  {
   "cell_type": "code",
   "execution_count": null,
   "metadata": {},
   "outputs": [],
   "source": []
  },
  {
   "cell_type": "code",
   "execution_count": null,
   "metadata": {},
   "outputs": [],
   "source": []
  }
 ],
 "metadata": {
  "kernelspec": {
   "display_name": "Python 3 (ipykernel)",
   "language": "python",
   "name": "python3"
  },
  "language_info": {
   "codemirror_mode": {
    "name": "ipython",
    "version": 3
   },
   "file_extension": ".py",
   "mimetype": "text/x-python",
   "name": "python",
   "nbconvert_exporter": "python",
   "pygments_lexer": "ipython3",
   "version": "3.8.5"
  }
 },
 "nbformat": 4,
 "nbformat_minor": 2
}
