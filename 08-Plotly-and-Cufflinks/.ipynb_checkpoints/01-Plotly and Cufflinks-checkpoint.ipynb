{
 "cells": [
  {
   "cell_type": "markdown",
   "metadata": {},
   "source": [
    "___\n",
    "\n",
    "<a href='http://www.pieriandata.com'> <img src='../Pierian_Data_Logo.png' /></a>\n",
    "___\n",
    "# Plotly and Cufflinks"
   ]
  },
  {
   "cell_type": "markdown",
   "metadata": {},
   "source": [
    "Plotly is a library that allows you to create interactive plots that you can use in dashboards or websites (you can save them as html files or static images).\n",
    "\n",
    "## Installation\n",
    "\n",
    "In order for this all to work, you'll need to install plotly and cufflinks to call plots directly off of a pandas dataframe. These libraries are not currently available through **conda** but are available through **pip**. Install the libraries at your command line/terminal using:\n",
    "\n",
    "    pip install plotly\n",
    "    pip install cufflinks\n",
    "\n",
    "** NOTE: Make sure you only have one installation of Python on your computer when you do this, otherwise the installation may not work. **\n",
    "\n",
    "## Imports and Set-up"
   ]
  },
  {
   "cell_type": "code",
   "execution_count": 1,
   "metadata": {},
   "outputs": [],
   "source": [
    "import pandas as pd\n",
    "import numpy as np\n",
    "%matplotlib inline"
   ]
  },
  {
   "cell_type": "code",
   "execution_count": 2,
   "metadata": {},
   "outputs": [
    {
     "name": "stdout",
     "output_type": "stream",
     "text": [
      "4.14.3\n"
     ]
    }
   ],
   "source": [
    "from plotly import __version__\n",
    "from plotly.offline import download_plotlyjs, init_notebook_mode, plot, iplot\n",
    "\n",
    "print(__version__) # requires version >= 1.9.0"
   ]
  },
  {
   "cell_type": "code",
   "execution_count": 3,
   "metadata": {},
   "outputs": [],
   "source": [
    "import cufflinks as cf"
   ]
  },
  {
   "cell_type": "code",
   "execution_count": 6,
   "metadata": {},
   "outputs": [
    {
     "data": {
      "text/html": [
       "        <script type=\"text/javascript\">\n",
       "        window.PlotlyConfig = {MathJaxConfig: 'local'};\n",
       "        if (window.MathJax) {MathJax.Hub.Config({SVG: {font: \"STIX-Web\"}});}\n",
       "        if (typeof require !== 'undefined') {\n",
       "        require.undef(\"plotly\");\n",
       "        requirejs.config({\n",
       "            paths: {\n",
       "                'plotly': ['https://cdn.plot.ly/plotly-latest.min']\n",
       "            }\n",
       "        });\n",
       "        require(['plotly'], function(Plotly) {\n",
       "            window._Plotly = Plotly;\n",
       "        });\n",
       "        }\n",
       "        </script>\n",
       "        "
      ]
     },
     "metadata": {},
     "output_type": "display_data"
    }
   ],
   "source": [
    "# For Notebooks\n",
    "init_notebook_mode(connected=True)"
   ]
  },
  {
   "cell_type": "code",
   "execution_count": 5,
   "metadata": {},
   "outputs": [
    {
     "data": {
      "text/html": [
       "        <script type=\"text/javascript\">\n",
       "        window.PlotlyConfig = {MathJaxConfig: 'local'};\n",
       "        if (window.MathJax) {MathJax.Hub.Config({SVG: {font: \"STIX-Web\"}});}\n",
       "        if (typeof require !== 'undefined') {\n",
       "        require.undef(\"plotly\");\n",
       "        requirejs.config({\n",
       "            paths: {\n",
       "                'plotly': ['https://cdn.plot.ly/plotly-latest.min']\n",
       "            }\n",
       "        });\n",
       "        require(['plotly'], function(Plotly) {\n",
       "            window._Plotly = Plotly;\n",
       "        });\n",
       "        }\n",
       "        </script>\n",
       "        "
      ]
     },
     "metadata": {},
     "output_type": "display_data"
    }
   ],
   "source": [
    "# For offline use\n",
    "cf.go_offline()"
   ]
  },
  {
   "cell_type": "markdown",
   "metadata": {},
   "source": [
    "### Fake Data"
   ]
  },
  {
   "cell_type": "code",
   "execution_count": 7,
   "metadata": {},
   "outputs": [],
   "source": [
    "df = pd.DataFrame(np.random.randn(100,4),columns='A B C D'.split())"
   ]
  },
  {
   "cell_type": "code",
   "execution_count": 8,
   "metadata": {},
   "outputs": [
    {
     "data": {
      "text/html": [
       "<div>\n",
       "<style scoped>\n",
       "    .dataframe tbody tr th:only-of-type {\n",
       "        vertical-align: middle;\n",
       "    }\n",
       "\n",
       "    .dataframe tbody tr th {\n",
       "        vertical-align: top;\n",
       "    }\n",
       "\n",
       "    .dataframe thead th {\n",
       "        text-align: right;\n",
       "    }\n",
       "</style>\n",
       "<table border=\"1\" class=\"dataframe\">\n",
       "  <thead>\n",
       "    <tr style=\"text-align: right;\">\n",
       "      <th></th>\n",
       "      <th>A</th>\n",
       "      <th>B</th>\n",
       "      <th>C</th>\n",
       "      <th>D</th>\n",
       "    </tr>\n",
       "  </thead>\n",
       "  <tbody>\n",
       "    <tr>\n",
       "      <th>0</th>\n",
       "      <td>1.282866</td>\n",
       "      <td>-0.515403</td>\n",
       "      <td>-1.353516</td>\n",
       "      <td>-0.749755</td>\n",
       "    </tr>\n",
       "    <tr>\n",
       "      <th>1</th>\n",
       "      <td>-1.905855</td>\n",
       "      <td>0.079132</td>\n",
       "      <td>1.400360</td>\n",
       "      <td>2.476237</td>\n",
       "    </tr>\n",
       "    <tr>\n",
       "      <th>2</th>\n",
       "      <td>1.762409</td>\n",
       "      <td>1.039652</td>\n",
       "      <td>0.134694</td>\n",
       "      <td>-1.764773</td>\n",
       "    </tr>\n",
       "    <tr>\n",
       "      <th>3</th>\n",
       "      <td>-1.289574</td>\n",
       "      <td>0.485028</td>\n",
       "      <td>1.405191</td>\n",
       "      <td>-0.847308</td>\n",
       "    </tr>\n",
       "    <tr>\n",
       "      <th>4</th>\n",
       "      <td>-0.330747</td>\n",
       "      <td>-1.625411</td>\n",
       "      <td>0.958071</td>\n",
       "      <td>0.705096</td>\n",
       "    </tr>\n",
       "  </tbody>\n",
       "</table>\n",
       "</div>"
      ],
      "text/plain": [
       "          A         B         C         D\n",
       "0  1.282866 -0.515403 -1.353516 -0.749755\n",
       "1 -1.905855  0.079132  1.400360  2.476237\n",
       "2  1.762409  1.039652  0.134694 -1.764773\n",
       "3 -1.289574  0.485028  1.405191 -0.847308\n",
       "4 -0.330747 -1.625411  0.958071  0.705096"
      ]
     },
     "execution_count": 8,
     "metadata": {},
     "output_type": "execute_result"
    }
   ],
   "source": [
    "df.head()"
   ]
  },
  {
   "cell_type": "code",
   "execution_count": 9,
   "metadata": {},
   "outputs": [],
   "source": [
    "df2 = pd.DataFrame({'Category':['A','B','C'],'Values':[32,43,50]})"
   ]
  },
  {
   "cell_type": "code",
   "execution_count": 10,
   "metadata": {},
   "outputs": [
    {
     "data": {
      "text/html": [
       "<div>\n",
       "<style scoped>\n",
       "    .dataframe tbody tr th:only-of-type {\n",
       "        vertical-align: middle;\n",
       "    }\n",
       "\n",
       "    .dataframe tbody tr th {\n",
       "        vertical-align: top;\n",
       "    }\n",
       "\n",
       "    .dataframe thead th {\n",
       "        text-align: right;\n",
       "    }\n",
       "</style>\n",
       "<table border=\"1\" class=\"dataframe\">\n",
       "  <thead>\n",
       "    <tr style=\"text-align: right;\">\n",
       "      <th></th>\n",
       "      <th>Category</th>\n",
       "      <th>Values</th>\n",
       "    </tr>\n",
       "  </thead>\n",
       "  <tbody>\n",
       "    <tr>\n",
       "      <th>0</th>\n",
       "      <td>A</td>\n",
       "      <td>32</td>\n",
       "    </tr>\n",
       "    <tr>\n",
       "      <th>1</th>\n",
       "      <td>B</td>\n",
       "      <td>43</td>\n",
       "    </tr>\n",
       "    <tr>\n",
       "      <th>2</th>\n",
       "      <td>C</td>\n",
       "      <td>50</td>\n",
       "    </tr>\n",
       "  </tbody>\n",
       "</table>\n",
       "</div>"
      ],
      "text/plain": [
       "  Category  Values\n",
       "0        A      32\n",
       "1        B      43\n",
       "2        C      50"
      ]
     },
     "execution_count": 10,
     "metadata": {},
     "output_type": "execute_result"
    }
   ],
   "source": [
    "df2.head()"
   ]
  },
  {
   "cell_type": "markdown",
   "metadata": {},
   "source": [
    "## Using Cufflinks and iplot()\n",
    "\n",
    "* scatter\n",
    "* bar\n",
    "* box\n",
    "* spread\n",
    "* ratio\n",
    "* heatmap\n",
    "* surface\n",
    "* histogram\n",
    "* bubble"
   ]
  },
  {
   "cell_type": "markdown",
   "metadata": {},
   "source": [
    "## Scatter"
   ]
  },
  {
   "cell_type": "code",
   "execution_count": 11,
   "metadata": {},
   "outputs": [
    {
     "data": {
      "application/vnd.plotly.v1+json": {
       "config": {
        "linkText": "Export to plot.ly",
        "plotlyServerURL": "https://plot.ly",
        "showLink": true
       },
       "data": [
        {
         "line": {
          "color": "rgba(255, 153, 51, 1.0)",
          "dash": "solid",
          "shape": "linear",
          "width": 1.3
         },
         "marker": {
          "size": 10,
          "symbol": "circle"
         },
         "mode": "markers",
         "name": "B",
         "text": "",
         "type": "scatter",
         "x": [
          1.2828662516368237,
          -1.9058548130178599,
          1.7624087399545465,
          -1.28957445810928,
          -0.33074735230222574,
          1.3924138972481361,
          -1.0876116171939914,
          -1.2081372790816036,
          -0.6737965225857129,
          -0.02583692854927848,
          0.8039293299766449,
          1.0107446447097366,
          -1.4146549512974564,
          -0.15595360258756916,
          1.1310264219534185,
          0.3109506384339165,
          -0.3808054031911281,
          0.11122446898664881,
          -0.9656072574207325,
          0.2406238062862133,
          -0.8068648764125891,
          -1.6871947272058962,
          1.2337296353563858,
          -0.3809284251154643,
          -0.35317470698447334,
          0.43415144542077877,
          1.2180163628219967,
          -1.522440486703186,
          0.5217061847644993,
          0.38561994701780056,
          -0.49192210133219766,
          0.14013093395285253,
          2.4036700387643384,
          -0.4807851905433463,
          -1.9605399057258375,
          1.2669050634370032,
          -1.5308676262032017,
          -0.5190412053819773,
          0.4173351672979796,
          -0.23687798244708996,
          -0.8460465955548907,
          -0.5084860834962257,
          0.1738108848450604,
          0.0368915898997711,
          0.6805541276651929,
          -0.3118292802592112,
          0.6187106394900223,
          -0.7343098042346263,
          1.0517884026374926,
          -1.0677456222735553,
          -0.9589362399553518,
          -0.6589773644257099,
          -1.1643134480046182,
          0.2627379525787662,
          -1.6330933755686416,
          0.6797640558459586,
          -0.21807894242190407,
          0.6121770011936802,
          -1.2288674416183698,
          -0.028932611373871618,
          -0.29558261017692433,
          0.8851879307115434,
          -0.12808461099746693,
          0.9982779724582205,
          -0.7046827243365449,
          -1.1674082125449132,
          0.008171711724090178,
          0.4552042065990801,
          0.8047843719361977,
          1.3520070749654678,
          -0.023124972881999134,
          -0.889286390339353,
          0.8736949087856304,
          -0.4306513533340919,
          -0.3947564542130474,
          0.9753568630991614,
          0.6465523276736221,
          1.1234495604869827,
          0.7575077430654791,
          0.10056159062489389,
          -0.5990740207238892,
          -0.04925861844922938,
          -0.5743835236711956,
          -0.2934599223661171,
          0.13943105173979872,
          -1.1730514837867145,
          -1.4097168362462602,
          0.2819429293041775,
          1.8333068010035791,
          -0.8453840321261459,
          0.28363834198412025,
          -1.2073436137625582,
          -0.7535816105045646,
          0.4060306049615743,
          0.48190397132211416,
          0.42673882846182315,
          2.706608622687043,
          -0.4285481488971416,
          0.13524802574512346,
          -0.11575641589217416
         ],
         "y": [
          -0.5154028289519922,
          0.0791322585661461,
          1.0396515346220583,
          0.4850278201225669,
          -1.6254111312880137,
          -0.998260106320457,
          0.26303934236234766,
          -0.30773940814879197,
          -0.01094210364897688,
          -1.3944439761556933,
          1.5055174490022059,
          0.8239482622881219,
          -0.509754796806725,
          0.7313794893071358,
          0.8820097692652915,
          -0.5406830740138031,
          -1.1329492868192956,
          -0.40077704369678735,
          0.40493122341053506,
          0.640683739641404,
          -1.0204224910137554,
          1.4889011107760302,
          0.36589253033272673,
          -0.10252420879481028,
          -1.430282150047373,
          0.14066371160501276,
          0.6163784978253694,
          1.432263924590453,
          1.8492563020547392,
          -0.8217827592875484,
          -0.44599160091648204,
          1.4894175755182744,
          1.0176964004655251,
          1.6807954863608192,
          -0.21163545755427834,
          -1.4275374906092662,
          -1.823583470739203,
          2.1659367105415224,
          -1.3434598934659385,
          0.22262118793658667,
          0.02691957065464893,
          1.2009810098660418,
          -1.0935773745230242,
          -1.5025461722914313,
          1.0487359193007595,
          -0.2335583839744253,
          -1.0022135401686079,
          -1.8599184167196092,
          -0.22899476071839855,
          -0.8522397606714057,
          1.0977669077056627,
          -0.3654870695184672,
          -0.26251197339235505,
          1.5041915918704902,
          -0.1298061375478299,
          0.027609862050904,
          -0.02269809222143529,
          -0.30059378354524874,
          0.4221110297659695,
          -1.1626066888185207,
          0.9309679489129465,
          -0.9547175245352093,
          -0.5855913889007434,
          -0.1491633236882833,
          -0.8179567266593832,
          -0.5065334580298471,
          1.090214517366577,
          0.9947655114561784,
          0.9921809126586695,
          0.12746228521287786,
          -0.7960222886985829,
          -0.6504377121940919,
          0.4746746423422819,
          0.7572970759682413,
          -0.9395071457654471,
          -0.3494968638336238,
          1.3460158607638404,
          -0.5488662923381947,
          -1.4653280244485671,
          -1.4572637821760548,
          -0.3889838356638975,
          -0.20622999422701915,
          -0.6414210441959368,
          1.060095370980204,
          0.4516365774723491,
          1.8616252137710345,
          -0.3596212431681085,
          -0.1469756823743527,
          0.5071310239049722,
          0.023489024913073517,
          -1.6734350889799126,
          1.7108871056559394,
          1.6637160594485334,
          -0.8199014490648515,
          0.38052374775287356,
          -1.4915215740611367,
          -0.10226702648398565,
          -0.3668531484436365,
          -0.06217608712746471,
          1.0770315841710956
         ]
        }
       ],
       "layout": {
        "legend": {
         "bgcolor": "#F5F6F9",
         "font": {
          "color": "#4D5663"
         }
        },
        "paper_bgcolor": "#F5F6F9",
        "plot_bgcolor": "#F5F6F9",
        "template": {
         "data": {
          "bar": [
           {
            "error_x": {
             "color": "#2a3f5f"
            },
            "error_y": {
             "color": "#2a3f5f"
            },
            "marker": {
             "line": {
              "color": "#E5ECF6",
              "width": 0.5
             }
            },
            "type": "bar"
           }
          ],
          "barpolar": [
           {
            "marker": {
             "line": {
              "color": "#E5ECF6",
              "width": 0.5
             }
            },
            "type": "barpolar"
           }
          ],
          "carpet": [
           {
            "aaxis": {
             "endlinecolor": "#2a3f5f",
             "gridcolor": "white",
             "linecolor": "white",
             "minorgridcolor": "white",
             "startlinecolor": "#2a3f5f"
            },
            "baxis": {
             "endlinecolor": "#2a3f5f",
             "gridcolor": "white",
             "linecolor": "white",
             "minorgridcolor": "white",
             "startlinecolor": "#2a3f5f"
            },
            "type": "carpet"
           }
          ],
          "choropleth": [
           {
            "colorbar": {
             "outlinewidth": 0,
             "ticks": ""
            },
            "type": "choropleth"
           }
          ],
          "contour": [
           {
            "colorbar": {
             "outlinewidth": 0,
             "ticks": ""
            },
            "colorscale": [
             [
              0,
              "#0d0887"
             ],
             [
              0.1111111111111111,
              "#46039f"
             ],
             [
              0.2222222222222222,
              "#7201a8"
             ],
             [
              0.3333333333333333,
              "#9c179e"
             ],
             [
              0.4444444444444444,
              "#bd3786"
             ],
             [
              0.5555555555555556,
              "#d8576b"
             ],
             [
              0.6666666666666666,
              "#ed7953"
             ],
             [
              0.7777777777777778,
              "#fb9f3a"
             ],
             [
              0.8888888888888888,
              "#fdca26"
             ],
             [
              1,
              "#f0f921"
             ]
            ],
            "type": "contour"
           }
          ],
          "contourcarpet": [
           {
            "colorbar": {
             "outlinewidth": 0,
             "ticks": ""
            },
            "type": "contourcarpet"
           }
          ],
          "heatmap": [
           {
            "colorbar": {
             "outlinewidth": 0,
             "ticks": ""
            },
            "colorscale": [
             [
              0,
              "#0d0887"
             ],
             [
              0.1111111111111111,
              "#46039f"
             ],
             [
              0.2222222222222222,
              "#7201a8"
             ],
             [
              0.3333333333333333,
              "#9c179e"
             ],
             [
              0.4444444444444444,
              "#bd3786"
             ],
             [
              0.5555555555555556,
              "#d8576b"
             ],
             [
              0.6666666666666666,
              "#ed7953"
             ],
             [
              0.7777777777777778,
              "#fb9f3a"
             ],
             [
              0.8888888888888888,
              "#fdca26"
             ],
             [
              1,
              "#f0f921"
             ]
            ],
            "type": "heatmap"
           }
          ],
          "heatmapgl": [
           {
            "colorbar": {
             "outlinewidth": 0,
             "ticks": ""
            },
            "colorscale": [
             [
              0,
              "#0d0887"
             ],
             [
              0.1111111111111111,
              "#46039f"
             ],
             [
              0.2222222222222222,
              "#7201a8"
             ],
             [
              0.3333333333333333,
              "#9c179e"
             ],
             [
              0.4444444444444444,
              "#bd3786"
             ],
             [
              0.5555555555555556,
              "#d8576b"
             ],
             [
              0.6666666666666666,
              "#ed7953"
             ],
             [
              0.7777777777777778,
              "#fb9f3a"
             ],
             [
              0.8888888888888888,
              "#fdca26"
             ],
             [
              1,
              "#f0f921"
             ]
            ],
            "type": "heatmapgl"
           }
          ],
          "histogram": [
           {
            "marker": {
             "colorbar": {
              "outlinewidth": 0,
              "ticks": ""
             }
            },
            "type": "histogram"
           }
          ],
          "histogram2d": [
           {
            "colorbar": {
             "outlinewidth": 0,
             "ticks": ""
            },
            "colorscale": [
             [
              0,
              "#0d0887"
             ],
             [
              0.1111111111111111,
              "#46039f"
             ],
             [
              0.2222222222222222,
              "#7201a8"
             ],
             [
              0.3333333333333333,
              "#9c179e"
             ],
             [
              0.4444444444444444,
              "#bd3786"
             ],
             [
              0.5555555555555556,
              "#d8576b"
             ],
             [
              0.6666666666666666,
              "#ed7953"
             ],
             [
              0.7777777777777778,
              "#fb9f3a"
             ],
             [
              0.8888888888888888,
              "#fdca26"
             ],
             [
              1,
              "#f0f921"
             ]
            ],
            "type": "histogram2d"
           }
          ],
          "histogram2dcontour": [
           {
            "colorbar": {
             "outlinewidth": 0,
             "ticks": ""
            },
            "colorscale": [
             [
              0,
              "#0d0887"
             ],
             [
              0.1111111111111111,
              "#46039f"
             ],
             [
              0.2222222222222222,
              "#7201a8"
             ],
             [
              0.3333333333333333,
              "#9c179e"
             ],
             [
              0.4444444444444444,
              "#bd3786"
             ],
             [
              0.5555555555555556,
              "#d8576b"
             ],
             [
              0.6666666666666666,
              "#ed7953"
             ],
             [
              0.7777777777777778,
              "#fb9f3a"
             ],
             [
              0.8888888888888888,
              "#fdca26"
             ],
             [
              1,
              "#f0f921"
             ]
            ],
            "type": "histogram2dcontour"
           }
          ],
          "mesh3d": [
           {
            "colorbar": {
             "outlinewidth": 0,
             "ticks": ""
            },
            "type": "mesh3d"
           }
          ],
          "parcoords": [
           {
            "line": {
             "colorbar": {
              "outlinewidth": 0,
              "ticks": ""
             }
            },
            "type": "parcoords"
           }
          ],
          "pie": [
           {
            "automargin": true,
            "type": "pie"
           }
          ],
          "scatter": [
           {
            "marker": {
             "colorbar": {
              "outlinewidth": 0,
              "ticks": ""
             }
            },
            "type": "scatter"
           }
          ],
          "scatter3d": [
           {
            "line": {
             "colorbar": {
              "outlinewidth": 0,
              "ticks": ""
             }
            },
            "marker": {
             "colorbar": {
              "outlinewidth": 0,
              "ticks": ""
             }
            },
            "type": "scatter3d"
           }
          ],
          "scattercarpet": [
           {
            "marker": {
             "colorbar": {
              "outlinewidth": 0,
              "ticks": ""
             }
            },
            "type": "scattercarpet"
           }
          ],
          "scattergeo": [
           {
            "marker": {
             "colorbar": {
              "outlinewidth": 0,
              "ticks": ""
             }
            },
            "type": "scattergeo"
           }
          ],
          "scattergl": [
           {
            "marker": {
             "colorbar": {
              "outlinewidth": 0,
              "ticks": ""
             }
            },
            "type": "scattergl"
           }
          ],
          "scattermapbox": [
           {
            "marker": {
             "colorbar": {
              "outlinewidth": 0,
              "ticks": ""
             }
            },
            "type": "scattermapbox"
           }
          ],
          "scatterpolar": [
           {
            "marker": {
             "colorbar": {
              "outlinewidth": 0,
              "ticks": ""
             }
            },
            "type": "scatterpolar"
           }
          ],
          "scatterpolargl": [
           {
            "marker": {
             "colorbar": {
              "outlinewidth": 0,
              "ticks": ""
             }
            },
            "type": "scatterpolargl"
           }
          ],
          "scatterternary": [
           {
            "marker": {
             "colorbar": {
              "outlinewidth": 0,
              "ticks": ""
             }
            },
            "type": "scatterternary"
           }
          ],
          "surface": [
           {
            "colorbar": {
             "outlinewidth": 0,
             "ticks": ""
            },
            "colorscale": [
             [
              0,
              "#0d0887"
             ],
             [
              0.1111111111111111,
              "#46039f"
             ],
             [
              0.2222222222222222,
              "#7201a8"
             ],
             [
              0.3333333333333333,
              "#9c179e"
             ],
             [
              0.4444444444444444,
              "#bd3786"
             ],
             [
              0.5555555555555556,
              "#d8576b"
             ],
             [
              0.6666666666666666,
              "#ed7953"
             ],
             [
              0.7777777777777778,
              "#fb9f3a"
             ],
             [
              0.8888888888888888,
              "#fdca26"
             ],
             [
              1,
              "#f0f921"
             ]
            ],
            "type": "surface"
           }
          ],
          "table": [
           {
            "cells": {
             "fill": {
              "color": "#EBF0F8"
             },
             "line": {
              "color": "white"
             }
            },
            "header": {
             "fill": {
              "color": "#C8D4E3"
             },
             "line": {
              "color": "white"
             }
            },
            "type": "table"
           }
          ]
         },
         "layout": {
          "annotationdefaults": {
           "arrowcolor": "#2a3f5f",
           "arrowhead": 0,
           "arrowwidth": 1
          },
          "autotypenumbers": "strict",
          "coloraxis": {
           "colorbar": {
            "outlinewidth": 0,
            "ticks": ""
           }
          },
          "colorscale": {
           "diverging": [
            [
             0,
             "#8e0152"
            ],
            [
             0.1,
             "#c51b7d"
            ],
            [
             0.2,
             "#de77ae"
            ],
            [
             0.3,
             "#f1b6da"
            ],
            [
             0.4,
             "#fde0ef"
            ],
            [
             0.5,
             "#f7f7f7"
            ],
            [
             0.6,
             "#e6f5d0"
            ],
            [
             0.7,
             "#b8e186"
            ],
            [
             0.8,
             "#7fbc41"
            ],
            [
             0.9,
             "#4d9221"
            ],
            [
             1,
             "#276419"
            ]
           ],
           "sequential": [
            [
             0,
             "#0d0887"
            ],
            [
             0.1111111111111111,
             "#46039f"
            ],
            [
             0.2222222222222222,
             "#7201a8"
            ],
            [
             0.3333333333333333,
             "#9c179e"
            ],
            [
             0.4444444444444444,
             "#bd3786"
            ],
            [
             0.5555555555555556,
             "#d8576b"
            ],
            [
             0.6666666666666666,
             "#ed7953"
            ],
            [
             0.7777777777777778,
             "#fb9f3a"
            ],
            [
             0.8888888888888888,
             "#fdca26"
            ],
            [
             1,
             "#f0f921"
            ]
           ],
           "sequentialminus": [
            [
             0,
             "#0d0887"
            ],
            [
             0.1111111111111111,
             "#46039f"
            ],
            [
             0.2222222222222222,
             "#7201a8"
            ],
            [
             0.3333333333333333,
             "#9c179e"
            ],
            [
             0.4444444444444444,
             "#bd3786"
            ],
            [
             0.5555555555555556,
             "#d8576b"
            ],
            [
             0.6666666666666666,
             "#ed7953"
            ],
            [
             0.7777777777777778,
             "#fb9f3a"
            ],
            [
             0.8888888888888888,
             "#fdca26"
            ],
            [
             1,
             "#f0f921"
            ]
           ]
          },
          "colorway": [
           "#636efa",
           "#EF553B",
           "#00cc96",
           "#ab63fa",
           "#FFA15A",
           "#19d3f3",
           "#FF6692",
           "#B6E880",
           "#FF97FF",
           "#FECB52"
          ],
          "font": {
           "color": "#2a3f5f"
          },
          "geo": {
           "bgcolor": "white",
           "lakecolor": "white",
           "landcolor": "#E5ECF6",
           "showlakes": true,
           "showland": true,
           "subunitcolor": "white"
          },
          "hoverlabel": {
           "align": "left"
          },
          "hovermode": "closest",
          "mapbox": {
           "style": "light"
          },
          "paper_bgcolor": "white",
          "plot_bgcolor": "#E5ECF6",
          "polar": {
           "angularaxis": {
            "gridcolor": "white",
            "linecolor": "white",
            "ticks": ""
           },
           "bgcolor": "#E5ECF6",
           "radialaxis": {
            "gridcolor": "white",
            "linecolor": "white",
            "ticks": ""
           }
          },
          "scene": {
           "xaxis": {
            "backgroundcolor": "#E5ECF6",
            "gridcolor": "white",
            "gridwidth": 2,
            "linecolor": "white",
            "showbackground": true,
            "ticks": "",
            "zerolinecolor": "white"
           },
           "yaxis": {
            "backgroundcolor": "#E5ECF6",
            "gridcolor": "white",
            "gridwidth": 2,
            "linecolor": "white",
            "showbackground": true,
            "ticks": "",
            "zerolinecolor": "white"
           },
           "zaxis": {
            "backgroundcolor": "#E5ECF6",
            "gridcolor": "white",
            "gridwidth": 2,
            "linecolor": "white",
            "showbackground": true,
            "ticks": "",
            "zerolinecolor": "white"
           }
          },
          "shapedefaults": {
           "line": {
            "color": "#2a3f5f"
           }
          },
          "ternary": {
           "aaxis": {
            "gridcolor": "white",
            "linecolor": "white",
            "ticks": ""
           },
           "baxis": {
            "gridcolor": "white",
            "linecolor": "white",
            "ticks": ""
           },
           "bgcolor": "#E5ECF6",
           "caxis": {
            "gridcolor": "white",
            "linecolor": "white",
            "ticks": ""
           }
          },
          "title": {
           "x": 0.05
          },
          "xaxis": {
           "automargin": true,
           "gridcolor": "white",
           "linecolor": "white",
           "ticks": "",
           "title": {
            "standoff": 15
           },
           "zerolinecolor": "white",
           "zerolinewidth": 2
          },
          "yaxis": {
           "automargin": true,
           "gridcolor": "white",
           "linecolor": "white",
           "ticks": "",
           "title": {
            "standoff": 15
           },
           "zerolinecolor": "white",
           "zerolinewidth": 2
          }
         }
        },
        "title": {
         "font": {
          "color": "#4D5663"
         }
        },
        "xaxis": {
         "gridcolor": "#E1E5ED",
         "showgrid": true,
         "tickfont": {
          "color": "#4D5663"
         },
         "title": {
          "font": {
           "color": "#4D5663"
          },
          "text": ""
         },
         "zerolinecolor": "#E1E5ED"
        },
        "yaxis": {
         "gridcolor": "#E1E5ED",
         "showgrid": true,
         "tickfont": {
          "color": "#4D5663"
         },
         "title": {
          "font": {
           "color": "#4D5663"
          },
          "text": ""
         },
         "zerolinecolor": "#E1E5ED"
        }
       }
      },
      "text/html": [
       "<div>                            <div id=\"b9ede6df-3505-416c-a1f4-44d33f8958ea\" class=\"plotly-graph-div\" style=\"height:525px; width:100%;\"></div>            <script type=\"text/javascript\">                require([\"plotly\"], function(Plotly) {                    window.PLOTLYENV=window.PLOTLYENV || {};\n",
       "                    window.PLOTLYENV.BASE_URL='https://plot.ly';                                    if (document.getElementById(\"b9ede6df-3505-416c-a1f4-44d33f8958ea\")) {                    Plotly.newPlot(                        \"b9ede6df-3505-416c-a1f4-44d33f8958ea\",                        [{\"line\": {\"color\": \"rgba(255, 153, 51, 1.0)\", \"dash\": \"solid\", \"shape\": \"linear\", \"width\": 1.3}, \"marker\": {\"size\": 10, \"symbol\": \"circle\"}, \"mode\": \"markers\", \"name\": \"B\", \"text\": \"\", \"type\": \"scatter\", \"x\": [1.2828662516368237, -1.9058548130178599, 1.7624087399545465, -1.28957445810928, -0.33074735230222574, 1.3924138972481361, -1.0876116171939914, -1.2081372790816036, -0.6737965225857129, -0.02583692854927848, 0.8039293299766449, 1.0107446447097366, -1.4146549512974564, -0.15595360258756916, 1.1310264219534185, 0.3109506384339165, -0.3808054031911281, 0.11122446898664881, -0.9656072574207325, 0.2406238062862133, -0.8068648764125891, -1.6871947272058962, 1.2337296353563858, -0.3809284251154643, -0.35317470698447334, 0.43415144542077877, 1.2180163628219967, -1.522440486703186, 0.5217061847644993, 0.38561994701780056, -0.49192210133219766, 0.14013093395285253, 2.4036700387643384, -0.4807851905433463, -1.9605399057258375, 1.2669050634370032, -1.5308676262032017, -0.5190412053819773, 0.4173351672979796, -0.23687798244708996, -0.8460465955548907, -0.5084860834962257, 0.1738108848450604, 0.0368915898997711, 0.6805541276651929, -0.3118292802592112, 0.6187106394900223, -0.7343098042346263, 1.0517884026374926, -1.0677456222735553, -0.9589362399553518, -0.6589773644257099, -1.1643134480046182, 0.2627379525787662, -1.6330933755686416, 0.6797640558459586, -0.21807894242190407, 0.6121770011936802, -1.2288674416183698, -0.028932611373871618, -0.29558261017692433, 0.8851879307115434, -0.12808461099746693, 0.9982779724582205, -0.7046827243365449, -1.1674082125449132, 0.008171711724090178, 0.4552042065990801, 0.8047843719361977, 1.3520070749654678, -0.023124972881999134, -0.889286390339353, 0.8736949087856304, -0.4306513533340919, -0.3947564542130474, 0.9753568630991614, 0.6465523276736221, 1.1234495604869827, 0.7575077430654791, 0.10056159062489389, -0.5990740207238892, -0.04925861844922938, -0.5743835236711956, -0.2934599223661171, 0.13943105173979872, -1.1730514837867145, -1.4097168362462602, 0.2819429293041775, 1.8333068010035791, -0.8453840321261459, 0.28363834198412025, -1.2073436137625582, -0.7535816105045646, 0.4060306049615743, 0.48190397132211416, 0.42673882846182315, 2.706608622687043, -0.4285481488971416, 0.13524802574512346, -0.11575641589217416], \"y\": [-0.5154028289519922, 0.0791322585661461, 1.0396515346220583, 0.4850278201225669, -1.6254111312880137, -0.998260106320457, 0.26303934236234766, -0.30773940814879197, -0.01094210364897688, -1.3944439761556933, 1.5055174490022059, 0.8239482622881219, -0.509754796806725, 0.7313794893071358, 0.8820097692652915, -0.5406830740138031, -1.1329492868192956, -0.40077704369678735, 0.40493122341053506, 0.640683739641404, -1.0204224910137554, 1.4889011107760302, 0.36589253033272673, -0.10252420879481028, -1.430282150047373, 0.14066371160501276, 0.6163784978253694, 1.432263924590453, 1.8492563020547392, -0.8217827592875484, -0.44599160091648204, 1.4894175755182744, 1.0176964004655251, 1.6807954863608192, -0.21163545755427834, -1.4275374906092662, -1.823583470739203, 2.1659367105415224, -1.3434598934659385, 0.22262118793658667, 0.02691957065464893, 1.2009810098660418, -1.0935773745230242, -1.5025461722914313, 1.0487359193007595, -0.2335583839744253, -1.0022135401686079, -1.8599184167196092, -0.22899476071839855, -0.8522397606714057, 1.0977669077056627, -0.3654870695184672, -0.26251197339235505, 1.5041915918704902, -0.1298061375478299, 0.027609862050904, -0.02269809222143529, -0.30059378354524874, 0.4221110297659695, -1.1626066888185207, 0.9309679489129465, -0.9547175245352093, -0.5855913889007434, -0.1491633236882833, -0.8179567266593832, -0.5065334580298471, 1.090214517366577, 0.9947655114561784, 0.9921809126586695, 0.12746228521287786, -0.7960222886985829, -0.6504377121940919, 0.4746746423422819, 0.7572970759682413, -0.9395071457654471, -0.3494968638336238, 1.3460158607638404, -0.5488662923381947, -1.4653280244485671, -1.4572637821760548, -0.3889838356638975, -0.20622999422701915, -0.6414210441959368, 1.060095370980204, 0.4516365774723491, 1.8616252137710345, -0.3596212431681085, -0.1469756823743527, 0.5071310239049722, 0.023489024913073517, -1.6734350889799126, 1.7108871056559394, 1.6637160594485334, -0.8199014490648515, 0.38052374775287356, -1.4915215740611367, -0.10226702648398565, -0.3668531484436365, -0.06217608712746471, 1.0770315841710956]}],                        {\"legend\": {\"bgcolor\": \"#F5F6F9\", \"font\": {\"color\": \"#4D5663\"}}, \"paper_bgcolor\": \"#F5F6F9\", \"plot_bgcolor\": \"#F5F6F9\", \"template\": {\"data\": {\"bar\": [{\"error_x\": {\"color\": \"#2a3f5f\"}, \"error_y\": {\"color\": \"#2a3f5f\"}, \"marker\": {\"line\": {\"color\": \"#E5ECF6\", \"width\": 0.5}}, \"type\": \"bar\"}], \"barpolar\": [{\"marker\": {\"line\": {\"color\": \"#E5ECF6\", \"width\": 0.5}}, \"type\": \"barpolar\"}], \"carpet\": [{\"aaxis\": {\"endlinecolor\": \"#2a3f5f\", \"gridcolor\": \"white\", \"linecolor\": \"white\", \"minorgridcolor\": \"white\", \"startlinecolor\": \"#2a3f5f\"}, \"baxis\": {\"endlinecolor\": \"#2a3f5f\", \"gridcolor\": \"white\", \"linecolor\": \"white\", \"minorgridcolor\": \"white\", \"startlinecolor\": \"#2a3f5f\"}, \"type\": \"carpet\"}], \"choropleth\": [{\"colorbar\": {\"outlinewidth\": 0, \"ticks\": \"\"}, \"type\": \"choropleth\"}], \"contour\": [{\"colorbar\": {\"outlinewidth\": 0, \"ticks\": \"\"}, \"colorscale\": [[0.0, \"#0d0887\"], [0.1111111111111111, \"#46039f\"], [0.2222222222222222, \"#7201a8\"], [0.3333333333333333, \"#9c179e\"], [0.4444444444444444, \"#bd3786\"], [0.5555555555555556, \"#d8576b\"], [0.6666666666666666, \"#ed7953\"], [0.7777777777777778, \"#fb9f3a\"], [0.8888888888888888, \"#fdca26\"], [1.0, \"#f0f921\"]], \"type\": \"contour\"}], \"contourcarpet\": [{\"colorbar\": {\"outlinewidth\": 0, \"ticks\": \"\"}, \"type\": \"contourcarpet\"}], \"heatmap\": [{\"colorbar\": {\"outlinewidth\": 0, \"ticks\": \"\"}, \"colorscale\": [[0.0, \"#0d0887\"], [0.1111111111111111, \"#46039f\"], [0.2222222222222222, \"#7201a8\"], [0.3333333333333333, \"#9c179e\"], [0.4444444444444444, \"#bd3786\"], [0.5555555555555556, \"#d8576b\"], [0.6666666666666666, \"#ed7953\"], [0.7777777777777778, \"#fb9f3a\"], [0.8888888888888888, \"#fdca26\"], [1.0, \"#f0f921\"]], \"type\": \"heatmap\"}], \"heatmapgl\": [{\"colorbar\": {\"outlinewidth\": 0, \"ticks\": \"\"}, \"colorscale\": [[0.0, \"#0d0887\"], [0.1111111111111111, \"#46039f\"], [0.2222222222222222, \"#7201a8\"], [0.3333333333333333, \"#9c179e\"], [0.4444444444444444, \"#bd3786\"], [0.5555555555555556, \"#d8576b\"], [0.6666666666666666, \"#ed7953\"], [0.7777777777777778, \"#fb9f3a\"], [0.8888888888888888, \"#fdca26\"], [1.0, \"#f0f921\"]], \"type\": \"heatmapgl\"}], \"histogram\": [{\"marker\": {\"colorbar\": {\"outlinewidth\": 0, \"ticks\": \"\"}}, \"type\": \"histogram\"}], \"histogram2d\": [{\"colorbar\": {\"outlinewidth\": 0, \"ticks\": \"\"}, \"colorscale\": [[0.0, \"#0d0887\"], [0.1111111111111111, \"#46039f\"], [0.2222222222222222, \"#7201a8\"], [0.3333333333333333, \"#9c179e\"], [0.4444444444444444, \"#bd3786\"], [0.5555555555555556, \"#d8576b\"], [0.6666666666666666, \"#ed7953\"], [0.7777777777777778, \"#fb9f3a\"], [0.8888888888888888, \"#fdca26\"], [1.0, \"#f0f921\"]], \"type\": \"histogram2d\"}], \"histogram2dcontour\": [{\"colorbar\": {\"outlinewidth\": 0, \"ticks\": \"\"}, \"colorscale\": [[0.0, \"#0d0887\"], [0.1111111111111111, \"#46039f\"], [0.2222222222222222, \"#7201a8\"], [0.3333333333333333, \"#9c179e\"], [0.4444444444444444, \"#bd3786\"], [0.5555555555555556, \"#d8576b\"], [0.6666666666666666, \"#ed7953\"], [0.7777777777777778, \"#fb9f3a\"], [0.8888888888888888, \"#fdca26\"], [1.0, \"#f0f921\"]], \"type\": \"histogram2dcontour\"}], \"mesh3d\": [{\"colorbar\": {\"outlinewidth\": 0, \"ticks\": \"\"}, \"type\": \"mesh3d\"}], \"parcoords\": [{\"line\": {\"colorbar\": {\"outlinewidth\": 0, \"ticks\": \"\"}}, \"type\": \"parcoords\"}], \"pie\": [{\"automargin\": true, \"type\": \"pie\"}], \"scatter\": [{\"marker\": {\"colorbar\": {\"outlinewidth\": 0, \"ticks\": \"\"}}, \"type\": \"scatter\"}], \"scatter3d\": [{\"line\": {\"colorbar\": {\"outlinewidth\": 0, \"ticks\": \"\"}}, \"marker\": {\"colorbar\": {\"outlinewidth\": 0, \"ticks\": \"\"}}, \"type\": \"scatter3d\"}], \"scattercarpet\": [{\"marker\": {\"colorbar\": {\"outlinewidth\": 0, \"ticks\": \"\"}}, \"type\": \"scattercarpet\"}], \"scattergeo\": [{\"marker\": {\"colorbar\": {\"outlinewidth\": 0, \"ticks\": \"\"}}, \"type\": \"scattergeo\"}], \"scattergl\": [{\"marker\": {\"colorbar\": {\"outlinewidth\": 0, \"ticks\": \"\"}}, \"type\": \"scattergl\"}], \"scattermapbox\": [{\"marker\": {\"colorbar\": {\"outlinewidth\": 0, \"ticks\": \"\"}}, \"type\": \"scattermapbox\"}], \"scatterpolar\": [{\"marker\": {\"colorbar\": {\"outlinewidth\": 0, \"ticks\": \"\"}}, \"type\": \"scatterpolar\"}], \"scatterpolargl\": [{\"marker\": {\"colorbar\": {\"outlinewidth\": 0, \"ticks\": \"\"}}, \"type\": \"scatterpolargl\"}], \"scatterternary\": [{\"marker\": {\"colorbar\": {\"outlinewidth\": 0, \"ticks\": \"\"}}, \"type\": \"scatterternary\"}], \"surface\": [{\"colorbar\": {\"outlinewidth\": 0, \"ticks\": \"\"}, \"colorscale\": [[0.0, \"#0d0887\"], [0.1111111111111111, \"#46039f\"], [0.2222222222222222, \"#7201a8\"], [0.3333333333333333, \"#9c179e\"], [0.4444444444444444, \"#bd3786\"], [0.5555555555555556, \"#d8576b\"], [0.6666666666666666, \"#ed7953\"], [0.7777777777777778, \"#fb9f3a\"], [0.8888888888888888, \"#fdca26\"], [1.0, \"#f0f921\"]], \"type\": \"surface\"}], \"table\": [{\"cells\": {\"fill\": {\"color\": \"#EBF0F8\"}, \"line\": {\"color\": \"white\"}}, \"header\": {\"fill\": {\"color\": \"#C8D4E3\"}, \"line\": {\"color\": \"white\"}}, \"type\": \"table\"}]}, \"layout\": {\"annotationdefaults\": {\"arrowcolor\": \"#2a3f5f\", \"arrowhead\": 0, \"arrowwidth\": 1}, \"autotypenumbers\": \"strict\", \"coloraxis\": {\"colorbar\": {\"outlinewidth\": 0, \"ticks\": \"\"}}, \"colorscale\": {\"diverging\": [[0, \"#8e0152\"], [0.1, \"#c51b7d\"], [0.2, \"#de77ae\"], [0.3, \"#f1b6da\"], [0.4, \"#fde0ef\"], [0.5, \"#f7f7f7\"], [0.6, \"#e6f5d0\"], [0.7, \"#b8e186\"], [0.8, \"#7fbc41\"], [0.9, \"#4d9221\"], [1, \"#276419\"]], \"sequential\": [[0.0, \"#0d0887\"], [0.1111111111111111, \"#46039f\"], [0.2222222222222222, \"#7201a8\"], [0.3333333333333333, \"#9c179e\"], [0.4444444444444444, \"#bd3786\"], [0.5555555555555556, \"#d8576b\"], [0.6666666666666666, \"#ed7953\"], [0.7777777777777778, \"#fb9f3a\"], [0.8888888888888888, \"#fdca26\"], [1.0, \"#f0f921\"]], \"sequentialminus\": [[0.0, \"#0d0887\"], [0.1111111111111111, \"#46039f\"], [0.2222222222222222, \"#7201a8\"], [0.3333333333333333, \"#9c179e\"], [0.4444444444444444, \"#bd3786\"], [0.5555555555555556, \"#d8576b\"], [0.6666666666666666, \"#ed7953\"], [0.7777777777777778, \"#fb9f3a\"], [0.8888888888888888, \"#fdca26\"], [1.0, \"#f0f921\"]]}, \"colorway\": [\"#636efa\", \"#EF553B\", \"#00cc96\", \"#ab63fa\", \"#FFA15A\", \"#19d3f3\", \"#FF6692\", \"#B6E880\", \"#FF97FF\", \"#FECB52\"], \"font\": {\"color\": \"#2a3f5f\"}, \"geo\": {\"bgcolor\": \"white\", \"lakecolor\": \"white\", \"landcolor\": \"#E5ECF6\", \"showlakes\": true, \"showland\": true, \"subunitcolor\": \"white\"}, \"hoverlabel\": {\"align\": \"left\"}, \"hovermode\": \"closest\", \"mapbox\": {\"style\": \"light\"}, \"paper_bgcolor\": \"white\", \"plot_bgcolor\": \"#E5ECF6\", \"polar\": {\"angularaxis\": {\"gridcolor\": \"white\", \"linecolor\": \"white\", \"ticks\": \"\"}, \"bgcolor\": \"#E5ECF6\", \"radialaxis\": {\"gridcolor\": \"white\", \"linecolor\": \"white\", \"ticks\": \"\"}}, \"scene\": {\"xaxis\": {\"backgroundcolor\": \"#E5ECF6\", \"gridcolor\": \"white\", \"gridwidth\": 2, \"linecolor\": \"white\", \"showbackground\": true, \"ticks\": \"\", \"zerolinecolor\": \"white\"}, \"yaxis\": {\"backgroundcolor\": \"#E5ECF6\", \"gridcolor\": \"white\", \"gridwidth\": 2, \"linecolor\": \"white\", \"showbackground\": true, \"ticks\": \"\", \"zerolinecolor\": \"white\"}, \"zaxis\": {\"backgroundcolor\": \"#E5ECF6\", \"gridcolor\": \"white\", \"gridwidth\": 2, \"linecolor\": \"white\", \"showbackground\": true, \"ticks\": \"\", \"zerolinecolor\": \"white\"}}, \"shapedefaults\": {\"line\": {\"color\": \"#2a3f5f\"}}, \"ternary\": {\"aaxis\": {\"gridcolor\": \"white\", \"linecolor\": \"white\", \"ticks\": \"\"}, \"baxis\": {\"gridcolor\": \"white\", \"linecolor\": \"white\", \"ticks\": \"\"}, \"bgcolor\": \"#E5ECF6\", \"caxis\": {\"gridcolor\": \"white\", \"linecolor\": \"white\", \"ticks\": \"\"}}, \"title\": {\"x\": 0.05}, \"xaxis\": {\"automargin\": true, \"gridcolor\": \"white\", \"linecolor\": \"white\", \"ticks\": \"\", \"title\": {\"standoff\": 15}, \"zerolinecolor\": \"white\", \"zerolinewidth\": 2}, \"yaxis\": {\"automargin\": true, \"gridcolor\": \"white\", \"linecolor\": \"white\", \"ticks\": \"\", \"title\": {\"standoff\": 15}, \"zerolinecolor\": \"white\", \"zerolinewidth\": 2}}}, \"title\": {\"font\": {\"color\": \"#4D5663\"}}, \"xaxis\": {\"gridcolor\": \"#E1E5ED\", \"showgrid\": true, \"tickfont\": {\"color\": \"#4D5663\"}, \"title\": {\"font\": {\"color\": \"#4D5663\"}, \"text\": \"\"}, \"zerolinecolor\": \"#E1E5ED\"}, \"yaxis\": {\"gridcolor\": \"#E1E5ED\", \"showgrid\": true, \"tickfont\": {\"color\": \"#4D5663\"}, \"title\": {\"font\": {\"color\": \"#4D5663\"}, \"text\": \"\"}, \"zerolinecolor\": \"#E1E5ED\"}},                        {\"showLink\": true, \"linkText\": \"Export to plot.ly\", \"plotlyServerURL\": \"https://plot.ly\", \"responsive\": true}                    ).then(function(){\n",
       "                            \n",
       "var gd = document.getElementById('b9ede6df-3505-416c-a1f4-44d33f8958ea');\n",
       "var x = new MutationObserver(function (mutations, observer) {{\n",
       "        var display = window.getComputedStyle(gd).display;\n",
       "        if (!display || display === 'none') {{\n",
       "            console.log([gd, 'removed!']);\n",
       "            Plotly.purge(gd);\n",
       "            observer.disconnect();\n",
       "        }}\n",
       "}});\n",
       "\n",
       "// Listen for the removal of the full notebook cells\n",
       "var notebookContainer = gd.closest('#notebook-container');\n",
       "if (notebookContainer) {{\n",
       "    x.observe(notebookContainer, {childList: true});\n",
       "}}\n",
       "\n",
       "// Listen for the clearing of the current output cell\n",
       "var outputEl = gd.closest('.output');\n",
       "if (outputEl) {{\n",
       "    x.observe(outputEl, {childList: true});\n",
       "}}\n",
       "\n",
       "                        })                };                });            </script>        </div>"
      ]
     },
     "metadata": {},
     "output_type": "display_data"
    }
   ],
   "source": [
    "df.iplot(kind='scatter',x='A',y='B',mode='markers',size=10)"
   ]
  },
  {
   "cell_type": "markdown",
   "metadata": {},
   "source": [
    "## Bar Plots"
   ]
  },
  {
   "cell_type": "code",
   "execution_count": 12,
   "metadata": {},
   "outputs": [
    {
     "data": {
      "application/vnd.plotly.v1+json": {
       "config": {
        "linkText": "Export to plot.ly",
        "plotlyServerURL": "https://plot.ly",
        "showLink": true
       },
       "data": [
        {
         "marker": {
          "color": "rgba(255, 153, 51, 0.6)",
          "line": {
           "color": "rgba(255, 153, 51, 1.0)",
           "width": 1
          }
         },
         "name": "Values",
         "orientation": "v",
         "text": "",
         "type": "bar",
         "x": [
          "A",
          "B",
          "C"
         ],
         "y": [
          32,
          43,
          50
         ]
        }
       ],
       "layout": {
        "legend": {
         "bgcolor": "#F5F6F9",
         "font": {
          "color": "#4D5663"
         }
        },
        "paper_bgcolor": "#F5F6F9",
        "plot_bgcolor": "#F5F6F9",
        "template": {
         "data": {
          "bar": [
           {
            "error_x": {
             "color": "#2a3f5f"
            },
            "error_y": {
             "color": "#2a3f5f"
            },
            "marker": {
             "line": {
              "color": "#E5ECF6",
              "width": 0.5
             }
            },
            "type": "bar"
           }
          ],
          "barpolar": [
           {
            "marker": {
             "line": {
              "color": "#E5ECF6",
              "width": 0.5
             }
            },
            "type": "barpolar"
           }
          ],
          "carpet": [
           {
            "aaxis": {
             "endlinecolor": "#2a3f5f",
             "gridcolor": "white",
             "linecolor": "white",
             "minorgridcolor": "white",
             "startlinecolor": "#2a3f5f"
            },
            "baxis": {
             "endlinecolor": "#2a3f5f",
             "gridcolor": "white",
             "linecolor": "white",
             "minorgridcolor": "white",
             "startlinecolor": "#2a3f5f"
            },
            "type": "carpet"
           }
          ],
          "choropleth": [
           {
            "colorbar": {
             "outlinewidth": 0,
             "ticks": ""
            },
            "type": "choropleth"
           }
          ],
          "contour": [
           {
            "colorbar": {
             "outlinewidth": 0,
             "ticks": ""
            },
            "colorscale": [
             [
              0,
              "#0d0887"
             ],
             [
              0.1111111111111111,
              "#46039f"
             ],
             [
              0.2222222222222222,
              "#7201a8"
             ],
             [
              0.3333333333333333,
              "#9c179e"
             ],
             [
              0.4444444444444444,
              "#bd3786"
             ],
             [
              0.5555555555555556,
              "#d8576b"
             ],
             [
              0.6666666666666666,
              "#ed7953"
             ],
             [
              0.7777777777777778,
              "#fb9f3a"
             ],
             [
              0.8888888888888888,
              "#fdca26"
             ],
             [
              1,
              "#f0f921"
             ]
            ],
            "type": "contour"
           }
          ],
          "contourcarpet": [
           {
            "colorbar": {
             "outlinewidth": 0,
             "ticks": ""
            },
            "type": "contourcarpet"
           }
          ],
          "heatmap": [
           {
            "colorbar": {
             "outlinewidth": 0,
             "ticks": ""
            },
            "colorscale": [
             [
              0,
              "#0d0887"
             ],
             [
              0.1111111111111111,
              "#46039f"
             ],
             [
              0.2222222222222222,
              "#7201a8"
             ],
             [
              0.3333333333333333,
              "#9c179e"
             ],
             [
              0.4444444444444444,
              "#bd3786"
             ],
             [
              0.5555555555555556,
              "#d8576b"
             ],
             [
              0.6666666666666666,
              "#ed7953"
             ],
             [
              0.7777777777777778,
              "#fb9f3a"
             ],
             [
              0.8888888888888888,
              "#fdca26"
             ],
             [
              1,
              "#f0f921"
             ]
            ],
            "type": "heatmap"
           }
          ],
          "heatmapgl": [
           {
            "colorbar": {
             "outlinewidth": 0,
             "ticks": ""
            },
            "colorscale": [
             [
              0,
              "#0d0887"
             ],
             [
              0.1111111111111111,
              "#46039f"
             ],
             [
              0.2222222222222222,
              "#7201a8"
             ],
             [
              0.3333333333333333,
              "#9c179e"
             ],
             [
              0.4444444444444444,
              "#bd3786"
             ],
             [
              0.5555555555555556,
              "#d8576b"
             ],
             [
              0.6666666666666666,
              "#ed7953"
             ],
             [
              0.7777777777777778,
              "#fb9f3a"
             ],
             [
              0.8888888888888888,
              "#fdca26"
             ],
             [
              1,
              "#f0f921"
             ]
            ],
            "type": "heatmapgl"
           }
          ],
          "histogram": [
           {
            "marker": {
             "colorbar": {
              "outlinewidth": 0,
              "ticks": ""
             }
            },
            "type": "histogram"
           }
          ],
          "histogram2d": [
           {
            "colorbar": {
             "outlinewidth": 0,
             "ticks": ""
            },
            "colorscale": [
             [
              0,
              "#0d0887"
             ],
             [
              0.1111111111111111,
              "#46039f"
             ],
             [
              0.2222222222222222,
              "#7201a8"
             ],
             [
              0.3333333333333333,
              "#9c179e"
             ],
             [
              0.4444444444444444,
              "#bd3786"
             ],
             [
              0.5555555555555556,
              "#d8576b"
             ],
             [
              0.6666666666666666,
              "#ed7953"
             ],
             [
              0.7777777777777778,
              "#fb9f3a"
             ],
             [
              0.8888888888888888,
              "#fdca26"
             ],
             [
              1,
              "#f0f921"
             ]
            ],
            "type": "histogram2d"
           }
          ],
          "histogram2dcontour": [
           {
            "colorbar": {
             "outlinewidth": 0,
             "ticks": ""
            },
            "colorscale": [
             [
              0,
              "#0d0887"
             ],
             [
              0.1111111111111111,
              "#46039f"
             ],
             [
              0.2222222222222222,
              "#7201a8"
             ],
             [
              0.3333333333333333,
              "#9c179e"
             ],
             [
              0.4444444444444444,
              "#bd3786"
             ],
             [
              0.5555555555555556,
              "#d8576b"
             ],
             [
              0.6666666666666666,
              "#ed7953"
             ],
             [
              0.7777777777777778,
              "#fb9f3a"
             ],
             [
              0.8888888888888888,
              "#fdca26"
             ],
             [
              1,
              "#f0f921"
             ]
            ],
            "type": "histogram2dcontour"
           }
          ],
          "mesh3d": [
           {
            "colorbar": {
             "outlinewidth": 0,
             "ticks": ""
            },
            "type": "mesh3d"
           }
          ],
          "parcoords": [
           {
            "line": {
             "colorbar": {
              "outlinewidth": 0,
              "ticks": ""
             }
            },
            "type": "parcoords"
           }
          ],
          "pie": [
           {
            "automargin": true,
            "type": "pie"
           }
          ],
          "scatter": [
           {
            "marker": {
             "colorbar": {
              "outlinewidth": 0,
              "ticks": ""
             }
            },
            "type": "scatter"
           }
          ],
          "scatter3d": [
           {
            "line": {
             "colorbar": {
              "outlinewidth": 0,
              "ticks": ""
             }
            },
            "marker": {
             "colorbar": {
              "outlinewidth": 0,
              "ticks": ""
             }
            },
            "type": "scatter3d"
           }
          ],
          "scattercarpet": [
           {
            "marker": {
             "colorbar": {
              "outlinewidth": 0,
              "ticks": ""
             }
            },
            "type": "scattercarpet"
           }
          ],
          "scattergeo": [
           {
            "marker": {
             "colorbar": {
              "outlinewidth": 0,
              "ticks": ""
             }
            },
            "type": "scattergeo"
           }
          ],
          "scattergl": [
           {
            "marker": {
             "colorbar": {
              "outlinewidth": 0,
              "ticks": ""
             }
            },
            "type": "scattergl"
           }
          ],
          "scattermapbox": [
           {
            "marker": {
             "colorbar": {
              "outlinewidth": 0,
              "ticks": ""
             }
            },
            "type": "scattermapbox"
           }
          ],
          "scatterpolar": [
           {
            "marker": {
             "colorbar": {
              "outlinewidth": 0,
              "ticks": ""
             }
            },
            "type": "scatterpolar"
           }
          ],
          "scatterpolargl": [
           {
            "marker": {
             "colorbar": {
              "outlinewidth": 0,
              "ticks": ""
             }
            },
            "type": "scatterpolargl"
           }
          ],
          "scatterternary": [
           {
            "marker": {
             "colorbar": {
              "outlinewidth": 0,
              "ticks": ""
             }
            },
            "type": "scatterternary"
           }
          ],
          "surface": [
           {
            "colorbar": {
             "outlinewidth": 0,
             "ticks": ""
            },
            "colorscale": [
             [
              0,
              "#0d0887"
             ],
             [
              0.1111111111111111,
              "#46039f"
             ],
             [
              0.2222222222222222,
              "#7201a8"
             ],
             [
              0.3333333333333333,
              "#9c179e"
             ],
             [
              0.4444444444444444,
              "#bd3786"
             ],
             [
              0.5555555555555556,
              "#d8576b"
             ],
             [
              0.6666666666666666,
              "#ed7953"
             ],
             [
              0.7777777777777778,
              "#fb9f3a"
             ],
             [
              0.8888888888888888,
              "#fdca26"
             ],
             [
              1,
              "#f0f921"
             ]
            ],
            "type": "surface"
           }
          ],
          "table": [
           {
            "cells": {
             "fill": {
              "color": "#EBF0F8"
             },
             "line": {
              "color": "white"
             }
            },
            "header": {
             "fill": {
              "color": "#C8D4E3"
             },
             "line": {
              "color": "white"
             }
            },
            "type": "table"
           }
          ]
         },
         "layout": {
          "annotationdefaults": {
           "arrowcolor": "#2a3f5f",
           "arrowhead": 0,
           "arrowwidth": 1
          },
          "autotypenumbers": "strict",
          "coloraxis": {
           "colorbar": {
            "outlinewidth": 0,
            "ticks": ""
           }
          },
          "colorscale": {
           "diverging": [
            [
             0,
             "#8e0152"
            ],
            [
             0.1,
             "#c51b7d"
            ],
            [
             0.2,
             "#de77ae"
            ],
            [
             0.3,
             "#f1b6da"
            ],
            [
             0.4,
             "#fde0ef"
            ],
            [
             0.5,
             "#f7f7f7"
            ],
            [
             0.6,
             "#e6f5d0"
            ],
            [
             0.7,
             "#b8e186"
            ],
            [
             0.8,
             "#7fbc41"
            ],
            [
             0.9,
             "#4d9221"
            ],
            [
             1,
             "#276419"
            ]
           ],
           "sequential": [
            [
             0,
             "#0d0887"
            ],
            [
             0.1111111111111111,
             "#46039f"
            ],
            [
             0.2222222222222222,
             "#7201a8"
            ],
            [
             0.3333333333333333,
             "#9c179e"
            ],
            [
             0.4444444444444444,
             "#bd3786"
            ],
            [
             0.5555555555555556,
             "#d8576b"
            ],
            [
             0.6666666666666666,
             "#ed7953"
            ],
            [
             0.7777777777777778,
             "#fb9f3a"
            ],
            [
             0.8888888888888888,
             "#fdca26"
            ],
            [
             1,
             "#f0f921"
            ]
           ],
           "sequentialminus": [
            [
             0,
             "#0d0887"
            ],
            [
             0.1111111111111111,
             "#46039f"
            ],
            [
             0.2222222222222222,
             "#7201a8"
            ],
            [
             0.3333333333333333,
             "#9c179e"
            ],
            [
             0.4444444444444444,
             "#bd3786"
            ],
            [
             0.5555555555555556,
             "#d8576b"
            ],
            [
             0.6666666666666666,
             "#ed7953"
            ],
            [
             0.7777777777777778,
             "#fb9f3a"
            ],
            [
             0.8888888888888888,
             "#fdca26"
            ],
            [
             1,
             "#f0f921"
            ]
           ]
          },
          "colorway": [
           "#636efa",
           "#EF553B",
           "#00cc96",
           "#ab63fa",
           "#FFA15A",
           "#19d3f3",
           "#FF6692",
           "#B6E880",
           "#FF97FF",
           "#FECB52"
          ],
          "font": {
           "color": "#2a3f5f"
          },
          "geo": {
           "bgcolor": "white",
           "lakecolor": "white",
           "landcolor": "#E5ECF6",
           "showlakes": true,
           "showland": true,
           "subunitcolor": "white"
          },
          "hoverlabel": {
           "align": "left"
          },
          "hovermode": "closest",
          "mapbox": {
           "style": "light"
          },
          "paper_bgcolor": "white",
          "plot_bgcolor": "#E5ECF6",
          "polar": {
           "angularaxis": {
            "gridcolor": "white",
            "linecolor": "white",
            "ticks": ""
           },
           "bgcolor": "#E5ECF6",
           "radialaxis": {
            "gridcolor": "white",
            "linecolor": "white",
            "ticks": ""
           }
          },
          "scene": {
           "xaxis": {
            "backgroundcolor": "#E5ECF6",
            "gridcolor": "white",
            "gridwidth": 2,
            "linecolor": "white",
            "showbackground": true,
            "ticks": "",
            "zerolinecolor": "white"
           },
           "yaxis": {
            "backgroundcolor": "#E5ECF6",
            "gridcolor": "white",
            "gridwidth": 2,
            "linecolor": "white",
            "showbackground": true,
            "ticks": "",
            "zerolinecolor": "white"
           },
           "zaxis": {
            "backgroundcolor": "#E5ECF6",
            "gridcolor": "white",
            "gridwidth": 2,
            "linecolor": "white",
            "showbackground": true,
            "ticks": "",
            "zerolinecolor": "white"
           }
          },
          "shapedefaults": {
           "line": {
            "color": "#2a3f5f"
           }
          },
          "ternary": {
           "aaxis": {
            "gridcolor": "white",
            "linecolor": "white",
            "ticks": ""
           },
           "baxis": {
            "gridcolor": "white",
            "linecolor": "white",
            "ticks": ""
           },
           "bgcolor": "#E5ECF6",
           "caxis": {
            "gridcolor": "white",
            "linecolor": "white",
            "ticks": ""
           }
          },
          "title": {
           "x": 0.05
          },
          "xaxis": {
           "automargin": true,
           "gridcolor": "white",
           "linecolor": "white",
           "ticks": "",
           "title": {
            "standoff": 15
           },
           "zerolinecolor": "white",
           "zerolinewidth": 2
          },
          "yaxis": {
           "automargin": true,
           "gridcolor": "white",
           "linecolor": "white",
           "ticks": "",
           "title": {
            "standoff": 15
           },
           "zerolinecolor": "white",
           "zerolinewidth": 2
          }
         }
        },
        "title": {
         "font": {
          "color": "#4D5663"
         }
        },
        "xaxis": {
         "gridcolor": "#E1E5ED",
         "showgrid": true,
         "tickfont": {
          "color": "#4D5663"
         },
         "title": {
          "font": {
           "color": "#4D5663"
          },
          "text": ""
         },
         "zerolinecolor": "#E1E5ED"
        },
        "yaxis": {
         "gridcolor": "#E1E5ED",
         "showgrid": true,
         "tickfont": {
          "color": "#4D5663"
         },
         "title": {
          "font": {
           "color": "#4D5663"
          },
          "text": ""
         },
         "zerolinecolor": "#E1E5ED"
        }
       }
      },
      "text/html": [
       "<div>                            <div id=\"323f67aa-d0a0-4c18-8991-be5643489db6\" class=\"plotly-graph-div\" style=\"height:525px; width:100%;\"></div>            <script type=\"text/javascript\">                require([\"plotly\"], function(Plotly) {                    window.PLOTLYENV=window.PLOTLYENV || {};\n",
       "                    window.PLOTLYENV.BASE_URL='https://plot.ly';                                    if (document.getElementById(\"323f67aa-d0a0-4c18-8991-be5643489db6\")) {                    Plotly.newPlot(                        \"323f67aa-d0a0-4c18-8991-be5643489db6\",                        [{\"marker\": {\"color\": \"rgba(255, 153, 51, 0.6)\", \"line\": {\"color\": \"rgba(255, 153, 51, 1.0)\", \"width\": 1}}, \"name\": \"Values\", \"orientation\": \"v\", \"text\": \"\", \"type\": \"bar\", \"x\": [\"A\", \"B\", \"C\"], \"y\": [32, 43, 50]}],                        {\"legend\": {\"bgcolor\": \"#F5F6F9\", \"font\": {\"color\": \"#4D5663\"}}, \"paper_bgcolor\": \"#F5F6F9\", \"plot_bgcolor\": \"#F5F6F9\", \"template\": {\"data\": {\"bar\": [{\"error_x\": {\"color\": \"#2a3f5f\"}, \"error_y\": {\"color\": \"#2a3f5f\"}, \"marker\": {\"line\": {\"color\": \"#E5ECF6\", \"width\": 0.5}}, \"type\": \"bar\"}], \"barpolar\": [{\"marker\": {\"line\": {\"color\": \"#E5ECF6\", \"width\": 0.5}}, \"type\": \"barpolar\"}], \"carpet\": [{\"aaxis\": {\"endlinecolor\": \"#2a3f5f\", \"gridcolor\": \"white\", \"linecolor\": \"white\", \"minorgridcolor\": \"white\", \"startlinecolor\": \"#2a3f5f\"}, \"baxis\": {\"endlinecolor\": \"#2a3f5f\", \"gridcolor\": \"white\", \"linecolor\": \"white\", \"minorgridcolor\": \"white\", \"startlinecolor\": \"#2a3f5f\"}, \"type\": \"carpet\"}], \"choropleth\": [{\"colorbar\": {\"outlinewidth\": 0, \"ticks\": \"\"}, \"type\": \"choropleth\"}], \"contour\": [{\"colorbar\": {\"outlinewidth\": 0, \"ticks\": \"\"}, \"colorscale\": [[0.0, \"#0d0887\"], [0.1111111111111111, \"#46039f\"], [0.2222222222222222, \"#7201a8\"], [0.3333333333333333, \"#9c179e\"], [0.4444444444444444, \"#bd3786\"], [0.5555555555555556, \"#d8576b\"], [0.6666666666666666, \"#ed7953\"], [0.7777777777777778, \"#fb9f3a\"], [0.8888888888888888, \"#fdca26\"], [1.0, \"#f0f921\"]], \"type\": \"contour\"}], \"contourcarpet\": [{\"colorbar\": {\"outlinewidth\": 0, \"ticks\": \"\"}, \"type\": \"contourcarpet\"}], \"heatmap\": [{\"colorbar\": {\"outlinewidth\": 0, \"ticks\": \"\"}, \"colorscale\": [[0.0, \"#0d0887\"], [0.1111111111111111, \"#46039f\"], [0.2222222222222222, \"#7201a8\"], [0.3333333333333333, \"#9c179e\"], [0.4444444444444444, \"#bd3786\"], [0.5555555555555556, \"#d8576b\"], [0.6666666666666666, \"#ed7953\"], [0.7777777777777778, \"#fb9f3a\"], [0.8888888888888888, \"#fdca26\"], [1.0, \"#f0f921\"]], \"type\": \"heatmap\"}], \"heatmapgl\": [{\"colorbar\": {\"outlinewidth\": 0, \"ticks\": \"\"}, \"colorscale\": [[0.0, \"#0d0887\"], [0.1111111111111111, \"#46039f\"], [0.2222222222222222, \"#7201a8\"], [0.3333333333333333, \"#9c179e\"], [0.4444444444444444, \"#bd3786\"], [0.5555555555555556, \"#d8576b\"], [0.6666666666666666, \"#ed7953\"], [0.7777777777777778, \"#fb9f3a\"], [0.8888888888888888, \"#fdca26\"], [1.0, \"#f0f921\"]], \"type\": \"heatmapgl\"}], \"histogram\": [{\"marker\": {\"colorbar\": {\"outlinewidth\": 0, \"ticks\": \"\"}}, \"type\": \"histogram\"}], \"histogram2d\": [{\"colorbar\": {\"outlinewidth\": 0, \"ticks\": \"\"}, \"colorscale\": [[0.0, \"#0d0887\"], [0.1111111111111111, \"#46039f\"], [0.2222222222222222, \"#7201a8\"], [0.3333333333333333, \"#9c179e\"], [0.4444444444444444, \"#bd3786\"], [0.5555555555555556, \"#d8576b\"], [0.6666666666666666, \"#ed7953\"], [0.7777777777777778, \"#fb9f3a\"], [0.8888888888888888, \"#fdca26\"], [1.0, \"#f0f921\"]], \"type\": \"histogram2d\"}], \"histogram2dcontour\": [{\"colorbar\": {\"outlinewidth\": 0, \"ticks\": \"\"}, \"colorscale\": [[0.0, \"#0d0887\"], [0.1111111111111111, \"#46039f\"], [0.2222222222222222, \"#7201a8\"], [0.3333333333333333, \"#9c179e\"], [0.4444444444444444, \"#bd3786\"], [0.5555555555555556, \"#d8576b\"], [0.6666666666666666, \"#ed7953\"], [0.7777777777777778, \"#fb9f3a\"], [0.8888888888888888, \"#fdca26\"], [1.0, \"#f0f921\"]], \"type\": \"histogram2dcontour\"}], \"mesh3d\": [{\"colorbar\": {\"outlinewidth\": 0, \"ticks\": \"\"}, \"type\": \"mesh3d\"}], \"parcoords\": [{\"line\": {\"colorbar\": {\"outlinewidth\": 0, \"ticks\": \"\"}}, \"type\": \"parcoords\"}], \"pie\": [{\"automargin\": true, \"type\": \"pie\"}], \"scatter\": [{\"marker\": {\"colorbar\": {\"outlinewidth\": 0, \"ticks\": \"\"}}, \"type\": \"scatter\"}], \"scatter3d\": [{\"line\": {\"colorbar\": {\"outlinewidth\": 0, \"ticks\": \"\"}}, \"marker\": {\"colorbar\": {\"outlinewidth\": 0, \"ticks\": \"\"}}, \"type\": \"scatter3d\"}], \"scattercarpet\": [{\"marker\": {\"colorbar\": {\"outlinewidth\": 0, \"ticks\": \"\"}}, \"type\": \"scattercarpet\"}], \"scattergeo\": [{\"marker\": {\"colorbar\": {\"outlinewidth\": 0, \"ticks\": \"\"}}, \"type\": \"scattergeo\"}], \"scattergl\": [{\"marker\": {\"colorbar\": {\"outlinewidth\": 0, \"ticks\": \"\"}}, \"type\": \"scattergl\"}], \"scattermapbox\": [{\"marker\": {\"colorbar\": {\"outlinewidth\": 0, \"ticks\": \"\"}}, \"type\": \"scattermapbox\"}], \"scatterpolar\": [{\"marker\": {\"colorbar\": {\"outlinewidth\": 0, \"ticks\": \"\"}}, \"type\": \"scatterpolar\"}], \"scatterpolargl\": [{\"marker\": {\"colorbar\": {\"outlinewidth\": 0, \"ticks\": \"\"}}, \"type\": \"scatterpolargl\"}], \"scatterternary\": [{\"marker\": {\"colorbar\": {\"outlinewidth\": 0, \"ticks\": \"\"}}, \"type\": \"scatterternary\"}], \"surface\": [{\"colorbar\": {\"outlinewidth\": 0, \"ticks\": \"\"}, \"colorscale\": [[0.0, \"#0d0887\"], [0.1111111111111111, \"#46039f\"], [0.2222222222222222, \"#7201a8\"], [0.3333333333333333, \"#9c179e\"], [0.4444444444444444, \"#bd3786\"], [0.5555555555555556, \"#d8576b\"], [0.6666666666666666, \"#ed7953\"], [0.7777777777777778, \"#fb9f3a\"], [0.8888888888888888, \"#fdca26\"], [1.0, \"#f0f921\"]], \"type\": \"surface\"}], \"table\": [{\"cells\": {\"fill\": {\"color\": \"#EBF0F8\"}, \"line\": {\"color\": \"white\"}}, \"header\": {\"fill\": {\"color\": \"#C8D4E3\"}, \"line\": {\"color\": \"white\"}}, \"type\": \"table\"}]}, \"layout\": {\"annotationdefaults\": {\"arrowcolor\": \"#2a3f5f\", \"arrowhead\": 0, \"arrowwidth\": 1}, \"autotypenumbers\": \"strict\", \"coloraxis\": {\"colorbar\": {\"outlinewidth\": 0, \"ticks\": \"\"}}, \"colorscale\": {\"diverging\": [[0, \"#8e0152\"], [0.1, \"#c51b7d\"], [0.2, \"#de77ae\"], [0.3, \"#f1b6da\"], [0.4, \"#fde0ef\"], [0.5, \"#f7f7f7\"], [0.6, \"#e6f5d0\"], [0.7, \"#b8e186\"], [0.8, \"#7fbc41\"], [0.9, \"#4d9221\"], [1, \"#276419\"]], \"sequential\": [[0.0, \"#0d0887\"], [0.1111111111111111, \"#46039f\"], [0.2222222222222222, \"#7201a8\"], [0.3333333333333333, \"#9c179e\"], [0.4444444444444444, \"#bd3786\"], [0.5555555555555556, \"#d8576b\"], [0.6666666666666666, \"#ed7953\"], [0.7777777777777778, \"#fb9f3a\"], [0.8888888888888888, \"#fdca26\"], [1.0, \"#f0f921\"]], \"sequentialminus\": [[0.0, \"#0d0887\"], [0.1111111111111111, \"#46039f\"], [0.2222222222222222, \"#7201a8\"], [0.3333333333333333, \"#9c179e\"], [0.4444444444444444, \"#bd3786\"], [0.5555555555555556, \"#d8576b\"], [0.6666666666666666, \"#ed7953\"], [0.7777777777777778, \"#fb9f3a\"], [0.8888888888888888, \"#fdca26\"], [1.0, \"#f0f921\"]]}, \"colorway\": [\"#636efa\", \"#EF553B\", \"#00cc96\", \"#ab63fa\", \"#FFA15A\", \"#19d3f3\", \"#FF6692\", \"#B6E880\", \"#FF97FF\", \"#FECB52\"], \"font\": {\"color\": \"#2a3f5f\"}, \"geo\": {\"bgcolor\": \"white\", \"lakecolor\": \"white\", \"landcolor\": \"#E5ECF6\", \"showlakes\": true, \"showland\": true, \"subunitcolor\": \"white\"}, \"hoverlabel\": {\"align\": \"left\"}, \"hovermode\": \"closest\", \"mapbox\": {\"style\": \"light\"}, \"paper_bgcolor\": \"white\", \"plot_bgcolor\": \"#E5ECF6\", \"polar\": {\"angularaxis\": {\"gridcolor\": \"white\", \"linecolor\": \"white\", \"ticks\": \"\"}, \"bgcolor\": \"#E5ECF6\", \"radialaxis\": {\"gridcolor\": \"white\", \"linecolor\": \"white\", \"ticks\": \"\"}}, \"scene\": {\"xaxis\": {\"backgroundcolor\": \"#E5ECF6\", \"gridcolor\": \"white\", \"gridwidth\": 2, \"linecolor\": \"white\", \"showbackground\": true, \"ticks\": \"\", \"zerolinecolor\": \"white\"}, \"yaxis\": {\"backgroundcolor\": \"#E5ECF6\", \"gridcolor\": \"white\", \"gridwidth\": 2, \"linecolor\": \"white\", \"showbackground\": true, \"ticks\": \"\", \"zerolinecolor\": \"white\"}, \"zaxis\": {\"backgroundcolor\": \"#E5ECF6\", \"gridcolor\": \"white\", \"gridwidth\": 2, \"linecolor\": \"white\", \"showbackground\": true, \"ticks\": \"\", \"zerolinecolor\": \"white\"}}, \"shapedefaults\": {\"line\": {\"color\": \"#2a3f5f\"}}, \"ternary\": {\"aaxis\": {\"gridcolor\": \"white\", \"linecolor\": \"white\", \"ticks\": \"\"}, \"baxis\": {\"gridcolor\": \"white\", \"linecolor\": \"white\", \"ticks\": \"\"}, \"bgcolor\": \"#E5ECF6\", \"caxis\": {\"gridcolor\": \"white\", \"linecolor\": \"white\", \"ticks\": \"\"}}, \"title\": {\"x\": 0.05}, \"xaxis\": {\"automargin\": true, \"gridcolor\": \"white\", \"linecolor\": \"white\", \"ticks\": \"\", \"title\": {\"standoff\": 15}, \"zerolinecolor\": \"white\", \"zerolinewidth\": 2}, \"yaxis\": {\"automargin\": true, \"gridcolor\": \"white\", \"linecolor\": \"white\", \"ticks\": \"\", \"title\": {\"standoff\": 15}, \"zerolinecolor\": \"white\", \"zerolinewidth\": 2}}}, \"title\": {\"font\": {\"color\": \"#4D5663\"}}, \"xaxis\": {\"gridcolor\": \"#E1E5ED\", \"showgrid\": true, \"tickfont\": {\"color\": \"#4D5663\"}, \"title\": {\"font\": {\"color\": \"#4D5663\"}, \"text\": \"\"}, \"zerolinecolor\": \"#E1E5ED\"}, \"yaxis\": {\"gridcolor\": \"#E1E5ED\", \"showgrid\": true, \"tickfont\": {\"color\": \"#4D5663\"}, \"title\": {\"font\": {\"color\": \"#4D5663\"}, \"text\": \"\"}, \"zerolinecolor\": \"#E1E5ED\"}},                        {\"showLink\": true, \"linkText\": \"Export to plot.ly\", \"plotlyServerURL\": \"https://plot.ly\", \"responsive\": true}                    ).then(function(){\n",
       "                            \n",
       "var gd = document.getElementById('323f67aa-d0a0-4c18-8991-be5643489db6');\n",
       "var x = new MutationObserver(function (mutations, observer) {{\n",
       "        var display = window.getComputedStyle(gd).display;\n",
       "        if (!display || display === 'none') {{\n",
       "            console.log([gd, 'removed!']);\n",
       "            Plotly.purge(gd);\n",
       "            observer.disconnect();\n",
       "        }}\n",
       "}});\n",
       "\n",
       "// Listen for the removal of the full notebook cells\n",
       "var notebookContainer = gd.closest('#notebook-container');\n",
       "if (notebookContainer) {{\n",
       "    x.observe(notebookContainer, {childList: true});\n",
       "}}\n",
       "\n",
       "// Listen for the clearing of the current output cell\n",
       "var outputEl = gd.closest('.output');\n",
       "if (outputEl) {{\n",
       "    x.observe(outputEl, {childList: true});\n",
       "}}\n",
       "\n",
       "                        })                };                });            </script>        </div>"
      ]
     },
     "metadata": {},
     "output_type": "display_data"
    }
   ],
   "source": [
    "df2.iplot(kind='bar',x='Category',y='Values')"
   ]
  },
  {
   "cell_type": "code",
   "execution_count": 13,
   "metadata": {},
   "outputs": [
    {
     "data": {
      "application/vnd.plotly.v1+json": {
       "config": {
        "linkText": "Export to plot.ly",
        "plotlyServerURL": "https://plot.ly",
        "showLink": true
       },
       "data": [
        {
         "marker": {
          "color": "rgba(255, 153, 51, 0.6)",
          "line": {
           "color": "rgba(255, 153, 51, 1.0)",
           "width": 1
          }
         },
         "name": "None",
         "orientation": "v",
         "text": "",
         "type": "bar",
         "x": [
          "A",
          "B",
          "C",
          "D"
         ],
         "y": [
          100,
          100,
          100,
          100
         ]
        }
       ],
       "layout": {
        "legend": {
         "bgcolor": "#F5F6F9",
         "font": {
          "color": "#4D5663"
         }
        },
        "paper_bgcolor": "#F5F6F9",
        "plot_bgcolor": "#F5F6F9",
        "template": {
         "data": {
          "bar": [
           {
            "error_x": {
             "color": "#2a3f5f"
            },
            "error_y": {
             "color": "#2a3f5f"
            },
            "marker": {
             "line": {
              "color": "#E5ECF6",
              "width": 0.5
             }
            },
            "type": "bar"
           }
          ],
          "barpolar": [
           {
            "marker": {
             "line": {
              "color": "#E5ECF6",
              "width": 0.5
             }
            },
            "type": "barpolar"
           }
          ],
          "carpet": [
           {
            "aaxis": {
             "endlinecolor": "#2a3f5f",
             "gridcolor": "white",
             "linecolor": "white",
             "minorgridcolor": "white",
             "startlinecolor": "#2a3f5f"
            },
            "baxis": {
             "endlinecolor": "#2a3f5f",
             "gridcolor": "white",
             "linecolor": "white",
             "minorgridcolor": "white",
             "startlinecolor": "#2a3f5f"
            },
            "type": "carpet"
           }
          ],
          "choropleth": [
           {
            "colorbar": {
             "outlinewidth": 0,
             "ticks": ""
            },
            "type": "choropleth"
           }
          ],
          "contour": [
           {
            "colorbar": {
             "outlinewidth": 0,
             "ticks": ""
            },
            "colorscale": [
             [
              0,
              "#0d0887"
             ],
             [
              0.1111111111111111,
              "#46039f"
             ],
             [
              0.2222222222222222,
              "#7201a8"
             ],
             [
              0.3333333333333333,
              "#9c179e"
             ],
             [
              0.4444444444444444,
              "#bd3786"
             ],
             [
              0.5555555555555556,
              "#d8576b"
             ],
             [
              0.6666666666666666,
              "#ed7953"
             ],
             [
              0.7777777777777778,
              "#fb9f3a"
             ],
             [
              0.8888888888888888,
              "#fdca26"
             ],
             [
              1,
              "#f0f921"
             ]
            ],
            "type": "contour"
           }
          ],
          "contourcarpet": [
           {
            "colorbar": {
             "outlinewidth": 0,
             "ticks": ""
            },
            "type": "contourcarpet"
           }
          ],
          "heatmap": [
           {
            "colorbar": {
             "outlinewidth": 0,
             "ticks": ""
            },
            "colorscale": [
             [
              0,
              "#0d0887"
             ],
             [
              0.1111111111111111,
              "#46039f"
             ],
             [
              0.2222222222222222,
              "#7201a8"
             ],
             [
              0.3333333333333333,
              "#9c179e"
             ],
             [
              0.4444444444444444,
              "#bd3786"
             ],
             [
              0.5555555555555556,
              "#d8576b"
             ],
             [
              0.6666666666666666,
              "#ed7953"
             ],
             [
              0.7777777777777778,
              "#fb9f3a"
             ],
             [
              0.8888888888888888,
              "#fdca26"
             ],
             [
              1,
              "#f0f921"
             ]
            ],
            "type": "heatmap"
           }
          ],
          "heatmapgl": [
           {
            "colorbar": {
             "outlinewidth": 0,
             "ticks": ""
            },
            "colorscale": [
             [
              0,
              "#0d0887"
             ],
             [
              0.1111111111111111,
              "#46039f"
             ],
             [
              0.2222222222222222,
              "#7201a8"
             ],
             [
              0.3333333333333333,
              "#9c179e"
             ],
             [
              0.4444444444444444,
              "#bd3786"
             ],
             [
              0.5555555555555556,
              "#d8576b"
             ],
             [
              0.6666666666666666,
              "#ed7953"
             ],
             [
              0.7777777777777778,
              "#fb9f3a"
             ],
             [
              0.8888888888888888,
              "#fdca26"
             ],
             [
              1,
              "#f0f921"
             ]
            ],
            "type": "heatmapgl"
           }
          ],
          "histogram": [
           {
            "marker": {
             "colorbar": {
              "outlinewidth": 0,
              "ticks": ""
             }
            },
            "type": "histogram"
           }
          ],
          "histogram2d": [
           {
            "colorbar": {
             "outlinewidth": 0,
             "ticks": ""
            },
            "colorscale": [
             [
              0,
              "#0d0887"
             ],
             [
              0.1111111111111111,
              "#46039f"
             ],
             [
              0.2222222222222222,
              "#7201a8"
             ],
             [
              0.3333333333333333,
              "#9c179e"
             ],
             [
              0.4444444444444444,
              "#bd3786"
             ],
             [
              0.5555555555555556,
              "#d8576b"
             ],
             [
              0.6666666666666666,
              "#ed7953"
             ],
             [
              0.7777777777777778,
              "#fb9f3a"
             ],
             [
              0.8888888888888888,
              "#fdca26"
             ],
             [
              1,
              "#f0f921"
             ]
            ],
            "type": "histogram2d"
           }
          ],
          "histogram2dcontour": [
           {
            "colorbar": {
             "outlinewidth": 0,
             "ticks": ""
            },
            "colorscale": [
             [
              0,
              "#0d0887"
             ],
             [
              0.1111111111111111,
              "#46039f"
             ],
             [
              0.2222222222222222,
              "#7201a8"
             ],
             [
              0.3333333333333333,
              "#9c179e"
             ],
             [
              0.4444444444444444,
              "#bd3786"
             ],
             [
              0.5555555555555556,
              "#d8576b"
             ],
             [
              0.6666666666666666,
              "#ed7953"
             ],
             [
              0.7777777777777778,
              "#fb9f3a"
             ],
             [
              0.8888888888888888,
              "#fdca26"
             ],
             [
              1,
              "#f0f921"
             ]
            ],
            "type": "histogram2dcontour"
           }
          ],
          "mesh3d": [
           {
            "colorbar": {
             "outlinewidth": 0,
             "ticks": ""
            },
            "type": "mesh3d"
           }
          ],
          "parcoords": [
           {
            "line": {
             "colorbar": {
              "outlinewidth": 0,
              "ticks": ""
             }
            },
            "type": "parcoords"
           }
          ],
          "pie": [
           {
            "automargin": true,
            "type": "pie"
           }
          ],
          "scatter": [
           {
            "marker": {
             "colorbar": {
              "outlinewidth": 0,
              "ticks": ""
             }
            },
            "type": "scatter"
           }
          ],
          "scatter3d": [
           {
            "line": {
             "colorbar": {
              "outlinewidth": 0,
              "ticks": ""
             }
            },
            "marker": {
             "colorbar": {
              "outlinewidth": 0,
              "ticks": ""
             }
            },
            "type": "scatter3d"
           }
          ],
          "scattercarpet": [
           {
            "marker": {
             "colorbar": {
              "outlinewidth": 0,
              "ticks": ""
             }
            },
            "type": "scattercarpet"
           }
          ],
          "scattergeo": [
           {
            "marker": {
             "colorbar": {
              "outlinewidth": 0,
              "ticks": ""
             }
            },
            "type": "scattergeo"
           }
          ],
          "scattergl": [
           {
            "marker": {
             "colorbar": {
              "outlinewidth": 0,
              "ticks": ""
             }
            },
            "type": "scattergl"
           }
          ],
          "scattermapbox": [
           {
            "marker": {
             "colorbar": {
              "outlinewidth": 0,
              "ticks": ""
             }
            },
            "type": "scattermapbox"
           }
          ],
          "scatterpolar": [
           {
            "marker": {
             "colorbar": {
              "outlinewidth": 0,
              "ticks": ""
             }
            },
            "type": "scatterpolar"
           }
          ],
          "scatterpolargl": [
           {
            "marker": {
             "colorbar": {
              "outlinewidth": 0,
              "ticks": ""
             }
            },
            "type": "scatterpolargl"
           }
          ],
          "scatterternary": [
           {
            "marker": {
             "colorbar": {
              "outlinewidth": 0,
              "ticks": ""
             }
            },
            "type": "scatterternary"
           }
          ],
          "surface": [
           {
            "colorbar": {
             "outlinewidth": 0,
             "ticks": ""
            },
            "colorscale": [
             [
              0,
              "#0d0887"
             ],
             [
              0.1111111111111111,
              "#46039f"
             ],
             [
              0.2222222222222222,
              "#7201a8"
             ],
             [
              0.3333333333333333,
              "#9c179e"
             ],
             [
              0.4444444444444444,
              "#bd3786"
             ],
             [
              0.5555555555555556,
              "#d8576b"
             ],
             [
              0.6666666666666666,
              "#ed7953"
             ],
             [
              0.7777777777777778,
              "#fb9f3a"
             ],
             [
              0.8888888888888888,
              "#fdca26"
             ],
             [
              1,
              "#f0f921"
             ]
            ],
            "type": "surface"
           }
          ],
          "table": [
           {
            "cells": {
             "fill": {
              "color": "#EBF0F8"
             },
             "line": {
              "color": "white"
             }
            },
            "header": {
             "fill": {
              "color": "#C8D4E3"
             },
             "line": {
              "color": "white"
             }
            },
            "type": "table"
           }
          ]
         },
         "layout": {
          "annotationdefaults": {
           "arrowcolor": "#2a3f5f",
           "arrowhead": 0,
           "arrowwidth": 1
          },
          "autotypenumbers": "strict",
          "coloraxis": {
           "colorbar": {
            "outlinewidth": 0,
            "ticks": ""
           }
          },
          "colorscale": {
           "diverging": [
            [
             0,
             "#8e0152"
            ],
            [
             0.1,
             "#c51b7d"
            ],
            [
             0.2,
             "#de77ae"
            ],
            [
             0.3,
             "#f1b6da"
            ],
            [
             0.4,
             "#fde0ef"
            ],
            [
             0.5,
             "#f7f7f7"
            ],
            [
             0.6,
             "#e6f5d0"
            ],
            [
             0.7,
             "#b8e186"
            ],
            [
             0.8,
             "#7fbc41"
            ],
            [
             0.9,
             "#4d9221"
            ],
            [
             1,
             "#276419"
            ]
           ],
           "sequential": [
            [
             0,
             "#0d0887"
            ],
            [
             0.1111111111111111,
             "#46039f"
            ],
            [
             0.2222222222222222,
             "#7201a8"
            ],
            [
             0.3333333333333333,
             "#9c179e"
            ],
            [
             0.4444444444444444,
             "#bd3786"
            ],
            [
             0.5555555555555556,
             "#d8576b"
            ],
            [
             0.6666666666666666,
             "#ed7953"
            ],
            [
             0.7777777777777778,
             "#fb9f3a"
            ],
            [
             0.8888888888888888,
             "#fdca26"
            ],
            [
             1,
             "#f0f921"
            ]
           ],
           "sequentialminus": [
            [
             0,
             "#0d0887"
            ],
            [
             0.1111111111111111,
             "#46039f"
            ],
            [
             0.2222222222222222,
             "#7201a8"
            ],
            [
             0.3333333333333333,
             "#9c179e"
            ],
            [
             0.4444444444444444,
             "#bd3786"
            ],
            [
             0.5555555555555556,
             "#d8576b"
            ],
            [
             0.6666666666666666,
             "#ed7953"
            ],
            [
             0.7777777777777778,
             "#fb9f3a"
            ],
            [
             0.8888888888888888,
             "#fdca26"
            ],
            [
             1,
             "#f0f921"
            ]
           ]
          },
          "colorway": [
           "#636efa",
           "#EF553B",
           "#00cc96",
           "#ab63fa",
           "#FFA15A",
           "#19d3f3",
           "#FF6692",
           "#B6E880",
           "#FF97FF",
           "#FECB52"
          ],
          "font": {
           "color": "#2a3f5f"
          },
          "geo": {
           "bgcolor": "white",
           "lakecolor": "white",
           "landcolor": "#E5ECF6",
           "showlakes": true,
           "showland": true,
           "subunitcolor": "white"
          },
          "hoverlabel": {
           "align": "left"
          },
          "hovermode": "closest",
          "mapbox": {
           "style": "light"
          },
          "paper_bgcolor": "white",
          "plot_bgcolor": "#E5ECF6",
          "polar": {
           "angularaxis": {
            "gridcolor": "white",
            "linecolor": "white",
            "ticks": ""
           },
           "bgcolor": "#E5ECF6",
           "radialaxis": {
            "gridcolor": "white",
            "linecolor": "white",
            "ticks": ""
           }
          },
          "scene": {
           "xaxis": {
            "backgroundcolor": "#E5ECF6",
            "gridcolor": "white",
            "gridwidth": 2,
            "linecolor": "white",
            "showbackground": true,
            "ticks": "",
            "zerolinecolor": "white"
           },
           "yaxis": {
            "backgroundcolor": "#E5ECF6",
            "gridcolor": "white",
            "gridwidth": 2,
            "linecolor": "white",
            "showbackground": true,
            "ticks": "",
            "zerolinecolor": "white"
           },
           "zaxis": {
            "backgroundcolor": "#E5ECF6",
            "gridcolor": "white",
            "gridwidth": 2,
            "linecolor": "white",
            "showbackground": true,
            "ticks": "",
            "zerolinecolor": "white"
           }
          },
          "shapedefaults": {
           "line": {
            "color": "#2a3f5f"
           }
          },
          "ternary": {
           "aaxis": {
            "gridcolor": "white",
            "linecolor": "white",
            "ticks": ""
           },
           "baxis": {
            "gridcolor": "white",
            "linecolor": "white",
            "ticks": ""
           },
           "bgcolor": "#E5ECF6",
           "caxis": {
            "gridcolor": "white",
            "linecolor": "white",
            "ticks": ""
           }
          },
          "title": {
           "x": 0.05
          },
          "xaxis": {
           "automargin": true,
           "gridcolor": "white",
           "linecolor": "white",
           "ticks": "",
           "title": {
            "standoff": 15
           },
           "zerolinecolor": "white",
           "zerolinewidth": 2
          },
          "yaxis": {
           "automargin": true,
           "gridcolor": "white",
           "linecolor": "white",
           "ticks": "",
           "title": {
            "standoff": 15
           },
           "zerolinecolor": "white",
           "zerolinewidth": 2
          }
         }
        },
        "title": {
         "font": {
          "color": "#4D5663"
         }
        },
        "xaxis": {
         "gridcolor": "#E1E5ED",
         "showgrid": true,
         "tickfont": {
          "color": "#4D5663"
         },
         "title": {
          "font": {
           "color": "#4D5663"
          },
          "text": ""
         },
         "zerolinecolor": "#E1E5ED"
        },
        "yaxis": {
         "gridcolor": "#E1E5ED",
         "showgrid": true,
         "tickfont": {
          "color": "#4D5663"
         },
         "title": {
          "font": {
           "color": "#4D5663"
          },
          "text": ""
         },
         "zerolinecolor": "#E1E5ED"
        }
       }
      },
      "text/html": [
       "<div>                            <div id=\"caa69c94-a7a2-4c90-be3f-463a466fb6f1\" class=\"plotly-graph-div\" style=\"height:525px; width:100%;\"></div>            <script type=\"text/javascript\">                require([\"plotly\"], function(Plotly) {                    window.PLOTLYENV=window.PLOTLYENV || {};\n",
       "                    window.PLOTLYENV.BASE_URL='https://plot.ly';                                    if (document.getElementById(\"caa69c94-a7a2-4c90-be3f-463a466fb6f1\")) {                    Plotly.newPlot(                        \"caa69c94-a7a2-4c90-be3f-463a466fb6f1\",                        [{\"marker\": {\"color\": \"rgba(255, 153, 51, 0.6)\", \"line\": {\"color\": \"rgba(255, 153, 51, 1.0)\", \"width\": 1}}, \"name\": \"None\", \"orientation\": \"v\", \"text\": \"\", \"type\": \"bar\", \"x\": [\"A\", \"B\", \"C\", \"D\"], \"y\": [100, 100, 100, 100]}],                        {\"legend\": {\"bgcolor\": \"#F5F6F9\", \"font\": {\"color\": \"#4D5663\"}}, \"paper_bgcolor\": \"#F5F6F9\", \"plot_bgcolor\": \"#F5F6F9\", \"template\": {\"data\": {\"bar\": [{\"error_x\": {\"color\": \"#2a3f5f\"}, \"error_y\": {\"color\": \"#2a3f5f\"}, \"marker\": {\"line\": {\"color\": \"#E5ECF6\", \"width\": 0.5}}, \"type\": \"bar\"}], \"barpolar\": [{\"marker\": {\"line\": {\"color\": \"#E5ECF6\", \"width\": 0.5}}, \"type\": \"barpolar\"}], \"carpet\": [{\"aaxis\": {\"endlinecolor\": \"#2a3f5f\", \"gridcolor\": \"white\", \"linecolor\": \"white\", \"minorgridcolor\": \"white\", \"startlinecolor\": \"#2a3f5f\"}, \"baxis\": {\"endlinecolor\": \"#2a3f5f\", \"gridcolor\": \"white\", \"linecolor\": \"white\", \"minorgridcolor\": \"white\", \"startlinecolor\": \"#2a3f5f\"}, \"type\": \"carpet\"}], \"choropleth\": [{\"colorbar\": {\"outlinewidth\": 0, \"ticks\": \"\"}, \"type\": \"choropleth\"}], \"contour\": [{\"colorbar\": {\"outlinewidth\": 0, \"ticks\": \"\"}, \"colorscale\": [[0.0, \"#0d0887\"], [0.1111111111111111, \"#46039f\"], [0.2222222222222222, \"#7201a8\"], [0.3333333333333333, \"#9c179e\"], [0.4444444444444444, \"#bd3786\"], [0.5555555555555556, \"#d8576b\"], [0.6666666666666666, \"#ed7953\"], [0.7777777777777778, \"#fb9f3a\"], [0.8888888888888888, \"#fdca26\"], [1.0, \"#f0f921\"]], \"type\": \"contour\"}], \"contourcarpet\": [{\"colorbar\": {\"outlinewidth\": 0, \"ticks\": \"\"}, \"type\": \"contourcarpet\"}], \"heatmap\": [{\"colorbar\": {\"outlinewidth\": 0, \"ticks\": \"\"}, \"colorscale\": [[0.0, \"#0d0887\"], [0.1111111111111111, \"#46039f\"], [0.2222222222222222, \"#7201a8\"], [0.3333333333333333, \"#9c179e\"], [0.4444444444444444, \"#bd3786\"], [0.5555555555555556, \"#d8576b\"], [0.6666666666666666, \"#ed7953\"], [0.7777777777777778, \"#fb9f3a\"], [0.8888888888888888, \"#fdca26\"], [1.0, \"#f0f921\"]], \"type\": \"heatmap\"}], \"heatmapgl\": [{\"colorbar\": {\"outlinewidth\": 0, \"ticks\": \"\"}, \"colorscale\": [[0.0, \"#0d0887\"], [0.1111111111111111, \"#46039f\"], [0.2222222222222222, \"#7201a8\"], [0.3333333333333333, \"#9c179e\"], [0.4444444444444444, \"#bd3786\"], [0.5555555555555556, \"#d8576b\"], [0.6666666666666666, \"#ed7953\"], [0.7777777777777778, \"#fb9f3a\"], [0.8888888888888888, \"#fdca26\"], [1.0, \"#f0f921\"]], \"type\": \"heatmapgl\"}], \"histogram\": [{\"marker\": {\"colorbar\": {\"outlinewidth\": 0, \"ticks\": \"\"}}, \"type\": \"histogram\"}], \"histogram2d\": [{\"colorbar\": {\"outlinewidth\": 0, \"ticks\": \"\"}, \"colorscale\": [[0.0, \"#0d0887\"], [0.1111111111111111, \"#46039f\"], [0.2222222222222222, \"#7201a8\"], [0.3333333333333333, \"#9c179e\"], [0.4444444444444444, \"#bd3786\"], [0.5555555555555556, \"#d8576b\"], [0.6666666666666666, \"#ed7953\"], [0.7777777777777778, \"#fb9f3a\"], [0.8888888888888888, \"#fdca26\"], [1.0, \"#f0f921\"]], \"type\": \"histogram2d\"}], \"histogram2dcontour\": [{\"colorbar\": {\"outlinewidth\": 0, \"ticks\": \"\"}, \"colorscale\": [[0.0, \"#0d0887\"], [0.1111111111111111, \"#46039f\"], [0.2222222222222222, \"#7201a8\"], [0.3333333333333333, \"#9c179e\"], [0.4444444444444444, \"#bd3786\"], [0.5555555555555556, \"#d8576b\"], [0.6666666666666666, \"#ed7953\"], [0.7777777777777778, \"#fb9f3a\"], [0.8888888888888888, \"#fdca26\"], [1.0, \"#f0f921\"]], \"type\": \"histogram2dcontour\"}], \"mesh3d\": [{\"colorbar\": {\"outlinewidth\": 0, \"ticks\": \"\"}, \"type\": \"mesh3d\"}], \"parcoords\": [{\"line\": {\"colorbar\": {\"outlinewidth\": 0, \"ticks\": \"\"}}, \"type\": \"parcoords\"}], \"pie\": [{\"automargin\": true, \"type\": \"pie\"}], \"scatter\": [{\"marker\": {\"colorbar\": {\"outlinewidth\": 0, \"ticks\": \"\"}}, \"type\": \"scatter\"}], \"scatter3d\": [{\"line\": {\"colorbar\": {\"outlinewidth\": 0, \"ticks\": \"\"}}, \"marker\": {\"colorbar\": {\"outlinewidth\": 0, \"ticks\": \"\"}}, \"type\": \"scatter3d\"}], \"scattercarpet\": [{\"marker\": {\"colorbar\": {\"outlinewidth\": 0, \"ticks\": \"\"}}, \"type\": \"scattercarpet\"}], \"scattergeo\": [{\"marker\": {\"colorbar\": {\"outlinewidth\": 0, \"ticks\": \"\"}}, \"type\": \"scattergeo\"}], \"scattergl\": [{\"marker\": {\"colorbar\": {\"outlinewidth\": 0, \"ticks\": \"\"}}, \"type\": \"scattergl\"}], \"scattermapbox\": [{\"marker\": {\"colorbar\": {\"outlinewidth\": 0, \"ticks\": \"\"}}, \"type\": \"scattermapbox\"}], \"scatterpolar\": [{\"marker\": {\"colorbar\": {\"outlinewidth\": 0, \"ticks\": \"\"}}, \"type\": \"scatterpolar\"}], \"scatterpolargl\": [{\"marker\": {\"colorbar\": {\"outlinewidth\": 0, \"ticks\": \"\"}}, \"type\": \"scatterpolargl\"}], \"scatterternary\": [{\"marker\": {\"colorbar\": {\"outlinewidth\": 0, \"ticks\": \"\"}}, \"type\": \"scatterternary\"}], \"surface\": [{\"colorbar\": {\"outlinewidth\": 0, \"ticks\": \"\"}, \"colorscale\": [[0.0, \"#0d0887\"], [0.1111111111111111, \"#46039f\"], [0.2222222222222222, \"#7201a8\"], [0.3333333333333333, \"#9c179e\"], [0.4444444444444444, \"#bd3786\"], [0.5555555555555556, \"#d8576b\"], [0.6666666666666666, \"#ed7953\"], [0.7777777777777778, \"#fb9f3a\"], [0.8888888888888888, \"#fdca26\"], [1.0, \"#f0f921\"]], \"type\": \"surface\"}], \"table\": [{\"cells\": {\"fill\": {\"color\": \"#EBF0F8\"}, \"line\": {\"color\": \"white\"}}, \"header\": {\"fill\": {\"color\": \"#C8D4E3\"}, \"line\": {\"color\": \"white\"}}, \"type\": \"table\"}]}, \"layout\": {\"annotationdefaults\": {\"arrowcolor\": \"#2a3f5f\", \"arrowhead\": 0, \"arrowwidth\": 1}, \"autotypenumbers\": \"strict\", \"coloraxis\": {\"colorbar\": {\"outlinewidth\": 0, \"ticks\": \"\"}}, \"colorscale\": {\"diverging\": [[0, \"#8e0152\"], [0.1, \"#c51b7d\"], [0.2, \"#de77ae\"], [0.3, \"#f1b6da\"], [0.4, \"#fde0ef\"], [0.5, \"#f7f7f7\"], [0.6, \"#e6f5d0\"], [0.7, \"#b8e186\"], [0.8, \"#7fbc41\"], [0.9, \"#4d9221\"], [1, \"#276419\"]], \"sequential\": [[0.0, \"#0d0887\"], [0.1111111111111111, \"#46039f\"], [0.2222222222222222, \"#7201a8\"], [0.3333333333333333, \"#9c179e\"], [0.4444444444444444, \"#bd3786\"], [0.5555555555555556, \"#d8576b\"], [0.6666666666666666, \"#ed7953\"], [0.7777777777777778, \"#fb9f3a\"], [0.8888888888888888, \"#fdca26\"], [1.0, \"#f0f921\"]], \"sequentialminus\": [[0.0, \"#0d0887\"], [0.1111111111111111, \"#46039f\"], [0.2222222222222222, \"#7201a8\"], [0.3333333333333333, \"#9c179e\"], [0.4444444444444444, \"#bd3786\"], [0.5555555555555556, \"#d8576b\"], [0.6666666666666666, \"#ed7953\"], [0.7777777777777778, \"#fb9f3a\"], [0.8888888888888888, \"#fdca26\"], [1.0, \"#f0f921\"]]}, \"colorway\": [\"#636efa\", \"#EF553B\", \"#00cc96\", \"#ab63fa\", \"#FFA15A\", \"#19d3f3\", \"#FF6692\", \"#B6E880\", \"#FF97FF\", \"#FECB52\"], \"font\": {\"color\": \"#2a3f5f\"}, \"geo\": {\"bgcolor\": \"white\", \"lakecolor\": \"white\", \"landcolor\": \"#E5ECF6\", \"showlakes\": true, \"showland\": true, \"subunitcolor\": \"white\"}, \"hoverlabel\": {\"align\": \"left\"}, \"hovermode\": \"closest\", \"mapbox\": {\"style\": \"light\"}, \"paper_bgcolor\": \"white\", \"plot_bgcolor\": \"#E5ECF6\", \"polar\": {\"angularaxis\": {\"gridcolor\": \"white\", \"linecolor\": \"white\", \"ticks\": \"\"}, \"bgcolor\": \"#E5ECF6\", \"radialaxis\": {\"gridcolor\": \"white\", \"linecolor\": \"white\", \"ticks\": \"\"}}, \"scene\": {\"xaxis\": {\"backgroundcolor\": \"#E5ECF6\", \"gridcolor\": \"white\", \"gridwidth\": 2, \"linecolor\": \"white\", \"showbackground\": true, \"ticks\": \"\", \"zerolinecolor\": \"white\"}, \"yaxis\": {\"backgroundcolor\": \"#E5ECF6\", \"gridcolor\": \"white\", \"gridwidth\": 2, \"linecolor\": \"white\", \"showbackground\": true, \"ticks\": \"\", \"zerolinecolor\": \"white\"}, \"zaxis\": {\"backgroundcolor\": \"#E5ECF6\", \"gridcolor\": \"white\", \"gridwidth\": 2, \"linecolor\": \"white\", \"showbackground\": true, \"ticks\": \"\", \"zerolinecolor\": \"white\"}}, \"shapedefaults\": {\"line\": {\"color\": \"#2a3f5f\"}}, \"ternary\": {\"aaxis\": {\"gridcolor\": \"white\", \"linecolor\": \"white\", \"ticks\": \"\"}, \"baxis\": {\"gridcolor\": \"white\", \"linecolor\": \"white\", \"ticks\": \"\"}, \"bgcolor\": \"#E5ECF6\", \"caxis\": {\"gridcolor\": \"white\", \"linecolor\": \"white\", \"ticks\": \"\"}}, \"title\": {\"x\": 0.05}, \"xaxis\": {\"automargin\": true, \"gridcolor\": \"white\", \"linecolor\": \"white\", \"ticks\": \"\", \"title\": {\"standoff\": 15}, \"zerolinecolor\": \"white\", \"zerolinewidth\": 2}, \"yaxis\": {\"automargin\": true, \"gridcolor\": \"white\", \"linecolor\": \"white\", \"ticks\": \"\", \"title\": {\"standoff\": 15}, \"zerolinecolor\": \"white\", \"zerolinewidth\": 2}}}, \"title\": {\"font\": {\"color\": \"#4D5663\"}}, \"xaxis\": {\"gridcolor\": \"#E1E5ED\", \"showgrid\": true, \"tickfont\": {\"color\": \"#4D5663\"}, \"title\": {\"font\": {\"color\": \"#4D5663\"}, \"text\": \"\"}, \"zerolinecolor\": \"#E1E5ED\"}, \"yaxis\": {\"gridcolor\": \"#E1E5ED\", \"showgrid\": true, \"tickfont\": {\"color\": \"#4D5663\"}, \"title\": {\"font\": {\"color\": \"#4D5663\"}, \"text\": \"\"}, \"zerolinecolor\": \"#E1E5ED\"}},                        {\"showLink\": true, \"linkText\": \"Export to plot.ly\", \"plotlyServerURL\": \"https://plot.ly\", \"responsive\": true}                    ).then(function(){\n",
       "                            \n",
       "var gd = document.getElementById('caa69c94-a7a2-4c90-be3f-463a466fb6f1');\n",
       "var x = new MutationObserver(function (mutations, observer) {{\n",
       "        var display = window.getComputedStyle(gd).display;\n",
       "        if (!display || display === 'none') {{\n",
       "            console.log([gd, 'removed!']);\n",
       "            Plotly.purge(gd);\n",
       "            observer.disconnect();\n",
       "        }}\n",
       "}});\n",
       "\n",
       "// Listen for the removal of the full notebook cells\n",
       "var notebookContainer = gd.closest('#notebook-container');\n",
       "if (notebookContainer) {{\n",
       "    x.observe(notebookContainer, {childList: true});\n",
       "}}\n",
       "\n",
       "// Listen for the clearing of the current output cell\n",
       "var outputEl = gd.closest('.output');\n",
       "if (outputEl) {{\n",
       "    x.observe(outputEl, {childList: true});\n",
       "}}\n",
       "\n",
       "                        })                };                });            </script>        </div>"
      ]
     },
     "metadata": {},
     "output_type": "display_data"
    }
   ],
   "source": [
    "df.count().iplot(kind='bar')"
   ]
  },
  {
   "cell_type": "markdown",
   "metadata": {},
   "source": [
    "## Boxplots"
   ]
  },
  {
   "cell_type": "code",
   "execution_count": 14,
   "metadata": {},
   "outputs": [
    {
     "data": {
      "application/vnd.plotly.v1+json": {
       "config": {
        "linkText": "Export to plot.ly",
        "plotlyServerURL": "https://plot.ly",
        "showLink": true
       },
       "data": [
        {
         "boxpoints": false,
         "line": {
          "width": 1.3
         },
         "marker": {
          "color": "rgba(255, 153, 51, 1.0)"
         },
         "name": "A",
         "orientation": "v",
         "type": "box",
         "y": [
          1.2828662516368237,
          -1.9058548130178599,
          1.7624087399545465,
          -1.28957445810928,
          -0.33074735230222574,
          1.3924138972481361,
          -1.0876116171939914,
          -1.2081372790816036,
          -0.6737965225857129,
          -0.02583692854927848,
          0.8039293299766449,
          1.0107446447097366,
          -1.4146549512974564,
          -0.15595360258756916,
          1.1310264219534185,
          0.3109506384339165,
          -0.3808054031911281,
          0.11122446898664881,
          -0.9656072574207325,
          0.2406238062862133,
          -0.8068648764125891,
          -1.6871947272058962,
          1.2337296353563858,
          -0.3809284251154643,
          -0.35317470698447334,
          0.43415144542077877,
          1.2180163628219967,
          -1.522440486703186,
          0.5217061847644993,
          0.38561994701780056,
          -0.49192210133219766,
          0.14013093395285253,
          2.4036700387643384,
          -0.4807851905433463,
          -1.9605399057258375,
          1.2669050634370032,
          -1.5308676262032017,
          -0.5190412053819773,
          0.4173351672979796,
          -0.23687798244708996,
          -0.8460465955548907,
          -0.5084860834962257,
          0.1738108848450604,
          0.0368915898997711,
          0.6805541276651929,
          -0.3118292802592112,
          0.6187106394900223,
          -0.7343098042346263,
          1.0517884026374926,
          -1.0677456222735553,
          -0.9589362399553518,
          -0.6589773644257099,
          -1.1643134480046182,
          0.2627379525787662,
          -1.6330933755686416,
          0.6797640558459586,
          -0.21807894242190407,
          0.6121770011936802,
          -1.2288674416183698,
          -0.028932611373871618,
          -0.29558261017692433,
          0.8851879307115434,
          -0.12808461099746693,
          0.9982779724582205,
          -0.7046827243365449,
          -1.1674082125449132,
          0.008171711724090178,
          0.4552042065990801,
          0.8047843719361977,
          1.3520070749654678,
          -0.023124972881999134,
          -0.889286390339353,
          0.8736949087856304,
          -0.4306513533340919,
          -0.3947564542130474,
          0.9753568630991614,
          0.6465523276736221,
          1.1234495604869827,
          0.7575077430654791,
          0.10056159062489389,
          -0.5990740207238892,
          -0.04925861844922938,
          -0.5743835236711956,
          -0.2934599223661171,
          0.13943105173979872,
          -1.1730514837867145,
          -1.4097168362462602,
          0.2819429293041775,
          1.8333068010035791,
          -0.8453840321261459,
          0.28363834198412025,
          -1.2073436137625582,
          -0.7535816105045646,
          0.4060306049615743,
          0.48190397132211416,
          0.42673882846182315,
          2.706608622687043,
          -0.4285481488971416,
          0.13524802574512346,
          -0.11575641589217416
         ]
        },
        {
         "boxpoints": false,
         "line": {
          "width": 1.3
         },
         "marker": {
          "color": "rgba(55, 128, 191, 1.0)"
         },
         "name": "B",
         "orientation": "v",
         "type": "box",
         "y": [
          -0.5154028289519922,
          0.0791322585661461,
          1.0396515346220583,
          0.4850278201225669,
          -1.6254111312880137,
          -0.998260106320457,
          0.26303934236234766,
          -0.30773940814879197,
          -0.01094210364897688,
          -1.3944439761556933,
          1.5055174490022059,
          0.8239482622881219,
          -0.509754796806725,
          0.7313794893071358,
          0.8820097692652915,
          -0.5406830740138031,
          -1.1329492868192956,
          -0.40077704369678735,
          0.40493122341053506,
          0.640683739641404,
          -1.0204224910137554,
          1.4889011107760302,
          0.36589253033272673,
          -0.10252420879481028,
          -1.430282150047373,
          0.14066371160501276,
          0.6163784978253694,
          1.432263924590453,
          1.8492563020547392,
          -0.8217827592875484,
          -0.44599160091648204,
          1.4894175755182744,
          1.0176964004655251,
          1.6807954863608192,
          -0.21163545755427834,
          -1.4275374906092662,
          -1.823583470739203,
          2.1659367105415224,
          -1.3434598934659385,
          0.22262118793658667,
          0.02691957065464893,
          1.2009810098660418,
          -1.0935773745230242,
          -1.5025461722914313,
          1.0487359193007595,
          -0.2335583839744253,
          -1.0022135401686079,
          -1.8599184167196092,
          -0.22899476071839855,
          -0.8522397606714057,
          1.0977669077056627,
          -0.3654870695184672,
          -0.26251197339235505,
          1.5041915918704902,
          -0.1298061375478299,
          0.027609862050904,
          -0.02269809222143529,
          -0.30059378354524874,
          0.4221110297659695,
          -1.1626066888185207,
          0.9309679489129465,
          -0.9547175245352093,
          -0.5855913889007434,
          -0.1491633236882833,
          -0.8179567266593832,
          -0.5065334580298471,
          1.090214517366577,
          0.9947655114561784,
          0.9921809126586695,
          0.12746228521287786,
          -0.7960222886985829,
          -0.6504377121940919,
          0.4746746423422819,
          0.7572970759682413,
          -0.9395071457654471,
          -0.3494968638336238,
          1.3460158607638404,
          -0.5488662923381947,
          -1.4653280244485671,
          -1.4572637821760548,
          -0.3889838356638975,
          -0.20622999422701915,
          -0.6414210441959368,
          1.060095370980204,
          0.4516365774723491,
          1.8616252137710345,
          -0.3596212431681085,
          -0.1469756823743527,
          0.5071310239049722,
          0.023489024913073517,
          -1.6734350889799126,
          1.7108871056559394,
          1.6637160594485334,
          -0.8199014490648515,
          0.38052374775287356,
          -1.4915215740611367,
          -0.10226702648398565,
          -0.3668531484436365,
          -0.06217608712746471,
          1.0770315841710956
         ]
        },
        {
         "boxpoints": false,
         "line": {
          "width": 1.3
         },
         "marker": {
          "color": "rgba(50, 171, 96, 1.0)"
         },
         "name": "C",
         "orientation": "v",
         "type": "box",
         "y": [
          -1.3535163580022544,
          1.4003596234117344,
          0.13469439790165721,
          1.4051908037448164,
          0.9580714977635231,
          -0.4095176349491406,
          0.7580845633983917,
          -1.2819504250150386,
          0.2086995055029189,
          0.9329538542322144,
          -0.8016333047126879,
          -0.07771097622126454,
          -0.7721054100946949,
          -1.990676407866973,
          -0.7862268731312244,
          -1.5525540482500282,
          0.15355932941990333,
          -0.7354191976403986,
          -0.2710262876002277,
          -1.1988608203442557,
          3.0747486110269544,
          -0.5274923081062007,
          0.04271981706349143,
          -0.9085064591077707,
          1.9556268889088981,
          0.29424423013466655,
          -0.5519571126618097,
          -0.008858948660685682,
          0.3675294495702848,
          -1.1500645608143736,
          0.557455375002619,
          0.49747346009956683,
          -0.691892606369852,
          0.3665233905015236,
          -0.6561323088805497,
          0.7803476962794172,
          -0.47541673719023575,
          -0.9675490460126639,
          -0.9450344114735258,
          0.5386395427237893,
          -1.1197794688078442,
          0.6206147505716335,
          0.13197887760118768,
          -1.92176418023807,
          0.2383637161926735,
          -0.5624785667450038,
          -0.33247424484091215,
          1.6424089724127477,
          -1.3213966449272294,
          0.46841273984178117,
          1.3272128288828362,
          -0.8992249573860571,
          0.4456547578223136,
          -0.9539940253329383,
          -0.48834152263188163,
          -0.1537916076593378,
          -0.47663629366978105,
          0.9865632059786338,
          1.398277337906387,
          -1.2817926480198785,
          -0.49820050402222626,
          -0.9924294973256893,
          -0.06230149404281906,
          0.12987207476010865,
          2.028247243274949,
          1.5903002635586032,
          -0.07037377541024276,
          -0.7456460135746772,
          0.06619805039363856,
          0.9516547628894232,
          0.5760250487702471,
          1.4064848448797052,
          -0.5870532543768849,
          -0.10386233005351653,
          -0.6026567159275114,
          -0.3977153514833081,
          -0.0789265337748859,
          -1.8778042312497178,
          0.040799528854207436,
          -1.0036183678592239,
          -0.08819667574264149,
          -0.3928287950265648,
          0.3816777150578995,
          -1.2046870162167262,
          1.5657550525626636,
          -0.9107752964177663,
          -1.2806738271409532,
          -0.26936898286492883,
          -1.9725333411495,
          0.12296147267332022,
          1.3657654661570693,
          1.3073215223367316,
          -0.26754155501266924,
          0.3768637235704007,
          0.09754703096082211,
          0.2820622826087046,
          0.8173612891250674,
          -0.6608882090748124,
          -2.1822590557928137,
          1.1034159369692882
         ]
        },
        {
         "boxpoints": false,
         "line": {
          "width": 1.3
         },
         "marker": {
          "color": "rgba(128, 0, 128, 1.0)"
         },
         "name": "D",
         "orientation": "v",
         "type": "box",
         "y": [
          -0.7497552920964153,
          2.4762369735940415,
          -1.7647726919066227,
          -0.8473079542231872,
          0.7050963667311787,
          0.40543749068007695,
          -0.7010925674186751,
          1.0439091114782582,
          -0.2961776860098586,
          -0.29855672241806075,
          0.15330071223009764,
          -0.22021786335174115,
          -0.89546554469811,
          0.33188757696321547,
          0.6584998986986181,
          -1.257840095410502,
          0.32989298339205186,
          0.26155572277123423,
          -2.4599125596351823,
          1.5324733939085835,
          0.9450039195953681,
          0.06458813700390781,
          1.180078426519659,
          0.770746334051263,
          0.3331657562209716,
          0.9529659734434237,
          0.6058425830713987,
          1.130321723555387,
          -0.6012076342239905,
          -0.34611222631218846,
          0.21616532446481254,
          1.1727700390873312,
          -0.03924015219395926,
          -1.1090792840341646,
          1.532860378030908,
          0.2519668405699619,
          -0.9128546831010639,
          0.3287694771317553,
          0.5720919978606196,
          1.4369524878863131,
          -2.31245474055154,
          0.7269706912064975,
          -2.2724656376083847,
          0.6217512624441843,
          -1.149150483928287,
          0.762324242960001,
          0.6181852981325022,
          0.6154444175062248,
          0.6859674764796967,
          0.9094555455512773,
          0.1961396911565603,
          -0.5423014129783554,
          -0.5210271381920242,
          0.37889544571908496,
          0.7668689861358123,
          1.345999833593855,
          0.3218285009041609,
          -2.1255575193508616,
          -1.213290320133076,
          0.14200732909612496,
          1.489444558077597,
          -0.8575976260970435,
          -0.016181857718749904,
          0.5474280623300499,
          -0.6186054099057708,
          0.6701846121674955,
          -0.6129910501193094,
          0.5915715504687792,
          -2.4019243654380826,
          -0.09161155260406162,
          -0.18697809269040175,
          -4.511936563497754,
          0.9863195440824328,
          0.9704803541863959,
          -0.6153410592425291,
          -0.23481747222262805,
          1.289113711541395,
          0.27832680658922154,
          -0.08905471590134338,
          -0.08455371872639768,
          0.232304339573224,
          -1.2447704846127374,
          -0.4827819375220341,
          1.9442029515863137,
          0.2452450897287286,
          0.02414532793176462,
          0.14455183945802416,
          1.0281051344616066,
          0.848766468848188,
          0.4586400705500439,
          -0.9494760177454723,
          -0.9768566295613794,
          -0.7136253095848245,
          0.5599199107843043,
          0.08294018250090647,
          -0.593674636092453,
          -0.07216194231300613,
          0.7427908989679947,
          0.6608522588761498,
          -0.5965252550675559
         ]
        }
       ],
       "layout": {
        "legend": {
         "bgcolor": "#F5F6F9",
         "font": {
          "color": "#4D5663"
         }
        },
        "paper_bgcolor": "#F5F6F9",
        "plot_bgcolor": "#F5F6F9",
        "template": {
         "data": {
          "bar": [
           {
            "error_x": {
             "color": "#2a3f5f"
            },
            "error_y": {
             "color": "#2a3f5f"
            },
            "marker": {
             "line": {
              "color": "#E5ECF6",
              "width": 0.5
             }
            },
            "type": "bar"
           }
          ],
          "barpolar": [
           {
            "marker": {
             "line": {
              "color": "#E5ECF6",
              "width": 0.5
             }
            },
            "type": "barpolar"
           }
          ],
          "carpet": [
           {
            "aaxis": {
             "endlinecolor": "#2a3f5f",
             "gridcolor": "white",
             "linecolor": "white",
             "minorgridcolor": "white",
             "startlinecolor": "#2a3f5f"
            },
            "baxis": {
             "endlinecolor": "#2a3f5f",
             "gridcolor": "white",
             "linecolor": "white",
             "minorgridcolor": "white",
             "startlinecolor": "#2a3f5f"
            },
            "type": "carpet"
           }
          ],
          "choropleth": [
           {
            "colorbar": {
             "outlinewidth": 0,
             "ticks": ""
            },
            "type": "choropleth"
           }
          ],
          "contour": [
           {
            "colorbar": {
             "outlinewidth": 0,
             "ticks": ""
            },
            "colorscale": [
             [
              0,
              "#0d0887"
             ],
             [
              0.1111111111111111,
              "#46039f"
             ],
             [
              0.2222222222222222,
              "#7201a8"
             ],
             [
              0.3333333333333333,
              "#9c179e"
             ],
             [
              0.4444444444444444,
              "#bd3786"
             ],
             [
              0.5555555555555556,
              "#d8576b"
             ],
             [
              0.6666666666666666,
              "#ed7953"
             ],
             [
              0.7777777777777778,
              "#fb9f3a"
             ],
             [
              0.8888888888888888,
              "#fdca26"
             ],
             [
              1,
              "#f0f921"
             ]
            ],
            "type": "contour"
           }
          ],
          "contourcarpet": [
           {
            "colorbar": {
             "outlinewidth": 0,
             "ticks": ""
            },
            "type": "contourcarpet"
           }
          ],
          "heatmap": [
           {
            "colorbar": {
             "outlinewidth": 0,
             "ticks": ""
            },
            "colorscale": [
             [
              0,
              "#0d0887"
             ],
             [
              0.1111111111111111,
              "#46039f"
             ],
             [
              0.2222222222222222,
              "#7201a8"
             ],
             [
              0.3333333333333333,
              "#9c179e"
             ],
             [
              0.4444444444444444,
              "#bd3786"
             ],
             [
              0.5555555555555556,
              "#d8576b"
             ],
             [
              0.6666666666666666,
              "#ed7953"
             ],
             [
              0.7777777777777778,
              "#fb9f3a"
             ],
             [
              0.8888888888888888,
              "#fdca26"
             ],
             [
              1,
              "#f0f921"
             ]
            ],
            "type": "heatmap"
           }
          ],
          "heatmapgl": [
           {
            "colorbar": {
             "outlinewidth": 0,
             "ticks": ""
            },
            "colorscale": [
             [
              0,
              "#0d0887"
             ],
             [
              0.1111111111111111,
              "#46039f"
             ],
             [
              0.2222222222222222,
              "#7201a8"
             ],
             [
              0.3333333333333333,
              "#9c179e"
             ],
             [
              0.4444444444444444,
              "#bd3786"
             ],
             [
              0.5555555555555556,
              "#d8576b"
             ],
             [
              0.6666666666666666,
              "#ed7953"
             ],
             [
              0.7777777777777778,
              "#fb9f3a"
             ],
             [
              0.8888888888888888,
              "#fdca26"
             ],
             [
              1,
              "#f0f921"
             ]
            ],
            "type": "heatmapgl"
           }
          ],
          "histogram": [
           {
            "marker": {
             "colorbar": {
              "outlinewidth": 0,
              "ticks": ""
             }
            },
            "type": "histogram"
           }
          ],
          "histogram2d": [
           {
            "colorbar": {
             "outlinewidth": 0,
             "ticks": ""
            },
            "colorscale": [
             [
              0,
              "#0d0887"
             ],
             [
              0.1111111111111111,
              "#46039f"
             ],
             [
              0.2222222222222222,
              "#7201a8"
             ],
             [
              0.3333333333333333,
              "#9c179e"
             ],
             [
              0.4444444444444444,
              "#bd3786"
             ],
             [
              0.5555555555555556,
              "#d8576b"
             ],
             [
              0.6666666666666666,
              "#ed7953"
             ],
             [
              0.7777777777777778,
              "#fb9f3a"
             ],
             [
              0.8888888888888888,
              "#fdca26"
             ],
             [
              1,
              "#f0f921"
             ]
            ],
            "type": "histogram2d"
           }
          ],
          "histogram2dcontour": [
           {
            "colorbar": {
             "outlinewidth": 0,
             "ticks": ""
            },
            "colorscale": [
             [
              0,
              "#0d0887"
             ],
             [
              0.1111111111111111,
              "#46039f"
             ],
             [
              0.2222222222222222,
              "#7201a8"
             ],
             [
              0.3333333333333333,
              "#9c179e"
             ],
             [
              0.4444444444444444,
              "#bd3786"
             ],
             [
              0.5555555555555556,
              "#d8576b"
             ],
             [
              0.6666666666666666,
              "#ed7953"
             ],
             [
              0.7777777777777778,
              "#fb9f3a"
             ],
             [
              0.8888888888888888,
              "#fdca26"
             ],
             [
              1,
              "#f0f921"
             ]
            ],
            "type": "histogram2dcontour"
           }
          ],
          "mesh3d": [
           {
            "colorbar": {
             "outlinewidth": 0,
             "ticks": ""
            },
            "type": "mesh3d"
           }
          ],
          "parcoords": [
           {
            "line": {
             "colorbar": {
              "outlinewidth": 0,
              "ticks": ""
             }
            },
            "type": "parcoords"
           }
          ],
          "pie": [
           {
            "automargin": true,
            "type": "pie"
           }
          ],
          "scatter": [
           {
            "marker": {
             "colorbar": {
              "outlinewidth": 0,
              "ticks": ""
             }
            },
            "type": "scatter"
           }
          ],
          "scatter3d": [
           {
            "line": {
             "colorbar": {
              "outlinewidth": 0,
              "ticks": ""
             }
            },
            "marker": {
             "colorbar": {
              "outlinewidth": 0,
              "ticks": ""
             }
            },
            "type": "scatter3d"
           }
          ],
          "scattercarpet": [
           {
            "marker": {
             "colorbar": {
              "outlinewidth": 0,
              "ticks": ""
             }
            },
            "type": "scattercarpet"
           }
          ],
          "scattergeo": [
           {
            "marker": {
             "colorbar": {
              "outlinewidth": 0,
              "ticks": ""
             }
            },
            "type": "scattergeo"
           }
          ],
          "scattergl": [
           {
            "marker": {
             "colorbar": {
              "outlinewidth": 0,
              "ticks": ""
             }
            },
            "type": "scattergl"
           }
          ],
          "scattermapbox": [
           {
            "marker": {
             "colorbar": {
              "outlinewidth": 0,
              "ticks": ""
             }
            },
            "type": "scattermapbox"
           }
          ],
          "scatterpolar": [
           {
            "marker": {
             "colorbar": {
              "outlinewidth": 0,
              "ticks": ""
             }
            },
            "type": "scatterpolar"
           }
          ],
          "scatterpolargl": [
           {
            "marker": {
             "colorbar": {
              "outlinewidth": 0,
              "ticks": ""
             }
            },
            "type": "scatterpolargl"
           }
          ],
          "scatterternary": [
           {
            "marker": {
             "colorbar": {
              "outlinewidth": 0,
              "ticks": ""
             }
            },
            "type": "scatterternary"
           }
          ],
          "surface": [
           {
            "colorbar": {
             "outlinewidth": 0,
             "ticks": ""
            },
            "colorscale": [
             [
              0,
              "#0d0887"
             ],
             [
              0.1111111111111111,
              "#46039f"
             ],
             [
              0.2222222222222222,
              "#7201a8"
             ],
             [
              0.3333333333333333,
              "#9c179e"
             ],
             [
              0.4444444444444444,
              "#bd3786"
             ],
             [
              0.5555555555555556,
              "#d8576b"
             ],
             [
              0.6666666666666666,
              "#ed7953"
             ],
             [
              0.7777777777777778,
              "#fb9f3a"
             ],
             [
              0.8888888888888888,
              "#fdca26"
             ],
             [
              1,
              "#f0f921"
             ]
            ],
            "type": "surface"
           }
          ],
          "table": [
           {
            "cells": {
             "fill": {
              "color": "#EBF0F8"
             },
             "line": {
              "color": "white"
             }
            },
            "header": {
             "fill": {
              "color": "#C8D4E3"
             },
             "line": {
              "color": "white"
             }
            },
            "type": "table"
           }
          ]
         },
         "layout": {
          "annotationdefaults": {
           "arrowcolor": "#2a3f5f",
           "arrowhead": 0,
           "arrowwidth": 1
          },
          "autotypenumbers": "strict",
          "coloraxis": {
           "colorbar": {
            "outlinewidth": 0,
            "ticks": ""
           }
          },
          "colorscale": {
           "diverging": [
            [
             0,
             "#8e0152"
            ],
            [
             0.1,
             "#c51b7d"
            ],
            [
             0.2,
             "#de77ae"
            ],
            [
             0.3,
             "#f1b6da"
            ],
            [
             0.4,
             "#fde0ef"
            ],
            [
             0.5,
             "#f7f7f7"
            ],
            [
             0.6,
             "#e6f5d0"
            ],
            [
             0.7,
             "#b8e186"
            ],
            [
             0.8,
             "#7fbc41"
            ],
            [
             0.9,
             "#4d9221"
            ],
            [
             1,
             "#276419"
            ]
           ],
           "sequential": [
            [
             0,
             "#0d0887"
            ],
            [
             0.1111111111111111,
             "#46039f"
            ],
            [
             0.2222222222222222,
             "#7201a8"
            ],
            [
             0.3333333333333333,
             "#9c179e"
            ],
            [
             0.4444444444444444,
             "#bd3786"
            ],
            [
             0.5555555555555556,
             "#d8576b"
            ],
            [
             0.6666666666666666,
             "#ed7953"
            ],
            [
             0.7777777777777778,
             "#fb9f3a"
            ],
            [
             0.8888888888888888,
             "#fdca26"
            ],
            [
             1,
             "#f0f921"
            ]
           ],
           "sequentialminus": [
            [
             0,
             "#0d0887"
            ],
            [
             0.1111111111111111,
             "#46039f"
            ],
            [
             0.2222222222222222,
             "#7201a8"
            ],
            [
             0.3333333333333333,
             "#9c179e"
            ],
            [
             0.4444444444444444,
             "#bd3786"
            ],
            [
             0.5555555555555556,
             "#d8576b"
            ],
            [
             0.6666666666666666,
             "#ed7953"
            ],
            [
             0.7777777777777778,
             "#fb9f3a"
            ],
            [
             0.8888888888888888,
             "#fdca26"
            ],
            [
             1,
             "#f0f921"
            ]
           ]
          },
          "colorway": [
           "#636efa",
           "#EF553B",
           "#00cc96",
           "#ab63fa",
           "#FFA15A",
           "#19d3f3",
           "#FF6692",
           "#B6E880",
           "#FF97FF",
           "#FECB52"
          ],
          "font": {
           "color": "#2a3f5f"
          },
          "geo": {
           "bgcolor": "white",
           "lakecolor": "white",
           "landcolor": "#E5ECF6",
           "showlakes": true,
           "showland": true,
           "subunitcolor": "white"
          },
          "hoverlabel": {
           "align": "left"
          },
          "hovermode": "closest",
          "mapbox": {
           "style": "light"
          },
          "paper_bgcolor": "white",
          "plot_bgcolor": "#E5ECF6",
          "polar": {
           "angularaxis": {
            "gridcolor": "white",
            "linecolor": "white",
            "ticks": ""
           },
           "bgcolor": "#E5ECF6",
           "radialaxis": {
            "gridcolor": "white",
            "linecolor": "white",
            "ticks": ""
           }
          },
          "scene": {
           "xaxis": {
            "backgroundcolor": "#E5ECF6",
            "gridcolor": "white",
            "gridwidth": 2,
            "linecolor": "white",
            "showbackground": true,
            "ticks": "",
            "zerolinecolor": "white"
           },
           "yaxis": {
            "backgroundcolor": "#E5ECF6",
            "gridcolor": "white",
            "gridwidth": 2,
            "linecolor": "white",
            "showbackground": true,
            "ticks": "",
            "zerolinecolor": "white"
           },
           "zaxis": {
            "backgroundcolor": "#E5ECF6",
            "gridcolor": "white",
            "gridwidth": 2,
            "linecolor": "white",
            "showbackground": true,
            "ticks": "",
            "zerolinecolor": "white"
           }
          },
          "shapedefaults": {
           "line": {
            "color": "#2a3f5f"
           }
          },
          "ternary": {
           "aaxis": {
            "gridcolor": "white",
            "linecolor": "white",
            "ticks": ""
           },
           "baxis": {
            "gridcolor": "white",
            "linecolor": "white",
            "ticks": ""
           },
           "bgcolor": "#E5ECF6",
           "caxis": {
            "gridcolor": "white",
            "linecolor": "white",
            "ticks": ""
           }
          },
          "title": {
           "x": 0.05
          },
          "xaxis": {
           "automargin": true,
           "gridcolor": "white",
           "linecolor": "white",
           "ticks": "",
           "title": {
            "standoff": 15
           },
           "zerolinecolor": "white",
           "zerolinewidth": 2
          },
          "yaxis": {
           "automargin": true,
           "gridcolor": "white",
           "linecolor": "white",
           "ticks": "",
           "title": {
            "standoff": 15
           },
           "zerolinecolor": "white",
           "zerolinewidth": 2
          }
         }
        },
        "title": {
         "font": {
          "color": "#4D5663"
         }
        },
        "xaxis": {
         "gridcolor": "#E1E5ED",
         "showgrid": true,
         "tickfont": {
          "color": "#4D5663"
         },
         "title": {
          "font": {
           "color": "#4D5663"
          },
          "text": ""
         },
         "zerolinecolor": "#E1E5ED"
        },
        "yaxis": {
         "gridcolor": "#E1E5ED",
         "showgrid": true,
         "tickfont": {
          "color": "#4D5663"
         },
         "title": {
          "font": {
           "color": "#4D5663"
          },
          "text": ""
         },
         "zerolinecolor": "#E1E5ED"
        }
       }
      },
      "text/html": [
       "<div>                            <div id=\"a3c6e1bb-8e5d-46bc-a863-c78ee981cb75\" class=\"plotly-graph-div\" style=\"height:525px; width:100%;\"></div>            <script type=\"text/javascript\">                require([\"plotly\"], function(Plotly) {                    window.PLOTLYENV=window.PLOTLYENV || {};\n",
       "                    window.PLOTLYENV.BASE_URL='https://plot.ly';                                    if (document.getElementById(\"a3c6e1bb-8e5d-46bc-a863-c78ee981cb75\")) {                    Plotly.newPlot(                        \"a3c6e1bb-8e5d-46bc-a863-c78ee981cb75\",                        [{\"boxpoints\": false, \"line\": {\"width\": 1.3}, \"marker\": {\"color\": \"rgba(255, 153, 51, 1.0)\"}, \"name\": \"A\", \"orientation\": \"v\", \"type\": \"box\", \"y\": [1.2828662516368237, -1.9058548130178599, 1.7624087399545465, -1.28957445810928, -0.33074735230222574, 1.3924138972481361, -1.0876116171939914, -1.2081372790816036, -0.6737965225857129, -0.02583692854927848, 0.8039293299766449, 1.0107446447097366, -1.4146549512974564, -0.15595360258756916, 1.1310264219534185, 0.3109506384339165, -0.3808054031911281, 0.11122446898664881, -0.9656072574207325, 0.2406238062862133, -0.8068648764125891, -1.6871947272058962, 1.2337296353563858, -0.3809284251154643, -0.35317470698447334, 0.43415144542077877, 1.2180163628219967, -1.522440486703186, 0.5217061847644993, 0.38561994701780056, -0.49192210133219766, 0.14013093395285253, 2.4036700387643384, -0.4807851905433463, -1.9605399057258375, 1.2669050634370032, -1.5308676262032017, -0.5190412053819773, 0.4173351672979796, -0.23687798244708996, -0.8460465955548907, -0.5084860834962257, 0.1738108848450604, 0.0368915898997711, 0.6805541276651929, -0.3118292802592112, 0.6187106394900223, -0.7343098042346263, 1.0517884026374926, -1.0677456222735553, -0.9589362399553518, -0.6589773644257099, -1.1643134480046182, 0.2627379525787662, -1.6330933755686416, 0.6797640558459586, -0.21807894242190407, 0.6121770011936802, -1.2288674416183698, -0.028932611373871618, -0.29558261017692433, 0.8851879307115434, -0.12808461099746693, 0.9982779724582205, -0.7046827243365449, -1.1674082125449132, 0.008171711724090178, 0.4552042065990801, 0.8047843719361977, 1.3520070749654678, -0.023124972881999134, -0.889286390339353, 0.8736949087856304, -0.4306513533340919, -0.3947564542130474, 0.9753568630991614, 0.6465523276736221, 1.1234495604869827, 0.7575077430654791, 0.10056159062489389, -0.5990740207238892, -0.04925861844922938, -0.5743835236711956, -0.2934599223661171, 0.13943105173979872, -1.1730514837867145, -1.4097168362462602, 0.2819429293041775, 1.8333068010035791, -0.8453840321261459, 0.28363834198412025, -1.2073436137625582, -0.7535816105045646, 0.4060306049615743, 0.48190397132211416, 0.42673882846182315, 2.706608622687043, -0.4285481488971416, 0.13524802574512346, -0.11575641589217416]}, {\"boxpoints\": false, \"line\": {\"width\": 1.3}, \"marker\": {\"color\": \"rgba(55, 128, 191, 1.0)\"}, \"name\": \"B\", \"orientation\": \"v\", \"type\": \"box\", \"y\": [-0.5154028289519922, 0.0791322585661461, 1.0396515346220583, 0.4850278201225669, -1.6254111312880137, -0.998260106320457, 0.26303934236234766, -0.30773940814879197, -0.01094210364897688, -1.3944439761556933, 1.5055174490022059, 0.8239482622881219, -0.509754796806725, 0.7313794893071358, 0.8820097692652915, -0.5406830740138031, -1.1329492868192956, -0.40077704369678735, 0.40493122341053506, 0.640683739641404, -1.0204224910137554, 1.4889011107760302, 0.36589253033272673, -0.10252420879481028, -1.430282150047373, 0.14066371160501276, 0.6163784978253694, 1.432263924590453, 1.8492563020547392, -0.8217827592875484, -0.44599160091648204, 1.4894175755182744, 1.0176964004655251, 1.6807954863608192, -0.21163545755427834, -1.4275374906092662, -1.823583470739203, 2.1659367105415224, -1.3434598934659385, 0.22262118793658667, 0.02691957065464893, 1.2009810098660418, -1.0935773745230242, -1.5025461722914313, 1.0487359193007595, -0.2335583839744253, -1.0022135401686079, -1.8599184167196092, -0.22899476071839855, -0.8522397606714057, 1.0977669077056627, -0.3654870695184672, -0.26251197339235505, 1.5041915918704902, -0.1298061375478299, 0.027609862050904, -0.02269809222143529, -0.30059378354524874, 0.4221110297659695, -1.1626066888185207, 0.9309679489129465, -0.9547175245352093, -0.5855913889007434, -0.1491633236882833, -0.8179567266593832, -0.5065334580298471, 1.090214517366577, 0.9947655114561784, 0.9921809126586695, 0.12746228521287786, -0.7960222886985829, -0.6504377121940919, 0.4746746423422819, 0.7572970759682413, -0.9395071457654471, -0.3494968638336238, 1.3460158607638404, -0.5488662923381947, -1.4653280244485671, -1.4572637821760548, -0.3889838356638975, -0.20622999422701915, -0.6414210441959368, 1.060095370980204, 0.4516365774723491, 1.8616252137710345, -0.3596212431681085, -0.1469756823743527, 0.5071310239049722, 0.023489024913073517, -1.6734350889799126, 1.7108871056559394, 1.6637160594485334, -0.8199014490648515, 0.38052374775287356, -1.4915215740611367, -0.10226702648398565, -0.3668531484436365, -0.06217608712746471, 1.0770315841710956]}, {\"boxpoints\": false, \"line\": {\"width\": 1.3}, \"marker\": {\"color\": \"rgba(50, 171, 96, 1.0)\"}, \"name\": \"C\", \"orientation\": \"v\", \"type\": \"box\", \"y\": [-1.3535163580022544, 1.4003596234117344, 0.13469439790165721, 1.4051908037448164, 0.9580714977635231, -0.4095176349491406, 0.7580845633983917, -1.2819504250150386, 0.2086995055029189, 0.9329538542322144, -0.8016333047126879, -0.07771097622126454, -0.7721054100946949, -1.990676407866973, -0.7862268731312244, -1.5525540482500282, 0.15355932941990333, -0.7354191976403986, -0.2710262876002277, -1.1988608203442557, 3.0747486110269544, -0.5274923081062007, 0.04271981706349143, -0.9085064591077707, 1.9556268889088981, 0.29424423013466655, -0.5519571126618097, -0.008858948660685682, 0.3675294495702848, -1.1500645608143736, 0.557455375002619, 0.49747346009956683, -0.691892606369852, 0.3665233905015236, -0.6561323088805497, 0.7803476962794172, -0.47541673719023575, -0.9675490460126639, -0.9450344114735258, 0.5386395427237893, -1.1197794688078442, 0.6206147505716335, 0.13197887760118768, -1.92176418023807, 0.2383637161926735, -0.5624785667450038, -0.33247424484091215, 1.6424089724127477, -1.3213966449272294, 0.46841273984178117, 1.3272128288828362, -0.8992249573860571, 0.4456547578223136, -0.9539940253329383, -0.48834152263188163, -0.1537916076593378, -0.47663629366978105, 0.9865632059786338, 1.398277337906387, -1.2817926480198785, -0.49820050402222626, -0.9924294973256893, -0.06230149404281906, 0.12987207476010865, 2.028247243274949, 1.5903002635586032, -0.07037377541024276, -0.7456460135746772, 0.06619805039363856, 0.9516547628894232, 0.5760250487702471, 1.4064848448797052, -0.5870532543768849, -0.10386233005351653, -0.6026567159275114, -0.3977153514833081, -0.0789265337748859, -1.8778042312497178, 0.040799528854207436, -1.0036183678592239, -0.08819667574264149, -0.3928287950265648, 0.3816777150578995, -1.2046870162167262, 1.5657550525626636, -0.9107752964177663, -1.2806738271409532, -0.26936898286492883, -1.9725333411495, 0.12296147267332022, 1.3657654661570693, 1.3073215223367316, -0.26754155501266924, 0.3768637235704007, 0.09754703096082211, 0.2820622826087046, 0.8173612891250674, -0.6608882090748124, -2.1822590557928137, 1.1034159369692882]}, {\"boxpoints\": false, \"line\": {\"width\": 1.3}, \"marker\": {\"color\": \"rgba(128, 0, 128, 1.0)\"}, \"name\": \"D\", \"orientation\": \"v\", \"type\": \"box\", \"y\": [-0.7497552920964153, 2.4762369735940415, -1.7647726919066227, -0.8473079542231872, 0.7050963667311787, 0.40543749068007695, -0.7010925674186751, 1.0439091114782582, -0.2961776860098586, -0.29855672241806075, 0.15330071223009764, -0.22021786335174115, -0.89546554469811, 0.33188757696321547, 0.6584998986986181, -1.257840095410502, 0.32989298339205186, 0.26155572277123423, -2.4599125596351823, 1.5324733939085835, 0.9450039195953681, 0.06458813700390781, 1.180078426519659, 0.770746334051263, 0.3331657562209716, 0.9529659734434237, 0.6058425830713987, 1.130321723555387, -0.6012076342239905, -0.34611222631218846, 0.21616532446481254, 1.1727700390873312, -0.03924015219395926, -1.1090792840341646, 1.532860378030908, 0.2519668405699619, -0.9128546831010639, 0.3287694771317553, 0.5720919978606196, 1.4369524878863131, -2.31245474055154, 0.7269706912064975, -2.2724656376083847, 0.6217512624441843, -1.149150483928287, 0.762324242960001, 0.6181852981325022, 0.6154444175062248, 0.6859674764796967, 0.9094555455512773, 0.1961396911565603, -0.5423014129783554, -0.5210271381920242, 0.37889544571908496, 0.7668689861358123, 1.345999833593855, 0.3218285009041609, -2.1255575193508616, -1.213290320133076, 0.14200732909612496, 1.489444558077597, -0.8575976260970435, -0.016181857718749904, 0.5474280623300499, -0.6186054099057708, 0.6701846121674955, -0.6129910501193094, 0.5915715504687792, -2.4019243654380826, -0.09161155260406162, -0.18697809269040175, -4.511936563497754, 0.9863195440824328, 0.9704803541863959, -0.6153410592425291, -0.23481747222262805, 1.289113711541395, 0.27832680658922154, -0.08905471590134338, -0.08455371872639768, 0.232304339573224, -1.2447704846127374, -0.4827819375220341, 1.9442029515863137, 0.2452450897287286, 0.02414532793176462, 0.14455183945802416, 1.0281051344616066, 0.848766468848188, 0.4586400705500439, -0.9494760177454723, -0.9768566295613794, -0.7136253095848245, 0.5599199107843043, 0.08294018250090647, -0.593674636092453, -0.07216194231300613, 0.7427908989679947, 0.6608522588761498, -0.5965252550675559]}],                        {\"legend\": {\"bgcolor\": \"#F5F6F9\", \"font\": {\"color\": \"#4D5663\"}}, \"paper_bgcolor\": \"#F5F6F9\", \"plot_bgcolor\": \"#F5F6F9\", \"template\": {\"data\": {\"bar\": [{\"error_x\": {\"color\": \"#2a3f5f\"}, \"error_y\": {\"color\": \"#2a3f5f\"}, \"marker\": {\"line\": {\"color\": \"#E5ECF6\", \"width\": 0.5}}, \"type\": \"bar\"}], \"barpolar\": [{\"marker\": {\"line\": {\"color\": \"#E5ECF6\", \"width\": 0.5}}, \"type\": \"barpolar\"}], \"carpet\": [{\"aaxis\": {\"endlinecolor\": \"#2a3f5f\", \"gridcolor\": \"white\", \"linecolor\": \"white\", \"minorgridcolor\": \"white\", \"startlinecolor\": \"#2a3f5f\"}, \"baxis\": {\"endlinecolor\": \"#2a3f5f\", \"gridcolor\": \"white\", \"linecolor\": \"white\", \"minorgridcolor\": \"white\", \"startlinecolor\": \"#2a3f5f\"}, \"type\": \"carpet\"}], \"choropleth\": [{\"colorbar\": {\"outlinewidth\": 0, \"ticks\": \"\"}, \"type\": \"choropleth\"}], \"contour\": [{\"colorbar\": {\"outlinewidth\": 0, \"ticks\": \"\"}, \"colorscale\": [[0.0, \"#0d0887\"], [0.1111111111111111, \"#46039f\"], [0.2222222222222222, \"#7201a8\"], [0.3333333333333333, \"#9c179e\"], [0.4444444444444444, \"#bd3786\"], [0.5555555555555556, \"#d8576b\"], [0.6666666666666666, \"#ed7953\"], [0.7777777777777778, \"#fb9f3a\"], [0.8888888888888888, \"#fdca26\"], [1.0, \"#f0f921\"]], \"type\": \"contour\"}], \"contourcarpet\": [{\"colorbar\": {\"outlinewidth\": 0, \"ticks\": \"\"}, \"type\": \"contourcarpet\"}], \"heatmap\": [{\"colorbar\": {\"outlinewidth\": 0, \"ticks\": \"\"}, \"colorscale\": [[0.0, \"#0d0887\"], [0.1111111111111111, \"#46039f\"], [0.2222222222222222, \"#7201a8\"], [0.3333333333333333, \"#9c179e\"], [0.4444444444444444, \"#bd3786\"], [0.5555555555555556, \"#d8576b\"], [0.6666666666666666, \"#ed7953\"], [0.7777777777777778, \"#fb9f3a\"], [0.8888888888888888, \"#fdca26\"], [1.0, \"#f0f921\"]], \"type\": \"heatmap\"}], \"heatmapgl\": [{\"colorbar\": {\"outlinewidth\": 0, \"ticks\": \"\"}, \"colorscale\": [[0.0, \"#0d0887\"], [0.1111111111111111, \"#46039f\"], [0.2222222222222222, \"#7201a8\"], [0.3333333333333333, \"#9c179e\"], [0.4444444444444444, \"#bd3786\"], [0.5555555555555556, \"#d8576b\"], [0.6666666666666666, \"#ed7953\"], [0.7777777777777778, \"#fb9f3a\"], [0.8888888888888888, \"#fdca26\"], [1.0, \"#f0f921\"]], \"type\": \"heatmapgl\"}], \"histogram\": [{\"marker\": {\"colorbar\": {\"outlinewidth\": 0, \"ticks\": \"\"}}, \"type\": \"histogram\"}], \"histogram2d\": [{\"colorbar\": {\"outlinewidth\": 0, \"ticks\": \"\"}, \"colorscale\": [[0.0, \"#0d0887\"], [0.1111111111111111, \"#46039f\"], [0.2222222222222222, \"#7201a8\"], [0.3333333333333333, \"#9c179e\"], [0.4444444444444444, \"#bd3786\"], [0.5555555555555556, \"#d8576b\"], [0.6666666666666666, \"#ed7953\"], [0.7777777777777778, \"#fb9f3a\"], [0.8888888888888888, \"#fdca26\"], [1.0, \"#f0f921\"]], \"type\": \"histogram2d\"}], \"histogram2dcontour\": [{\"colorbar\": {\"outlinewidth\": 0, \"ticks\": \"\"}, \"colorscale\": [[0.0, \"#0d0887\"], [0.1111111111111111, \"#46039f\"], [0.2222222222222222, \"#7201a8\"], [0.3333333333333333, \"#9c179e\"], [0.4444444444444444, \"#bd3786\"], [0.5555555555555556, \"#d8576b\"], [0.6666666666666666, \"#ed7953\"], [0.7777777777777778, \"#fb9f3a\"], [0.8888888888888888, \"#fdca26\"], [1.0, \"#f0f921\"]], \"type\": \"histogram2dcontour\"}], \"mesh3d\": [{\"colorbar\": {\"outlinewidth\": 0, \"ticks\": \"\"}, \"type\": \"mesh3d\"}], \"parcoords\": [{\"line\": {\"colorbar\": {\"outlinewidth\": 0, \"ticks\": \"\"}}, \"type\": \"parcoords\"}], \"pie\": [{\"automargin\": true, \"type\": \"pie\"}], \"scatter\": [{\"marker\": {\"colorbar\": {\"outlinewidth\": 0, \"ticks\": \"\"}}, \"type\": \"scatter\"}], \"scatter3d\": [{\"line\": {\"colorbar\": {\"outlinewidth\": 0, \"ticks\": \"\"}}, \"marker\": {\"colorbar\": {\"outlinewidth\": 0, \"ticks\": \"\"}}, \"type\": \"scatter3d\"}], \"scattercarpet\": [{\"marker\": {\"colorbar\": {\"outlinewidth\": 0, \"ticks\": \"\"}}, \"type\": \"scattercarpet\"}], \"scattergeo\": [{\"marker\": {\"colorbar\": {\"outlinewidth\": 0, \"ticks\": \"\"}}, \"type\": \"scattergeo\"}], \"scattergl\": [{\"marker\": {\"colorbar\": {\"outlinewidth\": 0, \"ticks\": \"\"}}, \"type\": \"scattergl\"}], \"scattermapbox\": [{\"marker\": {\"colorbar\": {\"outlinewidth\": 0, \"ticks\": \"\"}}, \"type\": \"scattermapbox\"}], \"scatterpolar\": [{\"marker\": {\"colorbar\": {\"outlinewidth\": 0, \"ticks\": \"\"}}, \"type\": \"scatterpolar\"}], \"scatterpolargl\": [{\"marker\": {\"colorbar\": {\"outlinewidth\": 0, \"ticks\": \"\"}}, \"type\": \"scatterpolargl\"}], \"scatterternary\": [{\"marker\": {\"colorbar\": {\"outlinewidth\": 0, \"ticks\": \"\"}}, \"type\": \"scatterternary\"}], \"surface\": [{\"colorbar\": {\"outlinewidth\": 0, \"ticks\": \"\"}, \"colorscale\": [[0.0, \"#0d0887\"], [0.1111111111111111, \"#46039f\"], [0.2222222222222222, \"#7201a8\"], [0.3333333333333333, \"#9c179e\"], [0.4444444444444444, \"#bd3786\"], [0.5555555555555556, \"#d8576b\"], [0.6666666666666666, \"#ed7953\"], [0.7777777777777778, \"#fb9f3a\"], [0.8888888888888888, \"#fdca26\"], [1.0, \"#f0f921\"]], \"type\": \"surface\"}], \"table\": [{\"cells\": {\"fill\": {\"color\": \"#EBF0F8\"}, \"line\": {\"color\": \"white\"}}, \"header\": {\"fill\": {\"color\": \"#C8D4E3\"}, \"line\": {\"color\": \"white\"}}, \"type\": \"table\"}]}, \"layout\": {\"annotationdefaults\": {\"arrowcolor\": \"#2a3f5f\", \"arrowhead\": 0, \"arrowwidth\": 1}, \"autotypenumbers\": \"strict\", \"coloraxis\": {\"colorbar\": {\"outlinewidth\": 0, \"ticks\": \"\"}}, \"colorscale\": {\"diverging\": [[0, \"#8e0152\"], [0.1, \"#c51b7d\"], [0.2, \"#de77ae\"], [0.3, \"#f1b6da\"], [0.4, \"#fde0ef\"], [0.5, \"#f7f7f7\"], [0.6, \"#e6f5d0\"], [0.7, \"#b8e186\"], [0.8, \"#7fbc41\"], [0.9, \"#4d9221\"], [1, \"#276419\"]], \"sequential\": [[0.0, \"#0d0887\"], [0.1111111111111111, \"#46039f\"], [0.2222222222222222, \"#7201a8\"], [0.3333333333333333, \"#9c179e\"], [0.4444444444444444, \"#bd3786\"], [0.5555555555555556, \"#d8576b\"], [0.6666666666666666, \"#ed7953\"], [0.7777777777777778, \"#fb9f3a\"], [0.8888888888888888, \"#fdca26\"], [1.0, \"#f0f921\"]], \"sequentialminus\": [[0.0, \"#0d0887\"], [0.1111111111111111, \"#46039f\"], [0.2222222222222222, \"#7201a8\"], [0.3333333333333333, \"#9c179e\"], [0.4444444444444444, \"#bd3786\"], [0.5555555555555556, \"#d8576b\"], [0.6666666666666666, \"#ed7953\"], [0.7777777777777778, \"#fb9f3a\"], [0.8888888888888888, \"#fdca26\"], [1.0, \"#f0f921\"]]}, \"colorway\": [\"#636efa\", \"#EF553B\", \"#00cc96\", \"#ab63fa\", \"#FFA15A\", \"#19d3f3\", \"#FF6692\", \"#B6E880\", \"#FF97FF\", \"#FECB52\"], \"font\": {\"color\": \"#2a3f5f\"}, \"geo\": {\"bgcolor\": \"white\", \"lakecolor\": \"white\", \"landcolor\": \"#E5ECF6\", \"showlakes\": true, \"showland\": true, \"subunitcolor\": \"white\"}, \"hoverlabel\": {\"align\": \"left\"}, \"hovermode\": \"closest\", \"mapbox\": {\"style\": \"light\"}, \"paper_bgcolor\": \"white\", \"plot_bgcolor\": \"#E5ECF6\", \"polar\": {\"angularaxis\": {\"gridcolor\": \"white\", \"linecolor\": \"white\", \"ticks\": \"\"}, \"bgcolor\": \"#E5ECF6\", \"radialaxis\": {\"gridcolor\": \"white\", \"linecolor\": \"white\", \"ticks\": \"\"}}, \"scene\": {\"xaxis\": {\"backgroundcolor\": \"#E5ECF6\", \"gridcolor\": \"white\", \"gridwidth\": 2, \"linecolor\": \"white\", \"showbackground\": true, \"ticks\": \"\", \"zerolinecolor\": \"white\"}, \"yaxis\": {\"backgroundcolor\": \"#E5ECF6\", \"gridcolor\": \"white\", \"gridwidth\": 2, \"linecolor\": \"white\", \"showbackground\": true, \"ticks\": \"\", \"zerolinecolor\": \"white\"}, \"zaxis\": {\"backgroundcolor\": \"#E5ECF6\", \"gridcolor\": \"white\", \"gridwidth\": 2, \"linecolor\": \"white\", \"showbackground\": true, \"ticks\": \"\", \"zerolinecolor\": \"white\"}}, \"shapedefaults\": {\"line\": {\"color\": \"#2a3f5f\"}}, \"ternary\": {\"aaxis\": {\"gridcolor\": \"white\", \"linecolor\": \"white\", \"ticks\": \"\"}, \"baxis\": {\"gridcolor\": \"white\", \"linecolor\": \"white\", \"ticks\": \"\"}, \"bgcolor\": \"#E5ECF6\", \"caxis\": {\"gridcolor\": \"white\", \"linecolor\": \"white\", \"ticks\": \"\"}}, \"title\": {\"x\": 0.05}, \"xaxis\": {\"automargin\": true, \"gridcolor\": \"white\", \"linecolor\": \"white\", \"ticks\": \"\", \"title\": {\"standoff\": 15}, \"zerolinecolor\": \"white\", \"zerolinewidth\": 2}, \"yaxis\": {\"automargin\": true, \"gridcolor\": \"white\", \"linecolor\": \"white\", \"ticks\": \"\", \"title\": {\"standoff\": 15}, \"zerolinecolor\": \"white\", \"zerolinewidth\": 2}}}, \"title\": {\"font\": {\"color\": \"#4D5663\"}}, \"xaxis\": {\"gridcolor\": \"#E1E5ED\", \"showgrid\": true, \"tickfont\": {\"color\": \"#4D5663\"}, \"title\": {\"font\": {\"color\": \"#4D5663\"}, \"text\": \"\"}, \"zerolinecolor\": \"#E1E5ED\"}, \"yaxis\": {\"gridcolor\": \"#E1E5ED\", \"showgrid\": true, \"tickfont\": {\"color\": \"#4D5663\"}, \"title\": {\"font\": {\"color\": \"#4D5663\"}, \"text\": \"\"}, \"zerolinecolor\": \"#E1E5ED\"}},                        {\"showLink\": true, \"linkText\": \"Export to plot.ly\", \"plotlyServerURL\": \"https://plot.ly\", \"responsive\": true}                    ).then(function(){\n",
       "                            \n",
       "var gd = document.getElementById('a3c6e1bb-8e5d-46bc-a863-c78ee981cb75');\n",
       "var x = new MutationObserver(function (mutations, observer) {{\n",
       "        var display = window.getComputedStyle(gd).display;\n",
       "        if (!display || display === 'none') {{\n",
       "            console.log([gd, 'removed!']);\n",
       "            Plotly.purge(gd);\n",
       "            observer.disconnect();\n",
       "        }}\n",
       "}});\n",
       "\n",
       "// Listen for the removal of the full notebook cells\n",
       "var notebookContainer = gd.closest('#notebook-container');\n",
       "if (notebookContainer) {{\n",
       "    x.observe(notebookContainer, {childList: true});\n",
       "}}\n",
       "\n",
       "// Listen for the clearing of the current output cell\n",
       "var outputEl = gd.closest('.output');\n",
       "if (outputEl) {{\n",
       "    x.observe(outputEl, {childList: true});\n",
       "}}\n",
       "\n",
       "                        })                };                });            </script>        </div>"
      ]
     },
     "metadata": {},
     "output_type": "display_data"
    }
   ],
   "source": [
    "df.iplot(kind='box')"
   ]
  },
  {
   "cell_type": "markdown",
   "metadata": {},
   "source": [
    "## 3d Surface"
   ]
  },
  {
   "cell_type": "code",
   "execution_count": 15,
   "metadata": {},
   "outputs": [
    {
     "data": {
      "application/vnd.plotly.v1+json": {
       "config": {
        "linkText": "Export to plot.ly",
        "plotlyServerURL": "https://plot.ly",
        "showLink": true
       },
       "data": [
        {
         "colorscale": [
          [
           0,
           "rgb(165,0,38)"
          ],
          [
           0.1,
           "rgb(215,48,39)"
          ],
          [
           0.2,
           "rgb(244,109,67)"
          ],
          [
           0.3,
           "rgb(253,174,97)"
          ],
          [
           0.4,
           "rgb(254,224,144)"
          ],
          [
           0.5,
           "rgb(255,255,191)"
          ],
          [
           0.6,
           "rgb(224,243,248)"
          ],
          [
           0.7,
           "rgb(171,217,233)"
          ],
          [
           0.8,
           "rgb(116,173,209)"
          ],
          [
           0.9,
           "rgb(69,117,180)"
          ],
          [
           1,
           "rgb(49,54,149)"
          ]
         ],
         "type": "surface",
         "x": [
          0,
          1,
          2,
          3,
          4
         ],
         "y": [
          "x",
          "y",
          "z"
         ],
         "z": [
          [
           1,
           2,
           3,
           4,
           5
          ],
          [
           10,
           20,
           30,
           20,
           10
          ],
          [
           5,
           4,
           3,
           2,
           1
          ]
         ]
        }
       ],
       "layout": {
        "legend": {
         "bgcolor": "#F5F6F9",
         "font": {
          "color": "#4D5663"
         }
        },
        "paper_bgcolor": "#F5F6F9",
        "plot_bgcolor": "#F5F6F9",
        "template": {
         "data": {
          "bar": [
           {
            "error_x": {
             "color": "#2a3f5f"
            },
            "error_y": {
             "color": "#2a3f5f"
            },
            "marker": {
             "line": {
              "color": "#E5ECF6",
              "width": 0.5
             }
            },
            "type": "bar"
           }
          ],
          "barpolar": [
           {
            "marker": {
             "line": {
              "color": "#E5ECF6",
              "width": 0.5
             }
            },
            "type": "barpolar"
           }
          ],
          "carpet": [
           {
            "aaxis": {
             "endlinecolor": "#2a3f5f",
             "gridcolor": "white",
             "linecolor": "white",
             "minorgridcolor": "white",
             "startlinecolor": "#2a3f5f"
            },
            "baxis": {
             "endlinecolor": "#2a3f5f",
             "gridcolor": "white",
             "linecolor": "white",
             "minorgridcolor": "white",
             "startlinecolor": "#2a3f5f"
            },
            "type": "carpet"
           }
          ],
          "choropleth": [
           {
            "colorbar": {
             "outlinewidth": 0,
             "ticks": ""
            },
            "type": "choropleth"
           }
          ],
          "contour": [
           {
            "colorbar": {
             "outlinewidth": 0,
             "ticks": ""
            },
            "colorscale": [
             [
              0,
              "#0d0887"
             ],
             [
              0.1111111111111111,
              "#46039f"
             ],
             [
              0.2222222222222222,
              "#7201a8"
             ],
             [
              0.3333333333333333,
              "#9c179e"
             ],
             [
              0.4444444444444444,
              "#bd3786"
             ],
             [
              0.5555555555555556,
              "#d8576b"
             ],
             [
              0.6666666666666666,
              "#ed7953"
             ],
             [
              0.7777777777777778,
              "#fb9f3a"
             ],
             [
              0.8888888888888888,
              "#fdca26"
             ],
             [
              1,
              "#f0f921"
             ]
            ],
            "type": "contour"
           }
          ],
          "contourcarpet": [
           {
            "colorbar": {
             "outlinewidth": 0,
             "ticks": ""
            },
            "type": "contourcarpet"
           }
          ],
          "heatmap": [
           {
            "colorbar": {
             "outlinewidth": 0,
             "ticks": ""
            },
            "colorscale": [
             [
              0,
              "#0d0887"
             ],
             [
              0.1111111111111111,
              "#46039f"
             ],
             [
              0.2222222222222222,
              "#7201a8"
             ],
             [
              0.3333333333333333,
              "#9c179e"
             ],
             [
              0.4444444444444444,
              "#bd3786"
             ],
             [
              0.5555555555555556,
              "#d8576b"
             ],
             [
              0.6666666666666666,
              "#ed7953"
             ],
             [
              0.7777777777777778,
              "#fb9f3a"
             ],
             [
              0.8888888888888888,
              "#fdca26"
             ],
             [
              1,
              "#f0f921"
             ]
            ],
            "type": "heatmap"
           }
          ],
          "heatmapgl": [
           {
            "colorbar": {
             "outlinewidth": 0,
             "ticks": ""
            },
            "colorscale": [
             [
              0,
              "#0d0887"
             ],
             [
              0.1111111111111111,
              "#46039f"
             ],
             [
              0.2222222222222222,
              "#7201a8"
             ],
             [
              0.3333333333333333,
              "#9c179e"
             ],
             [
              0.4444444444444444,
              "#bd3786"
             ],
             [
              0.5555555555555556,
              "#d8576b"
             ],
             [
              0.6666666666666666,
              "#ed7953"
             ],
             [
              0.7777777777777778,
              "#fb9f3a"
             ],
             [
              0.8888888888888888,
              "#fdca26"
             ],
             [
              1,
              "#f0f921"
             ]
            ],
            "type": "heatmapgl"
           }
          ],
          "histogram": [
           {
            "marker": {
             "colorbar": {
              "outlinewidth": 0,
              "ticks": ""
             }
            },
            "type": "histogram"
           }
          ],
          "histogram2d": [
           {
            "colorbar": {
             "outlinewidth": 0,
             "ticks": ""
            },
            "colorscale": [
             [
              0,
              "#0d0887"
             ],
             [
              0.1111111111111111,
              "#46039f"
             ],
             [
              0.2222222222222222,
              "#7201a8"
             ],
             [
              0.3333333333333333,
              "#9c179e"
             ],
             [
              0.4444444444444444,
              "#bd3786"
             ],
             [
              0.5555555555555556,
              "#d8576b"
             ],
             [
              0.6666666666666666,
              "#ed7953"
             ],
             [
              0.7777777777777778,
              "#fb9f3a"
             ],
             [
              0.8888888888888888,
              "#fdca26"
             ],
             [
              1,
              "#f0f921"
             ]
            ],
            "type": "histogram2d"
           }
          ],
          "histogram2dcontour": [
           {
            "colorbar": {
             "outlinewidth": 0,
             "ticks": ""
            },
            "colorscale": [
             [
              0,
              "#0d0887"
             ],
             [
              0.1111111111111111,
              "#46039f"
             ],
             [
              0.2222222222222222,
              "#7201a8"
             ],
             [
              0.3333333333333333,
              "#9c179e"
             ],
             [
              0.4444444444444444,
              "#bd3786"
             ],
             [
              0.5555555555555556,
              "#d8576b"
             ],
             [
              0.6666666666666666,
              "#ed7953"
             ],
             [
              0.7777777777777778,
              "#fb9f3a"
             ],
             [
              0.8888888888888888,
              "#fdca26"
             ],
             [
              1,
              "#f0f921"
             ]
            ],
            "type": "histogram2dcontour"
           }
          ],
          "mesh3d": [
           {
            "colorbar": {
             "outlinewidth": 0,
             "ticks": ""
            },
            "type": "mesh3d"
           }
          ],
          "parcoords": [
           {
            "line": {
             "colorbar": {
              "outlinewidth": 0,
              "ticks": ""
             }
            },
            "type": "parcoords"
           }
          ],
          "pie": [
           {
            "automargin": true,
            "type": "pie"
           }
          ],
          "scatter": [
           {
            "marker": {
             "colorbar": {
              "outlinewidth": 0,
              "ticks": ""
             }
            },
            "type": "scatter"
           }
          ],
          "scatter3d": [
           {
            "line": {
             "colorbar": {
              "outlinewidth": 0,
              "ticks": ""
             }
            },
            "marker": {
             "colorbar": {
              "outlinewidth": 0,
              "ticks": ""
             }
            },
            "type": "scatter3d"
           }
          ],
          "scattercarpet": [
           {
            "marker": {
             "colorbar": {
              "outlinewidth": 0,
              "ticks": ""
             }
            },
            "type": "scattercarpet"
           }
          ],
          "scattergeo": [
           {
            "marker": {
             "colorbar": {
              "outlinewidth": 0,
              "ticks": ""
             }
            },
            "type": "scattergeo"
           }
          ],
          "scattergl": [
           {
            "marker": {
             "colorbar": {
              "outlinewidth": 0,
              "ticks": ""
             }
            },
            "type": "scattergl"
           }
          ],
          "scattermapbox": [
           {
            "marker": {
             "colorbar": {
              "outlinewidth": 0,
              "ticks": ""
             }
            },
            "type": "scattermapbox"
           }
          ],
          "scatterpolar": [
           {
            "marker": {
             "colorbar": {
              "outlinewidth": 0,
              "ticks": ""
             }
            },
            "type": "scatterpolar"
           }
          ],
          "scatterpolargl": [
           {
            "marker": {
             "colorbar": {
              "outlinewidth": 0,
              "ticks": ""
             }
            },
            "type": "scatterpolargl"
           }
          ],
          "scatterternary": [
           {
            "marker": {
             "colorbar": {
              "outlinewidth": 0,
              "ticks": ""
             }
            },
            "type": "scatterternary"
           }
          ],
          "surface": [
           {
            "colorbar": {
             "outlinewidth": 0,
             "ticks": ""
            },
            "colorscale": [
             [
              0,
              "#0d0887"
             ],
             [
              0.1111111111111111,
              "#46039f"
             ],
             [
              0.2222222222222222,
              "#7201a8"
             ],
             [
              0.3333333333333333,
              "#9c179e"
             ],
             [
              0.4444444444444444,
              "#bd3786"
             ],
             [
              0.5555555555555556,
              "#d8576b"
             ],
             [
              0.6666666666666666,
              "#ed7953"
             ],
             [
              0.7777777777777778,
              "#fb9f3a"
             ],
             [
              0.8888888888888888,
              "#fdca26"
             ],
             [
              1,
              "#f0f921"
             ]
            ],
            "type": "surface"
           }
          ],
          "table": [
           {
            "cells": {
             "fill": {
              "color": "#EBF0F8"
             },
             "line": {
              "color": "white"
             }
            },
            "header": {
             "fill": {
              "color": "#C8D4E3"
             },
             "line": {
              "color": "white"
             }
            },
            "type": "table"
           }
          ]
         },
         "layout": {
          "annotationdefaults": {
           "arrowcolor": "#2a3f5f",
           "arrowhead": 0,
           "arrowwidth": 1
          },
          "autotypenumbers": "strict",
          "coloraxis": {
           "colorbar": {
            "outlinewidth": 0,
            "ticks": ""
           }
          },
          "colorscale": {
           "diverging": [
            [
             0,
             "#8e0152"
            ],
            [
             0.1,
             "#c51b7d"
            ],
            [
             0.2,
             "#de77ae"
            ],
            [
             0.3,
             "#f1b6da"
            ],
            [
             0.4,
             "#fde0ef"
            ],
            [
             0.5,
             "#f7f7f7"
            ],
            [
             0.6,
             "#e6f5d0"
            ],
            [
             0.7,
             "#b8e186"
            ],
            [
             0.8,
             "#7fbc41"
            ],
            [
             0.9,
             "#4d9221"
            ],
            [
             1,
             "#276419"
            ]
           ],
           "sequential": [
            [
             0,
             "#0d0887"
            ],
            [
             0.1111111111111111,
             "#46039f"
            ],
            [
             0.2222222222222222,
             "#7201a8"
            ],
            [
             0.3333333333333333,
             "#9c179e"
            ],
            [
             0.4444444444444444,
             "#bd3786"
            ],
            [
             0.5555555555555556,
             "#d8576b"
            ],
            [
             0.6666666666666666,
             "#ed7953"
            ],
            [
             0.7777777777777778,
             "#fb9f3a"
            ],
            [
             0.8888888888888888,
             "#fdca26"
            ],
            [
             1,
             "#f0f921"
            ]
           ],
           "sequentialminus": [
            [
             0,
             "#0d0887"
            ],
            [
             0.1111111111111111,
             "#46039f"
            ],
            [
             0.2222222222222222,
             "#7201a8"
            ],
            [
             0.3333333333333333,
             "#9c179e"
            ],
            [
             0.4444444444444444,
             "#bd3786"
            ],
            [
             0.5555555555555556,
             "#d8576b"
            ],
            [
             0.6666666666666666,
             "#ed7953"
            ],
            [
             0.7777777777777778,
             "#fb9f3a"
            ],
            [
             0.8888888888888888,
             "#fdca26"
            ],
            [
             1,
             "#f0f921"
            ]
           ]
          },
          "colorway": [
           "#636efa",
           "#EF553B",
           "#00cc96",
           "#ab63fa",
           "#FFA15A",
           "#19d3f3",
           "#FF6692",
           "#B6E880",
           "#FF97FF",
           "#FECB52"
          ],
          "font": {
           "color": "#2a3f5f"
          },
          "geo": {
           "bgcolor": "white",
           "lakecolor": "white",
           "landcolor": "#E5ECF6",
           "showlakes": true,
           "showland": true,
           "subunitcolor": "white"
          },
          "hoverlabel": {
           "align": "left"
          },
          "hovermode": "closest",
          "mapbox": {
           "style": "light"
          },
          "paper_bgcolor": "white",
          "plot_bgcolor": "#E5ECF6",
          "polar": {
           "angularaxis": {
            "gridcolor": "white",
            "linecolor": "white",
            "ticks": ""
           },
           "bgcolor": "#E5ECF6",
           "radialaxis": {
            "gridcolor": "white",
            "linecolor": "white",
            "ticks": ""
           }
          },
          "scene": {
           "xaxis": {
            "backgroundcolor": "#E5ECF6",
            "gridcolor": "white",
            "gridwidth": 2,
            "linecolor": "white",
            "showbackground": true,
            "ticks": "",
            "zerolinecolor": "white"
           },
           "yaxis": {
            "backgroundcolor": "#E5ECF6",
            "gridcolor": "white",
            "gridwidth": 2,
            "linecolor": "white",
            "showbackground": true,
            "ticks": "",
            "zerolinecolor": "white"
           },
           "zaxis": {
            "backgroundcolor": "#E5ECF6",
            "gridcolor": "white",
            "gridwidth": 2,
            "linecolor": "white",
            "showbackground": true,
            "ticks": "",
            "zerolinecolor": "white"
           }
          },
          "shapedefaults": {
           "line": {
            "color": "#2a3f5f"
           }
          },
          "ternary": {
           "aaxis": {
            "gridcolor": "white",
            "linecolor": "white",
            "ticks": ""
           },
           "baxis": {
            "gridcolor": "white",
            "linecolor": "white",
            "ticks": ""
           },
           "bgcolor": "#E5ECF6",
           "caxis": {
            "gridcolor": "white",
            "linecolor": "white",
            "ticks": ""
           }
          },
          "title": {
           "x": 0.05
          },
          "xaxis": {
           "automargin": true,
           "gridcolor": "white",
           "linecolor": "white",
           "ticks": "",
           "title": {
            "standoff": 15
           },
           "zerolinecolor": "white",
           "zerolinewidth": 2
          },
          "yaxis": {
           "automargin": true,
           "gridcolor": "white",
           "linecolor": "white",
           "ticks": "",
           "title": {
            "standoff": 15
           },
           "zerolinecolor": "white",
           "zerolinewidth": 2
          }
         }
        },
        "title": {
         "font": {
          "color": "#4D5663"
         }
        },
        "xaxis": {
         "gridcolor": "#E1E5ED",
         "showgrid": true,
         "tickfont": {
          "color": "#4D5663"
         },
         "title": {
          "font": {
           "color": "#4D5663"
          },
          "text": ""
         },
         "zerolinecolor": "#E1E5ED"
        },
        "yaxis": {
         "gridcolor": "#E1E5ED",
         "showgrid": true,
         "tickfont": {
          "color": "#4D5663"
         },
         "title": {
          "font": {
           "color": "#4D5663"
          },
          "text": ""
         },
         "zerolinecolor": "#E1E5ED"
        }
       }
      },
      "text/html": [
       "<div>                            <div id=\"2672f164-c0c0-4175-8167-25dc62a18ab6\" class=\"plotly-graph-div\" style=\"height:525px; width:100%;\"></div>            <script type=\"text/javascript\">                require([\"plotly\"], function(Plotly) {                    window.PLOTLYENV=window.PLOTLYENV || {};\n",
       "                    window.PLOTLYENV.BASE_URL='https://plot.ly';                                    if (document.getElementById(\"2672f164-c0c0-4175-8167-25dc62a18ab6\")) {                    Plotly.newPlot(                        \"2672f164-c0c0-4175-8167-25dc62a18ab6\",                        [{\"colorscale\": [[0.0, \"rgb(165,0,38)\"], [0.1, \"rgb(215,48,39)\"], [0.2, \"rgb(244,109,67)\"], [0.3, \"rgb(253,174,97)\"], [0.4, \"rgb(254,224,144)\"], [0.5, \"rgb(255,255,191)\"], [0.6, \"rgb(224,243,248)\"], [0.7, \"rgb(171,217,233)\"], [0.8, \"rgb(116,173,209)\"], [0.9, \"rgb(69,117,180)\"], [1.0, \"rgb(49,54,149)\"]], \"type\": \"surface\", \"x\": [0, 1, 2, 3, 4], \"y\": [\"x\", \"y\", \"z\"], \"z\": [[1, 2, 3, 4, 5], [10, 20, 30, 20, 10], [5, 4, 3, 2, 1]]}],                        {\"legend\": {\"bgcolor\": \"#F5F6F9\", \"font\": {\"color\": \"#4D5663\"}}, \"paper_bgcolor\": \"#F5F6F9\", \"plot_bgcolor\": \"#F5F6F9\", \"template\": {\"data\": {\"bar\": [{\"error_x\": {\"color\": \"#2a3f5f\"}, \"error_y\": {\"color\": \"#2a3f5f\"}, \"marker\": {\"line\": {\"color\": \"#E5ECF6\", \"width\": 0.5}}, \"type\": \"bar\"}], \"barpolar\": [{\"marker\": {\"line\": {\"color\": \"#E5ECF6\", \"width\": 0.5}}, \"type\": \"barpolar\"}], \"carpet\": [{\"aaxis\": {\"endlinecolor\": \"#2a3f5f\", \"gridcolor\": \"white\", \"linecolor\": \"white\", \"minorgridcolor\": \"white\", \"startlinecolor\": \"#2a3f5f\"}, \"baxis\": {\"endlinecolor\": \"#2a3f5f\", \"gridcolor\": \"white\", \"linecolor\": \"white\", \"minorgridcolor\": \"white\", \"startlinecolor\": \"#2a3f5f\"}, \"type\": \"carpet\"}], \"choropleth\": [{\"colorbar\": {\"outlinewidth\": 0, \"ticks\": \"\"}, \"type\": \"choropleth\"}], \"contour\": [{\"colorbar\": {\"outlinewidth\": 0, \"ticks\": \"\"}, \"colorscale\": [[0.0, \"#0d0887\"], [0.1111111111111111, \"#46039f\"], [0.2222222222222222, \"#7201a8\"], [0.3333333333333333, \"#9c179e\"], [0.4444444444444444, \"#bd3786\"], [0.5555555555555556, \"#d8576b\"], [0.6666666666666666, \"#ed7953\"], [0.7777777777777778, \"#fb9f3a\"], [0.8888888888888888, \"#fdca26\"], [1.0, \"#f0f921\"]], \"type\": \"contour\"}], \"contourcarpet\": [{\"colorbar\": {\"outlinewidth\": 0, \"ticks\": \"\"}, \"type\": \"contourcarpet\"}], \"heatmap\": [{\"colorbar\": {\"outlinewidth\": 0, \"ticks\": \"\"}, \"colorscale\": [[0.0, \"#0d0887\"], [0.1111111111111111, \"#46039f\"], [0.2222222222222222, \"#7201a8\"], [0.3333333333333333, \"#9c179e\"], [0.4444444444444444, \"#bd3786\"], [0.5555555555555556, \"#d8576b\"], [0.6666666666666666, \"#ed7953\"], [0.7777777777777778, \"#fb9f3a\"], [0.8888888888888888, \"#fdca26\"], [1.0, \"#f0f921\"]], \"type\": \"heatmap\"}], \"heatmapgl\": [{\"colorbar\": {\"outlinewidth\": 0, \"ticks\": \"\"}, \"colorscale\": [[0.0, \"#0d0887\"], [0.1111111111111111, \"#46039f\"], [0.2222222222222222, \"#7201a8\"], [0.3333333333333333, \"#9c179e\"], [0.4444444444444444, \"#bd3786\"], [0.5555555555555556, \"#d8576b\"], [0.6666666666666666, \"#ed7953\"], [0.7777777777777778, \"#fb9f3a\"], [0.8888888888888888, \"#fdca26\"], [1.0, \"#f0f921\"]], \"type\": \"heatmapgl\"}], \"histogram\": [{\"marker\": {\"colorbar\": {\"outlinewidth\": 0, \"ticks\": \"\"}}, \"type\": \"histogram\"}], \"histogram2d\": [{\"colorbar\": {\"outlinewidth\": 0, \"ticks\": \"\"}, \"colorscale\": [[0.0, \"#0d0887\"], [0.1111111111111111, \"#46039f\"], [0.2222222222222222, \"#7201a8\"], [0.3333333333333333, \"#9c179e\"], [0.4444444444444444, \"#bd3786\"], [0.5555555555555556, \"#d8576b\"], [0.6666666666666666, \"#ed7953\"], [0.7777777777777778, \"#fb9f3a\"], [0.8888888888888888, \"#fdca26\"], [1.0, \"#f0f921\"]], \"type\": \"histogram2d\"}], \"histogram2dcontour\": [{\"colorbar\": {\"outlinewidth\": 0, \"ticks\": \"\"}, \"colorscale\": [[0.0, \"#0d0887\"], [0.1111111111111111, \"#46039f\"], [0.2222222222222222, \"#7201a8\"], [0.3333333333333333, \"#9c179e\"], [0.4444444444444444, \"#bd3786\"], [0.5555555555555556, \"#d8576b\"], [0.6666666666666666, \"#ed7953\"], [0.7777777777777778, \"#fb9f3a\"], [0.8888888888888888, \"#fdca26\"], [1.0, \"#f0f921\"]], \"type\": \"histogram2dcontour\"}], \"mesh3d\": [{\"colorbar\": {\"outlinewidth\": 0, \"ticks\": \"\"}, \"type\": \"mesh3d\"}], \"parcoords\": [{\"line\": {\"colorbar\": {\"outlinewidth\": 0, \"ticks\": \"\"}}, \"type\": \"parcoords\"}], \"pie\": [{\"automargin\": true, \"type\": \"pie\"}], \"scatter\": [{\"marker\": {\"colorbar\": {\"outlinewidth\": 0, \"ticks\": \"\"}}, \"type\": \"scatter\"}], \"scatter3d\": [{\"line\": {\"colorbar\": {\"outlinewidth\": 0, \"ticks\": \"\"}}, \"marker\": {\"colorbar\": {\"outlinewidth\": 0, \"ticks\": \"\"}}, \"type\": \"scatter3d\"}], \"scattercarpet\": [{\"marker\": {\"colorbar\": {\"outlinewidth\": 0, \"ticks\": \"\"}}, \"type\": \"scattercarpet\"}], \"scattergeo\": [{\"marker\": {\"colorbar\": {\"outlinewidth\": 0, \"ticks\": \"\"}}, \"type\": \"scattergeo\"}], \"scattergl\": [{\"marker\": {\"colorbar\": {\"outlinewidth\": 0, \"ticks\": \"\"}}, \"type\": \"scattergl\"}], \"scattermapbox\": [{\"marker\": {\"colorbar\": {\"outlinewidth\": 0, \"ticks\": \"\"}}, \"type\": \"scattermapbox\"}], \"scatterpolar\": [{\"marker\": {\"colorbar\": {\"outlinewidth\": 0, \"ticks\": \"\"}}, \"type\": \"scatterpolar\"}], \"scatterpolargl\": [{\"marker\": {\"colorbar\": {\"outlinewidth\": 0, \"ticks\": \"\"}}, \"type\": \"scatterpolargl\"}], \"scatterternary\": [{\"marker\": {\"colorbar\": {\"outlinewidth\": 0, \"ticks\": \"\"}}, \"type\": \"scatterternary\"}], \"surface\": [{\"colorbar\": {\"outlinewidth\": 0, \"ticks\": \"\"}, \"colorscale\": [[0.0, \"#0d0887\"], [0.1111111111111111, \"#46039f\"], [0.2222222222222222, \"#7201a8\"], [0.3333333333333333, \"#9c179e\"], [0.4444444444444444, \"#bd3786\"], [0.5555555555555556, \"#d8576b\"], [0.6666666666666666, \"#ed7953\"], [0.7777777777777778, \"#fb9f3a\"], [0.8888888888888888, \"#fdca26\"], [1.0, \"#f0f921\"]], \"type\": \"surface\"}], \"table\": [{\"cells\": {\"fill\": {\"color\": \"#EBF0F8\"}, \"line\": {\"color\": \"white\"}}, \"header\": {\"fill\": {\"color\": \"#C8D4E3\"}, \"line\": {\"color\": \"white\"}}, \"type\": \"table\"}]}, \"layout\": {\"annotationdefaults\": {\"arrowcolor\": \"#2a3f5f\", \"arrowhead\": 0, \"arrowwidth\": 1}, \"autotypenumbers\": \"strict\", \"coloraxis\": {\"colorbar\": {\"outlinewidth\": 0, \"ticks\": \"\"}}, \"colorscale\": {\"diverging\": [[0, \"#8e0152\"], [0.1, \"#c51b7d\"], [0.2, \"#de77ae\"], [0.3, \"#f1b6da\"], [0.4, \"#fde0ef\"], [0.5, \"#f7f7f7\"], [0.6, \"#e6f5d0\"], [0.7, \"#b8e186\"], [0.8, \"#7fbc41\"], [0.9, \"#4d9221\"], [1, \"#276419\"]], \"sequential\": [[0.0, \"#0d0887\"], [0.1111111111111111, \"#46039f\"], [0.2222222222222222, \"#7201a8\"], [0.3333333333333333, \"#9c179e\"], [0.4444444444444444, \"#bd3786\"], [0.5555555555555556, \"#d8576b\"], [0.6666666666666666, \"#ed7953\"], [0.7777777777777778, \"#fb9f3a\"], [0.8888888888888888, \"#fdca26\"], [1.0, \"#f0f921\"]], \"sequentialminus\": [[0.0, \"#0d0887\"], [0.1111111111111111, \"#46039f\"], [0.2222222222222222, \"#7201a8\"], [0.3333333333333333, \"#9c179e\"], [0.4444444444444444, \"#bd3786\"], [0.5555555555555556, \"#d8576b\"], [0.6666666666666666, \"#ed7953\"], [0.7777777777777778, \"#fb9f3a\"], [0.8888888888888888, \"#fdca26\"], [1.0, \"#f0f921\"]]}, \"colorway\": [\"#636efa\", \"#EF553B\", \"#00cc96\", \"#ab63fa\", \"#FFA15A\", \"#19d3f3\", \"#FF6692\", \"#B6E880\", \"#FF97FF\", \"#FECB52\"], \"font\": {\"color\": \"#2a3f5f\"}, \"geo\": {\"bgcolor\": \"white\", \"lakecolor\": \"white\", \"landcolor\": \"#E5ECF6\", \"showlakes\": true, \"showland\": true, \"subunitcolor\": \"white\"}, \"hoverlabel\": {\"align\": \"left\"}, \"hovermode\": \"closest\", \"mapbox\": {\"style\": \"light\"}, \"paper_bgcolor\": \"white\", \"plot_bgcolor\": \"#E5ECF6\", \"polar\": {\"angularaxis\": {\"gridcolor\": \"white\", \"linecolor\": \"white\", \"ticks\": \"\"}, \"bgcolor\": \"#E5ECF6\", \"radialaxis\": {\"gridcolor\": \"white\", \"linecolor\": \"white\", \"ticks\": \"\"}}, \"scene\": {\"xaxis\": {\"backgroundcolor\": \"#E5ECF6\", \"gridcolor\": \"white\", \"gridwidth\": 2, \"linecolor\": \"white\", \"showbackground\": true, \"ticks\": \"\", \"zerolinecolor\": \"white\"}, \"yaxis\": {\"backgroundcolor\": \"#E5ECF6\", \"gridcolor\": \"white\", \"gridwidth\": 2, \"linecolor\": \"white\", \"showbackground\": true, \"ticks\": \"\", \"zerolinecolor\": \"white\"}, \"zaxis\": {\"backgroundcolor\": \"#E5ECF6\", \"gridcolor\": \"white\", \"gridwidth\": 2, \"linecolor\": \"white\", \"showbackground\": true, \"ticks\": \"\", \"zerolinecolor\": \"white\"}}, \"shapedefaults\": {\"line\": {\"color\": \"#2a3f5f\"}}, \"ternary\": {\"aaxis\": {\"gridcolor\": \"white\", \"linecolor\": \"white\", \"ticks\": \"\"}, \"baxis\": {\"gridcolor\": \"white\", \"linecolor\": \"white\", \"ticks\": \"\"}, \"bgcolor\": \"#E5ECF6\", \"caxis\": {\"gridcolor\": \"white\", \"linecolor\": \"white\", \"ticks\": \"\"}}, \"title\": {\"x\": 0.05}, \"xaxis\": {\"automargin\": true, \"gridcolor\": \"white\", \"linecolor\": \"white\", \"ticks\": \"\", \"title\": {\"standoff\": 15}, \"zerolinecolor\": \"white\", \"zerolinewidth\": 2}, \"yaxis\": {\"automargin\": true, \"gridcolor\": \"white\", \"linecolor\": \"white\", \"ticks\": \"\", \"title\": {\"standoff\": 15}, \"zerolinecolor\": \"white\", \"zerolinewidth\": 2}}}, \"title\": {\"font\": {\"color\": \"#4D5663\"}}, \"xaxis\": {\"gridcolor\": \"#E1E5ED\", \"showgrid\": true, \"tickfont\": {\"color\": \"#4D5663\"}, \"title\": {\"font\": {\"color\": \"#4D5663\"}, \"text\": \"\"}, \"zerolinecolor\": \"#E1E5ED\"}, \"yaxis\": {\"gridcolor\": \"#E1E5ED\", \"showgrid\": true, \"tickfont\": {\"color\": \"#4D5663\"}, \"title\": {\"font\": {\"color\": \"#4D5663\"}, \"text\": \"\"}, \"zerolinecolor\": \"#E1E5ED\"}},                        {\"showLink\": true, \"linkText\": \"Export to plot.ly\", \"plotlyServerURL\": \"https://plot.ly\", \"responsive\": true}                    ).then(function(){\n",
       "                            \n",
       "var gd = document.getElementById('2672f164-c0c0-4175-8167-25dc62a18ab6');\n",
       "var x = new MutationObserver(function (mutations, observer) {{\n",
       "        var display = window.getComputedStyle(gd).display;\n",
       "        if (!display || display === 'none') {{\n",
       "            console.log([gd, 'removed!']);\n",
       "            Plotly.purge(gd);\n",
       "            observer.disconnect();\n",
       "        }}\n",
       "}});\n",
       "\n",
       "// Listen for the removal of the full notebook cells\n",
       "var notebookContainer = gd.closest('#notebook-container');\n",
       "if (notebookContainer) {{\n",
       "    x.observe(notebookContainer, {childList: true});\n",
       "}}\n",
       "\n",
       "// Listen for the clearing of the current output cell\n",
       "var outputEl = gd.closest('.output');\n",
       "if (outputEl) {{\n",
       "    x.observe(outputEl, {childList: true});\n",
       "}}\n",
       "\n",
       "                        })                };                });            </script>        </div>"
      ]
     },
     "metadata": {},
     "output_type": "display_data"
    }
   ],
   "source": [
    "df3 = pd.DataFrame({'x':[1,2,3,4,5],'y':[10,20,30,20,10],'z':[5,4,3,2,1]})\n",
    "df3.iplot(kind='surface',colorscale='rdylbu')"
   ]
  },
  {
   "cell_type": "markdown",
   "metadata": {},
   "source": [
    "## Spread"
   ]
  },
  {
   "cell_type": "code",
   "execution_count": 16,
   "metadata": {},
   "outputs": [
    {
     "name": "stderr",
     "output_type": "stream",
     "text": [
      "/Users/parthamehta/anaconda3/lib/python3.8/site-packages/cufflinks/plotlytools.py:849: FutureWarning:\n",
      "\n",
      "The pandas.np module is deprecated and will be removed from pandas in a future version. Import numpy directly instead\n",
      "\n",
      "/Users/parthamehta/anaconda3/lib/python3.8/site-packages/cufflinks/plotlytools.py:850: FutureWarning:\n",
      "\n",
      "The pandas.np module is deprecated and will be removed from pandas in a future version. Import numpy directly instead\n",
      "\n"
     ]
    },
    {
     "data": {
      "application/vnd.plotly.v1+json": {
       "config": {
        "linkText": "Export to plot.ly",
        "plotlyServerURL": "https://plot.ly",
        "showLink": true
       },
       "data": [
        {
         "line": {
          "color": "rgba(255, 153, 51, 1.0)",
          "dash": "solid",
          "shape": "linear",
          "width": 1.3
         },
         "mode": "lines",
         "name": "A",
         "text": "",
         "type": "scatter",
         "x": [
          0,
          1,
          2,
          3,
          4,
          5,
          6,
          7,
          8,
          9,
          10,
          11,
          12,
          13,
          14,
          15,
          16,
          17,
          18,
          19,
          20,
          21,
          22,
          23,
          24,
          25,
          26,
          27,
          28,
          29,
          30,
          31,
          32,
          33,
          34,
          35,
          36,
          37,
          38,
          39,
          40,
          41,
          42,
          43,
          44,
          45,
          46,
          47,
          48,
          49,
          50,
          51,
          52,
          53,
          54,
          55,
          56,
          57,
          58,
          59,
          60,
          61,
          62,
          63,
          64,
          65,
          66,
          67,
          68,
          69,
          70,
          71,
          72,
          73,
          74,
          75,
          76,
          77,
          78,
          79,
          80,
          81,
          82,
          83,
          84,
          85,
          86,
          87,
          88,
          89,
          90,
          91,
          92,
          93,
          94,
          95,
          96,
          97,
          98,
          99
         ],
         "y": [
          1.2828662516368237,
          -1.9058548130178599,
          1.7624087399545465,
          -1.28957445810928,
          -0.33074735230222574,
          1.3924138972481361,
          -1.0876116171939914,
          -1.2081372790816036,
          -0.6737965225857129,
          -0.02583692854927848,
          0.8039293299766449,
          1.0107446447097366,
          -1.4146549512974564,
          -0.15595360258756916,
          1.1310264219534185,
          0.3109506384339165,
          -0.3808054031911281,
          0.11122446898664881,
          -0.9656072574207325,
          0.2406238062862133,
          -0.8068648764125891,
          -1.6871947272058962,
          1.2337296353563858,
          -0.3809284251154643,
          -0.35317470698447334,
          0.43415144542077877,
          1.2180163628219967,
          -1.522440486703186,
          0.5217061847644993,
          0.38561994701780056,
          -0.49192210133219766,
          0.14013093395285253,
          2.4036700387643384,
          -0.4807851905433463,
          -1.9605399057258375,
          1.2669050634370032,
          -1.5308676262032017,
          -0.5190412053819773,
          0.4173351672979796,
          -0.23687798244708996,
          -0.8460465955548907,
          -0.5084860834962257,
          0.1738108848450604,
          0.0368915898997711,
          0.6805541276651929,
          -0.3118292802592112,
          0.6187106394900223,
          -0.7343098042346263,
          1.0517884026374926,
          -1.0677456222735553,
          -0.9589362399553518,
          -0.6589773644257099,
          -1.1643134480046182,
          0.2627379525787662,
          -1.6330933755686416,
          0.6797640558459586,
          -0.21807894242190407,
          0.6121770011936802,
          -1.2288674416183698,
          -0.028932611373871618,
          -0.29558261017692433,
          0.8851879307115434,
          -0.12808461099746693,
          0.9982779724582205,
          -0.7046827243365449,
          -1.1674082125449132,
          0.008171711724090178,
          0.4552042065990801,
          0.8047843719361977,
          1.3520070749654678,
          -0.023124972881999134,
          -0.889286390339353,
          0.8736949087856304,
          -0.4306513533340919,
          -0.3947564542130474,
          0.9753568630991614,
          0.6465523276736221,
          1.1234495604869827,
          0.7575077430654791,
          0.10056159062489389,
          -0.5990740207238892,
          -0.04925861844922938,
          -0.5743835236711956,
          -0.2934599223661171,
          0.13943105173979872,
          -1.1730514837867145,
          -1.4097168362462602,
          0.2819429293041775,
          1.8333068010035791,
          -0.8453840321261459,
          0.28363834198412025,
          -1.2073436137625582,
          -0.7535816105045646,
          0.4060306049615743,
          0.48190397132211416,
          0.42673882846182315,
          2.706608622687043,
          -0.4285481488971416,
          0.13524802574512346,
          -0.11575641589217416
         ]
        },
        {
         "line": {
          "color": "rgba(55, 128, 191, 1.0)",
          "dash": "solid",
          "shape": "linear",
          "width": 1.3
         },
         "mode": "lines",
         "name": "B",
         "text": "",
         "type": "scatter",
         "x": [
          0,
          1,
          2,
          3,
          4,
          5,
          6,
          7,
          8,
          9,
          10,
          11,
          12,
          13,
          14,
          15,
          16,
          17,
          18,
          19,
          20,
          21,
          22,
          23,
          24,
          25,
          26,
          27,
          28,
          29,
          30,
          31,
          32,
          33,
          34,
          35,
          36,
          37,
          38,
          39,
          40,
          41,
          42,
          43,
          44,
          45,
          46,
          47,
          48,
          49,
          50,
          51,
          52,
          53,
          54,
          55,
          56,
          57,
          58,
          59,
          60,
          61,
          62,
          63,
          64,
          65,
          66,
          67,
          68,
          69,
          70,
          71,
          72,
          73,
          74,
          75,
          76,
          77,
          78,
          79,
          80,
          81,
          82,
          83,
          84,
          85,
          86,
          87,
          88,
          89,
          90,
          91,
          92,
          93,
          94,
          95,
          96,
          97,
          98,
          99
         ],
         "y": [
          -0.5154028289519922,
          0.0791322585661461,
          1.0396515346220583,
          0.4850278201225669,
          -1.6254111312880137,
          -0.998260106320457,
          0.26303934236234766,
          -0.30773940814879197,
          -0.01094210364897688,
          -1.3944439761556933,
          1.5055174490022059,
          0.8239482622881219,
          -0.509754796806725,
          0.7313794893071358,
          0.8820097692652915,
          -0.5406830740138031,
          -1.1329492868192956,
          -0.40077704369678735,
          0.40493122341053506,
          0.640683739641404,
          -1.0204224910137554,
          1.4889011107760302,
          0.36589253033272673,
          -0.10252420879481028,
          -1.430282150047373,
          0.14066371160501276,
          0.6163784978253694,
          1.432263924590453,
          1.8492563020547392,
          -0.8217827592875484,
          -0.44599160091648204,
          1.4894175755182744,
          1.0176964004655251,
          1.6807954863608192,
          -0.21163545755427834,
          -1.4275374906092662,
          -1.823583470739203,
          2.1659367105415224,
          -1.3434598934659385,
          0.22262118793658667,
          0.02691957065464893,
          1.2009810098660418,
          -1.0935773745230242,
          -1.5025461722914313,
          1.0487359193007595,
          -0.2335583839744253,
          -1.0022135401686079,
          -1.8599184167196092,
          -0.22899476071839855,
          -0.8522397606714057,
          1.0977669077056627,
          -0.3654870695184672,
          -0.26251197339235505,
          1.5041915918704902,
          -0.1298061375478299,
          0.027609862050904,
          -0.02269809222143529,
          -0.30059378354524874,
          0.4221110297659695,
          -1.1626066888185207,
          0.9309679489129465,
          -0.9547175245352093,
          -0.5855913889007434,
          -0.1491633236882833,
          -0.8179567266593832,
          -0.5065334580298471,
          1.090214517366577,
          0.9947655114561784,
          0.9921809126586695,
          0.12746228521287786,
          -0.7960222886985829,
          -0.6504377121940919,
          0.4746746423422819,
          0.7572970759682413,
          -0.9395071457654471,
          -0.3494968638336238,
          1.3460158607638404,
          -0.5488662923381947,
          -1.4653280244485671,
          -1.4572637821760548,
          -0.3889838356638975,
          -0.20622999422701915,
          -0.6414210441959368,
          1.060095370980204,
          0.4516365774723491,
          1.8616252137710345,
          -0.3596212431681085,
          -0.1469756823743527,
          0.5071310239049722,
          0.023489024913073517,
          -1.6734350889799126,
          1.7108871056559394,
          1.6637160594485334,
          -0.8199014490648515,
          0.38052374775287356,
          -1.4915215740611367,
          -0.10226702648398565,
          -0.3668531484436365,
          -0.06217608712746471,
          1.0770315841710956
         ]
        },
        {
         "connectgaps": false,
         "fill": "tozeroy",
         "line": {
          "color": "green",
          "dash": "solid",
          "shape": "linear",
          "width": 0.5
         },
         "mode": "lines",
         "name": "Spread",
         "showlegend": false,
         "type": "scatter",
         "x": [
          0,
          1,
          2,
          3,
          4,
          5,
          6,
          7,
          8,
          9,
          10,
          11,
          12,
          13,
          14,
          15,
          16,
          17,
          18,
          19,
          20,
          21,
          22,
          23,
          24,
          25,
          26,
          27,
          28,
          29,
          30,
          31,
          32,
          33,
          34,
          35,
          36,
          37,
          38,
          39,
          40,
          41,
          42,
          43,
          44,
          45,
          46,
          47,
          48,
          49,
          50,
          51,
          52,
          53,
          54,
          55,
          56,
          57,
          58,
          59,
          60,
          61,
          62,
          63,
          64,
          65,
          66,
          67,
          68,
          69,
          70,
          71,
          72,
          73,
          74,
          75,
          76,
          77,
          78,
          79,
          80,
          81,
          82,
          83,
          84,
          85,
          86,
          87,
          88,
          89,
          90,
          91,
          92,
          93,
          94,
          95,
          96,
          97,
          98,
          99
         ],
         "xaxis": "x2",
         "y": [
          1.798269080588816,
          "",
          0.7227572053324882,
          "",
          1.294663778985788,
          2.390674003568593,
          "",
          "",
          "",
          1.3686070476064147,
          "",
          0.18679638242161467,
          "",
          "",
          0.249016652688127,
          0.8516337124477196,
          0.7521438836281675,
          0.5120015126834362,
          "",
          "",
          0.2135576146011663,
          "",
          0.8678371050236591,
          "",
          1.0771074430628997,
          0.293487733815766,
          0.6016378649966273,
          "",
          "",
          1.207402706305349,
          "",
          "",
          1.3859736382988133,
          "",
          "",
          2.6944425540462693,
          0.2927158445360012,
          "",
          1.7607950607639182,
          "",
          "",
          "",
          1.2673882593680845,
          1.5394377621912023,
          "",
          "",
          1.6209241796586302,
          1.125608612484983,
          1.2807831633558913,
          "",
          "",
          "",
          "",
          "",
          "",
          0.6521541937950546,
          "",
          0.912770784738929,
          "",
          1.133674077444649,
          "",
          1.8399054552467526,
          0.45750677790327643,
          1.1474412961465037,
          0.11327400232283835,
          "",
          "",
          "",
          "",
          1.2245447897525898,
          0.7728973158165838,
          "",
          0.3990202664433485,
          "",
          0.5447506915523997,
          1.3248537269327851,
          "",
          1.6723158528251774,
          2.222835767514046,
          1.5578253728009486,
          "",
          0.15697137577778977,
          0.06703752052474121,
          "",
          "",
          "",
          "",
          0.42891861167853024,
          1.326175777098607,
          "",
          1.9570734309640327,
          "",
          "",
          1.2259320540264258,
          0.10138022356924059,
          1.91826040252296,
          2.8088756491710285,
          "",
          0.19742411287258815,
          ""
         ],
         "yaxis": "y2"
        },
        {
         "connectgaps": false,
         "fill": "tozeroy",
         "line": {
          "color": "red",
          "dash": "solid",
          "shape": "linear",
          "width": 0.5
         },
         "mode": "lines",
         "name": "Spread",
         "showlegend": false,
         "type": "scatter",
         "x": [
          0,
          1,
          2,
          3,
          4,
          5,
          6,
          7,
          8,
          9,
          10,
          11,
          12,
          13,
          14,
          15,
          16,
          17,
          18,
          19,
          20,
          21,
          22,
          23,
          24,
          25,
          26,
          27,
          28,
          29,
          30,
          31,
          32,
          33,
          34,
          35,
          36,
          37,
          38,
          39,
          40,
          41,
          42,
          43,
          44,
          45,
          46,
          47,
          48,
          49,
          50,
          51,
          52,
          53,
          54,
          55,
          56,
          57,
          58,
          59,
          60,
          61,
          62,
          63,
          64,
          65,
          66,
          67,
          68,
          69,
          70,
          71,
          72,
          73,
          74,
          75,
          76,
          77,
          78,
          79,
          80,
          81,
          82,
          83,
          84,
          85,
          86,
          87,
          88,
          89,
          90,
          91,
          92,
          93,
          94,
          95,
          96,
          97,
          98,
          99
         ],
         "xaxis": "x2",
         "y": [
          "",
          -1.984987071584006,
          "",
          -1.774602278231847,
          "",
          "",
          -1.350650959556339,
          -0.9003978709328117,
          -0.662854418936736,
          "",
          -0.701588119025561,
          "",
          -0.9049001544907315,
          -0.887333091894705,
          "",
          "",
          "",
          "",
          -1.3705384808312675,
          -0.40005993335519074,
          "",
          -3.1760958379819266,
          "",
          -0.27840421632065404,
          "",
          "",
          "",
          -2.9547044112936387,
          -1.32755011729024,
          "",
          -0.045930500415715614,
          -1.3492866415654219,
          "",
          -2.1615806769041654,
          -1.7489044481715592,
          "",
          "",
          -2.6849779159234997,
          "",
          -0.4594991703836766,
          -0.8729661662095396,
          -1.7094670933622675,
          "",
          "",
          -0.36818179163556664,
          -0.0782708962847859,
          "",
          "",
          "",
          -0.21550586160214957,
          -2.0567031476610147,
          -0.29349029490724265,
          -0.9018014746122631,
          -1.241453639291724,
          -1.5032872380208118,
          "",
          -0.19538085020046878,
          "",
          -1.6509784713843394,
          "",
          -1.2265505590898709,
          "",
          "",
          "",
          "",
          -0.6608747545150662,
          -1.0820428056424867,
          -0.5395613048570983,
          -0.1873965407224718,
          "",
          "",
          -0.23884867814526112,
          "",
          -1.1879484293023332,
          "",
          "",
          -0.6994635330902182,
          "",
          "",
          "",
          -0.21009018505999166,
          "",
          "",
          -1.353555293346321,
          -0.31220552573255034,
          -3.034676697557749,
          -1.0500955930781517,
          "",
          "",
          -0.8688730570392194,
          "",
          -2.9182307194184975,
          -2.417297669953098,
          "",
          "",
          "",
          "",
          -0.06169500045350512,
          "",
          -1.1927880000632698
         ],
         "yaxis": "y2"
        }
       ],
       "layout": {
        "hovermode": "x",
        "legend": {
         "bgcolor": "#F5F6F9",
         "font": {
          "color": "#4D5663"
         }
        },
        "paper_bgcolor": "#F5F6F9",
        "plot_bgcolor": "#F5F6F9",
        "template": {
         "data": {
          "bar": [
           {
            "error_x": {
             "color": "#2a3f5f"
            },
            "error_y": {
             "color": "#2a3f5f"
            },
            "marker": {
             "line": {
              "color": "#E5ECF6",
              "width": 0.5
             }
            },
            "type": "bar"
           }
          ],
          "barpolar": [
           {
            "marker": {
             "line": {
              "color": "#E5ECF6",
              "width": 0.5
             }
            },
            "type": "barpolar"
           }
          ],
          "carpet": [
           {
            "aaxis": {
             "endlinecolor": "#2a3f5f",
             "gridcolor": "white",
             "linecolor": "white",
             "minorgridcolor": "white",
             "startlinecolor": "#2a3f5f"
            },
            "baxis": {
             "endlinecolor": "#2a3f5f",
             "gridcolor": "white",
             "linecolor": "white",
             "minorgridcolor": "white",
             "startlinecolor": "#2a3f5f"
            },
            "type": "carpet"
           }
          ],
          "choropleth": [
           {
            "colorbar": {
             "outlinewidth": 0,
             "ticks": ""
            },
            "type": "choropleth"
           }
          ],
          "contour": [
           {
            "colorbar": {
             "outlinewidth": 0,
             "ticks": ""
            },
            "colorscale": [
             [
              0,
              "#0d0887"
             ],
             [
              0.1111111111111111,
              "#46039f"
             ],
             [
              0.2222222222222222,
              "#7201a8"
             ],
             [
              0.3333333333333333,
              "#9c179e"
             ],
             [
              0.4444444444444444,
              "#bd3786"
             ],
             [
              0.5555555555555556,
              "#d8576b"
             ],
             [
              0.6666666666666666,
              "#ed7953"
             ],
             [
              0.7777777777777778,
              "#fb9f3a"
             ],
             [
              0.8888888888888888,
              "#fdca26"
             ],
             [
              1,
              "#f0f921"
             ]
            ],
            "type": "contour"
           }
          ],
          "contourcarpet": [
           {
            "colorbar": {
             "outlinewidth": 0,
             "ticks": ""
            },
            "type": "contourcarpet"
           }
          ],
          "heatmap": [
           {
            "colorbar": {
             "outlinewidth": 0,
             "ticks": ""
            },
            "colorscale": [
             [
              0,
              "#0d0887"
             ],
             [
              0.1111111111111111,
              "#46039f"
             ],
             [
              0.2222222222222222,
              "#7201a8"
             ],
             [
              0.3333333333333333,
              "#9c179e"
             ],
             [
              0.4444444444444444,
              "#bd3786"
             ],
             [
              0.5555555555555556,
              "#d8576b"
             ],
             [
              0.6666666666666666,
              "#ed7953"
             ],
             [
              0.7777777777777778,
              "#fb9f3a"
             ],
             [
              0.8888888888888888,
              "#fdca26"
             ],
             [
              1,
              "#f0f921"
             ]
            ],
            "type": "heatmap"
           }
          ],
          "heatmapgl": [
           {
            "colorbar": {
             "outlinewidth": 0,
             "ticks": ""
            },
            "colorscale": [
             [
              0,
              "#0d0887"
             ],
             [
              0.1111111111111111,
              "#46039f"
             ],
             [
              0.2222222222222222,
              "#7201a8"
             ],
             [
              0.3333333333333333,
              "#9c179e"
             ],
             [
              0.4444444444444444,
              "#bd3786"
             ],
             [
              0.5555555555555556,
              "#d8576b"
             ],
             [
              0.6666666666666666,
              "#ed7953"
             ],
             [
              0.7777777777777778,
              "#fb9f3a"
             ],
             [
              0.8888888888888888,
              "#fdca26"
             ],
             [
              1,
              "#f0f921"
             ]
            ],
            "type": "heatmapgl"
           }
          ],
          "histogram": [
           {
            "marker": {
             "colorbar": {
              "outlinewidth": 0,
              "ticks": ""
             }
            },
            "type": "histogram"
           }
          ],
          "histogram2d": [
           {
            "colorbar": {
             "outlinewidth": 0,
             "ticks": ""
            },
            "colorscale": [
             [
              0,
              "#0d0887"
             ],
             [
              0.1111111111111111,
              "#46039f"
             ],
             [
              0.2222222222222222,
              "#7201a8"
             ],
             [
              0.3333333333333333,
              "#9c179e"
             ],
             [
              0.4444444444444444,
              "#bd3786"
             ],
             [
              0.5555555555555556,
              "#d8576b"
             ],
             [
              0.6666666666666666,
              "#ed7953"
             ],
             [
              0.7777777777777778,
              "#fb9f3a"
             ],
             [
              0.8888888888888888,
              "#fdca26"
             ],
             [
              1,
              "#f0f921"
             ]
            ],
            "type": "histogram2d"
           }
          ],
          "histogram2dcontour": [
           {
            "colorbar": {
             "outlinewidth": 0,
             "ticks": ""
            },
            "colorscale": [
             [
              0,
              "#0d0887"
             ],
             [
              0.1111111111111111,
              "#46039f"
             ],
             [
              0.2222222222222222,
              "#7201a8"
             ],
             [
              0.3333333333333333,
              "#9c179e"
             ],
             [
              0.4444444444444444,
              "#bd3786"
             ],
             [
              0.5555555555555556,
              "#d8576b"
             ],
             [
              0.6666666666666666,
              "#ed7953"
             ],
             [
              0.7777777777777778,
              "#fb9f3a"
             ],
             [
              0.8888888888888888,
              "#fdca26"
             ],
             [
              1,
              "#f0f921"
             ]
            ],
            "type": "histogram2dcontour"
           }
          ],
          "mesh3d": [
           {
            "colorbar": {
             "outlinewidth": 0,
             "ticks": ""
            },
            "type": "mesh3d"
           }
          ],
          "parcoords": [
           {
            "line": {
             "colorbar": {
              "outlinewidth": 0,
              "ticks": ""
             }
            },
            "type": "parcoords"
           }
          ],
          "pie": [
           {
            "automargin": true,
            "type": "pie"
           }
          ],
          "scatter": [
           {
            "marker": {
             "colorbar": {
              "outlinewidth": 0,
              "ticks": ""
             }
            },
            "type": "scatter"
           }
          ],
          "scatter3d": [
           {
            "line": {
             "colorbar": {
              "outlinewidth": 0,
              "ticks": ""
             }
            },
            "marker": {
             "colorbar": {
              "outlinewidth": 0,
              "ticks": ""
             }
            },
            "type": "scatter3d"
           }
          ],
          "scattercarpet": [
           {
            "marker": {
             "colorbar": {
              "outlinewidth": 0,
              "ticks": ""
             }
            },
            "type": "scattercarpet"
           }
          ],
          "scattergeo": [
           {
            "marker": {
             "colorbar": {
              "outlinewidth": 0,
              "ticks": ""
             }
            },
            "type": "scattergeo"
           }
          ],
          "scattergl": [
           {
            "marker": {
             "colorbar": {
              "outlinewidth": 0,
              "ticks": ""
             }
            },
            "type": "scattergl"
           }
          ],
          "scattermapbox": [
           {
            "marker": {
             "colorbar": {
              "outlinewidth": 0,
              "ticks": ""
             }
            },
            "type": "scattermapbox"
           }
          ],
          "scatterpolar": [
           {
            "marker": {
             "colorbar": {
              "outlinewidth": 0,
              "ticks": ""
             }
            },
            "type": "scatterpolar"
           }
          ],
          "scatterpolargl": [
           {
            "marker": {
             "colorbar": {
              "outlinewidth": 0,
              "ticks": ""
             }
            },
            "type": "scatterpolargl"
           }
          ],
          "scatterternary": [
           {
            "marker": {
             "colorbar": {
              "outlinewidth": 0,
              "ticks": ""
             }
            },
            "type": "scatterternary"
           }
          ],
          "surface": [
           {
            "colorbar": {
             "outlinewidth": 0,
             "ticks": ""
            },
            "colorscale": [
             [
              0,
              "#0d0887"
             ],
             [
              0.1111111111111111,
              "#46039f"
             ],
             [
              0.2222222222222222,
              "#7201a8"
             ],
             [
              0.3333333333333333,
              "#9c179e"
             ],
             [
              0.4444444444444444,
              "#bd3786"
             ],
             [
              0.5555555555555556,
              "#d8576b"
             ],
             [
              0.6666666666666666,
              "#ed7953"
             ],
             [
              0.7777777777777778,
              "#fb9f3a"
             ],
             [
              0.8888888888888888,
              "#fdca26"
             ],
             [
              1,
              "#f0f921"
             ]
            ],
            "type": "surface"
           }
          ],
          "table": [
           {
            "cells": {
             "fill": {
              "color": "#EBF0F8"
             },
             "line": {
              "color": "white"
             }
            },
            "header": {
             "fill": {
              "color": "#C8D4E3"
             },
             "line": {
              "color": "white"
             }
            },
            "type": "table"
           }
          ]
         },
         "layout": {
          "annotationdefaults": {
           "arrowcolor": "#2a3f5f",
           "arrowhead": 0,
           "arrowwidth": 1
          },
          "autotypenumbers": "strict",
          "coloraxis": {
           "colorbar": {
            "outlinewidth": 0,
            "ticks": ""
           }
          },
          "colorscale": {
           "diverging": [
            [
             0,
             "#8e0152"
            ],
            [
             0.1,
             "#c51b7d"
            ],
            [
             0.2,
             "#de77ae"
            ],
            [
             0.3,
             "#f1b6da"
            ],
            [
             0.4,
             "#fde0ef"
            ],
            [
             0.5,
             "#f7f7f7"
            ],
            [
             0.6,
             "#e6f5d0"
            ],
            [
             0.7,
             "#b8e186"
            ],
            [
             0.8,
             "#7fbc41"
            ],
            [
             0.9,
             "#4d9221"
            ],
            [
             1,
             "#276419"
            ]
           ],
           "sequential": [
            [
             0,
             "#0d0887"
            ],
            [
             0.1111111111111111,
             "#46039f"
            ],
            [
             0.2222222222222222,
             "#7201a8"
            ],
            [
             0.3333333333333333,
             "#9c179e"
            ],
            [
             0.4444444444444444,
             "#bd3786"
            ],
            [
             0.5555555555555556,
             "#d8576b"
            ],
            [
             0.6666666666666666,
             "#ed7953"
            ],
            [
             0.7777777777777778,
             "#fb9f3a"
            ],
            [
             0.8888888888888888,
             "#fdca26"
            ],
            [
             1,
             "#f0f921"
            ]
           ],
           "sequentialminus": [
            [
             0,
             "#0d0887"
            ],
            [
             0.1111111111111111,
             "#46039f"
            ],
            [
             0.2222222222222222,
             "#7201a8"
            ],
            [
             0.3333333333333333,
             "#9c179e"
            ],
            [
             0.4444444444444444,
             "#bd3786"
            ],
            [
             0.5555555555555556,
             "#d8576b"
            ],
            [
             0.6666666666666666,
             "#ed7953"
            ],
            [
             0.7777777777777778,
             "#fb9f3a"
            ],
            [
             0.8888888888888888,
             "#fdca26"
            ],
            [
             1,
             "#f0f921"
            ]
           ]
          },
          "colorway": [
           "#636efa",
           "#EF553B",
           "#00cc96",
           "#ab63fa",
           "#FFA15A",
           "#19d3f3",
           "#FF6692",
           "#B6E880",
           "#FF97FF",
           "#FECB52"
          ],
          "font": {
           "color": "#2a3f5f"
          },
          "geo": {
           "bgcolor": "white",
           "lakecolor": "white",
           "landcolor": "#E5ECF6",
           "showlakes": true,
           "showland": true,
           "subunitcolor": "white"
          },
          "hoverlabel": {
           "align": "left"
          },
          "hovermode": "closest",
          "mapbox": {
           "style": "light"
          },
          "paper_bgcolor": "white",
          "plot_bgcolor": "#E5ECF6",
          "polar": {
           "angularaxis": {
            "gridcolor": "white",
            "linecolor": "white",
            "ticks": ""
           },
           "bgcolor": "#E5ECF6",
           "radialaxis": {
            "gridcolor": "white",
            "linecolor": "white",
            "ticks": ""
           }
          },
          "scene": {
           "xaxis": {
            "backgroundcolor": "#E5ECF6",
            "gridcolor": "white",
            "gridwidth": 2,
            "linecolor": "white",
            "showbackground": true,
            "ticks": "",
            "zerolinecolor": "white"
           },
           "yaxis": {
            "backgroundcolor": "#E5ECF6",
            "gridcolor": "white",
            "gridwidth": 2,
            "linecolor": "white",
            "showbackground": true,
            "ticks": "",
            "zerolinecolor": "white"
           },
           "zaxis": {
            "backgroundcolor": "#E5ECF6",
            "gridcolor": "white",
            "gridwidth": 2,
            "linecolor": "white",
            "showbackground": true,
            "ticks": "",
            "zerolinecolor": "white"
           }
          },
          "shapedefaults": {
           "line": {
            "color": "#2a3f5f"
           }
          },
          "ternary": {
           "aaxis": {
            "gridcolor": "white",
            "linecolor": "white",
            "ticks": ""
           },
           "baxis": {
            "gridcolor": "white",
            "linecolor": "white",
            "ticks": ""
           },
           "bgcolor": "#E5ECF6",
           "caxis": {
            "gridcolor": "white",
            "linecolor": "white",
            "ticks": ""
           }
          },
          "title": {
           "x": 0.05
          },
          "xaxis": {
           "automargin": true,
           "gridcolor": "white",
           "linecolor": "white",
           "ticks": "",
           "title": {
            "standoff": 15
           },
           "zerolinecolor": "white",
           "zerolinewidth": 2
          },
          "yaxis": {
           "automargin": true,
           "gridcolor": "white",
           "linecolor": "white",
           "ticks": "",
           "title": {
            "standoff": 15
           },
           "zerolinecolor": "white",
           "zerolinewidth": 2
          }
         }
        },
        "title": {
         "font": {
          "color": "#4D5663"
         }
        },
        "xaxis": {
         "gridcolor": "#E1E5ED",
         "showgrid": true,
         "tickfont": {
          "color": "#4D5663"
         },
         "title": {
          "font": {
           "color": "#4D5663"
          },
          "text": ""
         },
         "zerolinecolor": "#E1E5ED"
        },
        "xaxis2": {
         "anchor": "y2",
         "gridcolor": "#E1E5ED",
         "showgrid": true,
         "showticklabels": false,
         "tickfont": {
          "color": "#4D5663"
         },
         "title": {
          "font": {
           "color": "#4D5663"
          },
          "text": ""
         },
         "zerolinecolor": "#E1E5ED"
        },
        "yaxis": {
         "domain": [
          0.3,
          1
         ],
         "gridcolor": "#E1E5ED",
         "showgrid": true,
         "tickfont": {
          "color": "#4D5663"
         },
         "title": {
          "font": {
           "color": "#4D5663"
          },
          "text": ""
         },
         "zerolinecolor": "#E1E5ED"
        },
        "yaxis2": {
         "domain": [
          0,
          0.25
         ],
         "gridcolor": "#E1E5ED",
         "showgrid": true,
         "tickfont": {
          "color": "#4D5663"
         },
         "title": {
          "font": {
           "color": "#4D5663"
          },
          "text": "Spread"
         },
         "zerolinecolor": "#E1E5ED"
        }
       }
      },
      "text/html": [
       "<div>                            <div id=\"d7ca5543-4c7c-4127-afad-eb9e2297641a\" class=\"plotly-graph-div\" style=\"height:525px; width:100%;\"></div>            <script type=\"text/javascript\">                require([\"plotly\"], function(Plotly) {                    window.PLOTLYENV=window.PLOTLYENV || {};\n",
       "                    window.PLOTLYENV.BASE_URL='https://plot.ly';                                    if (document.getElementById(\"d7ca5543-4c7c-4127-afad-eb9e2297641a\")) {                    Plotly.newPlot(                        \"d7ca5543-4c7c-4127-afad-eb9e2297641a\",                        [{\"line\": {\"color\": \"rgba(255, 153, 51, 1.0)\", \"dash\": \"solid\", \"shape\": \"linear\", \"width\": 1.3}, \"mode\": \"lines\", \"name\": \"A\", \"text\": \"\", \"type\": \"scatter\", \"x\": [0, 1, 2, 3, 4, 5, 6, 7, 8, 9, 10, 11, 12, 13, 14, 15, 16, 17, 18, 19, 20, 21, 22, 23, 24, 25, 26, 27, 28, 29, 30, 31, 32, 33, 34, 35, 36, 37, 38, 39, 40, 41, 42, 43, 44, 45, 46, 47, 48, 49, 50, 51, 52, 53, 54, 55, 56, 57, 58, 59, 60, 61, 62, 63, 64, 65, 66, 67, 68, 69, 70, 71, 72, 73, 74, 75, 76, 77, 78, 79, 80, 81, 82, 83, 84, 85, 86, 87, 88, 89, 90, 91, 92, 93, 94, 95, 96, 97, 98, 99], \"y\": [1.2828662516368237, -1.9058548130178599, 1.7624087399545465, -1.28957445810928, -0.33074735230222574, 1.3924138972481361, -1.0876116171939914, -1.2081372790816036, -0.6737965225857129, -0.02583692854927848, 0.8039293299766449, 1.0107446447097366, -1.4146549512974564, -0.15595360258756916, 1.1310264219534185, 0.3109506384339165, -0.3808054031911281, 0.11122446898664881, -0.9656072574207325, 0.2406238062862133, -0.8068648764125891, -1.6871947272058962, 1.2337296353563858, -0.3809284251154643, -0.35317470698447334, 0.43415144542077877, 1.2180163628219967, -1.522440486703186, 0.5217061847644993, 0.38561994701780056, -0.49192210133219766, 0.14013093395285253, 2.4036700387643384, -0.4807851905433463, -1.9605399057258375, 1.2669050634370032, -1.5308676262032017, -0.5190412053819773, 0.4173351672979796, -0.23687798244708996, -0.8460465955548907, -0.5084860834962257, 0.1738108848450604, 0.0368915898997711, 0.6805541276651929, -0.3118292802592112, 0.6187106394900223, -0.7343098042346263, 1.0517884026374926, -1.0677456222735553, -0.9589362399553518, -0.6589773644257099, -1.1643134480046182, 0.2627379525787662, -1.6330933755686416, 0.6797640558459586, -0.21807894242190407, 0.6121770011936802, -1.2288674416183698, -0.028932611373871618, -0.29558261017692433, 0.8851879307115434, -0.12808461099746693, 0.9982779724582205, -0.7046827243365449, -1.1674082125449132, 0.008171711724090178, 0.4552042065990801, 0.8047843719361977, 1.3520070749654678, -0.023124972881999134, -0.889286390339353, 0.8736949087856304, -0.4306513533340919, -0.3947564542130474, 0.9753568630991614, 0.6465523276736221, 1.1234495604869827, 0.7575077430654791, 0.10056159062489389, -0.5990740207238892, -0.04925861844922938, -0.5743835236711956, -0.2934599223661171, 0.13943105173979872, -1.1730514837867145, -1.4097168362462602, 0.2819429293041775, 1.8333068010035791, -0.8453840321261459, 0.28363834198412025, -1.2073436137625582, -0.7535816105045646, 0.4060306049615743, 0.48190397132211416, 0.42673882846182315, 2.706608622687043, -0.4285481488971416, 0.13524802574512346, -0.11575641589217416]}, {\"line\": {\"color\": \"rgba(55, 128, 191, 1.0)\", \"dash\": \"solid\", \"shape\": \"linear\", \"width\": 1.3}, \"mode\": \"lines\", \"name\": \"B\", \"text\": \"\", \"type\": \"scatter\", \"x\": [0, 1, 2, 3, 4, 5, 6, 7, 8, 9, 10, 11, 12, 13, 14, 15, 16, 17, 18, 19, 20, 21, 22, 23, 24, 25, 26, 27, 28, 29, 30, 31, 32, 33, 34, 35, 36, 37, 38, 39, 40, 41, 42, 43, 44, 45, 46, 47, 48, 49, 50, 51, 52, 53, 54, 55, 56, 57, 58, 59, 60, 61, 62, 63, 64, 65, 66, 67, 68, 69, 70, 71, 72, 73, 74, 75, 76, 77, 78, 79, 80, 81, 82, 83, 84, 85, 86, 87, 88, 89, 90, 91, 92, 93, 94, 95, 96, 97, 98, 99], \"y\": [-0.5154028289519922, 0.0791322585661461, 1.0396515346220583, 0.4850278201225669, -1.6254111312880137, -0.998260106320457, 0.26303934236234766, -0.30773940814879197, -0.01094210364897688, -1.3944439761556933, 1.5055174490022059, 0.8239482622881219, -0.509754796806725, 0.7313794893071358, 0.8820097692652915, -0.5406830740138031, -1.1329492868192956, -0.40077704369678735, 0.40493122341053506, 0.640683739641404, -1.0204224910137554, 1.4889011107760302, 0.36589253033272673, -0.10252420879481028, -1.430282150047373, 0.14066371160501276, 0.6163784978253694, 1.432263924590453, 1.8492563020547392, -0.8217827592875484, -0.44599160091648204, 1.4894175755182744, 1.0176964004655251, 1.6807954863608192, -0.21163545755427834, -1.4275374906092662, -1.823583470739203, 2.1659367105415224, -1.3434598934659385, 0.22262118793658667, 0.02691957065464893, 1.2009810098660418, -1.0935773745230242, -1.5025461722914313, 1.0487359193007595, -0.2335583839744253, -1.0022135401686079, -1.8599184167196092, -0.22899476071839855, -0.8522397606714057, 1.0977669077056627, -0.3654870695184672, -0.26251197339235505, 1.5041915918704902, -0.1298061375478299, 0.027609862050904, -0.02269809222143529, -0.30059378354524874, 0.4221110297659695, -1.1626066888185207, 0.9309679489129465, -0.9547175245352093, -0.5855913889007434, -0.1491633236882833, -0.8179567266593832, -0.5065334580298471, 1.090214517366577, 0.9947655114561784, 0.9921809126586695, 0.12746228521287786, -0.7960222886985829, -0.6504377121940919, 0.4746746423422819, 0.7572970759682413, -0.9395071457654471, -0.3494968638336238, 1.3460158607638404, -0.5488662923381947, -1.4653280244485671, -1.4572637821760548, -0.3889838356638975, -0.20622999422701915, -0.6414210441959368, 1.060095370980204, 0.4516365774723491, 1.8616252137710345, -0.3596212431681085, -0.1469756823743527, 0.5071310239049722, 0.023489024913073517, -1.6734350889799126, 1.7108871056559394, 1.6637160594485334, -0.8199014490648515, 0.38052374775287356, -1.4915215740611367, -0.10226702648398565, -0.3668531484436365, -0.06217608712746471, 1.0770315841710956]}, {\"connectgaps\": false, \"fill\": \"tozeroy\", \"line\": {\"color\": \"green\", \"dash\": \"solid\", \"shape\": \"linear\", \"width\": 0.5}, \"mode\": \"lines\", \"name\": \"Spread\", \"showlegend\": false, \"type\": \"scatter\", \"x\": [0, 1, 2, 3, 4, 5, 6, 7, 8, 9, 10, 11, 12, 13, 14, 15, 16, 17, 18, 19, 20, 21, 22, 23, 24, 25, 26, 27, 28, 29, 30, 31, 32, 33, 34, 35, 36, 37, 38, 39, 40, 41, 42, 43, 44, 45, 46, 47, 48, 49, 50, 51, 52, 53, 54, 55, 56, 57, 58, 59, 60, 61, 62, 63, 64, 65, 66, 67, 68, 69, 70, 71, 72, 73, 74, 75, 76, 77, 78, 79, 80, 81, 82, 83, 84, 85, 86, 87, 88, 89, 90, 91, 92, 93, 94, 95, 96, 97, 98, 99], \"xaxis\": \"x2\", \"y\": [1.798269080588816, \"\", 0.7227572053324882, \"\", 1.294663778985788, 2.390674003568593, \"\", \"\", \"\", 1.3686070476064147, \"\", 0.18679638242161467, \"\", \"\", 0.249016652688127, 0.8516337124477196, 0.7521438836281675, 0.5120015126834362, \"\", \"\", 0.2135576146011663, \"\", 0.8678371050236591, \"\", 1.0771074430628997, 0.293487733815766, 0.6016378649966273, \"\", \"\", 1.207402706305349, \"\", \"\", 1.3859736382988133, \"\", \"\", 2.6944425540462693, 0.2927158445360012, \"\", 1.7607950607639182, \"\", \"\", \"\", 1.2673882593680845, 1.5394377621912023, \"\", \"\", 1.6209241796586302, 1.125608612484983, 1.2807831633558913, \"\", \"\", \"\", \"\", \"\", \"\", 0.6521541937950546, \"\", 0.912770784738929, \"\", 1.133674077444649, \"\", 1.8399054552467526, 0.45750677790327643, 1.1474412961465037, 0.11327400232283835, \"\", \"\", \"\", \"\", 1.2245447897525898, 0.7728973158165838, \"\", 0.3990202664433485, \"\", 0.5447506915523997, 1.3248537269327851, \"\", 1.6723158528251774, 2.222835767514046, 1.5578253728009486, \"\", 0.15697137577778977, 0.06703752052474121, \"\", \"\", \"\", \"\", 0.42891861167853024, 1.326175777098607, \"\", 1.9570734309640327, \"\", \"\", 1.2259320540264258, 0.10138022356924059, 1.91826040252296, 2.8088756491710285, \"\", 0.19742411287258815, \"\"], \"yaxis\": \"y2\"}, {\"connectgaps\": false, \"fill\": \"tozeroy\", \"line\": {\"color\": \"red\", \"dash\": \"solid\", \"shape\": \"linear\", \"width\": 0.5}, \"mode\": \"lines\", \"name\": \"Spread\", \"showlegend\": false, \"type\": \"scatter\", \"x\": [0, 1, 2, 3, 4, 5, 6, 7, 8, 9, 10, 11, 12, 13, 14, 15, 16, 17, 18, 19, 20, 21, 22, 23, 24, 25, 26, 27, 28, 29, 30, 31, 32, 33, 34, 35, 36, 37, 38, 39, 40, 41, 42, 43, 44, 45, 46, 47, 48, 49, 50, 51, 52, 53, 54, 55, 56, 57, 58, 59, 60, 61, 62, 63, 64, 65, 66, 67, 68, 69, 70, 71, 72, 73, 74, 75, 76, 77, 78, 79, 80, 81, 82, 83, 84, 85, 86, 87, 88, 89, 90, 91, 92, 93, 94, 95, 96, 97, 98, 99], \"xaxis\": \"x2\", \"y\": [\"\", -1.984987071584006, \"\", -1.774602278231847, \"\", \"\", -1.350650959556339, -0.9003978709328117, -0.662854418936736, \"\", -0.701588119025561, \"\", -0.9049001544907315, -0.887333091894705, \"\", \"\", \"\", \"\", -1.3705384808312675, -0.40005993335519074, \"\", -3.1760958379819266, \"\", -0.27840421632065404, \"\", \"\", \"\", -2.9547044112936387, -1.32755011729024, \"\", -0.045930500415715614, -1.3492866415654219, \"\", -2.1615806769041654, -1.7489044481715592, \"\", \"\", -2.6849779159234997, \"\", -0.4594991703836766, -0.8729661662095396, -1.7094670933622675, \"\", \"\", -0.36818179163556664, -0.0782708962847859, \"\", \"\", \"\", -0.21550586160214957, -2.0567031476610147, -0.29349029490724265, -0.9018014746122631, -1.241453639291724, -1.5032872380208118, \"\", -0.19538085020046878, \"\", -1.6509784713843394, \"\", -1.2265505590898709, \"\", \"\", \"\", \"\", -0.6608747545150662, -1.0820428056424867, -0.5395613048570983, -0.1873965407224718, \"\", \"\", -0.23884867814526112, \"\", -1.1879484293023332, \"\", \"\", -0.6994635330902182, \"\", \"\", \"\", -0.21009018505999166, \"\", \"\", -1.353555293346321, -0.31220552573255034, -3.034676697557749, -1.0500955930781517, \"\", \"\", -0.8688730570392194, \"\", -2.9182307194184975, -2.417297669953098, \"\", \"\", \"\", \"\", -0.06169500045350512, \"\", -1.1927880000632698], \"yaxis\": \"y2\"}],                        {\"hovermode\": \"x\", \"legend\": {\"bgcolor\": \"#F5F6F9\", \"font\": {\"color\": \"#4D5663\"}}, \"paper_bgcolor\": \"#F5F6F9\", \"plot_bgcolor\": \"#F5F6F9\", \"template\": {\"data\": {\"bar\": [{\"error_x\": {\"color\": \"#2a3f5f\"}, \"error_y\": {\"color\": \"#2a3f5f\"}, \"marker\": {\"line\": {\"color\": \"#E5ECF6\", \"width\": 0.5}}, \"type\": \"bar\"}], \"barpolar\": [{\"marker\": {\"line\": {\"color\": \"#E5ECF6\", \"width\": 0.5}}, \"type\": \"barpolar\"}], \"carpet\": [{\"aaxis\": {\"endlinecolor\": \"#2a3f5f\", \"gridcolor\": \"white\", \"linecolor\": \"white\", \"minorgridcolor\": \"white\", \"startlinecolor\": \"#2a3f5f\"}, \"baxis\": {\"endlinecolor\": \"#2a3f5f\", \"gridcolor\": \"white\", \"linecolor\": \"white\", \"minorgridcolor\": \"white\", \"startlinecolor\": \"#2a3f5f\"}, \"type\": \"carpet\"}], \"choropleth\": [{\"colorbar\": {\"outlinewidth\": 0, \"ticks\": \"\"}, \"type\": \"choropleth\"}], \"contour\": [{\"colorbar\": {\"outlinewidth\": 0, \"ticks\": \"\"}, \"colorscale\": [[0.0, \"#0d0887\"], [0.1111111111111111, \"#46039f\"], [0.2222222222222222, \"#7201a8\"], [0.3333333333333333, \"#9c179e\"], [0.4444444444444444, \"#bd3786\"], [0.5555555555555556, \"#d8576b\"], [0.6666666666666666, \"#ed7953\"], [0.7777777777777778, \"#fb9f3a\"], [0.8888888888888888, \"#fdca26\"], [1.0, \"#f0f921\"]], \"type\": \"contour\"}], \"contourcarpet\": [{\"colorbar\": {\"outlinewidth\": 0, \"ticks\": \"\"}, \"type\": \"contourcarpet\"}], \"heatmap\": [{\"colorbar\": {\"outlinewidth\": 0, \"ticks\": \"\"}, \"colorscale\": [[0.0, \"#0d0887\"], [0.1111111111111111, \"#46039f\"], [0.2222222222222222, \"#7201a8\"], [0.3333333333333333, \"#9c179e\"], [0.4444444444444444, \"#bd3786\"], [0.5555555555555556, \"#d8576b\"], [0.6666666666666666, \"#ed7953\"], [0.7777777777777778, \"#fb9f3a\"], [0.8888888888888888, \"#fdca26\"], [1.0, \"#f0f921\"]], \"type\": \"heatmap\"}], \"heatmapgl\": [{\"colorbar\": {\"outlinewidth\": 0, \"ticks\": \"\"}, \"colorscale\": [[0.0, \"#0d0887\"], [0.1111111111111111, \"#46039f\"], [0.2222222222222222, \"#7201a8\"], [0.3333333333333333, \"#9c179e\"], [0.4444444444444444, \"#bd3786\"], [0.5555555555555556, \"#d8576b\"], [0.6666666666666666, \"#ed7953\"], [0.7777777777777778, \"#fb9f3a\"], [0.8888888888888888, \"#fdca26\"], [1.0, \"#f0f921\"]], \"type\": \"heatmapgl\"}], \"histogram\": [{\"marker\": {\"colorbar\": {\"outlinewidth\": 0, \"ticks\": \"\"}}, \"type\": \"histogram\"}], \"histogram2d\": [{\"colorbar\": {\"outlinewidth\": 0, \"ticks\": \"\"}, \"colorscale\": [[0.0, \"#0d0887\"], [0.1111111111111111, \"#46039f\"], [0.2222222222222222, \"#7201a8\"], [0.3333333333333333, \"#9c179e\"], [0.4444444444444444, \"#bd3786\"], [0.5555555555555556, \"#d8576b\"], [0.6666666666666666, \"#ed7953\"], [0.7777777777777778, \"#fb9f3a\"], [0.8888888888888888, \"#fdca26\"], [1.0, \"#f0f921\"]], \"type\": \"histogram2d\"}], \"histogram2dcontour\": [{\"colorbar\": {\"outlinewidth\": 0, \"ticks\": \"\"}, \"colorscale\": [[0.0, \"#0d0887\"], [0.1111111111111111, \"#46039f\"], [0.2222222222222222, \"#7201a8\"], [0.3333333333333333, \"#9c179e\"], [0.4444444444444444, \"#bd3786\"], [0.5555555555555556, \"#d8576b\"], [0.6666666666666666, \"#ed7953\"], [0.7777777777777778, \"#fb9f3a\"], [0.8888888888888888, \"#fdca26\"], [1.0, \"#f0f921\"]], \"type\": \"histogram2dcontour\"}], \"mesh3d\": [{\"colorbar\": {\"outlinewidth\": 0, \"ticks\": \"\"}, \"type\": \"mesh3d\"}], \"parcoords\": [{\"line\": {\"colorbar\": {\"outlinewidth\": 0, \"ticks\": \"\"}}, \"type\": \"parcoords\"}], \"pie\": [{\"automargin\": true, \"type\": \"pie\"}], \"scatter\": [{\"marker\": {\"colorbar\": {\"outlinewidth\": 0, \"ticks\": \"\"}}, \"type\": \"scatter\"}], \"scatter3d\": [{\"line\": {\"colorbar\": {\"outlinewidth\": 0, \"ticks\": \"\"}}, \"marker\": {\"colorbar\": {\"outlinewidth\": 0, \"ticks\": \"\"}}, \"type\": \"scatter3d\"}], \"scattercarpet\": [{\"marker\": {\"colorbar\": {\"outlinewidth\": 0, \"ticks\": \"\"}}, \"type\": \"scattercarpet\"}], \"scattergeo\": [{\"marker\": {\"colorbar\": {\"outlinewidth\": 0, \"ticks\": \"\"}}, \"type\": \"scattergeo\"}], \"scattergl\": [{\"marker\": {\"colorbar\": {\"outlinewidth\": 0, \"ticks\": \"\"}}, \"type\": \"scattergl\"}], \"scattermapbox\": [{\"marker\": {\"colorbar\": {\"outlinewidth\": 0, \"ticks\": \"\"}}, \"type\": \"scattermapbox\"}], \"scatterpolar\": [{\"marker\": {\"colorbar\": {\"outlinewidth\": 0, \"ticks\": \"\"}}, \"type\": \"scatterpolar\"}], \"scatterpolargl\": [{\"marker\": {\"colorbar\": {\"outlinewidth\": 0, \"ticks\": \"\"}}, \"type\": \"scatterpolargl\"}], \"scatterternary\": [{\"marker\": {\"colorbar\": {\"outlinewidth\": 0, \"ticks\": \"\"}}, \"type\": \"scatterternary\"}], \"surface\": [{\"colorbar\": {\"outlinewidth\": 0, \"ticks\": \"\"}, \"colorscale\": [[0.0, \"#0d0887\"], [0.1111111111111111, \"#46039f\"], [0.2222222222222222, \"#7201a8\"], [0.3333333333333333, \"#9c179e\"], [0.4444444444444444, \"#bd3786\"], [0.5555555555555556, \"#d8576b\"], [0.6666666666666666, \"#ed7953\"], [0.7777777777777778, \"#fb9f3a\"], [0.8888888888888888, \"#fdca26\"], [1.0, \"#f0f921\"]], \"type\": \"surface\"}], \"table\": [{\"cells\": {\"fill\": {\"color\": \"#EBF0F8\"}, \"line\": {\"color\": \"white\"}}, \"header\": {\"fill\": {\"color\": \"#C8D4E3\"}, \"line\": {\"color\": \"white\"}}, \"type\": \"table\"}]}, \"layout\": {\"annotationdefaults\": {\"arrowcolor\": \"#2a3f5f\", \"arrowhead\": 0, \"arrowwidth\": 1}, \"autotypenumbers\": \"strict\", \"coloraxis\": {\"colorbar\": {\"outlinewidth\": 0, \"ticks\": \"\"}}, \"colorscale\": {\"diverging\": [[0, \"#8e0152\"], [0.1, \"#c51b7d\"], [0.2, \"#de77ae\"], [0.3, \"#f1b6da\"], [0.4, \"#fde0ef\"], [0.5, \"#f7f7f7\"], [0.6, \"#e6f5d0\"], [0.7, \"#b8e186\"], [0.8, \"#7fbc41\"], [0.9, \"#4d9221\"], [1, \"#276419\"]], \"sequential\": [[0.0, \"#0d0887\"], [0.1111111111111111, \"#46039f\"], [0.2222222222222222, \"#7201a8\"], [0.3333333333333333, \"#9c179e\"], [0.4444444444444444, \"#bd3786\"], [0.5555555555555556, \"#d8576b\"], [0.6666666666666666, \"#ed7953\"], [0.7777777777777778, \"#fb9f3a\"], [0.8888888888888888, \"#fdca26\"], [1.0, \"#f0f921\"]], \"sequentialminus\": [[0.0, \"#0d0887\"], [0.1111111111111111, \"#46039f\"], [0.2222222222222222, \"#7201a8\"], [0.3333333333333333, \"#9c179e\"], [0.4444444444444444, \"#bd3786\"], [0.5555555555555556, \"#d8576b\"], [0.6666666666666666, \"#ed7953\"], [0.7777777777777778, \"#fb9f3a\"], [0.8888888888888888, \"#fdca26\"], [1.0, \"#f0f921\"]]}, \"colorway\": [\"#636efa\", \"#EF553B\", \"#00cc96\", \"#ab63fa\", \"#FFA15A\", \"#19d3f3\", \"#FF6692\", \"#B6E880\", \"#FF97FF\", \"#FECB52\"], \"font\": {\"color\": \"#2a3f5f\"}, \"geo\": {\"bgcolor\": \"white\", \"lakecolor\": \"white\", \"landcolor\": \"#E5ECF6\", \"showlakes\": true, \"showland\": true, \"subunitcolor\": \"white\"}, \"hoverlabel\": {\"align\": \"left\"}, \"hovermode\": \"closest\", \"mapbox\": {\"style\": \"light\"}, \"paper_bgcolor\": \"white\", \"plot_bgcolor\": \"#E5ECF6\", \"polar\": {\"angularaxis\": {\"gridcolor\": \"white\", \"linecolor\": \"white\", \"ticks\": \"\"}, \"bgcolor\": \"#E5ECF6\", \"radialaxis\": {\"gridcolor\": \"white\", \"linecolor\": \"white\", \"ticks\": \"\"}}, \"scene\": {\"xaxis\": {\"backgroundcolor\": \"#E5ECF6\", \"gridcolor\": \"white\", \"gridwidth\": 2, \"linecolor\": \"white\", \"showbackground\": true, \"ticks\": \"\", \"zerolinecolor\": \"white\"}, \"yaxis\": {\"backgroundcolor\": \"#E5ECF6\", \"gridcolor\": \"white\", \"gridwidth\": 2, \"linecolor\": \"white\", \"showbackground\": true, \"ticks\": \"\", \"zerolinecolor\": \"white\"}, \"zaxis\": {\"backgroundcolor\": \"#E5ECF6\", \"gridcolor\": \"white\", \"gridwidth\": 2, \"linecolor\": \"white\", \"showbackground\": true, \"ticks\": \"\", \"zerolinecolor\": \"white\"}}, \"shapedefaults\": {\"line\": {\"color\": \"#2a3f5f\"}}, \"ternary\": {\"aaxis\": {\"gridcolor\": \"white\", \"linecolor\": \"white\", \"ticks\": \"\"}, \"baxis\": {\"gridcolor\": \"white\", \"linecolor\": \"white\", \"ticks\": \"\"}, \"bgcolor\": \"#E5ECF6\", \"caxis\": {\"gridcolor\": \"white\", \"linecolor\": \"white\", \"ticks\": \"\"}}, \"title\": {\"x\": 0.05}, \"xaxis\": {\"automargin\": true, \"gridcolor\": \"white\", \"linecolor\": \"white\", \"ticks\": \"\", \"title\": {\"standoff\": 15}, \"zerolinecolor\": \"white\", \"zerolinewidth\": 2}, \"yaxis\": {\"automargin\": true, \"gridcolor\": \"white\", \"linecolor\": \"white\", \"ticks\": \"\", \"title\": {\"standoff\": 15}, \"zerolinecolor\": \"white\", \"zerolinewidth\": 2}}}, \"title\": {\"font\": {\"color\": \"#4D5663\"}}, \"xaxis\": {\"gridcolor\": \"#E1E5ED\", \"showgrid\": true, \"tickfont\": {\"color\": \"#4D5663\"}, \"title\": {\"font\": {\"color\": \"#4D5663\"}, \"text\": \"\"}, \"zerolinecolor\": \"#E1E5ED\"}, \"xaxis2\": {\"anchor\": \"y2\", \"gridcolor\": \"#E1E5ED\", \"showgrid\": true, \"showticklabels\": false, \"tickfont\": {\"color\": \"#4D5663\"}, \"title\": {\"font\": {\"color\": \"#4D5663\"}, \"text\": \"\"}, \"zerolinecolor\": \"#E1E5ED\"}, \"yaxis\": {\"domain\": [0.3, 1], \"gridcolor\": \"#E1E5ED\", \"showgrid\": true, \"tickfont\": {\"color\": \"#4D5663\"}, \"title\": {\"font\": {\"color\": \"#4D5663\"}, \"text\": \"\"}, \"zerolinecolor\": \"#E1E5ED\"}, \"yaxis2\": {\"domain\": [0, 0.25], \"gridcolor\": \"#E1E5ED\", \"showgrid\": true, \"tickfont\": {\"color\": \"#4D5663\"}, \"title\": {\"font\": {\"color\": \"#4D5663\"}, \"text\": \"Spread\"}, \"zerolinecolor\": \"#E1E5ED\"}},                        {\"showLink\": true, \"linkText\": \"Export to plot.ly\", \"plotlyServerURL\": \"https://plot.ly\", \"responsive\": true}                    ).then(function(){\n",
       "                            \n",
       "var gd = document.getElementById('d7ca5543-4c7c-4127-afad-eb9e2297641a');\n",
       "var x = new MutationObserver(function (mutations, observer) {{\n",
       "        var display = window.getComputedStyle(gd).display;\n",
       "        if (!display || display === 'none') {{\n",
       "            console.log([gd, 'removed!']);\n",
       "            Plotly.purge(gd);\n",
       "            observer.disconnect();\n",
       "        }}\n",
       "}});\n",
       "\n",
       "// Listen for the removal of the full notebook cells\n",
       "var notebookContainer = gd.closest('#notebook-container');\n",
       "if (notebookContainer) {{\n",
       "    x.observe(notebookContainer, {childList: true});\n",
       "}}\n",
       "\n",
       "// Listen for the clearing of the current output cell\n",
       "var outputEl = gd.closest('.output');\n",
       "if (outputEl) {{\n",
       "    x.observe(outputEl, {childList: true});\n",
       "}}\n",
       "\n",
       "                        })                };                });            </script>        </div>"
      ]
     },
     "metadata": {},
     "output_type": "display_data"
    }
   ],
   "source": [
    "df[['A','B']].iplot(kind='spread')"
   ]
  },
  {
   "cell_type": "markdown",
   "metadata": {},
   "source": [
    "## histogram"
   ]
  },
  {
   "cell_type": "code",
   "execution_count": 17,
   "metadata": {},
   "outputs": [
    {
     "data": {
      "application/vnd.plotly.v1+json": {
       "config": {
        "linkText": "Export to plot.ly",
        "plotlyServerURL": "https://plot.ly",
        "showLink": true
       },
       "data": [
        {
         "histfunc": "count",
         "histnorm": "",
         "marker": {
          "color": "rgba(255, 153, 51, 1.0)",
          "line": {
           "color": "#4D5663",
           "width": 1.3
          }
         },
         "name": "A",
         "nbinsx": 25,
         "opacity": 0.8,
         "orientation": "v",
         "type": "histogram",
         "x": [
          1.2828662516368237,
          -1.9058548130178599,
          1.7624087399545465,
          -1.28957445810928,
          -0.33074735230222574,
          1.3924138972481361,
          -1.0876116171939914,
          -1.2081372790816036,
          -0.6737965225857129,
          -0.02583692854927848,
          0.8039293299766449,
          1.0107446447097366,
          -1.4146549512974564,
          -0.15595360258756916,
          1.1310264219534185,
          0.3109506384339165,
          -0.3808054031911281,
          0.11122446898664881,
          -0.9656072574207325,
          0.2406238062862133,
          -0.8068648764125891,
          -1.6871947272058962,
          1.2337296353563858,
          -0.3809284251154643,
          -0.35317470698447334,
          0.43415144542077877,
          1.2180163628219967,
          -1.522440486703186,
          0.5217061847644993,
          0.38561994701780056,
          -0.49192210133219766,
          0.14013093395285253,
          2.4036700387643384,
          -0.4807851905433463,
          -1.9605399057258375,
          1.2669050634370032,
          -1.5308676262032017,
          -0.5190412053819773,
          0.4173351672979796,
          -0.23687798244708996,
          -0.8460465955548907,
          -0.5084860834962257,
          0.1738108848450604,
          0.0368915898997711,
          0.6805541276651929,
          -0.3118292802592112,
          0.6187106394900223,
          -0.7343098042346263,
          1.0517884026374926,
          -1.0677456222735553,
          -0.9589362399553518,
          -0.6589773644257099,
          -1.1643134480046182,
          0.2627379525787662,
          -1.6330933755686416,
          0.6797640558459586,
          -0.21807894242190407,
          0.6121770011936802,
          -1.2288674416183698,
          -0.028932611373871618,
          -0.29558261017692433,
          0.8851879307115434,
          -0.12808461099746693,
          0.9982779724582205,
          -0.7046827243365449,
          -1.1674082125449132,
          0.008171711724090178,
          0.4552042065990801,
          0.8047843719361977,
          1.3520070749654678,
          -0.023124972881999134,
          -0.889286390339353,
          0.8736949087856304,
          -0.4306513533340919,
          -0.3947564542130474,
          0.9753568630991614,
          0.6465523276736221,
          1.1234495604869827,
          0.7575077430654791,
          0.10056159062489389,
          -0.5990740207238892,
          -0.04925861844922938,
          -0.5743835236711956,
          -0.2934599223661171,
          0.13943105173979872,
          -1.1730514837867145,
          -1.4097168362462602,
          0.2819429293041775,
          1.8333068010035791,
          -0.8453840321261459,
          0.28363834198412025,
          -1.2073436137625582,
          -0.7535816105045646,
          0.4060306049615743,
          0.48190397132211416,
          0.42673882846182315,
          2.706608622687043,
          -0.4285481488971416,
          0.13524802574512346,
          -0.11575641589217416
         ]
        }
       ],
       "layout": {
        "barmode": "overlay",
        "legend": {
         "bgcolor": "#F5F6F9",
         "font": {
          "color": "#4D5663"
         }
        },
        "paper_bgcolor": "#F5F6F9",
        "plot_bgcolor": "#F5F6F9",
        "template": {
         "data": {
          "bar": [
           {
            "error_x": {
             "color": "#2a3f5f"
            },
            "error_y": {
             "color": "#2a3f5f"
            },
            "marker": {
             "line": {
              "color": "#E5ECF6",
              "width": 0.5
             }
            },
            "type": "bar"
           }
          ],
          "barpolar": [
           {
            "marker": {
             "line": {
              "color": "#E5ECF6",
              "width": 0.5
             }
            },
            "type": "barpolar"
           }
          ],
          "carpet": [
           {
            "aaxis": {
             "endlinecolor": "#2a3f5f",
             "gridcolor": "white",
             "linecolor": "white",
             "minorgridcolor": "white",
             "startlinecolor": "#2a3f5f"
            },
            "baxis": {
             "endlinecolor": "#2a3f5f",
             "gridcolor": "white",
             "linecolor": "white",
             "minorgridcolor": "white",
             "startlinecolor": "#2a3f5f"
            },
            "type": "carpet"
           }
          ],
          "choropleth": [
           {
            "colorbar": {
             "outlinewidth": 0,
             "ticks": ""
            },
            "type": "choropleth"
           }
          ],
          "contour": [
           {
            "colorbar": {
             "outlinewidth": 0,
             "ticks": ""
            },
            "colorscale": [
             [
              0,
              "#0d0887"
             ],
             [
              0.1111111111111111,
              "#46039f"
             ],
             [
              0.2222222222222222,
              "#7201a8"
             ],
             [
              0.3333333333333333,
              "#9c179e"
             ],
             [
              0.4444444444444444,
              "#bd3786"
             ],
             [
              0.5555555555555556,
              "#d8576b"
             ],
             [
              0.6666666666666666,
              "#ed7953"
             ],
             [
              0.7777777777777778,
              "#fb9f3a"
             ],
             [
              0.8888888888888888,
              "#fdca26"
             ],
             [
              1,
              "#f0f921"
             ]
            ],
            "type": "contour"
           }
          ],
          "contourcarpet": [
           {
            "colorbar": {
             "outlinewidth": 0,
             "ticks": ""
            },
            "type": "contourcarpet"
           }
          ],
          "heatmap": [
           {
            "colorbar": {
             "outlinewidth": 0,
             "ticks": ""
            },
            "colorscale": [
             [
              0,
              "#0d0887"
             ],
             [
              0.1111111111111111,
              "#46039f"
             ],
             [
              0.2222222222222222,
              "#7201a8"
             ],
             [
              0.3333333333333333,
              "#9c179e"
             ],
             [
              0.4444444444444444,
              "#bd3786"
             ],
             [
              0.5555555555555556,
              "#d8576b"
             ],
             [
              0.6666666666666666,
              "#ed7953"
             ],
             [
              0.7777777777777778,
              "#fb9f3a"
             ],
             [
              0.8888888888888888,
              "#fdca26"
             ],
             [
              1,
              "#f0f921"
             ]
            ],
            "type": "heatmap"
           }
          ],
          "heatmapgl": [
           {
            "colorbar": {
             "outlinewidth": 0,
             "ticks": ""
            },
            "colorscale": [
             [
              0,
              "#0d0887"
             ],
             [
              0.1111111111111111,
              "#46039f"
             ],
             [
              0.2222222222222222,
              "#7201a8"
             ],
             [
              0.3333333333333333,
              "#9c179e"
             ],
             [
              0.4444444444444444,
              "#bd3786"
             ],
             [
              0.5555555555555556,
              "#d8576b"
             ],
             [
              0.6666666666666666,
              "#ed7953"
             ],
             [
              0.7777777777777778,
              "#fb9f3a"
             ],
             [
              0.8888888888888888,
              "#fdca26"
             ],
             [
              1,
              "#f0f921"
             ]
            ],
            "type": "heatmapgl"
           }
          ],
          "histogram": [
           {
            "marker": {
             "colorbar": {
              "outlinewidth": 0,
              "ticks": ""
             }
            },
            "type": "histogram"
           }
          ],
          "histogram2d": [
           {
            "colorbar": {
             "outlinewidth": 0,
             "ticks": ""
            },
            "colorscale": [
             [
              0,
              "#0d0887"
             ],
             [
              0.1111111111111111,
              "#46039f"
             ],
             [
              0.2222222222222222,
              "#7201a8"
             ],
             [
              0.3333333333333333,
              "#9c179e"
             ],
             [
              0.4444444444444444,
              "#bd3786"
             ],
             [
              0.5555555555555556,
              "#d8576b"
             ],
             [
              0.6666666666666666,
              "#ed7953"
             ],
             [
              0.7777777777777778,
              "#fb9f3a"
             ],
             [
              0.8888888888888888,
              "#fdca26"
             ],
             [
              1,
              "#f0f921"
             ]
            ],
            "type": "histogram2d"
           }
          ],
          "histogram2dcontour": [
           {
            "colorbar": {
             "outlinewidth": 0,
             "ticks": ""
            },
            "colorscale": [
             [
              0,
              "#0d0887"
             ],
             [
              0.1111111111111111,
              "#46039f"
             ],
             [
              0.2222222222222222,
              "#7201a8"
             ],
             [
              0.3333333333333333,
              "#9c179e"
             ],
             [
              0.4444444444444444,
              "#bd3786"
             ],
             [
              0.5555555555555556,
              "#d8576b"
             ],
             [
              0.6666666666666666,
              "#ed7953"
             ],
             [
              0.7777777777777778,
              "#fb9f3a"
             ],
             [
              0.8888888888888888,
              "#fdca26"
             ],
             [
              1,
              "#f0f921"
             ]
            ],
            "type": "histogram2dcontour"
           }
          ],
          "mesh3d": [
           {
            "colorbar": {
             "outlinewidth": 0,
             "ticks": ""
            },
            "type": "mesh3d"
           }
          ],
          "parcoords": [
           {
            "line": {
             "colorbar": {
              "outlinewidth": 0,
              "ticks": ""
             }
            },
            "type": "parcoords"
           }
          ],
          "pie": [
           {
            "automargin": true,
            "type": "pie"
           }
          ],
          "scatter": [
           {
            "marker": {
             "colorbar": {
              "outlinewidth": 0,
              "ticks": ""
             }
            },
            "type": "scatter"
           }
          ],
          "scatter3d": [
           {
            "line": {
             "colorbar": {
              "outlinewidth": 0,
              "ticks": ""
             }
            },
            "marker": {
             "colorbar": {
              "outlinewidth": 0,
              "ticks": ""
             }
            },
            "type": "scatter3d"
           }
          ],
          "scattercarpet": [
           {
            "marker": {
             "colorbar": {
              "outlinewidth": 0,
              "ticks": ""
             }
            },
            "type": "scattercarpet"
           }
          ],
          "scattergeo": [
           {
            "marker": {
             "colorbar": {
              "outlinewidth": 0,
              "ticks": ""
             }
            },
            "type": "scattergeo"
           }
          ],
          "scattergl": [
           {
            "marker": {
             "colorbar": {
              "outlinewidth": 0,
              "ticks": ""
             }
            },
            "type": "scattergl"
           }
          ],
          "scattermapbox": [
           {
            "marker": {
             "colorbar": {
              "outlinewidth": 0,
              "ticks": ""
             }
            },
            "type": "scattermapbox"
           }
          ],
          "scatterpolar": [
           {
            "marker": {
             "colorbar": {
              "outlinewidth": 0,
              "ticks": ""
             }
            },
            "type": "scatterpolar"
           }
          ],
          "scatterpolargl": [
           {
            "marker": {
             "colorbar": {
              "outlinewidth": 0,
              "ticks": ""
             }
            },
            "type": "scatterpolargl"
           }
          ],
          "scatterternary": [
           {
            "marker": {
             "colorbar": {
              "outlinewidth": 0,
              "ticks": ""
             }
            },
            "type": "scatterternary"
           }
          ],
          "surface": [
           {
            "colorbar": {
             "outlinewidth": 0,
             "ticks": ""
            },
            "colorscale": [
             [
              0,
              "#0d0887"
             ],
             [
              0.1111111111111111,
              "#46039f"
             ],
             [
              0.2222222222222222,
              "#7201a8"
             ],
             [
              0.3333333333333333,
              "#9c179e"
             ],
             [
              0.4444444444444444,
              "#bd3786"
             ],
             [
              0.5555555555555556,
              "#d8576b"
             ],
             [
              0.6666666666666666,
              "#ed7953"
             ],
             [
              0.7777777777777778,
              "#fb9f3a"
             ],
             [
              0.8888888888888888,
              "#fdca26"
             ],
             [
              1,
              "#f0f921"
             ]
            ],
            "type": "surface"
           }
          ],
          "table": [
           {
            "cells": {
             "fill": {
              "color": "#EBF0F8"
             },
             "line": {
              "color": "white"
             }
            },
            "header": {
             "fill": {
              "color": "#C8D4E3"
             },
             "line": {
              "color": "white"
             }
            },
            "type": "table"
           }
          ]
         },
         "layout": {
          "annotationdefaults": {
           "arrowcolor": "#2a3f5f",
           "arrowhead": 0,
           "arrowwidth": 1
          },
          "autotypenumbers": "strict",
          "coloraxis": {
           "colorbar": {
            "outlinewidth": 0,
            "ticks": ""
           }
          },
          "colorscale": {
           "diverging": [
            [
             0,
             "#8e0152"
            ],
            [
             0.1,
             "#c51b7d"
            ],
            [
             0.2,
             "#de77ae"
            ],
            [
             0.3,
             "#f1b6da"
            ],
            [
             0.4,
             "#fde0ef"
            ],
            [
             0.5,
             "#f7f7f7"
            ],
            [
             0.6,
             "#e6f5d0"
            ],
            [
             0.7,
             "#b8e186"
            ],
            [
             0.8,
             "#7fbc41"
            ],
            [
             0.9,
             "#4d9221"
            ],
            [
             1,
             "#276419"
            ]
           ],
           "sequential": [
            [
             0,
             "#0d0887"
            ],
            [
             0.1111111111111111,
             "#46039f"
            ],
            [
             0.2222222222222222,
             "#7201a8"
            ],
            [
             0.3333333333333333,
             "#9c179e"
            ],
            [
             0.4444444444444444,
             "#bd3786"
            ],
            [
             0.5555555555555556,
             "#d8576b"
            ],
            [
             0.6666666666666666,
             "#ed7953"
            ],
            [
             0.7777777777777778,
             "#fb9f3a"
            ],
            [
             0.8888888888888888,
             "#fdca26"
            ],
            [
             1,
             "#f0f921"
            ]
           ],
           "sequentialminus": [
            [
             0,
             "#0d0887"
            ],
            [
             0.1111111111111111,
             "#46039f"
            ],
            [
             0.2222222222222222,
             "#7201a8"
            ],
            [
             0.3333333333333333,
             "#9c179e"
            ],
            [
             0.4444444444444444,
             "#bd3786"
            ],
            [
             0.5555555555555556,
             "#d8576b"
            ],
            [
             0.6666666666666666,
             "#ed7953"
            ],
            [
             0.7777777777777778,
             "#fb9f3a"
            ],
            [
             0.8888888888888888,
             "#fdca26"
            ],
            [
             1,
             "#f0f921"
            ]
           ]
          },
          "colorway": [
           "#636efa",
           "#EF553B",
           "#00cc96",
           "#ab63fa",
           "#FFA15A",
           "#19d3f3",
           "#FF6692",
           "#B6E880",
           "#FF97FF",
           "#FECB52"
          ],
          "font": {
           "color": "#2a3f5f"
          },
          "geo": {
           "bgcolor": "white",
           "lakecolor": "white",
           "landcolor": "#E5ECF6",
           "showlakes": true,
           "showland": true,
           "subunitcolor": "white"
          },
          "hoverlabel": {
           "align": "left"
          },
          "hovermode": "closest",
          "mapbox": {
           "style": "light"
          },
          "paper_bgcolor": "white",
          "plot_bgcolor": "#E5ECF6",
          "polar": {
           "angularaxis": {
            "gridcolor": "white",
            "linecolor": "white",
            "ticks": ""
           },
           "bgcolor": "#E5ECF6",
           "radialaxis": {
            "gridcolor": "white",
            "linecolor": "white",
            "ticks": ""
           }
          },
          "scene": {
           "xaxis": {
            "backgroundcolor": "#E5ECF6",
            "gridcolor": "white",
            "gridwidth": 2,
            "linecolor": "white",
            "showbackground": true,
            "ticks": "",
            "zerolinecolor": "white"
           },
           "yaxis": {
            "backgroundcolor": "#E5ECF6",
            "gridcolor": "white",
            "gridwidth": 2,
            "linecolor": "white",
            "showbackground": true,
            "ticks": "",
            "zerolinecolor": "white"
           },
           "zaxis": {
            "backgroundcolor": "#E5ECF6",
            "gridcolor": "white",
            "gridwidth": 2,
            "linecolor": "white",
            "showbackground": true,
            "ticks": "",
            "zerolinecolor": "white"
           }
          },
          "shapedefaults": {
           "line": {
            "color": "#2a3f5f"
           }
          },
          "ternary": {
           "aaxis": {
            "gridcolor": "white",
            "linecolor": "white",
            "ticks": ""
           },
           "baxis": {
            "gridcolor": "white",
            "linecolor": "white",
            "ticks": ""
           },
           "bgcolor": "#E5ECF6",
           "caxis": {
            "gridcolor": "white",
            "linecolor": "white",
            "ticks": ""
           }
          },
          "title": {
           "x": 0.05
          },
          "xaxis": {
           "automargin": true,
           "gridcolor": "white",
           "linecolor": "white",
           "ticks": "",
           "title": {
            "standoff": 15
           },
           "zerolinecolor": "white",
           "zerolinewidth": 2
          },
          "yaxis": {
           "automargin": true,
           "gridcolor": "white",
           "linecolor": "white",
           "ticks": "",
           "title": {
            "standoff": 15
           },
           "zerolinecolor": "white",
           "zerolinewidth": 2
          }
         }
        },
        "title": {
         "font": {
          "color": "#4D5663"
         }
        },
        "xaxis": {
         "gridcolor": "#E1E5ED",
         "showgrid": true,
         "tickfont": {
          "color": "#4D5663"
         },
         "title": {
          "font": {
           "color": "#4D5663"
          },
          "text": ""
         },
         "zerolinecolor": "#E1E5ED"
        },
        "yaxis": {
         "gridcolor": "#E1E5ED",
         "showgrid": true,
         "tickfont": {
          "color": "#4D5663"
         },
         "title": {
          "font": {
           "color": "#4D5663"
          },
          "text": ""
         },
         "zerolinecolor": "#E1E5ED"
        }
       }
      },
      "text/html": [
       "<div>                            <div id=\"ec023eea-e782-4557-92a1-c55bd7979409\" class=\"plotly-graph-div\" style=\"height:525px; width:100%;\"></div>            <script type=\"text/javascript\">                require([\"plotly\"], function(Plotly) {                    window.PLOTLYENV=window.PLOTLYENV || {};\n",
       "                    window.PLOTLYENV.BASE_URL='https://plot.ly';                                    if (document.getElementById(\"ec023eea-e782-4557-92a1-c55bd7979409\")) {                    Plotly.newPlot(                        \"ec023eea-e782-4557-92a1-c55bd7979409\",                        [{\"histfunc\": \"count\", \"histnorm\": \"\", \"marker\": {\"color\": \"rgba(255, 153, 51, 1.0)\", \"line\": {\"color\": \"#4D5663\", \"width\": 1.3}}, \"name\": \"A\", \"nbinsx\": 25, \"opacity\": 0.8, \"orientation\": \"v\", \"type\": \"histogram\", \"x\": [1.2828662516368237, -1.9058548130178599, 1.7624087399545465, -1.28957445810928, -0.33074735230222574, 1.3924138972481361, -1.0876116171939914, -1.2081372790816036, -0.6737965225857129, -0.02583692854927848, 0.8039293299766449, 1.0107446447097366, -1.4146549512974564, -0.15595360258756916, 1.1310264219534185, 0.3109506384339165, -0.3808054031911281, 0.11122446898664881, -0.9656072574207325, 0.2406238062862133, -0.8068648764125891, -1.6871947272058962, 1.2337296353563858, -0.3809284251154643, -0.35317470698447334, 0.43415144542077877, 1.2180163628219967, -1.522440486703186, 0.5217061847644993, 0.38561994701780056, -0.49192210133219766, 0.14013093395285253, 2.4036700387643384, -0.4807851905433463, -1.9605399057258375, 1.2669050634370032, -1.5308676262032017, -0.5190412053819773, 0.4173351672979796, -0.23687798244708996, -0.8460465955548907, -0.5084860834962257, 0.1738108848450604, 0.0368915898997711, 0.6805541276651929, -0.3118292802592112, 0.6187106394900223, -0.7343098042346263, 1.0517884026374926, -1.0677456222735553, -0.9589362399553518, -0.6589773644257099, -1.1643134480046182, 0.2627379525787662, -1.6330933755686416, 0.6797640558459586, -0.21807894242190407, 0.6121770011936802, -1.2288674416183698, -0.028932611373871618, -0.29558261017692433, 0.8851879307115434, -0.12808461099746693, 0.9982779724582205, -0.7046827243365449, -1.1674082125449132, 0.008171711724090178, 0.4552042065990801, 0.8047843719361977, 1.3520070749654678, -0.023124972881999134, -0.889286390339353, 0.8736949087856304, -0.4306513533340919, -0.3947564542130474, 0.9753568630991614, 0.6465523276736221, 1.1234495604869827, 0.7575077430654791, 0.10056159062489389, -0.5990740207238892, -0.04925861844922938, -0.5743835236711956, -0.2934599223661171, 0.13943105173979872, -1.1730514837867145, -1.4097168362462602, 0.2819429293041775, 1.8333068010035791, -0.8453840321261459, 0.28363834198412025, -1.2073436137625582, -0.7535816105045646, 0.4060306049615743, 0.48190397132211416, 0.42673882846182315, 2.706608622687043, -0.4285481488971416, 0.13524802574512346, -0.11575641589217416]}],                        {\"barmode\": \"overlay\", \"legend\": {\"bgcolor\": \"#F5F6F9\", \"font\": {\"color\": \"#4D5663\"}}, \"paper_bgcolor\": \"#F5F6F9\", \"plot_bgcolor\": \"#F5F6F9\", \"template\": {\"data\": {\"bar\": [{\"error_x\": {\"color\": \"#2a3f5f\"}, \"error_y\": {\"color\": \"#2a3f5f\"}, \"marker\": {\"line\": {\"color\": \"#E5ECF6\", \"width\": 0.5}}, \"type\": \"bar\"}], \"barpolar\": [{\"marker\": {\"line\": {\"color\": \"#E5ECF6\", \"width\": 0.5}}, \"type\": \"barpolar\"}], \"carpet\": [{\"aaxis\": {\"endlinecolor\": \"#2a3f5f\", \"gridcolor\": \"white\", \"linecolor\": \"white\", \"minorgridcolor\": \"white\", \"startlinecolor\": \"#2a3f5f\"}, \"baxis\": {\"endlinecolor\": \"#2a3f5f\", \"gridcolor\": \"white\", \"linecolor\": \"white\", \"minorgridcolor\": \"white\", \"startlinecolor\": \"#2a3f5f\"}, \"type\": \"carpet\"}], \"choropleth\": [{\"colorbar\": {\"outlinewidth\": 0, \"ticks\": \"\"}, \"type\": \"choropleth\"}], \"contour\": [{\"colorbar\": {\"outlinewidth\": 0, \"ticks\": \"\"}, \"colorscale\": [[0.0, \"#0d0887\"], [0.1111111111111111, \"#46039f\"], [0.2222222222222222, \"#7201a8\"], [0.3333333333333333, \"#9c179e\"], [0.4444444444444444, \"#bd3786\"], [0.5555555555555556, \"#d8576b\"], [0.6666666666666666, \"#ed7953\"], [0.7777777777777778, \"#fb9f3a\"], [0.8888888888888888, \"#fdca26\"], [1.0, \"#f0f921\"]], \"type\": \"contour\"}], \"contourcarpet\": [{\"colorbar\": {\"outlinewidth\": 0, \"ticks\": \"\"}, \"type\": \"contourcarpet\"}], \"heatmap\": [{\"colorbar\": {\"outlinewidth\": 0, \"ticks\": \"\"}, \"colorscale\": [[0.0, \"#0d0887\"], [0.1111111111111111, \"#46039f\"], [0.2222222222222222, \"#7201a8\"], [0.3333333333333333, \"#9c179e\"], [0.4444444444444444, \"#bd3786\"], [0.5555555555555556, \"#d8576b\"], [0.6666666666666666, \"#ed7953\"], [0.7777777777777778, \"#fb9f3a\"], [0.8888888888888888, \"#fdca26\"], [1.0, \"#f0f921\"]], \"type\": \"heatmap\"}], \"heatmapgl\": [{\"colorbar\": {\"outlinewidth\": 0, \"ticks\": \"\"}, \"colorscale\": [[0.0, \"#0d0887\"], [0.1111111111111111, \"#46039f\"], [0.2222222222222222, \"#7201a8\"], [0.3333333333333333, \"#9c179e\"], [0.4444444444444444, \"#bd3786\"], [0.5555555555555556, \"#d8576b\"], [0.6666666666666666, \"#ed7953\"], [0.7777777777777778, \"#fb9f3a\"], [0.8888888888888888, \"#fdca26\"], [1.0, \"#f0f921\"]], \"type\": \"heatmapgl\"}], \"histogram\": [{\"marker\": {\"colorbar\": {\"outlinewidth\": 0, \"ticks\": \"\"}}, \"type\": \"histogram\"}], \"histogram2d\": [{\"colorbar\": {\"outlinewidth\": 0, \"ticks\": \"\"}, \"colorscale\": [[0.0, \"#0d0887\"], [0.1111111111111111, \"#46039f\"], [0.2222222222222222, \"#7201a8\"], [0.3333333333333333, \"#9c179e\"], [0.4444444444444444, \"#bd3786\"], [0.5555555555555556, \"#d8576b\"], [0.6666666666666666, \"#ed7953\"], [0.7777777777777778, \"#fb9f3a\"], [0.8888888888888888, \"#fdca26\"], [1.0, \"#f0f921\"]], \"type\": \"histogram2d\"}], \"histogram2dcontour\": [{\"colorbar\": {\"outlinewidth\": 0, \"ticks\": \"\"}, \"colorscale\": [[0.0, \"#0d0887\"], [0.1111111111111111, \"#46039f\"], [0.2222222222222222, \"#7201a8\"], [0.3333333333333333, \"#9c179e\"], [0.4444444444444444, \"#bd3786\"], [0.5555555555555556, \"#d8576b\"], [0.6666666666666666, \"#ed7953\"], [0.7777777777777778, \"#fb9f3a\"], [0.8888888888888888, \"#fdca26\"], [1.0, \"#f0f921\"]], \"type\": \"histogram2dcontour\"}], \"mesh3d\": [{\"colorbar\": {\"outlinewidth\": 0, \"ticks\": \"\"}, \"type\": \"mesh3d\"}], \"parcoords\": [{\"line\": {\"colorbar\": {\"outlinewidth\": 0, \"ticks\": \"\"}}, \"type\": \"parcoords\"}], \"pie\": [{\"automargin\": true, \"type\": \"pie\"}], \"scatter\": [{\"marker\": {\"colorbar\": {\"outlinewidth\": 0, \"ticks\": \"\"}}, \"type\": \"scatter\"}], \"scatter3d\": [{\"line\": {\"colorbar\": {\"outlinewidth\": 0, \"ticks\": \"\"}}, \"marker\": {\"colorbar\": {\"outlinewidth\": 0, \"ticks\": \"\"}}, \"type\": \"scatter3d\"}], \"scattercarpet\": [{\"marker\": {\"colorbar\": {\"outlinewidth\": 0, \"ticks\": \"\"}}, \"type\": \"scattercarpet\"}], \"scattergeo\": [{\"marker\": {\"colorbar\": {\"outlinewidth\": 0, \"ticks\": \"\"}}, \"type\": \"scattergeo\"}], \"scattergl\": [{\"marker\": {\"colorbar\": {\"outlinewidth\": 0, \"ticks\": \"\"}}, \"type\": \"scattergl\"}], \"scattermapbox\": [{\"marker\": {\"colorbar\": {\"outlinewidth\": 0, \"ticks\": \"\"}}, \"type\": \"scattermapbox\"}], \"scatterpolar\": [{\"marker\": {\"colorbar\": {\"outlinewidth\": 0, \"ticks\": \"\"}}, \"type\": \"scatterpolar\"}], \"scatterpolargl\": [{\"marker\": {\"colorbar\": {\"outlinewidth\": 0, \"ticks\": \"\"}}, \"type\": \"scatterpolargl\"}], \"scatterternary\": [{\"marker\": {\"colorbar\": {\"outlinewidth\": 0, \"ticks\": \"\"}}, \"type\": \"scatterternary\"}], \"surface\": [{\"colorbar\": {\"outlinewidth\": 0, \"ticks\": \"\"}, \"colorscale\": [[0.0, \"#0d0887\"], [0.1111111111111111, \"#46039f\"], [0.2222222222222222, \"#7201a8\"], [0.3333333333333333, \"#9c179e\"], [0.4444444444444444, \"#bd3786\"], [0.5555555555555556, \"#d8576b\"], [0.6666666666666666, \"#ed7953\"], [0.7777777777777778, \"#fb9f3a\"], [0.8888888888888888, \"#fdca26\"], [1.0, \"#f0f921\"]], \"type\": \"surface\"}], \"table\": [{\"cells\": {\"fill\": {\"color\": \"#EBF0F8\"}, \"line\": {\"color\": \"white\"}}, \"header\": {\"fill\": {\"color\": \"#C8D4E3\"}, \"line\": {\"color\": \"white\"}}, \"type\": \"table\"}]}, \"layout\": {\"annotationdefaults\": {\"arrowcolor\": \"#2a3f5f\", \"arrowhead\": 0, \"arrowwidth\": 1}, \"autotypenumbers\": \"strict\", \"coloraxis\": {\"colorbar\": {\"outlinewidth\": 0, \"ticks\": \"\"}}, \"colorscale\": {\"diverging\": [[0, \"#8e0152\"], [0.1, \"#c51b7d\"], [0.2, \"#de77ae\"], [0.3, \"#f1b6da\"], [0.4, \"#fde0ef\"], [0.5, \"#f7f7f7\"], [0.6, \"#e6f5d0\"], [0.7, \"#b8e186\"], [0.8, \"#7fbc41\"], [0.9, \"#4d9221\"], [1, \"#276419\"]], \"sequential\": [[0.0, \"#0d0887\"], [0.1111111111111111, \"#46039f\"], [0.2222222222222222, \"#7201a8\"], [0.3333333333333333, \"#9c179e\"], [0.4444444444444444, \"#bd3786\"], [0.5555555555555556, \"#d8576b\"], [0.6666666666666666, \"#ed7953\"], [0.7777777777777778, \"#fb9f3a\"], [0.8888888888888888, \"#fdca26\"], [1.0, \"#f0f921\"]], \"sequentialminus\": [[0.0, \"#0d0887\"], [0.1111111111111111, \"#46039f\"], [0.2222222222222222, \"#7201a8\"], [0.3333333333333333, \"#9c179e\"], [0.4444444444444444, \"#bd3786\"], [0.5555555555555556, \"#d8576b\"], [0.6666666666666666, \"#ed7953\"], [0.7777777777777778, \"#fb9f3a\"], [0.8888888888888888, \"#fdca26\"], [1.0, \"#f0f921\"]]}, \"colorway\": [\"#636efa\", \"#EF553B\", \"#00cc96\", \"#ab63fa\", \"#FFA15A\", \"#19d3f3\", \"#FF6692\", \"#B6E880\", \"#FF97FF\", \"#FECB52\"], \"font\": {\"color\": \"#2a3f5f\"}, \"geo\": {\"bgcolor\": \"white\", \"lakecolor\": \"white\", \"landcolor\": \"#E5ECF6\", \"showlakes\": true, \"showland\": true, \"subunitcolor\": \"white\"}, \"hoverlabel\": {\"align\": \"left\"}, \"hovermode\": \"closest\", \"mapbox\": {\"style\": \"light\"}, \"paper_bgcolor\": \"white\", \"plot_bgcolor\": \"#E5ECF6\", \"polar\": {\"angularaxis\": {\"gridcolor\": \"white\", \"linecolor\": \"white\", \"ticks\": \"\"}, \"bgcolor\": \"#E5ECF6\", \"radialaxis\": {\"gridcolor\": \"white\", \"linecolor\": \"white\", \"ticks\": \"\"}}, \"scene\": {\"xaxis\": {\"backgroundcolor\": \"#E5ECF6\", \"gridcolor\": \"white\", \"gridwidth\": 2, \"linecolor\": \"white\", \"showbackground\": true, \"ticks\": \"\", \"zerolinecolor\": \"white\"}, \"yaxis\": {\"backgroundcolor\": \"#E5ECF6\", \"gridcolor\": \"white\", \"gridwidth\": 2, \"linecolor\": \"white\", \"showbackground\": true, \"ticks\": \"\", \"zerolinecolor\": \"white\"}, \"zaxis\": {\"backgroundcolor\": \"#E5ECF6\", \"gridcolor\": \"white\", \"gridwidth\": 2, \"linecolor\": \"white\", \"showbackground\": true, \"ticks\": \"\", \"zerolinecolor\": \"white\"}}, \"shapedefaults\": {\"line\": {\"color\": \"#2a3f5f\"}}, \"ternary\": {\"aaxis\": {\"gridcolor\": \"white\", \"linecolor\": \"white\", \"ticks\": \"\"}, \"baxis\": {\"gridcolor\": \"white\", \"linecolor\": \"white\", \"ticks\": \"\"}, \"bgcolor\": \"#E5ECF6\", \"caxis\": {\"gridcolor\": \"white\", \"linecolor\": \"white\", \"ticks\": \"\"}}, \"title\": {\"x\": 0.05}, \"xaxis\": {\"automargin\": true, \"gridcolor\": \"white\", \"linecolor\": \"white\", \"ticks\": \"\", \"title\": {\"standoff\": 15}, \"zerolinecolor\": \"white\", \"zerolinewidth\": 2}, \"yaxis\": {\"automargin\": true, \"gridcolor\": \"white\", \"linecolor\": \"white\", \"ticks\": \"\", \"title\": {\"standoff\": 15}, \"zerolinecolor\": \"white\", \"zerolinewidth\": 2}}}, \"title\": {\"font\": {\"color\": \"#4D5663\"}}, \"xaxis\": {\"gridcolor\": \"#E1E5ED\", \"showgrid\": true, \"tickfont\": {\"color\": \"#4D5663\"}, \"title\": {\"font\": {\"color\": \"#4D5663\"}, \"text\": \"\"}, \"zerolinecolor\": \"#E1E5ED\"}, \"yaxis\": {\"gridcolor\": \"#E1E5ED\", \"showgrid\": true, \"tickfont\": {\"color\": \"#4D5663\"}, \"title\": {\"font\": {\"color\": \"#4D5663\"}, \"text\": \"\"}, \"zerolinecolor\": \"#E1E5ED\"}},                        {\"showLink\": true, \"linkText\": \"Export to plot.ly\", \"plotlyServerURL\": \"https://plot.ly\", \"responsive\": true}                    ).then(function(){\n",
       "                            \n",
       "var gd = document.getElementById('ec023eea-e782-4557-92a1-c55bd7979409');\n",
       "var x = new MutationObserver(function (mutations, observer) {{\n",
       "        var display = window.getComputedStyle(gd).display;\n",
       "        if (!display || display === 'none') {{\n",
       "            console.log([gd, 'removed!']);\n",
       "            Plotly.purge(gd);\n",
       "            observer.disconnect();\n",
       "        }}\n",
       "}});\n",
       "\n",
       "// Listen for the removal of the full notebook cells\n",
       "var notebookContainer = gd.closest('#notebook-container');\n",
       "if (notebookContainer) {{\n",
       "    x.observe(notebookContainer, {childList: true});\n",
       "}}\n",
       "\n",
       "// Listen for the clearing of the current output cell\n",
       "var outputEl = gd.closest('.output');\n",
       "if (outputEl) {{\n",
       "    x.observe(outputEl, {childList: true});\n",
       "}}\n",
       "\n",
       "                        })                };                });            </script>        </div>"
      ]
     },
     "metadata": {},
     "output_type": "display_data"
    }
   ],
   "source": [
    "df['A'].iplot(kind='hist',bins=25)"
   ]
  },
  {
   "cell_type": "code",
   "execution_count": 18,
   "metadata": {},
   "outputs": [
    {
     "data": {
      "application/vnd.plotly.v1+json": {
       "config": {
        "linkText": "Export to plot.ly",
        "plotlyServerURL": "https://plot.ly",
        "showLink": true
       },
       "data": [
        {
         "marker": {
          "color": [
           "rgb(255, 153, 51)",
           "rgb(55, 128, 191)",
           "rgb(50, 171, 96)",
           "rgb(128, 0, 128)",
           "rgb(219, 64, 82)",
           "rgb(0, 128, 128)",
           "rgb(255, 255, 51)",
           "rgb(128, 128, 0)",
           "rgb(251, 128, 114)",
           "rgb(128, 177, 211)"
          ],
          "line": {
           "width": 1.3
          },
          "size": [
           27,
           80,
           56,
           80,
           71,
           45,
           67,
           29,
           57,
           71,
           38,
           52,
           38,
           15,
           38,
           23,
           56,
           39,
           48,
           30,
           112,
           43,
           54,
           36,
           90,
           59,
           43,
           53,
           60,
           31,
           64,
           62,
           40,
           60,
           41,
           68,
           44,
           35,
           35,
           63,
           32,
           65,
           56,
           16,
           58,
           42,
           47,
           84,
           28,
           62,
           78,
           36,
           61,
           35,
           44,
           50,
           44,
           72,
           80,
           29,
           44,
           34,
           52,
           55,
           92,
           83,
           52,
           39,
           54,
           71,
           64,
           80,
           42,
           51,
           42,
           45,
           52,
           17,
           54,
           34,
           51,
           46,
           60,
           30,
           83,
           36,
           29,
           48,
           15,
           55,
           79,
           78,
           48,
           60,
           55,
           58,
           69,
           40,
           12,
           74
          ],
          "symbol": "circle"
         },
         "mode": "markers",
         "text": "",
         "type": "scatter",
         "x": [
          1.2828662516368237,
          -1.9058548130178599,
          1.7624087399545465,
          -1.28957445810928,
          -0.33074735230222574,
          1.3924138972481361,
          -1.0876116171939914,
          -1.2081372790816036,
          -0.6737965225857129,
          -0.02583692854927848,
          0.8039293299766449,
          1.0107446447097366,
          -1.4146549512974564,
          -0.15595360258756916,
          1.1310264219534185,
          0.3109506384339165,
          -0.3808054031911281,
          0.11122446898664881,
          -0.9656072574207325,
          0.2406238062862133,
          -0.8068648764125891,
          -1.6871947272058962,
          1.2337296353563858,
          -0.3809284251154643,
          -0.35317470698447334,
          0.43415144542077877,
          1.2180163628219967,
          -1.522440486703186,
          0.5217061847644993,
          0.38561994701780056,
          -0.49192210133219766,
          0.14013093395285253,
          2.4036700387643384,
          -0.4807851905433463,
          -1.9605399057258375,
          1.2669050634370032,
          -1.5308676262032017,
          -0.5190412053819773,
          0.4173351672979796,
          -0.23687798244708996,
          -0.8460465955548907,
          -0.5084860834962257,
          0.1738108848450604,
          0.0368915898997711,
          0.6805541276651929,
          -0.3118292802592112,
          0.6187106394900223,
          -0.7343098042346263,
          1.0517884026374926,
          -1.0677456222735553,
          -0.9589362399553518,
          -0.6589773644257099,
          -1.1643134480046182,
          0.2627379525787662,
          -1.6330933755686416,
          0.6797640558459586,
          -0.21807894242190407,
          0.6121770011936802,
          -1.2288674416183698,
          -0.028932611373871618,
          -0.29558261017692433,
          0.8851879307115434,
          -0.12808461099746693,
          0.9982779724582205,
          -0.7046827243365449,
          -1.1674082125449132,
          0.008171711724090178,
          0.4552042065990801,
          0.8047843719361977,
          1.3520070749654678,
          -0.023124972881999134,
          -0.889286390339353,
          0.8736949087856304,
          -0.4306513533340919,
          -0.3947564542130474,
          0.9753568630991614,
          0.6465523276736221,
          1.1234495604869827,
          0.7575077430654791,
          0.10056159062489389,
          -0.5990740207238892,
          -0.04925861844922938,
          -0.5743835236711956,
          -0.2934599223661171,
          0.13943105173979872,
          -1.1730514837867145,
          -1.4097168362462602,
          0.2819429293041775,
          1.8333068010035791,
          -0.8453840321261459,
          0.28363834198412025,
          -1.2073436137625582,
          -0.7535816105045646,
          0.4060306049615743,
          0.48190397132211416,
          0.42673882846182315,
          2.706608622687043,
          -0.4285481488971416,
          0.13524802574512346,
          -0.11575641589217416
         ],
         "y": [
          -0.5154028289519922,
          0.0791322585661461,
          1.0396515346220583,
          0.4850278201225669,
          -1.6254111312880137,
          -0.998260106320457,
          0.26303934236234766,
          -0.30773940814879197,
          -0.01094210364897688,
          -1.3944439761556933,
          1.5055174490022059,
          0.8239482622881219,
          -0.509754796806725,
          0.7313794893071358,
          0.8820097692652915,
          -0.5406830740138031,
          -1.1329492868192956,
          -0.40077704369678735,
          0.40493122341053506,
          0.640683739641404,
          -1.0204224910137554,
          1.4889011107760302,
          0.36589253033272673,
          -0.10252420879481028,
          -1.430282150047373,
          0.14066371160501276,
          0.6163784978253694,
          1.432263924590453,
          1.8492563020547392,
          -0.8217827592875484,
          -0.44599160091648204,
          1.4894175755182744,
          1.0176964004655251,
          1.6807954863608192,
          -0.21163545755427834,
          -1.4275374906092662,
          -1.823583470739203,
          2.1659367105415224,
          -1.3434598934659385,
          0.22262118793658667,
          0.02691957065464893,
          1.2009810098660418,
          -1.0935773745230242,
          -1.5025461722914313,
          1.0487359193007595,
          -0.2335583839744253,
          -1.0022135401686079,
          -1.8599184167196092,
          -0.22899476071839855,
          -0.8522397606714057,
          1.0977669077056627,
          -0.3654870695184672,
          -0.26251197339235505,
          1.5041915918704902,
          -0.1298061375478299,
          0.027609862050904,
          -0.02269809222143529,
          -0.30059378354524874,
          0.4221110297659695,
          -1.1626066888185207,
          0.9309679489129465,
          -0.9547175245352093,
          -0.5855913889007434,
          -0.1491633236882833,
          -0.8179567266593832,
          -0.5065334580298471,
          1.090214517366577,
          0.9947655114561784,
          0.9921809126586695,
          0.12746228521287786,
          -0.7960222886985829,
          -0.6504377121940919,
          0.4746746423422819,
          0.7572970759682413,
          -0.9395071457654471,
          -0.3494968638336238,
          1.3460158607638404,
          -0.5488662923381947,
          -1.4653280244485671,
          -1.4572637821760548,
          -0.3889838356638975,
          -0.20622999422701915,
          -0.6414210441959368,
          1.060095370980204,
          0.4516365774723491,
          1.8616252137710345,
          -0.3596212431681085,
          -0.1469756823743527,
          0.5071310239049722,
          0.023489024913073517,
          -1.6734350889799126,
          1.7108871056559394,
          1.6637160594485334,
          -0.8199014490648515,
          0.38052374775287356,
          -1.4915215740611367,
          -0.10226702648398565,
          -0.3668531484436365,
          -0.06217608712746471,
          1.0770315841710956
         ]
        }
       ],
       "layout": {
        "legend": {
         "bgcolor": "#F5F6F9",
         "font": {
          "color": "#4D5663"
         }
        },
        "paper_bgcolor": "#F5F6F9",
        "plot_bgcolor": "#F5F6F9",
        "template": {
         "data": {
          "bar": [
           {
            "error_x": {
             "color": "#2a3f5f"
            },
            "error_y": {
             "color": "#2a3f5f"
            },
            "marker": {
             "line": {
              "color": "#E5ECF6",
              "width": 0.5
             }
            },
            "type": "bar"
           }
          ],
          "barpolar": [
           {
            "marker": {
             "line": {
              "color": "#E5ECF6",
              "width": 0.5
             }
            },
            "type": "barpolar"
           }
          ],
          "carpet": [
           {
            "aaxis": {
             "endlinecolor": "#2a3f5f",
             "gridcolor": "white",
             "linecolor": "white",
             "minorgridcolor": "white",
             "startlinecolor": "#2a3f5f"
            },
            "baxis": {
             "endlinecolor": "#2a3f5f",
             "gridcolor": "white",
             "linecolor": "white",
             "minorgridcolor": "white",
             "startlinecolor": "#2a3f5f"
            },
            "type": "carpet"
           }
          ],
          "choropleth": [
           {
            "colorbar": {
             "outlinewidth": 0,
             "ticks": ""
            },
            "type": "choropleth"
           }
          ],
          "contour": [
           {
            "colorbar": {
             "outlinewidth": 0,
             "ticks": ""
            },
            "colorscale": [
             [
              0,
              "#0d0887"
             ],
             [
              0.1111111111111111,
              "#46039f"
             ],
             [
              0.2222222222222222,
              "#7201a8"
             ],
             [
              0.3333333333333333,
              "#9c179e"
             ],
             [
              0.4444444444444444,
              "#bd3786"
             ],
             [
              0.5555555555555556,
              "#d8576b"
             ],
             [
              0.6666666666666666,
              "#ed7953"
             ],
             [
              0.7777777777777778,
              "#fb9f3a"
             ],
             [
              0.8888888888888888,
              "#fdca26"
             ],
             [
              1,
              "#f0f921"
             ]
            ],
            "type": "contour"
           }
          ],
          "contourcarpet": [
           {
            "colorbar": {
             "outlinewidth": 0,
             "ticks": ""
            },
            "type": "contourcarpet"
           }
          ],
          "heatmap": [
           {
            "colorbar": {
             "outlinewidth": 0,
             "ticks": ""
            },
            "colorscale": [
             [
              0,
              "#0d0887"
             ],
             [
              0.1111111111111111,
              "#46039f"
             ],
             [
              0.2222222222222222,
              "#7201a8"
             ],
             [
              0.3333333333333333,
              "#9c179e"
             ],
             [
              0.4444444444444444,
              "#bd3786"
             ],
             [
              0.5555555555555556,
              "#d8576b"
             ],
             [
              0.6666666666666666,
              "#ed7953"
             ],
             [
              0.7777777777777778,
              "#fb9f3a"
             ],
             [
              0.8888888888888888,
              "#fdca26"
             ],
             [
              1,
              "#f0f921"
             ]
            ],
            "type": "heatmap"
           }
          ],
          "heatmapgl": [
           {
            "colorbar": {
             "outlinewidth": 0,
             "ticks": ""
            },
            "colorscale": [
             [
              0,
              "#0d0887"
             ],
             [
              0.1111111111111111,
              "#46039f"
             ],
             [
              0.2222222222222222,
              "#7201a8"
             ],
             [
              0.3333333333333333,
              "#9c179e"
             ],
             [
              0.4444444444444444,
              "#bd3786"
             ],
             [
              0.5555555555555556,
              "#d8576b"
             ],
             [
              0.6666666666666666,
              "#ed7953"
             ],
             [
              0.7777777777777778,
              "#fb9f3a"
             ],
             [
              0.8888888888888888,
              "#fdca26"
             ],
             [
              1,
              "#f0f921"
             ]
            ],
            "type": "heatmapgl"
           }
          ],
          "histogram": [
           {
            "marker": {
             "colorbar": {
              "outlinewidth": 0,
              "ticks": ""
             }
            },
            "type": "histogram"
           }
          ],
          "histogram2d": [
           {
            "colorbar": {
             "outlinewidth": 0,
             "ticks": ""
            },
            "colorscale": [
             [
              0,
              "#0d0887"
             ],
             [
              0.1111111111111111,
              "#46039f"
             ],
             [
              0.2222222222222222,
              "#7201a8"
             ],
             [
              0.3333333333333333,
              "#9c179e"
             ],
             [
              0.4444444444444444,
              "#bd3786"
             ],
             [
              0.5555555555555556,
              "#d8576b"
             ],
             [
              0.6666666666666666,
              "#ed7953"
             ],
             [
              0.7777777777777778,
              "#fb9f3a"
             ],
             [
              0.8888888888888888,
              "#fdca26"
             ],
             [
              1,
              "#f0f921"
             ]
            ],
            "type": "histogram2d"
           }
          ],
          "histogram2dcontour": [
           {
            "colorbar": {
             "outlinewidth": 0,
             "ticks": ""
            },
            "colorscale": [
             [
              0,
              "#0d0887"
             ],
             [
              0.1111111111111111,
              "#46039f"
             ],
             [
              0.2222222222222222,
              "#7201a8"
             ],
             [
              0.3333333333333333,
              "#9c179e"
             ],
             [
              0.4444444444444444,
              "#bd3786"
             ],
             [
              0.5555555555555556,
              "#d8576b"
             ],
             [
              0.6666666666666666,
              "#ed7953"
             ],
             [
              0.7777777777777778,
              "#fb9f3a"
             ],
             [
              0.8888888888888888,
              "#fdca26"
             ],
             [
              1,
              "#f0f921"
             ]
            ],
            "type": "histogram2dcontour"
           }
          ],
          "mesh3d": [
           {
            "colorbar": {
             "outlinewidth": 0,
             "ticks": ""
            },
            "type": "mesh3d"
           }
          ],
          "parcoords": [
           {
            "line": {
             "colorbar": {
              "outlinewidth": 0,
              "ticks": ""
             }
            },
            "type": "parcoords"
           }
          ],
          "pie": [
           {
            "automargin": true,
            "type": "pie"
           }
          ],
          "scatter": [
           {
            "marker": {
             "colorbar": {
              "outlinewidth": 0,
              "ticks": ""
             }
            },
            "type": "scatter"
           }
          ],
          "scatter3d": [
           {
            "line": {
             "colorbar": {
              "outlinewidth": 0,
              "ticks": ""
             }
            },
            "marker": {
             "colorbar": {
              "outlinewidth": 0,
              "ticks": ""
             }
            },
            "type": "scatter3d"
           }
          ],
          "scattercarpet": [
           {
            "marker": {
             "colorbar": {
              "outlinewidth": 0,
              "ticks": ""
             }
            },
            "type": "scattercarpet"
           }
          ],
          "scattergeo": [
           {
            "marker": {
             "colorbar": {
              "outlinewidth": 0,
              "ticks": ""
             }
            },
            "type": "scattergeo"
           }
          ],
          "scattergl": [
           {
            "marker": {
             "colorbar": {
              "outlinewidth": 0,
              "ticks": ""
             }
            },
            "type": "scattergl"
           }
          ],
          "scattermapbox": [
           {
            "marker": {
             "colorbar": {
              "outlinewidth": 0,
              "ticks": ""
             }
            },
            "type": "scattermapbox"
           }
          ],
          "scatterpolar": [
           {
            "marker": {
             "colorbar": {
              "outlinewidth": 0,
              "ticks": ""
             }
            },
            "type": "scatterpolar"
           }
          ],
          "scatterpolargl": [
           {
            "marker": {
             "colorbar": {
              "outlinewidth": 0,
              "ticks": ""
             }
            },
            "type": "scatterpolargl"
           }
          ],
          "scatterternary": [
           {
            "marker": {
             "colorbar": {
              "outlinewidth": 0,
              "ticks": ""
             }
            },
            "type": "scatterternary"
           }
          ],
          "surface": [
           {
            "colorbar": {
             "outlinewidth": 0,
             "ticks": ""
            },
            "colorscale": [
             [
              0,
              "#0d0887"
             ],
             [
              0.1111111111111111,
              "#46039f"
             ],
             [
              0.2222222222222222,
              "#7201a8"
             ],
             [
              0.3333333333333333,
              "#9c179e"
             ],
             [
              0.4444444444444444,
              "#bd3786"
             ],
             [
              0.5555555555555556,
              "#d8576b"
             ],
             [
              0.6666666666666666,
              "#ed7953"
             ],
             [
              0.7777777777777778,
              "#fb9f3a"
             ],
             [
              0.8888888888888888,
              "#fdca26"
             ],
             [
              1,
              "#f0f921"
             ]
            ],
            "type": "surface"
           }
          ],
          "table": [
           {
            "cells": {
             "fill": {
              "color": "#EBF0F8"
             },
             "line": {
              "color": "white"
             }
            },
            "header": {
             "fill": {
              "color": "#C8D4E3"
             },
             "line": {
              "color": "white"
             }
            },
            "type": "table"
           }
          ]
         },
         "layout": {
          "annotationdefaults": {
           "arrowcolor": "#2a3f5f",
           "arrowhead": 0,
           "arrowwidth": 1
          },
          "autotypenumbers": "strict",
          "coloraxis": {
           "colorbar": {
            "outlinewidth": 0,
            "ticks": ""
           }
          },
          "colorscale": {
           "diverging": [
            [
             0,
             "#8e0152"
            ],
            [
             0.1,
             "#c51b7d"
            ],
            [
             0.2,
             "#de77ae"
            ],
            [
             0.3,
             "#f1b6da"
            ],
            [
             0.4,
             "#fde0ef"
            ],
            [
             0.5,
             "#f7f7f7"
            ],
            [
             0.6,
             "#e6f5d0"
            ],
            [
             0.7,
             "#b8e186"
            ],
            [
             0.8,
             "#7fbc41"
            ],
            [
             0.9,
             "#4d9221"
            ],
            [
             1,
             "#276419"
            ]
           ],
           "sequential": [
            [
             0,
             "#0d0887"
            ],
            [
             0.1111111111111111,
             "#46039f"
            ],
            [
             0.2222222222222222,
             "#7201a8"
            ],
            [
             0.3333333333333333,
             "#9c179e"
            ],
            [
             0.4444444444444444,
             "#bd3786"
            ],
            [
             0.5555555555555556,
             "#d8576b"
            ],
            [
             0.6666666666666666,
             "#ed7953"
            ],
            [
             0.7777777777777778,
             "#fb9f3a"
            ],
            [
             0.8888888888888888,
             "#fdca26"
            ],
            [
             1,
             "#f0f921"
            ]
           ],
           "sequentialminus": [
            [
             0,
             "#0d0887"
            ],
            [
             0.1111111111111111,
             "#46039f"
            ],
            [
             0.2222222222222222,
             "#7201a8"
            ],
            [
             0.3333333333333333,
             "#9c179e"
            ],
            [
             0.4444444444444444,
             "#bd3786"
            ],
            [
             0.5555555555555556,
             "#d8576b"
            ],
            [
             0.6666666666666666,
             "#ed7953"
            ],
            [
             0.7777777777777778,
             "#fb9f3a"
            ],
            [
             0.8888888888888888,
             "#fdca26"
            ],
            [
             1,
             "#f0f921"
            ]
           ]
          },
          "colorway": [
           "#636efa",
           "#EF553B",
           "#00cc96",
           "#ab63fa",
           "#FFA15A",
           "#19d3f3",
           "#FF6692",
           "#B6E880",
           "#FF97FF",
           "#FECB52"
          ],
          "font": {
           "color": "#2a3f5f"
          },
          "geo": {
           "bgcolor": "white",
           "lakecolor": "white",
           "landcolor": "#E5ECF6",
           "showlakes": true,
           "showland": true,
           "subunitcolor": "white"
          },
          "hoverlabel": {
           "align": "left"
          },
          "hovermode": "closest",
          "mapbox": {
           "style": "light"
          },
          "paper_bgcolor": "white",
          "plot_bgcolor": "#E5ECF6",
          "polar": {
           "angularaxis": {
            "gridcolor": "white",
            "linecolor": "white",
            "ticks": ""
           },
           "bgcolor": "#E5ECF6",
           "radialaxis": {
            "gridcolor": "white",
            "linecolor": "white",
            "ticks": ""
           }
          },
          "scene": {
           "xaxis": {
            "backgroundcolor": "#E5ECF6",
            "gridcolor": "white",
            "gridwidth": 2,
            "linecolor": "white",
            "showbackground": true,
            "ticks": "",
            "zerolinecolor": "white"
           },
           "yaxis": {
            "backgroundcolor": "#E5ECF6",
            "gridcolor": "white",
            "gridwidth": 2,
            "linecolor": "white",
            "showbackground": true,
            "ticks": "",
            "zerolinecolor": "white"
           },
           "zaxis": {
            "backgroundcolor": "#E5ECF6",
            "gridcolor": "white",
            "gridwidth": 2,
            "linecolor": "white",
            "showbackground": true,
            "ticks": "",
            "zerolinecolor": "white"
           }
          },
          "shapedefaults": {
           "line": {
            "color": "#2a3f5f"
           }
          },
          "ternary": {
           "aaxis": {
            "gridcolor": "white",
            "linecolor": "white",
            "ticks": ""
           },
           "baxis": {
            "gridcolor": "white",
            "linecolor": "white",
            "ticks": ""
           },
           "bgcolor": "#E5ECF6",
           "caxis": {
            "gridcolor": "white",
            "linecolor": "white",
            "ticks": ""
           }
          },
          "title": {
           "x": 0.05
          },
          "xaxis": {
           "automargin": true,
           "gridcolor": "white",
           "linecolor": "white",
           "ticks": "",
           "title": {
            "standoff": 15
           },
           "zerolinecolor": "white",
           "zerolinewidth": 2
          },
          "yaxis": {
           "automargin": true,
           "gridcolor": "white",
           "linecolor": "white",
           "ticks": "",
           "title": {
            "standoff": 15
           },
           "zerolinecolor": "white",
           "zerolinewidth": 2
          }
         }
        },
        "title": {
         "font": {
          "color": "#4D5663"
         }
        },
        "xaxis": {
         "gridcolor": "#E1E5ED",
         "showgrid": true,
         "tickfont": {
          "color": "#4D5663"
         },
         "title": {
          "font": {
           "color": "#4D5663"
          },
          "text": ""
         },
         "zerolinecolor": "#E1E5ED"
        },
        "yaxis": {
         "gridcolor": "#E1E5ED",
         "showgrid": true,
         "tickfont": {
          "color": "#4D5663"
         },
         "title": {
          "font": {
           "color": "#4D5663"
          },
          "text": ""
         },
         "zerolinecolor": "#E1E5ED"
        }
       }
      },
      "text/html": [
       "<div>                            <div id=\"f092f1a4-43cb-43b7-9d53-a9b4292bd45e\" class=\"plotly-graph-div\" style=\"height:525px; width:100%;\"></div>            <script type=\"text/javascript\">                require([\"plotly\"], function(Plotly) {                    window.PLOTLYENV=window.PLOTLYENV || {};\n",
       "                    window.PLOTLYENV.BASE_URL='https://plot.ly';                                    if (document.getElementById(\"f092f1a4-43cb-43b7-9d53-a9b4292bd45e\")) {                    Plotly.newPlot(                        \"f092f1a4-43cb-43b7-9d53-a9b4292bd45e\",                        [{\"marker\": {\"color\": [\"rgb(255, 153, 51)\", \"rgb(55, 128, 191)\", \"rgb(50, 171, 96)\", \"rgb(128, 0, 128)\", \"rgb(219, 64, 82)\", \"rgb(0, 128, 128)\", \"rgb(255, 255, 51)\", \"rgb(128, 128, 0)\", \"rgb(251, 128, 114)\", \"rgb(128, 177, 211)\"], \"line\": {\"width\": 1.3}, \"size\": [27, 80, 56, 80, 71, 45, 67, 29, 57, 71, 38, 52, 38, 15, 38, 23, 56, 39, 48, 30, 112, 43, 54, 36, 90, 59, 43, 53, 60, 31, 64, 62, 40, 60, 41, 68, 44, 35, 35, 63, 32, 65, 56, 16, 58, 42, 47, 84, 28, 62, 78, 36, 61, 35, 44, 50, 44, 72, 80, 29, 44, 34, 52, 55, 92, 83, 52, 39, 54, 71, 64, 80, 42, 51, 42, 45, 52, 17, 54, 34, 51, 46, 60, 30, 83, 36, 29, 48, 15, 55, 79, 78, 48, 60, 55, 58, 69, 40, 12, 74], \"symbol\": \"circle\"}, \"mode\": \"markers\", \"text\": \"\", \"type\": \"scatter\", \"x\": [1.2828662516368237, -1.9058548130178599, 1.7624087399545465, -1.28957445810928, -0.33074735230222574, 1.3924138972481361, -1.0876116171939914, -1.2081372790816036, -0.6737965225857129, -0.02583692854927848, 0.8039293299766449, 1.0107446447097366, -1.4146549512974564, -0.15595360258756916, 1.1310264219534185, 0.3109506384339165, -0.3808054031911281, 0.11122446898664881, -0.9656072574207325, 0.2406238062862133, -0.8068648764125891, -1.6871947272058962, 1.2337296353563858, -0.3809284251154643, -0.35317470698447334, 0.43415144542077877, 1.2180163628219967, -1.522440486703186, 0.5217061847644993, 0.38561994701780056, -0.49192210133219766, 0.14013093395285253, 2.4036700387643384, -0.4807851905433463, -1.9605399057258375, 1.2669050634370032, -1.5308676262032017, -0.5190412053819773, 0.4173351672979796, -0.23687798244708996, -0.8460465955548907, -0.5084860834962257, 0.1738108848450604, 0.0368915898997711, 0.6805541276651929, -0.3118292802592112, 0.6187106394900223, -0.7343098042346263, 1.0517884026374926, -1.0677456222735553, -0.9589362399553518, -0.6589773644257099, -1.1643134480046182, 0.2627379525787662, -1.6330933755686416, 0.6797640558459586, -0.21807894242190407, 0.6121770011936802, -1.2288674416183698, -0.028932611373871618, -0.29558261017692433, 0.8851879307115434, -0.12808461099746693, 0.9982779724582205, -0.7046827243365449, -1.1674082125449132, 0.008171711724090178, 0.4552042065990801, 0.8047843719361977, 1.3520070749654678, -0.023124972881999134, -0.889286390339353, 0.8736949087856304, -0.4306513533340919, -0.3947564542130474, 0.9753568630991614, 0.6465523276736221, 1.1234495604869827, 0.7575077430654791, 0.10056159062489389, -0.5990740207238892, -0.04925861844922938, -0.5743835236711956, -0.2934599223661171, 0.13943105173979872, -1.1730514837867145, -1.4097168362462602, 0.2819429293041775, 1.8333068010035791, -0.8453840321261459, 0.28363834198412025, -1.2073436137625582, -0.7535816105045646, 0.4060306049615743, 0.48190397132211416, 0.42673882846182315, 2.706608622687043, -0.4285481488971416, 0.13524802574512346, -0.11575641589217416], \"y\": [-0.5154028289519922, 0.0791322585661461, 1.0396515346220583, 0.4850278201225669, -1.6254111312880137, -0.998260106320457, 0.26303934236234766, -0.30773940814879197, -0.01094210364897688, -1.3944439761556933, 1.5055174490022059, 0.8239482622881219, -0.509754796806725, 0.7313794893071358, 0.8820097692652915, -0.5406830740138031, -1.1329492868192956, -0.40077704369678735, 0.40493122341053506, 0.640683739641404, -1.0204224910137554, 1.4889011107760302, 0.36589253033272673, -0.10252420879481028, -1.430282150047373, 0.14066371160501276, 0.6163784978253694, 1.432263924590453, 1.8492563020547392, -0.8217827592875484, -0.44599160091648204, 1.4894175755182744, 1.0176964004655251, 1.6807954863608192, -0.21163545755427834, -1.4275374906092662, -1.823583470739203, 2.1659367105415224, -1.3434598934659385, 0.22262118793658667, 0.02691957065464893, 1.2009810098660418, -1.0935773745230242, -1.5025461722914313, 1.0487359193007595, -0.2335583839744253, -1.0022135401686079, -1.8599184167196092, -0.22899476071839855, -0.8522397606714057, 1.0977669077056627, -0.3654870695184672, -0.26251197339235505, 1.5041915918704902, -0.1298061375478299, 0.027609862050904, -0.02269809222143529, -0.30059378354524874, 0.4221110297659695, -1.1626066888185207, 0.9309679489129465, -0.9547175245352093, -0.5855913889007434, -0.1491633236882833, -0.8179567266593832, -0.5065334580298471, 1.090214517366577, 0.9947655114561784, 0.9921809126586695, 0.12746228521287786, -0.7960222886985829, -0.6504377121940919, 0.4746746423422819, 0.7572970759682413, -0.9395071457654471, -0.3494968638336238, 1.3460158607638404, -0.5488662923381947, -1.4653280244485671, -1.4572637821760548, -0.3889838356638975, -0.20622999422701915, -0.6414210441959368, 1.060095370980204, 0.4516365774723491, 1.8616252137710345, -0.3596212431681085, -0.1469756823743527, 0.5071310239049722, 0.023489024913073517, -1.6734350889799126, 1.7108871056559394, 1.6637160594485334, -0.8199014490648515, 0.38052374775287356, -1.4915215740611367, -0.10226702648398565, -0.3668531484436365, -0.06217608712746471, 1.0770315841710956]}],                        {\"legend\": {\"bgcolor\": \"#F5F6F9\", \"font\": {\"color\": \"#4D5663\"}}, \"paper_bgcolor\": \"#F5F6F9\", \"plot_bgcolor\": \"#F5F6F9\", \"template\": {\"data\": {\"bar\": [{\"error_x\": {\"color\": \"#2a3f5f\"}, \"error_y\": {\"color\": \"#2a3f5f\"}, \"marker\": {\"line\": {\"color\": \"#E5ECF6\", \"width\": 0.5}}, \"type\": \"bar\"}], \"barpolar\": [{\"marker\": {\"line\": {\"color\": \"#E5ECF6\", \"width\": 0.5}}, \"type\": \"barpolar\"}], \"carpet\": [{\"aaxis\": {\"endlinecolor\": \"#2a3f5f\", \"gridcolor\": \"white\", \"linecolor\": \"white\", \"minorgridcolor\": \"white\", \"startlinecolor\": \"#2a3f5f\"}, \"baxis\": {\"endlinecolor\": \"#2a3f5f\", \"gridcolor\": \"white\", \"linecolor\": \"white\", \"minorgridcolor\": \"white\", \"startlinecolor\": \"#2a3f5f\"}, \"type\": \"carpet\"}], \"choropleth\": [{\"colorbar\": {\"outlinewidth\": 0, \"ticks\": \"\"}, \"type\": \"choropleth\"}], \"contour\": [{\"colorbar\": {\"outlinewidth\": 0, \"ticks\": \"\"}, \"colorscale\": [[0.0, \"#0d0887\"], [0.1111111111111111, \"#46039f\"], [0.2222222222222222, \"#7201a8\"], [0.3333333333333333, \"#9c179e\"], [0.4444444444444444, \"#bd3786\"], [0.5555555555555556, \"#d8576b\"], [0.6666666666666666, \"#ed7953\"], [0.7777777777777778, \"#fb9f3a\"], [0.8888888888888888, \"#fdca26\"], [1.0, \"#f0f921\"]], \"type\": \"contour\"}], \"contourcarpet\": [{\"colorbar\": {\"outlinewidth\": 0, \"ticks\": \"\"}, \"type\": \"contourcarpet\"}], \"heatmap\": [{\"colorbar\": {\"outlinewidth\": 0, \"ticks\": \"\"}, \"colorscale\": [[0.0, \"#0d0887\"], [0.1111111111111111, \"#46039f\"], [0.2222222222222222, \"#7201a8\"], [0.3333333333333333, \"#9c179e\"], [0.4444444444444444, \"#bd3786\"], [0.5555555555555556, \"#d8576b\"], [0.6666666666666666, \"#ed7953\"], [0.7777777777777778, \"#fb9f3a\"], [0.8888888888888888, \"#fdca26\"], [1.0, \"#f0f921\"]], \"type\": \"heatmap\"}], \"heatmapgl\": [{\"colorbar\": {\"outlinewidth\": 0, \"ticks\": \"\"}, \"colorscale\": [[0.0, \"#0d0887\"], [0.1111111111111111, \"#46039f\"], [0.2222222222222222, \"#7201a8\"], [0.3333333333333333, \"#9c179e\"], [0.4444444444444444, \"#bd3786\"], [0.5555555555555556, \"#d8576b\"], [0.6666666666666666, \"#ed7953\"], [0.7777777777777778, \"#fb9f3a\"], [0.8888888888888888, \"#fdca26\"], [1.0, \"#f0f921\"]], \"type\": \"heatmapgl\"}], \"histogram\": [{\"marker\": {\"colorbar\": {\"outlinewidth\": 0, \"ticks\": \"\"}}, \"type\": \"histogram\"}], \"histogram2d\": [{\"colorbar\": {\"outlinewidth\": 0, \"ticks\": \"\"}, \"colorscale\": [[0.0, \"#0d0887\"], [0.1111111111111111, \"#46039f\"], [0.2222222222222222, \"#7201a8\"], [0.3333333333333333, \"#9c179e\"], [0.4444444444444444, \"#bd3786\"], [0.5555555555555556, \"#d8576b\"], [0.6666666666666666, \"#ed7953\"], [0.7777777777777778, \"#fb9f3a\"], [0.8888888888888888, \"#fdca26\"], [1.0, \"#f0f921\"]], \"type\": \"histogram2d\"}], \"histogram2dcontour\": [{\"colorbar\": {\"outlinewidth\": 0, \"ticks\": \"\"}, \"colorscale\": [[0.0, \"#0d0887\"], [0.1111111111111111, \"#46039f\"], [0.2222222222222222, \"#7201a8\"], [0.3333333333333333, \"#9c179e\"], [0.4444444444444444, \"#bd3786\"], [0.5555555555555556, \"#d8576b\"], [0.6666666666666666, \"#ed7953\"], [0.7777777777777778, \"#fb9f3a\"], [0.8888888888888888, \"#fdca26\"], [1.0, \"#f0f921\"]], \"type\": \"histogram2dcontour\"}], \"mesh3d\": [{\"colorbar\": {\"outlinewidth\": 0, \"ticks\": \"\"}, \"type\": \"mesh3d\"}], \"parcoords\": [{\"line\": {\"colorbar\": {\"outlinewidth\": 0, \"ticks\": \"\"}}, \"type\": \"parcoords\"}], \"pie\": [{\"automargin\": true, \"type\": \"pie\"}], \"scatter\": [{\"marker\": {\"colorbar\": {\"outlinewidth\": 0, \"ticks\": \"\"}}, \"type\": \"scatter\"}], \"scatter3d\": [{\"line\": {\"colorbar\": {\"outlinewidth\": 0, \"ticks\": \"\"}}, \"marker\": {\"colorbar\": {\"outlinewidth\": 0, \"ticks\": \"\"}}, \"type\": \"scatter3d\"}], \"scattercarpet\": [{\"marker\": {\"colorbar\": {\"outlinewidth\": 0, \"ticks\": \"\"}}, \"type\": \"scattercarpet\"}], \"scattergeo\": [{\"marker\": {\"colorbar\": {\"outlinewidth\": 0, \"ticks\": \"\"}}, \"type\": \"scattergeo\"}], \"scattergl\": [{\"marker\": {\"colorbar\": {\"outlinewidth\": 0, \"ticks\": \"\"}}, \"type\": \"scattergl\"}], \"scattermapbox\": [{\"marker\": {\"colorbar\": {\"outlinewidth\": 0, \"ticks\": \"\"}}, \"type\": \"scattermapbox\"}], \"scatterpolar\": [{\"marker\": {\"colorbar\": {\"outlinewidth\": 0, \"ticks\": \"\"}}, \"type\": \"scatterpolar\"}], \"scatterpolargl\": [{\"marker\": {\"colorbar\": {\"outlinewidth\": 0, \"ticks\": \"\"}}, \"type\": \"scatterpolargl\"}], \"scatterternary\": [{\"marker\": {\"colorbar\": {\"outlinewidth\": 0, \"ticks\": \"\"}}, \"type\": \"scatterternary\"}], \"surface\": [{\"colorbar\": {\"outlinewidth\": 0, \"ticks\": \"\"}, \"colorscale\": [[0.0, \"#0d0887\"], [0.1111111111111111, \"#46039f\"], [0.2222222222222222, \"#7201a8\"], [0.3333333333333333, \"#9c179e\"], [0.4444444444444444, \"#bd3786\"], [0.5555555555555556, \"#d8576b\"], [0.6666666666666666, \"#ed7953\"], [0.7777777777777778, \"#fb9f3a\"], [0.8888888888888888, \"#fdca26\"], [1.0, \"#f0f921\"]], \"type\": \"surface\"}], \"table\": [{\"cells\": {\"fill\": {\"color\": \"#EBF0F8\"}, \"line\": {\"color\": \"white\"}}, \"header\": {\"fill\": {\"color\": \"#C8D4E3\"}, \"line\": {\"color\": \"white\"}}, \"type\": \"table\"}]}, \"layout\": {\"annotationdefaults\": {\"arrowcolor\": \"#2a3f5f\", \"arrowhead\": 0, \"arrowwidth\": 1}, \"autotypenumbers\": \"strict\", \"coloraxis\": {\"colorbar\": {\"outlinewidth\": 0, \"ticks\": \"\"}}, \"colorscale\": {\"diverging\": [[0, \"#8e0152\"], [0.1, \"#c51b7d\"], [0.2, \"#de77ae\"], [0.3, \"#f1b6da\"], [0.4, \"#fde0ef\"], [0.5, \"#f7f7f7\"], [0.6, \"#e6f5d0\"], [0.7, \"#b8e186\"], [0.8, \"#7fbc41\"], [0.9, \"#4d9221\"], [1, \"#276419\"]], \"sequential\": [[0.0, \"#0d0887\"], [0.1111111111111111, \"#46039f\"], [0.2222222222222222, \"#7201a8\"], [0.3333333333333333, \"#9c179e\"], [0.4444444444444444, \"#bd3786\"], [0.5555555555555556, \"#d8576b\"], [0.6666666666666666, \"#ed7953\"], [0.7777777777777778, \"#fb9f3a\"], [0.8888888888888888, \"#fdca26\"], [1.0, \"#f0f921\"]], \"sequentialminus\": [[0.0, \"#0d0887\"], [0.1111111111111111, \"#46039f\"], [0.2222222222222222, \"#7201a8\"], [0.3333333333333333, \"#9c179e\"], [0.4444444444444444, \"#bd3786\"], [0.5555555555555556, \"#d8576b\"], [0.6666666666666666, \"#ed7953\"], [0.7777777777777778, \"#fb9f3a\"], [0.8888888888888888, \"#fdca26\"], [1.0, \"#f0f921\"]]}, \"colorway\": [\"#636efa\", \"#EF553B\", \"#00cc96\", \"#ab63fa\", \"#FFA15A\", \"#19d3f3\", \"#FF6692\", \"#B6E880\", \"#FF97FF\", \"#FECB52\"], \"font\": {\"color\": \"#2a3f5f\"}, \"geo\": {\"bgcolor\": \"white\", \"lakecolor\": \"white\", \"landcolor\": \"#E5ECF6\", \"showlakes\": true, \"showland\": true, \"subunitcolor\": \"white\"}, \"hoverlabel\": {\"align\": \"left\"}, \"hovermode\": \"closest\", \"mapbox\": {\"style\": \"light\"}, \"paper_bgcolor\": \"white\", \"plot_bgcolor\": \"#E5ECF6\", \"polar\": {\"angularaxis\": {\"gridcolor\": \"white\", \"linecolor\": \"white\", \"ticks\": \"\"}, \"bgcolor\": \"#E5ECF6\", \"radialaxis\": {\"gridcolor\": \"white\", \"linecolor\": \"white\", \"ticks\": \"\"}}, \"scene\": {\"xaxis\": {\"backgroundcolor\": \"#E5ECF6\", \"gridcolor\": \"white\", \"gridwidth\": 2, \"linecolor\": \"white\", \"showbackground\": true, \"ticks\": \"\", \"zerolinecolor\": \"white\"}, \"yaxis\": {\"backgroundcolor\": \"#E5ECF6\", \"gridcolor\": \"white\", \"gridwidth\": 2, \"linecolor\": \"white\", \"showbackground\": true, \"ticks\": \"\", \"zerolinecolor\": \"white\"}, \"zaxis\": {\"backgroundcolor\": \"#E5ECF6\", \"gridcolor\": \"white\", \"gridwidth\": 2, \"linecolor\": \"white\", \"showbackground\": true, \"ticks\": \"\", \"zerolinecolor\": \"white\"}}, \"shapedefaults\": {\"line\": {\"color\": \"#2a3f5f\"}}, \"ternary\": {\"aaxis\": {\"gridcolor\": \"white\", \"linecolor\": \"white\", \"ticks\": \"\"}, \"baxis\": {\"gridcolor\": \"white\", \"linecolor\": \"white\", \"ticks\": \"\"}, \"bgcolor\": \"#E5ECF6\", \"caxis\": {\"gridcolor\": \"white\", \"linecolor\": \"white\", \"ticks\": \"\"}}, \"title\": {\"x\": 0.05}, \"xaxis\": {\"automargin\": true, \"gridcolor\": \"white\", \"linecolor\": \"white\", \"ticks\": \"\", \"title\": {\"standoff\": 15}, \"zerolinecolor\": \"white\", \"zerolinewidth\": 2}, \"yaxis\": {\"automargin\": true, \"gridcolor\": \"white\", \"linecolor\": \"white\", \"ticks\": \"\", \"title\": {\"standoff\": 15}, \"zerolinecolor\": \"white\", \"zerolinewidth\": 2}}}, \"title\": {\"font\": {\"color\": \"#4D5663\"}}, \"xaxis\": {\"gridcolor\": \"#E1E5ED\", \"showgrid\": true, \"tickfont\": {\"color\": \"#4D5663\"}, \"title\": {\"font\": {\"color\": \"#4D5663\"}, \"text\": \"\"}, \"zerolinecolor\": \"#E1E5ED\"}, \"yaxis\": {\"gridcolor\": \"#E1E5ED\", \"showgrid\": true, \"tickfont\": {\"color\": \"#4D5663\"}, \"title\": {\"font\": {\"color\": \"#4D5663\"}, \"text\": \"\"}, \"zerolinecolor\": \"#E1E5ED\"}},                        {\"showLink\": true, \"linkText\": \"Export to plot.ly\", \"plotlyServerURL\": \"https://plot.ly\", \"responsive\": true}                    ).then(function(){\n",
       "                            \n",
       "var gd = document.getElementById('f092f1a4-43cb-43b7-9d53-a9b4292bd45e');\n",
       "var x = new MutationObserver(function (mutations, observer) {{\n",
       "        var display = window.getComputedStyle(gd).display;\n",
       "        if (!display || display === 'none') {{\n",
       "            console.log([gd, 'removed!']);\n",
       "            Plotly.purge(gd);\n",
       "            observer.disconnect();\n",
       "        }}\n",
       "}});\n",
       "\n",
       "// Listen for the removal of the full notebook cells\n",
       "var notebookContainer = gd.closest('#notebook-container');\n",
       "if (notebookContainer) {{\n",
       "    x.observe(notebookContainer, {childList: true});\n",
       "}}\n",
       "\n",
       "// Listen for the clearing of the current output cell\n",
       "var outputEl = gd.closest('.output');\n",
       "if (outputEl) {{\n",
       "    x.observe(outputEl, {childList: true});\n",
       "}}\n",
       "\n",
       "                        })                };                });            </script>        </div>"
      ]
     },
     "metadata": {},
     "output_type": "display_data"
    }
   ],
   "source": [
    "df.iplot(kind='bubble',x='A',y='B',size='C')"
   ]
  },
  {
   "cell_type": "markdown",
   "metadata": {},
   "source": [
    "## scatter_matrix()\n",
    "\n",
    "Similar to sns.pairplot()"
   ]
  },
  {
   "cell_type": "code",
   "execution_count": 19,
   "metadata": {},
   "outputs": [
    {
     "data": {
      "application/vnd.plotly.v1+json": {
       "config": {
        "linkText": "Export to plot.ly",
        "plotlyServerURL": "https://plot.ly",
        "showLink": true
       },
       "data": [
        {
         "histfunc": "count",
         "histnorm": "",
         "marker": {
          "color": "rgba(255, 153, 51, 1.0)",
          "line": {
           "color": "#4D5663",
           "width": 1.3
          }
         },
         "name": "A",
         "nbinsx": 10,
         "opacity": 0.8,
         "orientation": "v",
         "type": "histogram",
         "x": [
          1.2828662516368237,
          -1.9058548130178599,
          1.7624087399545465,
          -1.28957445810928,
          -0.33074735230222574,
          1.3924138972481361,
          -1.0876116171939914,
          -1.2081372790816036,
          -0.6737965225857129,
          -0.02583692854927848,
          0.8039293299766449,
          1.0107446447097366,
          -1.4146549512974564,
          -0.15595360258756916,
          1.1310264219534185,
          0.3109506384339165,
          -0.3808054031911281,
          0.11122446898664881,
          -0.9656072574207325,
          0.2406238062862133,
          -0.8068648764125891,
          -1.6871947272058962,
          1.2337296353563858,
          -0.3809284251154643,
          -0.35317470698447334,
          0.43415144542077877,
          1.2180163628219967,
          -1.522440486703186,
          0.5217061847644993,
          0.38561994701780056,
          -0.49192210133219766,
          0.14013093395285253,
          2.4036700387643384,
          -0.4807851905433463,
          -1.9605399057258375,
          1.2669050634370032,
          -1.5308676262032017,
          -0.5190412053819773,
          0.4173351672979796,
          -0.23687798244708996,
          -0.8460465955548907,
          -0.5084860834962257,
          0.1738108848450604,
          0.0368915898997711,
          0.6805541276651929,
          -0.3118292802592112,
          0.6187106394900223,
          -0.7343098042346263,
          1.0517884026374926,
          -1.0677456222735553,
          -0.9589362399553518,
          -0.6589773644257099,
          -1.1643134480046182,
          0.2627379525787662,
          -1.6330933755686416,
          0.6797640558459586,
          -0.21807894242190407,
          0.6121770011936802,
          -1.2288674416183698,
          -0.028932611373871618,
          -0.29558261017692433,
          0.8851879307115434,
          -0.12808461099746693,
          0.9982779724582205,
          -0.7046827243365449,
          -1.1674082125449132,
          0.008171711724090178,
          0.4552042065990801,
          0.8047843719361977,
          1.3520070749654678,
          -0.023124972881999134,
          -0.889286390339353,
          0.8736949087856304,
          -0.4306513533340919,
          -0.3947564542130474,
          0.9753568630991614,
          0.6465523276736221,
          1.1234495604869827,
          0.7575077430654791,
          0.10056159062489389,
          -0.5990740207238892,
          -0.04925861844922938,
          -0.5743835236711956,
          -0.2934599223661171,
          0.13943105173979872,
          -1.1730514837867145,
          -1.4097168362462602,
          0.2819429293041775,
          1.8333068010035791,
          -0.8453840321261459,
          0.28363834198412025,
          -1.2073436137625582,
          -0.7535816105045646,
          0.4060306049615743,
          0.48190397132211416,
          0.42673882846182315,
          2.706608622687043,
          -0.4285481488971416,
          0.13524802574512346,
          -0.11575641589217416
         ],
         "xaxis": "x",
         "yaxis": "y"
        },
        {
         "line": {
          "color": "rgba(128, 128, 128, 1.0)",
          "dash": "solid",
          "shape": "linear",
          "width": 1.3
         },
         "marker": {
          "size": 2,
          "symbol": "circle"
         },
         "mode": "markers",
         "name": "A",
         "text": "",
         "type": "scatter",
         "x": [
          -0.5154028289519922,
          0.0791322585661461,
          1.0396515346220583,
          0.4850278201225669,
          -1.6254111312880137,
          -0.998260106320457,
          0.26303934236234766,
          -0.30773940814879197,
          -0.01094210364897688,
          -1.3944439761556933,
          1.5055174490022059,
          0.8239482622881219,
          -0.509754796806725,
          0.7313794893071358,
          0.8820097692652915,
          -0.5406830740138031,
          -1.1329492868192956,
          -0.40077704369678735,
          0.40493122341053506,
          0.640683739641404,
          -1.0204224910137554,
          1.4889011107760302,
          0.36589253033272673,
          -0.10252420879481028,
          -1.430282150047373,
          0.14066371160501276,
          0.6163784978253694,
          1.432263924590453,
          1.8492563020547392,
          -0.8217827592875484,
          -0.44599160091648204,
          1.4894175755182744,
          1.0176964004655251,
          1.6807954863608192,
          -0.21163545755427834,
          -1.4275374906092662,
          -1.823583470739203,
          2.1659367105415224,
          -1.3434598934659385,
          0.22262118793658667,
          0.02691957065464893,
          1.2009810098660418,
          -1.0935773745230242,
          -1.5025461722914313,
          1.0487359193007595,
          -0.2335583839744253,
          -1.0022135401686079,
          -1.8599184167196092,
          -0.22899476071839855,
          -0.8522397606714057,
          1.0977669077056627,
          -0.3654870695184672,
          -0.26251197339235505,
          1.5041915918704902,
          -0.1298061375478299,
          0.027609862050904,
          -0.02269809222143529,
          -0.30059378354524874,
          0.4221110297659695,
          -1.1626066888185207,
          0.9309679489129465,
          -0.9547175245352093,
          -0.5855913889007434,
          -0.1491633236882833,
          -0.8179567266593832,
          -0.5065334580298471,
          1.090214517366577,
          0.9947655114561784,
          0.9921809126586695,
          0.12746228521287786,
          -0.7960222886985829,
          -0.6504377121940919,
          0.4746746423422819,
          0.7572970759682413,
          -0.9395071457654471,
          -0.3494968638336238,
          1.3460158607638404,
          -0.5488662923381947,
          -1.4653280244485671,
          -1.4572637821760548,
          -0.3889838356638975,
          -0.20622999422701915,
          -0.6414210441959368,
          1.060095370980204,
          0.4516365774723491,
          1.8616252137710345,
          -0.3596212431681085,
          -0.1469756823743527,
          0.5071310239049722,
          0.023489024913073517,
          -1.6734350889799126,
          1.7108871056559394,
          1.6637160594485334,
          -0.8199014490648515,
          0.38052374775287356,
          -1.4915215740611367,
          -0.10226702648398565,
          -0.3668531484436365,
          -0.06217608712746471,
          1.0770315841710956
         ],
         "xaxis": "x2",
         "y": [
          1.2828662516368237,
          -1.9058548130178599,
          1.7624087399545465,
          -1.28957445810928,
          -0.33074735230222574,
          1.3924138972481361,
          -1.0876116171939914,
          -1.2081372790816036,
          -0.6737965225857129,
          -0.02583692854927848,
          0.8039293299766449,
          1.0107446447097366,
          -1.4146549512974564,
          -0.15595360258756916,
          1.1310264219534185,
          0.3109506384339165,
          -0.3808054031911281,
          0.11122446898664881,
          -0.9656072574207325,
          0.2406238062862133,
          -0.8068648764125891,
          -1.6871947272058962,
          1.2337296353563858,
          -0.3809284251154643,
          -0.35317470698447334,
          0.43415144542077877,
          1.2180163628219967,
          -1.522440486703186,
          0.5217061847644993,
          0.38561994701780056,
          -0.49192210133219766,
          0.14013093395285253,
          2.4036700387643384,
          -0.4807851905433463,
          -1.9605399057258375,
          1.2669050634370032,
          -1.5308676262032017,
          -0.5190412053819773,
          0.4173351672979796,
          -0.23687798244708996,
          -0.8460465955548907,
          -0.5084860834962257,
          0.1738108848450604,
          0.0368915898997711,
          0.6805541276651929,
          -0.3118292802592112,
          0.6187106394900223,
          -0.7343098042346263,
          1.0517884026374926,
          -1.0677456222735553,
          -0.9589362399553518,
          -0.6589773644257099,
          -1.1643134480046182,
          0.2627379525787662,
          -1.6330933755686416,
          0.6797640558459586,
          -0.21807894242190407,
          0.6121770011936802,
          -1.2288674416183698,
          -0.028932611373871618,
          -0.29558261017692433,
          0.8851879307115434,
          -0.12808461099746693,
          0.9982779724582205,
          -0.7046827243365449,
          -1.1674082125449132,
          0.008171711724090178,
          0.4552042065990801,
          0.8047843719361977,
          1.3520070749654678,
          -0.023124972881999134,
          -0.889286390339353,
          0.8736949087856304,
          -0.4306513533340919,
          -0.3947564542130474,
          0.9753568630991614,
          0.6465523276736221,
          1.1234495604869827,
          0.7575077430654791,
          0.10056159062489389,
          -0.5990740207238892,
          -0.04925861844922938,
          -0.5743835236711956,
          -0.2934599223661171,
          0.13943105173979872,
          -1.1730514837867145,
          -1.4097168362462602,
          0.2819429293041775,
          1.8333068010035791,
          -0.8453840321261459,
          0.28363834198412025,
          -1.2073436137625582,
          -0.7535816105045646,
          0.4060306049615743,
          0.48190397132211416,
          0.42673882846182315,
          2.706608622687043,
          -0.4285481488971416,
          0.13524802574512346,
          -0.11575641589217416
         ],
         "yaxis": "y2"
        },
        {
         "line": {
          "color": "rgba(128, 128, 128, 1.0)",
          "dash": "solid",
          "shape": "linear",
          "width": 1.3
         },
         "marker": {
          "size": 2,
          "symbol": "circle"
         },
         "mode": "markers",
         "name": "A",
         "text": "",
         "type": "scatter",
         "x": [
          -1.3535163580022544,
          1.4003596234117344,
          0.13469439790165721,
          1.4051908037448164,
          0.9580714977635231,
          -0.4095176349491406,
          0.7580845633983917,
          -1.2819504250150386,
          0.2086995055029189,
          0.9329538542322144,
          -0.8016333047126879,
          -0.07771097622126454,
          -0.7721054100946949,
          -1.990676407866973,
          -0.7862268731312244,
          -1.5525540482500282,
          0.15355932941990333,
          -0.7354191976403986,
          -0.2710262876002277,
          -1.1988608203442557,
          3.0747486110269544,
          -0.5274923081062007,
          0.04271981706349143,
          -0.9085064591077707,
          1.9556268889088981,
          0.29424423013466655,
          -0.5519571126618097,
          -0.008858948660685682,
          0.3675294495702848,
          -1.1500645608143736,
          0.557455375002619,
          0.49747346009956683,
          -0.691892606369852,
          0.3665233905015236,
          -0.6561323088805497,
          0.7803476962794172,
          -0.47541673719023575,
          -0.9675490460126639,
          -0.9450344114735258,
          0.5386395427237893,
          -1.1197794688078442,
          0.6206147505716335,
          0.13197887760118768,
          -1.92176418023807,
          0.2383637161926735,
          -0.5624785667450038,
          -0.33247424484091215,
          1.6424089724127477,
          -1.3213966449272294,
          0.46841273984178117,
          1.3272128288828362,
          -0.8992249573860571,
          0.4456547578223136,
          -0.9539940253329383,
          -0.48834152263188163,
          -0.1537916076593378,
          -0.47663629366978105,
          0.9865632059786338,
          1.398277337906387,
          -1.2817926480198785,
          -0.49820050402222626,
          -0.9924294973256893,
          -0.06230149404281906,
          0.12987207476010865,
          2.028247243274949,
          1.5903002635586032,
          -0.07037377541024276,
          -0.7456460135746772,
          0.06619805039363856,
          0.9516547628894232,
          0.5760250487702471,
          1.4064848448797052,
          -0.5870532543768849,
          -0.10386233005351653,
          -0.6026567159275114,
          -0.3977153514833081,
          -0.0789265337748859,
          -1.8778042312497178,
          0.040799528854207436,
          -1.0036183678592239,
          -0.08819667574264149,
          -0.3928287950265648,
          0.3816777150578995,
          -1.2046870162167262,
          1.5657550525626636,
          -0.9107752964177663,
          -1.2806738271409532,
          -0.26936898286492883,
          -1.9725333411495,
          0.12296147267332022,
          1.3657654661570693,
          1.3073215223367316,
          -0.26754155501266924,
          0.3768637235704007,
          0.09754703096082211,
          0.2820622826087046,
          0.8173612891250674,
          -0.6608882090748124,
          -2.1822590557928137,
          1.1034159369692882
         ],
         "xaxis": "x3",
         "y": [
          1.2828662516368237,
          -1.9058548130178599,
          1.7624087399545465,
          -1.28957445810928,
          -0.33074735230222574,
          1.3924138972481361,
          -1.0876116171939914,
          -1.2081372790816036,
          -0.6737965225857129,
          -0.02583692854927848,
          0.8039293299766449,
          1.0107446447097366,
          -1.4146549512974564,
          -0.15595360258756916,
          1.1310264219534185,
          0.3109506384339165,
          -0.3808054031911281,
          0.11122446898664881,
          -0.9656072574207325,
          0.2406238062862133,
          -0.8068648764125891,
          -1.6871947272058962,
          1.2337296353563858,
          -0.3809284251154643,
          -0.35317470698447334,
          0.43415144542077877,
          1.2180163628219967,
          -1.522440486703186,
          0.5217061847644993,
          0.38561994701780056,
          -0.49192210133219766,
          0.14013093395285253,
          2.4036700387643384,
          -0.4807851905433463,
          -1.9605399057258375,
          1.2669050634370032,
          -1.5308676262032017,
          -0.5190412053819773,
          0.4173351672979796,
          -0.23687798244708996,
          -0.8460465955548907,
          -0.5084860834962257,
          0.1738108848450604,
          0.0368915898997711,
          0.6805541276651929,
          -0.3118292802592112,
          0.6187106394900223,
          -0.7343098042346263,
          1.0517884026374926,
          -1.0677456222735553,
          -0.9589362399553518,
          -0.6589773644257099,
          -1.1643134480046182,
          0.2627379525787662,
          -1.6330933755686416,
          0.6797640558459586,
          -0.21807894242190407,
          0.6121770011936802,
          -1.2288674416183698,
          -0.028932611373871618,
          -0.29558261017692433,
          0.8851879307115434,
          -0.12808461099746693,
          0.9982779724582205,
          -0.7046827243365449,
          -1.1674082125449132,
          0.008171711724090178,
          0.4552042065990801,
          0.8047843719361977,
          1.3520070749654678,
          -0.023124972881999134,
          -0.889286390339353,
          0.8736949087856304,
          -0.4306513533340919,
          -0.3947564542130474,
          0.9753568630991614,
          0.6465523276736221,
          1.1234495604869827,
          0.7575077430654791,
          0.10056159062489389,
          -0.5990740207238892,
          -0.04925861844922938,
          -0.5743835236711956,
          -0.2934599223661171,
          0.13943105173979872,
          -1.1730514837867145,
          -1.4097168362462602,
          0.2819429293041775,
          1.8333068010035791,
          -0.8453840321261459,
          0.28363834198412025,
          -1.2073436137625582,
          -0.7535816105045646,
          0.4060306049615743,
          0.48190397132211416,
          0.42673882846182315,
          2.706608622687043,
          -0.4285481488971416,
          0.13524802574512346,
          -0.11575641589217416
         ],
         "yaxis": "y3"
        },
        {
         "line": {
          "color": "rgba(128, 128, 128, 1.0)",
          "dash": "solid",
          "shape": "linear",
          "width": 1.3
         },
         "marker": {
          "size": 2,
          "symbol": "circle"
         },
         "mode": "markers",
         "name": "A",
         "text": "",
         "type": "scatter",
         "x": [
          -0.7497552920964153,
          2.4762369735940415,
          -1.7647726919066227,
          -0.8473079542231872,
          0.7050963667311787,
          0.40543749068007695,
          -0.7010925674186751,
          1.0439091114782582,
          -0.2961776860098586,
          -0.29855672241806075,
          0.15330071223009764,
          -0.22021786335174115,
          -0.89546554469811,
          0.33188757696321547,
          0.6584998986986181,
          -1.257840095410502,
          0.32989298339205186,
          0.26155572277123423,
          -2.4599125596351823,
          1.5324733939085835,
          0.9450039195953681,
          0.06458813700390781,
          1.180078426519659,
          0.770746334051263,
          0.3331657562209716,
          0.9529659734434237,
          0.6058425830713987,
          1.130321723555387,
          -0.6012076342239905,
          -0.34611222631218846,
          0.21616532446481254,
          1.1727700390873312,
          -0.03924015219395926,
          -1.1090792840341646,
          1.532860378030908,
          0.2519668405699619,
          -0.9128546831010639,
          0.3287694771317553,
          0.5720919978606196,
          1.4369524878863131,
          -2.31245474055154,
          0.7269706912064975,
          -2.2724656376083847,
          0.6217512624441843,
          -1.149150483928287,
          0.762324242960001,
          0.6181852981325022,
          0.6154444175062248,
          0.6859674764796967,
          0.9094555455512773,
          0.1961396911565603,
          -0.5423014129783554,
          -0.5210271381920242,
          0.37889544571908496,
          0.7668689861358123,
          1.345999833593855,
          0.3218285009041609,
          -2.1255575193508616,
          -1.213290320133076,
          0.14200732909612496,
          1.489444558077597,
          -0.8575976260970435,
          -0.016181857718749904,
          0.5474280623300499,
          -0.6186054099057708,
          0.6701846121674955,
          -0.6129910501193094,
          0.5915715504687792,
          -2.4019243654380826,
          -0.09161155260406162,
          -0.18697809269040175,
          -4.511936563497754,
          0.9863195440824328,
          0.9704803541863959,
          -0.6153410592425291,
          -0.23481747222262805,
          1.289113711541395,
          0.27832680658922154,
          -0.08905471590134338,
          -0.08455371872639768,
          0.232304339573224,
          -1.2447704846127374,
          -0.4827819375220341,
          1.9442029515863137,
          0.2452450897287286,
          0.02414532793176462,
          0.14455183945802416,
          1.0281051344616066,
          0.848766468848188,
          0.4586400705500439,
          -0.9494760177454723,
          -0.9768566295613794,
          -0.7136253095848245,
          0.5599199107843043,
          0.08294018250090647,
          -0.593674636092453,
          -0.07216194231300613,
          0.7427908989679947,
          0.6608522588761498,
          -0.5965252550675559
         ],
         "xaxis": "x4",
         "y": [
          1.2828662516368237,
          -1.9058548130178599,
          1.7624087399545465,
          -1.28957445810928,
          -0.33074735230222574,
          1.3924138972481361,
          -1.0876116171939914,
          -1.2081372790816036,
          -0.6737965225857129,
          -0.02583692854927848,
          0.8039293299766449,
          1.0107446447097366,
          -1.4146549512974564,
          -0.15595360258756916,
          1.1310264219534185,
          0.3109506384339165,
          -0.3808054031911281,
          0.11122446898664881,
          -0.9656072574207325,
          0.2406238062862133,
          -0.8068648764125891,
          -1.6871947272058962,
          1.2337296353563858,
          -0.3809284251154643,
          -0.35317470698447334,
          0.43415144542077877,
          1.2180163628219967,
          -1.522440486703186,
          0.5217061847644993,
          0.38561994701780056,
          -0.49192210133219766,
          0.14013093395285253,
          2.4036700387643384,
          -0.4807851905433463,
          -1.9605399057258375,
          1.2669050634370032,
          -1.5308676262032017,
          -0.5190412053819773,
          0.4173351672979796,
          -0.23687798244708996,
          -0.8460465955548907,
          -0.5084860834962257,
          0.1738108848450604,
          0.0368915898997711,
          0.6805541276651929,
          -0.3118292802592112,
          0.6187106394900223,
          -0.7343098042346263,
          1.0517884026374926,
          -1.0677456222735553,
          -0.9589362399553518,
          -0.6589773644257099,
          -1.1643134480046182,
          0.2627379525787662,
          -1.6330933755686416,
          0.6797640558459586,
          -0.21807894242190407,
          0.6121770011936802,
          -1.2288674416183698,
          -0.028932611373871618,
          -0.29558261017692433,
          0.8851879307115434,
          -0.12808461099746693,
          0.9982779724582205,
          -0.7046827243365449,
          -1.1674082125449132,
          0.008171711724090178,
          0.4552042065990801,
          0.8047843719361977,
          1.3520070749654678,
          -0.023124972881999134,
          -0.889286390339353,
          0.8736949087856304,
          -0.4306513533340919,
          -0.3947564542130474,
          0.9753568630991614,
          0.6465523276736221,
          1.1234495604869827,
          0.7575077430654791,
          0.10056159062489389,
          -0.5990740207238892,
          -0.04925861844922938,
          -0.5743835236711956,
          -0.2934599223661171,
          0.13943105173979872,
          -1.1730514837867145,
          -1.4097168362462602,
          0.2819429293041775,
          1.8333068010035791,
          -0.8453840321261459,
          0.28363834198412025,
          -1.2073436137625582,
          -0.7535816105045646,
          0.4060306049615743,
          0.48190397132211416,
          0.42673882846182315,
          2.706608622687043,
          -0.4285481488971416,
          0.13524802574512346,
          -0.11575641589217416
         ],
         "yaxis": "y4"
        },
        {
         "line": {
          "color": "rgba(128, 128, 128, 1.0)",
          "dash": "solid",
          "shape": "linear",
          "width": 1.3
         },
         "marker": {
          "size": 2,
          "symbol": "circle"
         },
         "mode": "markers",
         "name": "B",
         "text": "",
         "type": "scatter",
         "x": [
          1.2828662516368237,
          -1.9058548130178599,
          1.7624087399545465,
          -1.28957445810928,
          -0.33074735230222574,
          1.3924138972481361,
          -1.0876116171939914,
          -1.2081372790816036,
          -0.6737965225857129,
          -0.02583692854927848,
          0.8039293299766449,
          1.0107446447097366,
          -1.4146549512974564,
          -0.15595360258756916,
          1.1310264219534185,
          0.3109506384339165,
          -0.3808054031911281,
          0.11122446898664881,
          -0.9656072574207325,
          0.2406238062862133,
          -0.8068648764125891,
          -1.6871947272058962,
          1.2337296353563858,
          -0.3809284251154643,
          -0.35317470698447334,
          0.43415144542077877,
          1.2180163628219967,
          -1.522440486703186,
          0.5217061847644993,
          0.38561994701780056,
          -0.49192210133219766,
          0.14013093395285253,
          2.4036700387643384,
          -0.4807851905433463,
          -1.9605399057258375,
          1.2669050634370032,
          -1.5308676262032017,
          -0.5190412053819773,
          0.4173351672979796,
          -0.23687798244708996,
          -0.8460465955548907,
          -0.5084860834962257,
          0.1738108848450604,
          0.0368915898997711,
          0.6805541276651929,
          -0.3118292802592112,
          0.6187106394900223,
          -0.7343098042346263,
          1.0517884026374926,
          -1.0677456222735553,
          -0.9589362399553518,
          -0.6589773644257099,
          -1.1643134480046182,
          0.2627379525787662,
          -1.6330933755686416,
          0.6797640558459586,
          -0.21807894242190407,
          0.6121770011936802,
          -1.2288674416183698,
          -0.028932611373871618,
          -0.29558261017692433,
          0.8851879307115434,
          -0.12808461099746693,
          0.9982779724582205,
          -0.7046827243365449,
          -1.1674082125449132,
          0.008171711724090178,
          0.4552042065990801,
          0.8047843719361977,
          1.3520070749654678,
          -0.023124972881999134,
          -0.889286390339353,
          0.8736949087856304,
          -0.4306513533340919,
          -0.3947564542130474,
          0.9753568630991614,
          0.6465523276736221,
          1.1234495604869827,
          0.7575077430654791,
          0.10056159062489389,
          -0.5990740207238892,
          -0.04925861844922938,
          -0.5743835236711956,
          -0.2934599223661171,
          0.13943105173979872,
          -1.1730514837867145,
          -1.4097168362462602,
          0.2819429293041775,
          1.8333068010035791,
          -0.8453840321261459,
          0.28363834198412025,
          -1.2073436137625582,
          -0.7535816105045646,
          0.4060306049615743,
          0.48190397132211416,
          0.42673882846182315,
          2.706608622687043,
          -0.4285481488971416,
          0.13524802574512346,
          -0.11575641589217416
         ],
         "xaxis": "x5",
         "y": [
          -0.5154028289519922,
          0.0791322585661461,
          1.0396515346220583,
          0.4850278201225669,
          -1.6254111312880137,
          -0.998260106320457,
          0.26303934236234766,
          -0.30773940814879197,
          -0.01094210364897688,
          -1.3944439761556933,
          1.5055174490022059,
          0.8239482622881219,
          -0.509754796806725,
          0.7313794893071358,
          0.8820097692652915,
          -0.5406830740138031,
          -1.1329492868192956,
          -0.40077704369678735,
          0.40493122341053506,
          0.640683739641404,
          -1.0204224910137554,
          1.4889011107760302,
          0.36589253033272673,
          -0.10252420879481028,
          -1.430282150047373,
          0.14066371160501276,
          0.6163784978253694,
          1.432263924590453,
          1.8492563020547392,
          -0.8217827592875484,
          -0.44599160091648204,
          1.4894175755182744,
          1.0176964004655251,
          1.6807954863608192,
          -0.21163545755427834,
          -1.4275374906092662,
          -1.823583470739203,
          2.1659367105415224,
          -1.3434598934659385,
          0.22262118793658667,
          0.02691957065464893,
          1.2009810098660418,
          -1.0935773745230242,
          -1.5025461722914313,
          1.0487359193007595,
          -0.2335583839744253,
          -1.0022135401686079,
          -1.8599184167196092,
          -0.22899476071839855,
          -0.8522397606714057,
          1.0977669077056627,
          -0.3654870695184672,
          -0.26251197339235505,
          1.5041915918704902,
          -0.1298061375478299,
          0.027609862050904,
          -0.02269809222143529,
          -0.30059378354524874,
          0.4221110297659695,
          -1.1626066888185207,
          0.9309679489129465,
          -0.9547175245352093,
          -0.5855913889007434,
          -0.1491633236882833,
          -0.8179567266593832,
          -0.5065334580298471,
          1.090214517366577,
          0.9947655114561784,
          0.9921809126586695,
          0.12746228521287786,
          -0.7960222886985829,
          -0.6504377121940919,
          0.4746746423422819,
          0.7572970759682413,
          -0.9395071457654471,
          -0.3494968638336238,
          1.3460158607638404,
          -0.5488662923381947,
          -1.4653280244485671,
          -1.4572637821760548,
          -0.3889838356638975,
          -0.20622999422701915,
          -0.6414210441959368,
          1.060095370980204,
          0.4516365774723491,
          1.8616252137710345,
          -0.3596212431681085,
          -0.1469756823743527,
          0.5071310239049722,
          0.023489024913073517,
          -1.6734350889799126,
          1.7108871056559394,
          1.6637160594485334,
          -0.8199014490648515,
          0.38052374775287356,
          -1.4915215740611367,
          -0.10226702648398565,
          -0.3668531484436365,
          -0.06217608712746471,
          1.0770315841710956
         ],
         "yaxis": "y5"
        },
        {
         "histfunc": "count",
         "histnorm": "",
         "marker": {
          "color": "rgba(55, 128, 191, 1.0)",
          "line": {
           "color": "#4D5663",
           "width": 1.3
          }
         },
         "name": "B",
         "nbinsx": 10,
         "opacity": 0.8,
         "orientation": "v",
         "type": "histogram",
         "x": [
          -0.5154028289519922,
          0.0791322585661461,
          1.0396515346220583,
          0.4850278201225669,
          -1.6254111312880137,
          -0.998260106320457,
          0.26303934236234766,
          -0.30773940814879197,
          -0.01094210364897688,
          -1.3944439761556933,
          1.5055174490022059,
          0.8239482622881219,
          -0.509754796806725,
          0.7313794893071358,
          0.8820097692652915,
          -0.5406830740138031,
          -1.1329492868192956,
          -0.40077704369678735,
          0.40493122341053506,
          0.640683739641404,
          -1.0204224910137554,
          1.4889011107760302,
          0.36589253033272673,
          -0.10252420879481028,
          -1.430282150047373,
          0.14066371160501276,
          0.6163784978253694,
          1.432263924590453,
          1.8492563020547392,
          -0.8217827592875484,
          -0.44599160091648204,
          1.4894175755182744,
          1.0176964004655251,
          1.6807954863608192,
          -0.21163545755427834,
          -1.4275374906092662,
          -1.823583470739203,
          2.1659367105415224,
          -1.3434598934659385,
          0.22262118793658667,
          0.02691957065464893,
          1.2009810098660418,
          -1.0935773745230242,
          -1.5025461722914313,
          1.0487359193007595,
          -0.2335583839744253,
          -1.0022135401686079,
          -1.8599184167196092,
          -0.22899476071839855,
          -0.8522397606714057,
          1.0977669077056627,
          -0.3654870695184672,
          -0.26251197339235505,
          1.5041915918704902,
          -0.1298061375478299,
          0.027609862050904,
          -0.02269809222143529,
          -0.30059378354524874,
          0.4221110297659695,
          -1.1626066888185207,
          0.9309679489129465,
          -0.9547175245352093,
          -0.5855913889007434,
          -0.1491633236882833,
          -0.8179567266593832,
          -0.5065334580298471,
          1.090214517366577,
          0.9947655114561784,
          0.9921809126586695,
          0.12746228521287786,
          -0.7960222886985829,
          -0.6504377121940919,
          0.4746746423422819,
          0.7572970759682413,
          -0.9395071457654471,
          -0.3494968638336238,
          1.3460158607638404,
          -0.5488662923381947,
          -1.4653280244485671,
          -1.4572637821760548,
          -0.3889838356638975,
          -0.20622999422701915,
          -0.6414210441959368,
          1.060095370980204,
          0.4516365774723491,
          1.8616252137710345,
          -0.3596212431681085,
          -0.1469756823743527,
          0.5071310239049722,
          0.023489024913073517,
          -1.6734350889799126,
          1.7108871056559394,
          1.6637160594485334,
          -0.8199014490648515,
          0.38052374775287356,
          -1.4915215740611367,
          -0.10226702648398565,
          -0.3668531484436365,
          -0.06217608712746471,
          1.0770315841710956
         ],
         "xaxis": "x6",
         "yaxis": "y6"
        },
        {
         "line": {
          "color": "rgba(128, 128, 128, 1.0)",
          "dash": "solid",
          "shape": "linear",
          "width": 1.3
         },
         "marker": {
          "size": 2,
          "symbol": "circle"
         },
         "mode": "markers",
         "name": "B",
         "text": "",
         "type": "scatter",
         "x": [
          -1.3535163580022544,
          1.4003596234117344,
          0.13469439790165721,
          1.4051908037448164,
          0.9580714977635231,
          -0.4095176349491406,
          0.7580845633983917,
          -1.2819504250150386,
          0.2086995055029189,
          0.9329538542322144,
          -0.8016333047126879,
          -0.07771097622126454,
          -0.7721054100946949,
          -1.990676407866973,
          -0.7862268731312244,
          -1.5525540482500282,
          0.15355932941990333,
          -0.7354191976403986,
          -0.2710262876002277,
          -1.1988608203442557,
          3.0747486110269544,
          -0.5274923081062007,
          0.04271981706349143,
          -0.9085064591077707,
          1.9556268889088981,
          0.29424423013466655,
          -0.5519571126618097,
          -0.008858948660685682,
          0.3675294495702848,
          -1.1500645608143736,
          0.557455375002619,
          0.49747346009956683,
          -0.691892606369852,
          0.3665233905015236,
          -0.6561323088805497,
          0.7803476962794172,
          -0.47541673719023575,
          -0.9675490460126639,
          -0.9450344114735258,
          0.5386395427237893,
          -1.1197794688078442,
          0.6206147505716335,
          0.13197887760118768,
          -1.92176418023807,
          0.2383637161926735,
          -0.5624785667450038,
          -0.33247424484091215,
          1.6424089724127477,
          -1.3213966449272294,
          0.46841273984178117,
          1.3272128288828362,
          -0.8992249573860571,
          0.4456547578223136,
          -0.9539940253329383,
          -0.48834152263188163,
          -0.1537916076593378,
          -0.47663629366978105,
          0.9865632059786338,
          1.398277337906387,
          -1.2817926480198785,
          -0.49820050402222626,
          -0.9924294973256893,
          -0.06230149404281906,
          0.12987207476010865,
          2.028247243274949,
          1.5903002635586032,
          -0.07037377541024276,
          -0.7456460135746772,
          0.06619805039363856,
          0.9516547628894232,
          0.5760250487702471,
          1.4064848448797052,
          -0.5870532543768849,
          -0.10386233005351653,
          -0.6026567159275114,
          -0.3977153514833081,
          -0.0789265337748859,
          -1.8778042312497178,
          0.040799528854207436,
          -1.0036183678592239,
          -0.08819667574264149,
          -0.3928287950265648,
          0.3816777150578995,
          -1.2046870162167262,
          1.5657550525626636,
          -0.9107752964177663,
          -1.2806738271409532,
          -0.26936898286492883,
          -1.9725333411495,
          0.12296147267332022,
          1.3657654661570693,
          1.3073215223367316,
          -0.26754155501266924,
          0.3768637235704007,
          0.09754703096082211,
          0.2820622826087046,
          0.8173612891250674,
          -0.6608882090748124,
          -2.1822590557928137,
          1.1034159369692882
         ],
         "xaxis": "x7",
         "y": [
          -0.5154028289519922,
          0.0791322585661461,
          1.0396515346220583,
          0.4850278201225669,
          -1.6254111312880137,
          -0.998260106320457,
          0.26303934236234766,
          -0.30773940814879197,
          -0.01094210364897688,
          -1.3944439761556933,
          1.5055174490022059,
          0.8239482622881219,
          -0.509754796806725,
          0.7313794893071358,
          0.8820097692652915,
          -0.5406830740138031,
          -1.1329492868192956,
          -0.40077704369678735,
          0.40493122341053506,
          0.640683739641404,
          -1.0204224910137554,
          1.4889011107760302,
          0.36589253033272673,
          -0.10252420879481028,
          -1.430282150047373,
          0.14066371160501276,
          0.6163784978253694,
          1.432263924590453,
          1.8492563020547392,
          -0.8217827592875484,
          -0.44599160091648204,
          1.4894175755182744,
          1.0176964004655251,
          1.6807954863608192,
          -0.21163545755427834,
          -1.4275374906092662,
          -1.823583470739203,
          2.1659367105415224,
          -1.3434598934659385,
          0.22262118793658667,
          0.02691957065464893,
          1.2009810098660418,
          -1.0935773745230242,
          -1.5025461722914313,
          1.0487359193007595,
          -0.2335583839744253,
          -1.0022135401686079,
          -1.8599184167196092,
          -0.22899476071839855,
          -0.8522397606714057,
          1.0977669077056627,
          -0.3654870695184672,
          -0.26251197339235505,
          1.5041915918704902,
          -0.1298061375478299,
          0.027609862050904,
          -0.02269809222143529,
          -0.30059378354524874,
          0.4221110297659695,
          -1.1626066888185207,
          0.9309679489129465,
          -0.9547175245352093,
          -0.5855913889007434,
          -0.1491633236882833,
          -0.8179567266593832,
          -0.5065334580298471,
          1.090214517366577,
          0.9947655114561784,
          0.9921809126586695,
          0.12746228521287786,
          -0.7960222886985829,
          -0.6504377121940919,
          0.4746746423422819,
          0.7572970759682413,
          -0.9395071457654471,
          -0.3494968638336238,
          1.3460158607638404,
          -0.5488662923381947,
          -1.4653280244485671,
          -1.4572637821760548,
          -0.3889838356638975,
          -0.20622999422701915,
          -0.6414210441959368,
          1.060095370980204,
          0.4516365774723491,
          1.8616252137710345,
          -0.3596212431681085,
          -0.1469756823743527,
          0.5071310239049722,
          0.023489024913073517,
          -1.6734350889799126,
          1.7108871056559394,
          1.6637160594485334,
          -0.8199014490648515,
          0.38052374775287356,
          -1.4915215740611367,
          -0.10226702648398565,
          -0.3668531484436365,
          -0.06217608712746471,
          1.0770315841710956
         ],
         "yaxis": "y7"
        },
        {
         "line": {
          "color": "rgba(128, 128, 128, 1.0)",
          "dash": "solid",
          "shape": "linear",
          "width": 1.3
         },
         "marker": {
          "size": 2,
          "symbol": "circle"
         },
         "mode": "markers",
         "name": "B",
         "text": "",
         "type": "scatter",
         "x": [
          -0.7497552920964153,
          2.4762369735940415,
          -1.7647726919066227,
          -0.8473079542231872,
          0.7050963667311787,
          0.40543749068007695,
          -0.7010925674186751,
          1.0439091114782582,
          -0.2961776860098586,
          -0.29855672241806075,
          0.15330071223009764,
          -0.22021786335174115,
          -0.89546554469811,
          0.33188757696321547,
          0.6584998986986181,
          -1.257840095410502,
          0.32989298339205186,
          0.26155572277123423,
          -2.4599125596351823,
          1.5324733939085835,
          0.9450039195953681,
          0.06458813700390781,
          1.180078426519659,
          0.770746334051263,
          0.3331657562209716,
          0.9529659734434237,
          0.6058425830713987,
          1.130321723555387,
          -0.6012076342239905,
          -0.34611222631218846,
          0.21616532446481254,
          1.1727700390873312,
          -0.03924015219395926,
          -1.1090792840341646,
          1.532860378030908,
          0.2519668405699619,
          -0.9128546831010639,
          0.3287694771317553,
          0.5720919978606196,
          1.4369524878863131,
          -2.31245474055154,
          0.7269706912064975,
          -2.2724656376083847,
          0.6217512624441843,
          -1.149150483928287,
          0.762324242960001,
          0.6181852981325022,
          0.6154444175062248,
          0.6859674764796967,
          0.9094555455512773,
          0.1961396911565603,
          -0.5423014129783554,
          -0.5210271381920242,
          0.37889544571908496,
          0.7668689861358123,
          1.345999833593855,
          0.3218285009041609,
          -2.1255575193508616,
          -1.213290320133076,
          0.14200732909612496,
          1.489444558077597,
          -0.8575976260970435,
          -0.016181857718749904,
          0.5474280623300499,
          -0.6186054099057708,
          0.6701846121674955,
          -0.6129910501193094,
          0.5915715504687792,
          -2.4019243654380826,
          -0.09161155260406162,
          -0.18697809269040175,
          -4.511936563497754,
          0.9863195440824328,
          0.9704803541863959,
          -0.6153410592425291,
          -0.23481747222262805,
          1.289113711541395,
          0.27832680658922154,
          -0.08905471590134338,
          -0.08455371872639768,
          0.232304339573224,
          -1.2447704846127374,
          -0.4827819375220341,
          1.9442029515863137,
          0.2452450897287286,
          0.02414532793176462,
          0.14455183945802416,
          1.0281051344616066,
          0.848766468848188,
          0.4586400705500439,
          -0.9494760177454723,
          -0.9768566295613794,
          -0.7136253095848245,
          0.5599199107843043,
          0.08294018250090647,
          -0.593674636092453,
          -0.07216194231300613,
          0.7427908989679947,
          0.6608522588761498,
          -0.5965252550675559
         ],
         "xaxis": "x8",
         "y": [
          -0.5154028289519922,
          0.0791322585661461,
          1.0396515346220583,
          0.4850278201225669,
          -1.6254111312880137,
          -0.998260106320457,
          0.26303934236234766,
          -0.30773940814879197,
          -0.01094210364897688,
          -1.3944439761556933,
          1.5055174490022059,
          0.8239482622881219,
          -0.509754796806725,
          0.7313794893071358,
          0.8820097692652915,
          -0.5406830740138031,
          -1.1329492868192956,
          -0.40077704369678735,
          0.40493122341053506,
          0.640683739641404,
          -1.0204224910137554,
          1.4889011107760302,
          0.36589253033272673,
          -0.10252420879481028,
          -1.430282150047373,
          0.14066371160501276,
          0.6163784978253694,
          1.432263924590453,
          1.8492563020547392,
          -0.8217827592875484,
          -0.44599160091648204,
          1.4894175755182744,
          1.0176964004655251,
          1.6807954863608192,
          -0.21163545755427834,
          -1.4275374906092662,
          -1.823583470739203,
          2.1659367105415224,
          -1.3434598934659385,
          0.22262118793658667,
          0.02691957065464893,
          1.2009810098660418,
          -1.0935773745230242,
          -1.5025461722914313,
          1.0487359193007595,
          -0.2335583839744253,
          -1.0022135401686079,
          -1.8599184167196092,
          -0.22899476071839855,
          -0.8522397606714057,
          1.0977669077056627,
          -0.3654870695184672,
          -0.26251197339235505,
          1.5041915918704902,
          -0.1298061375478299,
          0.027609862050904,
          -0.02269809222143529,
          -0.30059378354524874,
          0.4221110297659695,
          -1.1626066888185207,
          0.9309679489129465,
          -0.9547175245352093,
          -0.5855913889007434,
          -0.1491633236882833,
          -0.8179567266593832,
          -0.5065334580298471,
          1.090214517366577,
          0.9947655114561784,
          0.9921809126586695,
          0.12746228521287786,
          -0.7960222886985829,
          -0.6504377121940919,
          0.4746746423422819,
          0.7572970759682413,
          -0.9395071457654471,
          -0.3494968638336238,
          1.3460158607638404,
          -0.5488662923381947,
          -1.4653280244485671,
          -1.4572637821760548,
          -0.3889838356638975,
          -0.20622999422701915,
          -0.6414210441959368,
          1.060095370980204,
          0.4516365774723491,
          1.8616252137710345,
          -0.3596212431681085,
          -0.1469756823743527,
          0.5071310239049722,
          0.023489024913073517,
          -1.6734350889799126,
          1.7108871056559394,
          1.6637160594485334,
          -0.8199014490648515,
          0.38052374775287356,
          -1.4915215740611367,
          -0.10226702648398565,
          -0.3668531484436365,
          -0.06217608712746471,
          1.0770315841710956
         ],
         "yaxis": "y8"
        },
        {
         "line": {
          "color": "rgba(128, 128, 128, 1.0)",
          "dash": "solid",
          "shape": "linear",
          "width": 1.3
         },
         "marker": {
          "size": 2,
          "symbol": "circle"
         },
         "mode": "markers",
         "name": "C",
         "text": "",
         "type": "scatter",
         "x": [
          1.2828662516368237,
          -1.9058548130178599,
          1.7624087399545465,
          -1.28957445810928,
          -0.33074735230222574,
          1.3924138972481361,
          -1.0876116171939914,
          -1.2081372790816036,
          -0.6737965225857129,
          -0.02583692854927848,
          0.8039293299766449,
          1.0107446447097366,
          -1.4146549512974564,
          -0.15595360258756916,
          1.1310264219534185,
          0.3109506384339165,
          -0.3808054031911281,
          0.11122446898664881,
          -0.9656072574207325,
          0.2406238062862133,
          -0.8068648764125891,
          -1.6871947272058962,
          1.2337296353563858,
          -0.3809284251154643,
          -0.35317470698447334,
          0.43415144542077877,
          1.2180163628219967,
          -1.522440486703186,
          0.5217061847644993,
          0.38561994701780056,
          -0.49192210133219766,
          0.14013093395285253,
          2.4036700387643384,
          -0.4807851905433463,
          -1.9605399057258375,
          1.2669050634370032,
          -1.5308676262032017,
          -0.5190412053819773,
          0.4173351672979796,
          -0.23687798244708996,
          -0.8460465955548907,
          -0.5084860834962257,
          0.1738108848450604,
          0.0368915898997711,
          0.6805541276651929,
          -0.3118292802592112,
          0.6187106394900223,
          -0.7343098042346263,
          1.0517884026374926,
          -1.0677456222735553,
          -0.9589362399553518,
          -0.6589773644257099,
          -1.1643134480046182,
          0.2627379525787662,
          -1.6330933755686416,
          0.6797640558459586,
          -0.21807894242190407,
          0.6121770011936802,
          -1.2288674416183698,
          -0.028932611373871618,
          -0.29558261017692433,
          0.8851879307115434,
          -0.12808461099746693,
          0.9982779724582205,
          -0.7046827243365449,
          -1.1674082125449132,
          0.008171711724090178,
          0.4552042065990801,
          0.8047843719361977,
          1.3520070749654678,
          -0.023124972881999134,
          -0.889286390339353,
          0.8736949087856304,
          -0.4306513533340919,
          -0.3947564542130474,
          0.9753568630991614,
          0.6465523276736221,
          1.1234495604869827,
          0.7575077430654791,
          0.10056159062489389,
          -0.5990740207238892,
          -0.04925861844922938,
          -0.5743835236711956,
          -0.2934599223661171,
          0.13943105173979872,
          -1.1730514837867145,
          -1.4097168362462602,
          0.2819429293041775,
          1.8333068010035791,
          -0.8453840321261459,
          0.28363834198412025,
          -1.2073436137625582,
          -0.7535816105045646,
          0.4060306049615743,
          0.48190397132211416,
          0.42673882846182315,
          2.706608622687043,
          -0.4285481488971416,
          0.13524802574512346,
          -0.11575641589217416
         ],
         "xaxis": "x9",
         "y": [
          -1.3535163580022544,
          1.4003596234117344,
          0.13469439790165721,
          1.4051908037448164,
          0.9580714977635231,
          -0.4095176349491406,
          0.7580845633983917,
          -1.2819504250150386,
          0.2086995055029189,
          0.9329538542322144,
          -0.8016333047126879,
          -0.07771097622126454,
          -0.7721054100946949,
          -1.990676407866973,
          -0.7862268731312244,
          -1.5525540482500282,
          0.15355932941990333,
          -0.7354191976403986,
          -0.2710262876002277,
          -1.1988608203442557,
          3.0747486110269544,
          -0.5274923081062007,
          0.04271981706349143,
          -0.9085064591077707,
          1.9556268889088981,
          0.29424423013466655,
          -0.5519571126618097,
          -0.008858948660685682,
          0.3675294495702848,
          -1.1500645608143736,
          0.557455375002619,
          0.49747346009956683,
          -0.691892606369852,
          0.3665233905015236,
          -0.6561323088805497,
          0.7803476962794172,
          -0.47541673719023575,
          -0.9675490460126639,
          -0.9450344114735258,
          0.5386395427237893,
          -1.1197794688078442,
          0.6206147505716335,
          0.13197887760118768,
          -1.92176418023807,
          0.2383637161926735,
          -0.5624785667450038,
          -0.33247424484091215,
          1.6424089724127477,
          -1.3213966449272294,
          0.46841273984178117,
          1.3272128288828362,
          -0.8992249573860571,
          0.4456547578223136,
          -0.9539940253329383,
          -0.48834152263188163,
          -0.1537916076593378,
          -0.47663629366978105,
          0.9865632059786338,
          1.398277337906387,
          -1.2817926480198785,
          -0.49820050402222626,
          -0.9924294973256893,
          -0.06230149404281906,
          0.12987207476010865,
          2.028247243274949,
          1.5903002635586032,
          -0.07037377541024276,
          -0.7456460135746772,
          0.06619805039363856,
          0.9516547628894232,
          0.5760250487702471,
          1.4064848448797052,
          -0.5870532543768849,
          -0.10386233005351653,
          -0.6026567159275114,
          -0.3977153514833081,
          -0.0789265337748859,
          -1.8778042312497178,
          0.040799528854207436,
          -1.0036183678592239,
          -0.08819667574264149,
          -0.3928287950265648,
          0.3816777150578995,
          -1.2046870162167262,
          1.5657550525626636,
          -0.9107752964177663,
          -1.2806738271409532,
          -0.26936898286492883,
          -1.9725333411495,
          0.12296147267332022,
          1.3657654661570693,
          1.3073215223367316,
          -0.26754155501266924,
          0.3768637235704007,
          0.09754703096082211,
          0.2820622826087046,
          0.8173612891250674,
          -0.6608882090748124,
          -2.1822590557928137,
          1.1034159369692882
         ],
         "yaxis": "y9"
        },
        {
         "line": {
          "color": "rgba(128, 128, 128, 1.0)",
          "dash": "solid",
          "shape": "linear",
          "width": 1.3
         },
         "marker": {
          "size": 2,
          "symbol": "circle"
         },
         "mode": "markers",
         "name": "C",
         "text": "",
         "type": "scatter",
         "x": [
          -0.5154028289519922,
          0.0791322585661461,
          1.0396515346220583,
          0.4850278201225669,
          -1.6254111312880137,
          -0.998260106320457,
          0.26303934236234766,
          -0.30773940814879197,
          -0.01094210364897688,
          -1.3944439761556933,
          1.5055174490022059,
          0.8239482622881219,
          -0.509754796806725,
          0.7313794893071358,
          0.8820097692652915,
          -0.5406830740138031,
          -1.1329492868192956,
          -0.40077704369678735,
          0.40493122341053506,
          0.640683739641404,
          -1.0204224910137554,
          1.4889011107760302,
          0.36589253033272673,
          -0.10252420879481028,
          -1.430282150047373,
          0.14066371160501276,
          0.6163784978253694,
          1.432263924590453,
          1.8492563020547392,
          -0.8217827592875484,
          -0.44599160091648204,
          1.4894175755182744,
          1.0176964004655251,
          1.6807954863608192,
          -0.21163545755427834,
          -1.4275374906092662,
          -1.823583470739203,
          2.1659367105415224,
          -1.3434598934659385,
          0.22262118793658667,
          0.02691957065464893,
          1.2009810098660418,
          -1.0935773745230242,
          -1.5025461722914313,
          1.0487359193007595,
          -0.2335583839744253,
          -1.0022135401686079,
          -1.8599184167196092,
          -0.22899476071839855,
          -0.8522397606714057,
          1.0977669077056627,
          -0.3654870695184672,
          -0.26251197339235505,
          1.5041915918704902,
          -0.1298061375478299,
          0.027609862050904,
          -0.02269809222143529,
          -0.30059378354524874,
          0.4221110297659695,
          -1.1626066888185207,
          0.9309679489129465,
          -0.9547175245352093,
          -0.5855913889007434,
          -0.1491633236882833,
          -0.8179567266593832,
          -0.5065334580298471,
          1.090214517366577,
          0.9947655114561784,
          0.9921809126586695,
          0.12746228521287786,
          -0.7960222886985829,
          -0.6504377121940919,
          0.4746746423422819,
          0.7572970759682413,
          -0.9395071457654471,
          -0.3494968638336238,
          1.3460158607638404,
          -0.5488662923381947,
          -1.4653280244485671,
          -1.4572637821760548,
          -0.3889838356638975,
          -0.20622999422701915,
          -0.6414210441959368,
          1.060095370980204,
          0.4516365774723491,
          1.8616252137710345,
          -0.3596212431681085,
          -0.1469756823743527,
          0.5071310239049722,
          0.023489024913073517,
          -1.6734350889799126,
          1.7108871056559394,
          1.6637160594485334,
          -0.8199014490648515,
          0.38052374775287356,
          -1.4915215740611367,
          -0.10226702648398565,
          -0.3668531484436365,
          -0.06217608712746471,
          1.0770315841710956
         ],
         "xaxis": "x10",
         "y": [
          -1.3535163580022544,
          1.4003596234117344,
          0.13469439790165721,
          1.4051908037448164,
          0.9580714977635231,
          -0.4095176349491406,
          0.7580845633983917,
          -1.2819504250150386,
          0.2086995055029189,
          0.9329538542322144,
          -0.8016333047126879,
          -0.07771097622126454,
          -0.7721054100946949,
          -1.990676407866973,
          -0.7862268731312244,
          -1.5525540482500282,
          0.15355932941990333,
          -0.7354191976403986,
          -0.2710262876002277,
          -1.1988608203442557,
          3.0747486110269544,
          -0.5274923081062007,
          0.04271981706349143,
          -0.9085064591077707,
          1.9556268889088981,
          0.29424423013466655,
          -0.5519571126618097,
          -0.008858948660685682,
          0.3675294495702848,
          -1.1500645608143736,
          0.557455375002619,
          0.49747346009956683,
          -0.691892606369852,
          0.3665233905015236,
          -0.6561323088805497,
          0.7803476962794172,
          -0.47541673719023575,
          -0.9675490460126639,
          -0.9450344114735258,
          0.5386395427237893,
          -1.1197794688078442,
          0.6206147505716335,
          0.13197887760118768,
          -1.92176418023807,
          0.2383637161926735,
          -0.5624785667450038,
          -0.33247424484091215,
          1.6424089724127477,
          -1.3213966449272294,
          0.46841273984178117,
          1.3272128288828362,
          -0.8992249573860571,
          0.4456547578223136,
          -0.9539940253329383,
          -0.48834152263188163,
          -0.1537916076593378,
          -0.47663629366978105,
          0.9865632059786338,
          1.398277337906387,
          -1.2817926480198785,
          -0.49820050402222626,
          -0.9924294973256893,
          -0.06230149404281906,
          0.12987207476010865,
          2.028247243274949,
          1.5903002635586032,
          -0.07037377541024276,
          -0.7456460135746772,
          0.06619805039363856,
          0.9516547628894232,
          0.5760250487702471,
          1.4064848448797052,
          -0.5870532543768849,
          -0.10386233005351653,
          -0.6026567159275114,
          -0.3977153514833081,
          -0.0789265337748859,
          -1.8778042312497178,
          0.040799528854207436,
          -1.0036183678592239,
          -0.08819667574264149,
          -0.3928287950265648,
          0.3816777150578995,
          -1.2046870162167262,
          1.5657550525626636,
          -0.9107752964177663,
          -1.2806738271409532,
          -0.26936898286492883,
          -1.9725333411495,
          0.12296147267332022,
          1.3657654661570693,
          1.3073215223367316,
          -0.26754155501266924,
          0.3768637235704007,
          0.09754703096082211,
          0.2820622826087046,
          0.8173612891250674,
          -0.6608882090748124,
          -2.1822590557928137,
          1.1034159369692882
         ],
         "yaxis": "y10"
        },
        {
         "histfunc": "count",
         "histnorm": "",
         "marker": {
          "color": "rgba(50, 171, 96, 1.0)",
          "line": {
           "color": "#4D5663",
           "width": 1.3
          }
         },
         "name": "C",
         "nbinsx": 10,
         "opacity": 0.8,
         "orientation": "v",
         "type": "histogram",
         "x": [
          -1.3535163580022544,
          1.4003596234117344,
          0.13469439790165721,
          1.4051908037448164,
          0.9580714977635231,
          -0.4095176349491406,
          0.7580845633983917,
          -1.2819504250150386,
          0.2086995055029189,
          0.9329538542322144,
          -0.8016333047126879,
          -0.07771097622126454,
          -0.7721054100946949,
          -1.990676407866973,
          -0.7862268731312244,
          -1.5525540482500282,
          0.15355932941990333,
          -0.7354191976403986,
          -0.2710262876002277,
          -1.1988608203442557,
          3.0747486110269544,
          -0.5274923081062007,
          0.04271981706349143,
          -0.9085064591077707,
          1.9556268889088981,
          0.29424423013466655,
          -0.5519571126618097,
          -0.008858948660685682,
          0.3675294495702848,
          -1.1500645608143736,
          0.557455375002619,
          0.49747346009956683,
          -0.691892606369852,
          0.3665233905015236,
          -0.6561323088805497,
          0.7803476962794172,
          -0.47541673719023575,
          -0.9675490460126639,
          -0.9450344114735258,
          0.5386395427237893,
          -1.1197794688078442,
          0.6206147505716335,
          0.13197887760118768,
          -1.92176418023807,
          0.2383637161926735,
          -0.5624785667450038,
          -0.33247424484091215,
          1.6424089724127477,
          -1.3213966449272294,
          0.46841273984178117,
          1.3272128288828362,
          -0.8992249573860571,
          0.4456547578223136,
          -0.9539940253329383,
          -0.48834152263188163,
          -0.1537916076593378,
          -0.47663629366978105,
          0.9865632059786338,
          1.398277337906387,
          -1.2817926480198785,
          -0.49820050402222626,
          -0.9924294973256893,
          -0.06230149404281906,
          0.12987207476010865,
          2.028247243274949,
          1.5903002635586032,
          -0.07037377541024276,
          -0.7456460135746772,
          0.06619805039363856,
          0.9516547628894232,
          0.5760250487702471,
          1.4064848448797052,
          -0.5870532543768849,
          -0.10386233005351653,
          -0.6026567159275114,
          -0.3977153514833081,
          -0.0789265337748859,
          -1.8778042312497178,
          0.040799528854207436,
          -1.0036183678592239,
          -0.08819667574264149,
          -0.3928287950265648,
          0.3816777150578995,
          -1.2046870162167262,
          1.5657550525626636,
          -0.9107752964177663,
          -1.2806738271409532,
          -0.26936898286492883,
          -1.9725333411495,
          0.12296147267332022,
          1.3657654661570693,
          1.3073215223367316,
          -0.26754155501266924,
          0.3768637235704007,
          0.09754703096082211,
          0.2820622826087046,
          0.8173612891250674,
          -0.6608882090748124,
          -2.1822590557928137,
          1.1034159369692882
         ],
         "xaxis": "x11",
         "yaxis": "y11"
        },
        {
         "line": {
          "color": "rgba(128, 128, 128, 1.0)",
          "dash": "solid",
          "shape": "linear",
          "width": 1.3
         },
         "marker": {
          "size": 2,
          "symbol": "circle"
         },
         "mode": "markers",
         "name": "C",
         "text": "",
         "type": "scatter",
         "x": [
          -0.7497552920964153,
          2.4762369735940415,
          -1.7647726919066227,
          -0.8473079542231872,
          0.7050963667311787,
          0.40543749068007695,
          -0.7010925674186751,
          1.0439091114782582,
          -0.2961776860098586,
          -0.29855672241806075,
          0.15330071223009764,
          -0.22021786335174115,
          -0.89546554469811,
          0.33188757696321547,
          0.6584998986986181,
          -1.257840095410502,
          0.32989298339205186,
          0.26155572277123423,
          -2.4599125596351823,
          1.5324733939085835,
          0.9450039195953681,
          0.06458813700390781,
          1.180078426519659,
          0.770746334051263,
          0.3331657562209716,
          0.9529659734434237,
          0.6058425830713987,
          1.130321723555387,
          -0.6012076342239905,
          -0.34611222631218846,
          0.21616532446481254,
          1.1727700390873312,
          -0.03924015219395926,
          -1.1090792840341646,
          1.532860378030908,
          0.2519668405699619,
          -0.9128546831010639,
          0.3287694771317553,
          0.5720919978606196,
          1.4369524878863131,
          -2.31245474055154,
          0.7269706912064975,
          -2.2724656376083847,
          0.6217512624441843,
          -1.149150483928287,
          0.762324242960001,
          0.6181852981325022,
          0.6154444175062248,
          0.6859674764796967,
          0.9094555455512773,
          0.1961396911565603,
          -0.5423014129783554,
          -0.5210271381920242,
          0.37889544571908496,
          0.7668689861358123,
          1.345999833593855,
          0.3218285009041609,
          -2.1255575193508616,
          -1.213290320133076,
          0.14200732909612496,
          1.489444558077597,
          -0.8575976260970435,
          -0.016181857718749904,
          0.5474280623300499,
          -0.6186054099057708,
          0.6701846121674955,
          -0.6129910501193094,
          0.5915715504687792,
          -2.4019243654380826,
          -0.09161155260406162,
          -0.18697809269040175,
          -4.511936563497754,
          0.9863195440824328,
          0.9704803541863959,
          -0.6153410592425291,
          -0.23481747222262805,
          1.289113711541395,
          0.27832680658922154,
          -0.08905471590134338,
          -0.08455371872639768,
          0.232304339573224,
          -1.2447704846127374,
          -0.4827819375220341,
          1.9442029515863137,
          0.2452450897287286,
          0.02414532793176462,
          0.14455183945802416,
          1.0281051344616066,
          0.848766468848188,
          0.4586400705500439,
          -0.9494760177454723,
          -0.9768566295613794,
          -0.7136253095848245,
          0.5599199107843043,
          0.08294018250090647,
          -0.593674636092453,
          -0.07216194231300613,
          0.7427908989679947,
          0.6608522588761498,
          -0.5965252550675559
         ],
         "xaxis": "x12",
         "y": [
          -1.3535163580022544,
          1.4003596234117344,
          0.13469439790165721,
          1.4051908037448164,
          0.9580714977635231,
          -0.4095176349491406,
          0.7580845633983917,
          -1.2819504250150386,
          0.2086995055029189,
          0.9329538542322144,
          -0.8016333047126879,
          -0.07771097622126454,
          -0.7721054100946949,
          -1.990676407866973,
          -0.7862268731312244,
          -1.5525540482500282,
          0.15355932941990333,
          -0.7354191976403986,
          -0.2710262876002277,
          -1.1988608203442557,
          3.0747486110269544,
          -0.5274923081062007,
          0.04271981706349143,
          -0.9085064591077707,
          1.9556268889088981,
          0.29424423013466655,
          -0.5519571126618097,
          -0.008858948660685682,
          0.3675294495702848,
          -1.1500645608143736,
          0.557455375002619,
          0.49747346009956683,
          -0.691892606369852,
          0.3665233905015236,
          -0.6561323088805497,
          0.7803476962794172,
          -0.47541673719023575,
          -0.9675490460126639,
          -0.9450344114735258,
          0.5386395427237893,
          -1.1197794688078442,
          0.6206147505716335,
          0.13197887760118768,
          -1.92176418023807,
          0.2383637161926735,
          -0.5624785667450038,
          -0.33247424484091215,
          1.6424089724127477,
          -1.3213966449272294,
          0.46841273984178117,
          1.3272128288828362,
          -0.8992249573860571,
          0.4456547578223136,
          -0.9539940253329383,
          -0.48834152263188163,
          -0.1537916076593378,
          -0.47663629366978105,
          0.9865632059786338,
          1.398277337906387,
          -1.2817926480198785,
          -0.49820050402222626,
          -0.9924294973256893,
          -0.06230149404281906,
          0.12987207476010865,
          2.028247243274949,
          1.5903002635586032,
          -0.07037377541024276,
          -0.7456460135746772,
          0.06619805039363856,
          0.9516547628894232,
          0.5760250487702471,
          1.4064848448797052,
          -0.5870532543768849,
          -0.10386233005351653,
          -0.6026567159275114,
          -0.3977153514833081,
          -0.0789265337748859,
          -1.8778042312497178,
          0.040799528854207436,
          -1.0036183678592239,
          -0.08819667574264149,
          -0.3928287950265648,
          0.3816777150578995,
          -1.2046870162167262,
          1.5657550525626636,
          -0.9107752964177663,
          -1.2806738271409532,
          -0.26936898286492883,
          -1.9725333411495,
          0.12296147267332022,
          1.3657654661570693,
          1.3073215223367316,
          -0.26754155501266924,
          0.3768637235704007,
          0.09754703096082211,
          0.2820622826087046,
          0.8173612891250674,
          -0.6608882090748124,
          -2.1822590557928137,
          1.1034159369692882
         ],
         "yaxis": "y12"
        },
        {
         "line": {
          "color": "rgba(128, 128, 128, 1.0)",
          "dash": "solid",
          "shape": "linear",
          "width": 1.3
         },
         "marker": {
          "size": 2,
          "symbol": "circle"
         },
         "mode": "markers",
         "name": "D",
         "text": "",
         "type": "scatter",
         "x": [
          1.2828662516368237,
          -1.9058548130178599,
          1.7624087399545465,
          -1.28957445810928,
          -0.33074735230222574,
          1.3924138972481361,
          -1.0876116171939914,
          -1.2081372790816036,
          -0.6737965225857129,
          -0.02583692854927848,
          0.8039293299766449,
          1.0107446447097366,
          -1.4146549512974564,
          -0.15595360258756916,
          1.1310264219534185,
          0.3109506384339165,
          -0.3808054031911281,
          0.11122446898664881,
          -0.9656072574207325,
          0.2406238062862133,
          -0.8068648764125891,
          -1.6871947272058962,
          1.2337296353563858,
          -0.3809284251154643,
          -0.35317470698447334,
          0.43415144542077877,
          1.2180163628219967,
          -1.522440486703186,
          0.5217061847644993,
          0.38561994701780056,
          -0.49192210133219766,
          0.14013093395285253,
          2.4036700387643384,
          -0.4807851905433463,
          -1.9605399057258375,
          1.2669050634370032,
          -1.5308676262032017,
          -0.5190412053819773,
          0.4173351672979796,
          -0.23687798244708996,
          -0.8460465955548907,
          -0.5084860834962257,
          0.1738108848450604,
          0.0368915898997711,
          0.6805541276651929,
          -0.3118292802592112,
          0.6187106394900223,
          -0.7343098042346263,
          1.0517884026374926,
          -1.0677456222735553,
          -0.9589362399553518,
          -0.6589773644257099,
          -1.1643134480046182,
          0.2627379525787662,
          -1.6330933755686416,
          0.6797640558459586,
          -0.21807894242190407,
          0.6121770011936802,
          -1.2288674416183698,
          -0.028932611373871618,
          -0.29558261017692433,
          0.8851879307115434,
          -0.12808461099746693,
          0.9982779724582205,
          -0.7046827243365449,
          -1.1674082125449132,
          0.008171711724090178,
          0.4552042065990801,
          0.8047843719361977,
          1.3520070749654678,
          -0.023124972881999134,
          -0.889286390339353,
          0.8736949087856304,
          -0.4306513533340919,
          -0.3947564542130474,
          0.9753568630991614,
          0.6465523276736221,
          1.1234495604869827,
          0.7575077430654791,
          0.10056159062489389,
          -0.5990740207238892,
          -0.04925861844922938,
          -0.5743835236711956,
          -0.2934599223661171,
          0.13943105173979872,
          -1.1730514837867145,
          -1.4097168362462602,
          0.2819429293041775,
          1.8333068010035791,
          -0.8453840321261459,
          0.28363834198412025,
          -1.2073436137625582,
          -0.7535816105045646,
          0.4060306049615743,
          0.48190397132211416,
          0.42673882846182315,
          2.706608622687043,
          -0.4285481488971416,
          0.13524802574512346,
          -0.11575641589217416
         ],
         "xaxis": "x13",
         "y": [
          -0.7497552920964153,
          2.4762369735940415,
          -1.7647726919066227,
          -0.8473079542231872,
          0.7050963667311787,
          0.40543749068007695,
          -0.7010925674186751,
          1.0439091114782582,
          -0.2961776860098586,
          -0.29855672241806075,
          0.15330071223009764,
          -0.22021786335174115,
          -0.89546554469811,
          0.33188757696321547,
          0.6584998986986181,
          -1.257840095410502,
          0.32989298339205186,
          0.26155572277123423,
          -2.4599125596351823,
          1.5324733939085835,
          0.9450039195953681,
          0.06458813700390781,
          1.180078426519659,
          0.770746334051263,
          0.3331657562209716,
          0.9529659734434237,
          0.6058425830713987,
          1.130321723555387,
          -0.6012076342239905,
          -0.34611222631218846,
          0.21616532446481254,
          1.1727700390873312,
          -0.03924015219395926,
          -1.1090792840341646,
          1.532860378030908,
          0.2519668405699619,
          -0.9128546831010639,
          0.3287694771317553,
          0.5720919978606196,
          1.4369524878863131,
          -2.31245474055154,
          0.7269706912064975,
          -2.2724656376083847,
          0.6217512624441843,
          -1.149150483928287,
          0.762324242960001,
          0.6181852981325022,
          0.6154444175062248,
          0.6859674764796967,
          0.9094555455512773,
          0.1961396911565603,
          -0.5423014129783554,
          -0.5210271381920242,
          0.37889544571908496,
          0.7668689861358123,
          1.345999833593855,
          0.3218285009041609,
          -2.1255575193508616,
          -1.213290320133076,
          0.14200732909612496,
          1.489444558077597,
          -0.8575976260970435,
          -0.016181857718749904,
          0.5474280623300499,
          -0.6186054099057708,
          0.6701846121674955,
          -0.6129910501193094,
          0.5915715504687792,
          -2.4019243654380826,
          -0.09161155260406162,
          -0.18697809269040175,
          -4.511936563497754,
          0.9863195440824328,
          0.9704803541863959,
          -0.6153410592425291,
          -0.23481747222262805,
          1.289113711541395,
          0.27832680658922154,
          -0.08905471590134338,
          -0.08455371872639768,
          0.232304339573224,
          -1.2447704846127374,
          -0.4827819375220341,
          1.9442029515863137,
          0.2452450897287286,
          0.02414532793176462,
          0.14455183945802416,
          1.0281051344616066,
          0.848766468848188,
          0.4586400705500439,
          -0.9494760177454723,
          -0.9768566295613794,
          -0.7136253095848245,
          0.5599199107843043,
          0.08294018250090647,
          -0.593674636092453,
          -0.07216194231300613,
          0.7427908989679947,
          0.6608522588761498,
          -0.5965252550675559
         ],
         "yaxis": "y13"
        },
        {
         "line": {
          "color": "rgba(128, 128, 128, 1.0)",
          "dash": "solid",
          "shape": "linear",
          "width": 1.3
         },
         "marker": {
          "size": 2,
          "symbol": "circle"
         },
         "mode": "markers",
         "name": "D",
         "text": "",
         "type": "scatter",
         "x": [
          -0.5154028289519922,
          0.0791322585661461,
          1.0396515346220583,
          0.4850278201225669,
          -1.6254111312880137,
          -0.998260106320457,
          0.26303934236234766,
          -0.30773940814879197,
          -0.01094210364897688,
          -1.3944439761556933,
          1.5055174490022059,
          0.8239482622881219,
          -0.509754796806725,
          0.7313794893071358,
          0.8820097692652915,
          -0.5406830740138031,
          -1.1329492868192956,
          -0.40077704369678735,
          0.40493122341053506,
          0.640683739641404,
          -1.0204224910137554,
          1.4889011107760302,
          0.36589253033272673,
          -0.10252420879481028,
          -1.430282150047373,
          0.14066371160501276,
          0.6163784978253694,
          1.432263924590453,
          1.8492563020547392,
          -0.8217827592875484,
          -0.44599160091648204,
          1.4894175755182744,
          1.0176964004655251,
          1.6807954863608192,
          -0.21163545755427834,
          -1.4275374906092662,
          -1.823583470739203,
          2.1659367105415224,
          -1.3434598934659385,
          0.22262118793658667,
          0.02691957065464893,
          1.2009810098660418,
          -1.0935773745230242,
          -1.5025461722914313,
          1.0487359193007595,
          -0.2335583839744253,
          -1.0022135401686079,
          -1.8599184167196092,
          -0.22899476071839855,
          -0.8522397606714057,
          1.0977669077056627,
          -0.3654870695184672,
          -0.26251197339235505,
          1.5041915918704902,
          -0.1298061375478299,
          0.027609862050904,
          -0.02269809222143529,
          -0.30059378354524874,
          0.4221110297659695,
          -1.1626066888185207,
          0.9309679489129465,
          -0.9547175245352093,
          -0.5855913889007434,
          -0.1491633236882833,
          -0.8179567266593832,
          -0.5065334580298471,
          1.090214517366577,
          0.9947655114561784,
          0.9921809126586695,
          0.12746228521287786,
          -0.7960222886985829,
          -0.6504377121940919,
          0.4746746423422819,
          0.7572970759682413,
          -0.9395071457654471,
          -0.3494968638336238,
          1.3460158607638404,
          -0.5488662923381947,
          -1.4653280244485671,
          -1.4572637821760548,
          -0.3889838356638975,
          -0.20622999422701915,
          -0.6414210441959368,
          1.060095370980204,
          0.4516365774723491,
          1.8616252137710345,
          -0.3596212431681085,
          -0.1469756823743527,
          0.5071310239049722,
          0.023489024913073517,
          -1.6734350889799126,
          1.7108871056559394,
          1.6637160594485334,
          -0.8199014490648515,
          0.38052374775287356,
          -1.4915215740611367,
          -0.10226702648398565,
          -0.3668531484436365,
          -0.06217608712746471,
          1.0770315841710956
         ],
         "xaxis": "x14",
         "y": [
          -0.7497552920964153,
          2.4762369735940415,
          -1.7647726919066227,
          -0.8473079542231872,
          0.7050963667311787,
          0.40543749068007695,
          -0.7010925674186751,
          1.0439091114782582,
          -0.2961776860098586,
          -0.29855672241806075,
          0.15330071223009764,
          -0.22021786335174115,
          -0.89546554469811,
          0.33188757696321547,
          0.6584998986986181,
          -1.257840095410502,
          0.32989298339205186,
          0.26155572277123423,
          -2.4599125596351823,
          1.5324733939085835,
          0.9450039195953681,
          0.06458813700390781,
          1.180078426519659,
          0.770746334051263,
          0.3331657562209716,
          0.9529659734434237,
          0.6058425830713987,
          1.130321723555387,
          -0.6012076342239905,
          -0.34611222631218846,
          0.21616532446481254,
          1.1727700390873312,
          -0.03924015219395926,
          -1.1090792840341646,
          1.532860378030908,
          0.2519668405699619,
          -0.9128546831010639,
          0.3287694771317553,
          0.5720919978606196,
          1.4369524878863131,
          -2.31245474055154,
          0.7269706912064975,
          -2.2724656376083847,
          0.6217512624441843,
          -1.149150483928287,
          0.762324242960001,
          0.6181852981325022,
          0.6154444175062248,
          0.6859674764796967,
          0.9094555455512773,
          0.1961396911565603,
          -0.5423014129783554,
          -0.5210271381920242,
          0.37889544571908496,
          0.7668689861358123,
          1.345999833593855,
          0.3218285009041609,
          -2.1255575193508616,
          -1.213290320133076,
          0.14200732909612496,
          1.489444558077597,
          -0.8575976260970435,
          -0.016181857718749904,
          0.5474280623300499,
          -0.6186054099057708,
          0.6701846121674955,
          -0.6129910501193094,
          0.5915715504687792,
          -2.4019243654380826,
          -0.09161155260406162,
          -0.18697809269040175,
          -4.511936563497754,
          0.9863195440824328,
          0.9704803541863959,
          -0.6153410592425291,
          -0.23481747222262805,
          1.289113711541395,
          0.27832680658922154,
          -0.08905471590134338,
          -0.08455371872639768,
          0.232304339573224,
          -1.2447704846127374,
          -0.4827819375220341,
          1.9442029515863137,
          0.2452450897287286,
          0.02414532793176462,
          0.14455183945802416,
          1.0281051344616066,
          0.848766468848188,
          0.4586400705500439,
          -0.9494760177454723,
          -0.9768566295613794,
          -0.7136253095848245,
          0.5599199107843043,
          0.08294018250090647,
          -0.593674636092453,
          -0.07216194231300613,
          0.7427908989679947,
          0.6608522588761498,
          -0.5965252550675559
         ],
         "yaxis": "y14"
        },
        {
         "line": {
          "color": "rgba(128, 128, 128, 1.0)",
          "dash": "solid",
          "shape": "linear",
          "width": 1.3
         },
         "marker": {
          "size": 2,
          "symbol": "circle"
         },
         "mode": "markers",
         "name": "D",
         "text": "",
         "type": "scatter",
         "x": [
          -1.3535163580022544,
          1.4003596234117344,
          0.13469439790165721,
          1.4051908037448164,
          0.9580714977635231,
          -0.4095176349491406,
          0.7580845633983917,
          -1.2819504250150386,
          0.2086995055029189,
          0.9329538542322144,
          -0.8016333047126879,
          -0.07771097622126454,
          -0.7721054100946949,
          -1.990676407866973,
          -0.7862268731312244,
          -1.5525540482500282,
          0.15355932941990333,
          -0.7354191976403986,
          -0.2710262876002277,
          -1.1988608203442557,
          3.0747486110269544,
          -0.5274923081062007,
          0.04271981706349143,
          -0.9085064591077707,
          1.9556268889088981,
          0.29424423013466655,
          -0.5519571126618097,
          -0.008858948660685682,
          0.3675294495702848,
          -1.1500645608143736,
          0.557455375002619,
          0.49747346009956683,
          -0.691892606369852,
          0.3665233905015236,
          -0.6561323088805497,
          0.7803476962794172,
          -0.47541673719023575,
          -0.9675490460126639,
          -0.9450344114735258,
          0.5386395427237893,
          -1.1197794688078442,
          0.6206147505716335,
          0.13197887760118768,
          -1.92176418023807,
          0.2383637161926735,
          -0.5624785667450038,
          -0.33247424484091215,
          1.6424089724127477,
          -1.3213966449272294,
          0.46841273984178117,
          1.3272128288828362,
          -0.8992249573860571,
          0.4456547578223136,
          -0.9539940253329383,
          -0.48834152263188163,
          -0.1537916076593378,
          -0.47663629366978105,
          0.9865632059786338,
          1.398277337906387,
          -1.2817926480198785,
          -0.49820050402222626,
          -0.9924294973256893,
          -0.06230149404281906,
          0.12987207476010865,
          2.028247243274949,
          1.5903002635586032,
          -0.07037377541024276,
          -0.7456460135746772,
          0.06619805039363856,
          0.9516547628894232,
          0.5760250487702471,
          1.4064848448797052,
          -0.5870532543768849,
          -0.10386233005351653,
          -0.6026567159275114,
          -0.3977153514833081,
          -0.0789265337748859,
          -1.8778042312497178,
          0.040799528854207436,
          -1.0036183678592239,
          -0.08819667574264149,
          -0.3928287950265648,
          0.3816777150578995,
          -1.2046870162167262,
          1.5657550525626636,
          -0.9107752964177663,
          -1.2806738271409532,
          -0.26936898286492883,
          -1.9725333411495,
          0.12296147267332022,
          1.3657654661570693,
          1.3073215223367316,
          -0.26754155501266924,
          0.3768637235704007,
          0.09754703096082211,
          0.2820622826087046,
          0.8173612891250674,
          -0.6608882090748124,
          -2.1822590557928137,
          1.1034159369692882
         ],
         "xaxis": "x15",
         "y": [
          -0.7497552920964153,
          2.4762369735940415,
          -1.7647726919066227,
          -0.8473079542231872,
          0.7050963667311787,
          0.40543749068007695,
          -0.7010925674186751,
          1.0439091114782582,
          -0.2961776860098586,
          -0.29855672241806075,
          0.15330071223009764,
          -0.22021786335174115,
          -0.89546554469811,
          0.33188757696321547,
          0.6584998986986181,
          -1.257840095410502,
          0.32989298339205186,
          0.26155572277123423,
          -2.4599125596351823,
          1.5324733939085835,
          0.9450039195953681,
          0.06458813700390781,
          1.180078426519659,
          0.770746334051263,
          0.3331657562209716,
          0.9529659734434237,
          0.6058425830713987,
          1.130321723555387,
          -0.6012076342239905,
          -0.34611222631218846,
          0.21616532446481254,
          1.1727700390873312,
          -0.03924015219395926,
          -1.1090792840341646,
          1.532860378030908,
          0.2519668405699619,
          -0.9128546831010639,
          0.3287694771317553,
          0.5720919978606196,
          1.4369524878863131,
          -2.31245474055154,
          0.7269706912064975,
          -2.2724656376083847,
          0.6217512624441843,
          -1.149150483928287,
          0.762324242960001,
          0.6181852981325022,
          0.6154444175062248,
          0.6859674764796967,
          0.9094555455512773,
          0.1961396911565603,
          -0.5423014129783554,
          -0.5210271381920242,
          0.37889544571908496,
          0.7668689861358123,
          1.345999833593855,
          0.3218285009041609,
          -2.1255575193508616,
          -1.213290320133076,
          0.14200732909612496,
          1.489444558077597,
          -0.8575976260970435,
          -0.016181857718749904,
          0.5474280623300499,
          -0.6186054099057708,
          0.6701846121674955,
          -0.6129910501193094,
          0.5915715504687792,
          -2.4019243654380826,
          -0.09161155260406162,
          -0.18697809269040175,
          -4.511936563497754,
          0.9863195440824328,
          0.9704803541863959,
          -0.6153410592425291,
          -0.23481747222262805,
          1.289113711541395,
          0.27832680658922154,
          -0.08905471590134338,
          -0.08455371872639768,
          0.232304339573224,
          -1.2447704846127374,
          -0.4827819375220341,
          1.9442029515863137,
          0.2452450897287286,
          0.02414532793176462,
          0.14455183945802416,
          1.0281051344616066,
          0.848766468848188,
          0.4586400705500439,
          -0.9494760177454723,
          -0.9768566295613794,
          -0.7136253095848245,
          0.5599199107843043,
          0.08294018250090647,
          -0.593674636092453,
          -0.07216194231300613,
          0.7427908989679947,
          0.6608522588761498,
          -0.5965252550675559
         ],
         "yaxis": "y15"
        },
        {
         "histfunc": "count",
         "histnorm": "",
         "marker": {
          "color": "rgba(128, 0, 128, 1.0)",
          "line": {
           "color": "#4D5663",
           "width": 1.3
          }
         },
         "name": "D",
         "nbinsx": 10,
         "opacity": 0.8,
         "orientation": "v",
         "type": "histogram",
         "x": [
          -0.7497552920964153,
          2.4762369735940415,
          -1.7647726919066227,
          -0.8473079542231872,
          0.7050963667311787,
          0.40543749068007695,
          -0.7010925674186751,
          1.0439091114782582,
          -0.2961776860098586,
          -0.29855672241806075,
          0.15330071223009764,
          -0.22021786335174115,
          -0.89546554469811,
          0.33188757696321547,
          0.6584998986986181,
          -1.257840095410502,
          0.32989298339205186,
          0.26155572277123423,
          -2.4599125596351823,
          1.5324733939085835,
          0.9450039195953681,
          0.06458813700390781,
          1.180078426519659,
          0.770746334051263,
          0.3331657562209716,
          0.9529659734434237,
          0.6058425830713987,
          1.130321723555387,
          -0.6012076342239905,
          -0.34611222631218846,
          0.21616532446481254,
          1.1727700390873312,
          -0.03924015219395926,
          -1.1090792840341646,
          1.532860378030908,
          0.2519668405699619,
          -0.9128546831010639,
          0.3287694771317553,
          0.5720919978606196,
          1.4369524878863131,
          -2.31245474055154,
          0.7269706912064975,
          -2.2724656376083847,
          0.6217512624441843,
          -1.149150483928287,
          0.762324242960001,
          0.6181852981325022,
          0.6154444175062248,
          0.6859674764796967,
          0.9094555455512773,
          0.1961396911565603,
          -0.5423014129783554,
          -0.5210271381920242,
          0.37889544571908496,
          0.7668689861358123,
          1.345999833593855,
          0.3218285009041609,
          -2.1255575193508616,
          -1.213290320133076,
          0.14200732909612496,
          1.489444558077597,
          -0.8575976260970435,
          -0.016181857718749904,
          0.5474280623300499,
          -0.6186054099057708,
          0.6701846121674955,
          -0.6129910501193094,
          0.5915715504687792,
          -2.4019243654380826,
          -0.09161155260406162,
          -0.18697809269040175,
          -4.511936563497754,
          0.9863195440824328,
          0.9704803541863959,
          -0.6153410592425291,
          -0.23481747222262805,
          1.289113711541395,
          0.27832680658922154,
          -0.08905471590134338,
          -0.08455371872639768,
          0.232304339573224,
          -1.2447704846127374,
          -0.4827819375220341,
          1.9442029515863137,
          0.2452450897287286,
          0.02414532793176462,
          0.14455183945802416,
          1.0281051344616066,
          0.848766468848188,
          0.4586400705500439,
          -0.9494760177454723,
          -0.9768566295613794,
          -0.7136253095848245,
          0.5599199107843043,
          0.08294018250090647,
          -0.593674636092453,
          -0.07216194231300613,
          0.7427908989679947,
          0.6608522588761498,
          -0.5965252550675559
         ],
         "xaxis": "x16",
         "yaxis": "y16"
        }
       ],
       "layout": {
        "bargap": 0.02,
        "legend": {
         "bgcolor": "#F5F6F9",
         "font": {
          "color": "#4D5663"
         }
        },
        "paper_bgcolor": "#F5F6F9",
        "plot_bgcolor": "#F5F6F9",
        "showlegend": false,
        "template": {
         "data": {
          "bar": [
           {
            "error_x": {
             "color": "#2a3f5f"
            },
            "error_y": {
             "color": "#2a3f5f"
            },
            "marker": {
             "line": {
              "color": "#E5ECF6",
              "width": 0.5
             }
            },
            "type": "bar"
           }
          ],
          "barpolar": [
           {
            "marker": {
             "line": {
              "color": "#E5ECF6",
              "width": 0.5
             }
            },
            "type": "barpolar"
           }
          ],
          "carpet": [
           {
            "aaxis": {
             "endlinecolor": "#2a3f5f",
             "gridcolor": "white",
             "linecolor": "white",
             "minorgridcolor": "white",
             "startlinecolor": "#2a3f5f"
            },
            "baxis": {
             "endlinecolor": "#2a3f5f",
             "gridcolor": "white",
             "linecolor": "white",
             "minorgridcolor": "white",
             "startlinecolor": "#2a3f5f"
            },
            "type": "carpet"
           }
          ],
          "choropleth": [
           {
            "colorbar": {
             "outlinewidth": 0,
             "ticks": ""
            },
            "type": "choropleth"
           }
          ],
          "contour": [
           {
            "colorbar": {
             "outlinewidth": 0,
             "ticks": ""
            },
            "colorscale": [
             [
              0,
              "#0d0887"
             ],
             [
              0.1111111111111111,
              "#46039f"
             ],
             [
              0.2222222222222222,
              "#7201a8"
             ],
             [
              0.3333333333333333,
              "#9c179e"
             ],
             [
              0.4444444444444444,
              "#bd3786"
             ],
             [
              0.5555555555555556,
              "#d8576b"
             ],
             [
              0.6666666666666666,
              "#ed7953"
             ],
             [
              0.7777777777777778,
              "#fb9f3a"
             ],
             [
              0.8888888888888888,
              "#fdca26"
             ],
             [
              1,
              "#f0f921"
             ]
            ],
            "type": "contour"
           }
          ],
          "contourcarpet": [
           {
            "colorbar": {
             "outlinewidth": 0,
             "ticks": ""
            },
            "type": "contourcarpet"
           }
          ],
          "heatmap": [
           {
            "colorbar": {
             "outlinewidth": 0,
             "ticks": ""
            },
            "colorscale": [
             [
              0,
              "#0d0887"
             ],
             [
              0.1111111111111111,
              "#46039f"
             ],
             [
              0.2222222222222222,
              "#7201a8"
             ],
             [
              0.3333333333333333,
              "#9c179e"
             ],
             [
              0.4444444444444444,
              "#bd3786"
             ],
             [
              0.5555555555555556,
              "#d8576b"
             ],
             [
              0.6666666666666666,
              "#ed7953"
             ],
             [
              0.7777777777777778,
              "#fb9f3a"
             ],
             [
              0.8888888888888888,
              "#fdca26"
             ],
             [
              1,
              "#f0f921"
             ]
            ],
            "type": "heatmap"
           }
          ],
          "heatmapgl": [
           {
            "colorbar": {
             "outlinewidth": 0,
             "ticks": ""
            },
            "colorscale": [
             [
              0,
              "#0d0887"
             ],
             [
              0.1111111111111111,
              "#46039f"
             ],
             [
              0.2222222222222222,
              "#7201a8"
             ],
             [
              0.3333333333333333,
              "#9c179e"
             ],
             [
              0.4444444444444444,
              "#bd3786"
             ],
             [
              0.5555555555555556,
              "#d8576b"
             ],
             [
              0.6666666666666666,
              "#ed7953"
             ],
             [
              0.7777777777777778,
              "#fb9f3a"
             ],
             [
              0.8888888888888888,
              "#fdca26"
             ],
             [
              1,
              "#f0f921"
             ]
            ],
            "type": "heatmapgl"
           }
          ],
          "histogram": [
           {
            "marker": {
             "colorbar": {
              "outlinewidth": 0,
              "ticks": ""
             }
            },
            "type": "histogram"
           }
          ],
          "histogram2d": [
           {
            "colorbar": {
             "outlinewidth": 0,
             "ticks": ""
            },
            "colorscale": [
             [
              0,
              "#0d0887"
             ],
             [
              0.1111111111111111,
              "#46039f"
             ],
             [
              0.2222222222222222,
              "#7201a8"
             ],
             [
              0.3333333333333333,
              "#9c179e"
             ],
             [
              0.4444444444444444,
              "#bd3786"
             ],
             [
              0.5555555555555556,
              "#d8576b"
             ],
             [
              0.6666666666666666,
              "#ed7953"
             ],
             [
              0.7777777777777778,
              "#fb9f3a"
             ],
             [
              0.8888888888888888,
              "#fdca26"
             ],
             [
              1,
              "#f0f921"
             ]
            ],
            "type": "histogram2d"
           }
          ],
          "histogram2dcontour": [
           {
            "colorbar": {
             "outlinewidth": 0,
             "ticks": ""
            },
            "colorscale": [
             [
              0,
              "#0d0887"
             ],
             [
              0.1111111111111111,
              "#46039f"
             ],
             [
              0.2222222222222222,
              "#7201a8"
             ],
             [
              0.3333333333333333,
              "#9c179e"
             ],
             [
              0.4444444444444444,
              "#bd3786"
             ],
             [
              0.5555555555555556,
              "#d8576b"
             ],
             [
              0.6666666666666666,
              "#ed7953"
             ],
             [
              0.7777777777777778,
              "#fb9f3a"
             ],
             [
              0.8888888888888888,
              "#fdca26"
             ],
             [
              1,
              "#f0f921"
             ]
            ],
            "type": "histogram2dcontour"
           }
          ],
          "mesh3d": [
           {
            "colorbar": {
             "outlinewidth": 0,
             "ticks": ""
            },
            "type": "mesh3d"
           }
          ],
          "parcoords": [
           {
            "line": {
             "colorbar": {
              "outlinewidth": 0,
              "ticks": ""
             }
            },
            "type": "parcoords"
           }
          ],
          "pie": [
           {
            "automargin": true,
            "type": "pie"
           }
          ],
          "scatter": [
           {
            "marker": {
             "colorbar": {
              "outlinewidth": 0,
              "ticks": ""
             }
            },
            "type": "scatter"
           }
          ],
          "scatter3d": [
           {
            "line": {
             "colorbar": {
              "outlinewidth": 0,
              "ticks": ""
             }
            },
            "marker": {
             "colorbar": {
              "outlinewidth": 0,
              "ticks": ""
             }
            },
            "type": "scatter3d"
           }
          ],
          "scattercarpet": [
           {
            "marker": {
             "colorbar": {
              "outlinewidth": 0,
              "ticks": ""
             }
            },
            "type": "scattercarpet"
           }
          ],
          "scattergeo": [
           {
            "marker": {
             "colorbar": {
              "outlinewidth": 0,
              "ticks": ""
             }
            },
            "type": "scattergeo"
           }
          ],
          "scattergl": [
           {
            "marker": {
             "colorbar": {
              "outlinewidth": 0,
              "ticks": ""
             }
            },
            "type": "scattergl"
           }
          ],
          "scattermapbox": [
           {
            "marker": {
             "colorbar": {
              "outlinewidth": 0,
              "ticks": ""
             }
            },
            "type": "scattermapbox"
           }
          ],
          "scatterpolar": [
           {
            "marker": {
             "colorbar": {
              "outlinewidth": 0,
              "ticks": ""
             }
            },
            "type": "scatterpolar"
           }
          ],
          "scatterpolargl": [
           {
            "marker": {
             "colorbar": {
              "outlinewidth": 0,
              "ticks": ""
             }
            },
            "type": "scatterpolargl"
           }
          ],
          "scatterternary": [
           {
            "marker": {
             "colorbar": {
              "outlinewidth": 0,
              "ticks": ""
             }
            },
            "type": "scatterternary"
           }
          ],
          "surface": [
           {
            "colorbar": {
             "outlinewidth": 0,
             "ticks": ""
            },
            "colorscale": [
             [
              0,
              "#0d0887"
             ],
             [
              0.1111111111111111,
              "#46039f"
             ],
             [
              0.2222222222222222,
              "#7201a8"
             ],
             [
              0.3333333333333333,
              "#9c179e"
             ],
             [
              0.4444444444444444,
              "#bd3786"
             ],
             [
              0.5555555555555556,
              "#d8576b"
             ],
             [
              0.6666666666666666,
              "#ed7953"
             ],
             [
              0.7777777777777778,
              "#fb9f3a"
             ],
             [
              0.8888888888888888,
              "#fdca26"
             ],
             [
              1,
              "#f0f921"
             ]
            ],
            "type": "surface"
           }
          ],
          "table": [
           {
            "cells": {
             "fill": {
              "color": "#EBF0F8"
             },
             "line": {
              "color": "white"
             }
            },
            "header": {
             "fill": {
              "color": "#C8D4E3"
             },
             "line": {
              "color": "white"
             }
            },
            "type": "table"
           }
          ]
         },
         "layout": {
          "annotationdefaults": {
           "arrowcolor": "#2a3f5f",
           "arrowhead": 0,
           "arrowwidth": 1
          },
          "autotypenumbers": "strict",
          "coloraxis": {
           "colorbar": {
            "outlinewidth": 0,
            "ticks": ""
           }
          },
          "colorscale": {
           "diverging": [
            [
             0,
             "#8e0152"
            ],
            [
             0.1,
             "#c51b7d"
            ],
            [
             0.2,
             "#de77ae"
            ],
            [
             0.3,
             "#f1b6da"
            ],
            [
             0.4,
             "#fde0ef"
            ],
            [
             0.5,
             "#f7f7f7"
            ],
            [
             0.6,
             "#e6f5d0"
            ],
            [
             0.7,
             "#b8e186"
            ],
            [
             0.8,
             "#7fbc41"
            ],
            [
             0.9,
             "#4d9221"
            ],
            [
             1,
             "#276419"
            ]
           ],
           "sequential": [
            [
             0,
             "#0d0887"
            ],
            [
             0.1111111111111111,
             "#46039f"
            ],
            [
             0.2222222222222222,
             "#7201a8"
            ],
            [
             0.3333333333333333,
             "#9c179e"
            ],
            [
             0.4444444444444444,
             "#bd3786"
            ],
            [
             0.5555555555555556,
             "#d8576b"
            ],
            [
             0.6666666666666666,
             "#ed7953"
            ],
            [
             0.7777777777777778,
             "#fb9f3a"
            ],
            [
             0.8888888888888888,
             "#fdca26"
            ],
            [
             1,
             "#f0f921"
            ]
           ],
           "sequentialminus": [
            [
             0,
             "#0d0887"
            ],
            [
             0.1111111111111111,
             "#46039f"
            ],
            [
             0.2222222222222222,
             "#7201a8"
            ],
            [
             0.3333333333333333,
             "#9c179e"
            ],
            [
             0.4444444444444444,
             "#bd3786"
            ],
            [
             0.5555555555555556,
             "#d8576b"
            ],
            [
             0.6666666666666666,
             "#ed7953"
            ],
            [
             0.7777777777777778,
             "#fb9f3a"
            ],
            [
             0.8888888888888888,
             "#fdca26"
            ],
            [
             1,
             "#f0f921"
            ]
           ]
          },
          "colorway": [
           "#636efa",
           "#EF553B",
           "#00cc96",
           "#ab63fa",
           "#FFA15A",
           "#19d3f3",
           "#FF6692",
           "#B6E880",
           "#FF97FF",
           "#FECB52"
          ],
          "font": {
           "color": "#2a3f5f"
          },
          "geo": {
           "bgcolor": "white",
           "lakecolor": "white",
           "landcolor": "#E5ECF6",
           "showlakes": true,
           "showland": true,
           "subunitcolor": "white"
          },
          "hoverlabel": {
           "align": "left"
          },
          "hovermode": "closest",
          "mapbox": {
           "style": "light"
          },
          "paper_bgcolor": "white",
          "plot_bgcolor": "#E5ECF6",
          "polar": {
           "angularaxis": {
            "gridcolor": "white",
            "linecolor": "white",
            "ticks": ""
           },
           "bgcolor": "#E5ECF6",
           "radialaxis": {
            "gridcolor": "white",
            "linecolor": "white",
            "ticks": ""
           }
          },
          "scene": {
           "xaxis": {
            "backgroundcolor": "#E5ECF6",
            "gridcolor": "white",
            "gridwidth": 2,
            "linecolor": "white",
            "showbackground": true,
            "ticks": "",
            "zerolinecolor": "white"
           },
           "yaxis": {
            "backgroundcolor": "#E5ECF6",
            "gridcolor": "white",
            "gridwidth": 2,
            "linecolor": "white",
            "showbackground": true,
            "ticks": "",
            "zerolinecolor": "white"
           },
           "zaxis": {
            "backgroundcolor": "#E5ECF6",
            "gridcolor": "white",
            "gridwidth": 2,
            "linecolor": "white",
            "showbackground": true,
            "ticks": "",
            "zerolinecolor": "white"
           }
          },
          "shapedefaults": {
           "line": {
            "color": "#2a3f5f"
           }
          },
          "ternary": {
           "aaxis": {
            "gridcolor": "white",
            "linecolor": "white",
            "ticks": ""
           },
           "baxis": {
            "gridcolor": "white",
            "linecolor": "white",
            "ticks": ""
           },
           "bgcolor": "#E5ECF6",
           "caxis": {
            "gridcolor": "white",
            "linecolor": "white",
            "ticks": ""
           }
          },
          "title": {
           "x": 0.05
          },
          "xaxis": {
           "automargin": true,
           "gridcolor": "white",
           "linecolor": "white",
           "ticks": "",
           "title": {
            "standoff": 15
           },
           "zerolinecolor": "white",
           "zerolinewidth": 2
          },
          "yaxis": {
           "automargin": true,
           "gridcolor": "white",
           "linecolor": "white",
           "ticks": "",
           "title": {
            "standoff": 15
           },
           "zerolinecolor": "white",
           "zerolinewidth": 2
          }
         }
        },
        "title": {
         "font": {
          "color": "#4D5663"
         }
        },
        "xaxis": {
         "anchor": "y",
         "domain": [
          0,
          0.2125
         ],
         "gridcolor": "#E1E5ED",
         "showgrid": false,
         "tickfont": {
          "color": "#4D5663"
         },
         "title": {
          "font": {
           "color": "#4D5663"
          },
          "text": ""
         },
         "zerolinecolor": "#E1E5ED"
        },
        "xaxis10": {
         "anchor": "y10",
         "domain": [
          0.2625,
          0.475
         ],
         "gridcolor": "#E1E5ED",
         "showgrid": false,
         "tickfont": {
          "color": "#4D5663"
         },
         "title": {
          "font": {
           "color": "#4D5663"
          },
          "text": ""
         },
         "zerolinecolor": "#E1E5ED"
        },
        "xaxis11": {
         "anchor": "y11",
         "domain": [
          0.525,
          0.7375
         ],
         "gridcolor": "#E1E5ED",
         "showgrid": false,
         "tickfont": {
          "color": "#4D5663"
         },
         "title": {
          "font": {
           "color": "#4D5663"
          },
          "text": ""
         },
         "zerolinecolor": "#E1E5ED"
        },
        "xaxis12": {
         "anchor": "y12",
         "domain": [
          0.7875,
          1
         ],
         "gridcolor": "#E1E5ED",
         "showgrid": false,
         "tickfont": {
          "color": "#4D5663"
         },
         "title": {
          "font": {
           "color": "#4D5663"
          },
          "text": ""
         },
         "zerolinecolor": "#E1E5ED"
        },
        "xaxis13": {
         "anchor": "y13",
         "domain": [
          0,
          0.2125
         ],
         "gridcolor": "#E1E5ED",
         "showgrid": false,
         "tickfont": {
          "color": "#4D5663"
         },
         "title": {
          "font": {
           "color": "#4D5663"
          },
          "text": ""
         },
         "zerolinecolor": "#E1E5ED"
        },
        "xaxis14": {
         "anchor": "y14",
         "domain": [
          0.2625,
          0.475
         ],
         "gridcolor": "#E1E5ED",
         "showgrid": false,
         "tickfont": {
          "color": "#4D5663"
         },
         "title": {
          "font": {
           "color": "#4D5663"
          },
          "text": ""
         },
         "zerolinecolor": "#E1E5ED"
        },
        "xaxis15": {
         "anchor": "y15",
         "domain": [
          0.525,
          0.7375
         ],
         "gridcolor": "#E1E5ED",
         "showgrid": false,
         "tickfont": {
          "color": "#4D5663"
         },
         "title": {
          "font": {
           "color": "#4D5663"
          },
          "text": ""
         },
         "zerolinecolor": "#E1E5ED"
        },
        "xaxis16": {
         "anchor": "y16",
         "domain": [
          0.7875,
          1
         ],
         "gridcolor": "#E1E5ED",
         "showgrid": false,
         "tickfont": {
          "color": "#4D5663"
         },
         "title": {
          "font": {
           "color": "#4D5663"
          },
          "text": ""
         },
         "zerolinecolor": "#E1E5ED"
        },
        "xaxis2": {
         "anchor": "y2",
         "domain": [
          0.2625,
          0.475
         ],
         "gridcolor": "#E1E5ED",
         "showgrid": false,
         "tickfont": {
          "color": "#4D5663"
         },
         "title": {
          "font": {
           "color": "#4D5663"
          },
          "text": ""
         },
         "zerolinecolor": "#E1E5ED"
        },
        "xaxis3": {
         "anchor": "y3",
         "domain": [
          0.525,
          0.7375
         ],
         "gridcolor": "#E1E5ED",
         "showgrid": false,
         "tickfont": {
          "color": "#4D5663"
         },
         "title": {
          "font": {
           "color": "#4D5663"
          },
          "text": ""
         },
         "zerolinecolor": "#E1E5ED"
        },
        "xaxis4": {
         "anchor": "y4",
         "domain": [
          0.7875,
          1
         ],
         "gridcolor": "#E1E5ED",
         "showgrid": false,
         "tickfont": {
          "color": "#4D5663"
         },
         "title": {
          "font": {
           "color": "#4D5663"
          },
          "text": ""
         },
         "zerolinecolor": "#E1E5ED"
        },
        "xaxis5": {
         "anchor": "y5",
         "domain": [
          0,
          0.2125
         ],
         "gridcolor": "#E1E5ED",
         "showgrid": false,
         "tickfont": {
          "color": "#4D5663"
         },
         "title": {
          "font": {
           "color": "#4D5663"
          },
          "text": ""
         },
         "zerolinecolor": "#E1E5ED"
        },
        "xaxis6": {
         "anchor": "y6",
         "domain": [
          0.2625,
          0.475
         ],
         "gridcolor": "#E1E5ED",
         "showgrid": false,
         "tickfont": {
          "color": "#4D5663"
         },
         "title": {
          "font": {
           "color": "#4D5663"
          },
          "text": ""
         },
         "zerolinecolor": "#E1E5ED"
        },
        "xaxis7": {
         "anchor": "y7",
         "domain": [
          0.525,
          0.7375
         ],
         "gridcolor": "#E1E5ED",
         "showgrid": false,
         "tickfont": {
          "color": "#4D5663"
         },
         "title": {
          "font": {
           "color": "#4D5663"
          },
          "text": ""
         },
         "zerolinecolor": "#E1E5ED"
        },
        "xaxis8": {
         "anchor": "y8",
         "domain": [
          0.7875,
          1
         ],
         "gridcolor": "#E1E5ED",
         "showgrid": false,
         "tickfont": {
          "color": "#4D5663"
         },
         "title": {
          "font": {
           "color": "#4D5663"
          },
          "text": ""
         },
         "zerolinecolor": "#E1E5ED"
        },
        "xaxis9": {
         "anchor": "y9",
         "domain": [
          0,
          0.2125
         ],
         "gridcolor": "#E1E5ED",
         "showgrid": false,
         "tickfont": {
          "color": "#4D5663"
         },
         "title": {
          "font": {
           "color": "#4D5663"
          },
          "text": ""
         },
         "zerolinecolor": "#E1E5ED"
        },
        "yaxis": {
         "anchor": "x",
         "domain": [
          0.8025,
          1
         ],
         "gridcolor": "#E1E5ED",
         "showgrid": false,
         "tickfont": {
          "color": "#4D5663"
         },
         "title": {
          "font": {
           "color": "#4D5663"
          },
          "text": ""
         },
         "zerolinecolor": "#E1E5ED"
        },
        "yaxis10": {
         "anchor": "x10",
         "domain": [
          0.2675,
          0.465
         ],
         "gridcolor": "#E1E5ED",
         "showgrid": false,
         "tickfont": {
          "color": "#4D5663"
         },
         "title": {
          "font": {
           "color": "#4D5663"
          },
          "text": ""
         },
         "zerolinecolor": "#E1E5ED"
        },
        "yaxis11": {
         "anchor": "x11",
         "domain": [
          0.2675,
          0.465
         ],
         "gridcolor": "#E1E5ED",
         "showgrid": false,
         "tickfont": {
          "color": "#4D5663"
         },
         "title": {
          "font": {
           "color": "#4D5663"
          },
          "text": ""
         },
         "zerolinecolor": "#E1E5ED"
        },
        "yaxis12": {
         "anchor": "x12",
         "domain": [
          0.2675,
          0.465
         ],
         "gridcolor": "#E1E5ED",
         "showgrid": false,
         "tickfont": {
          "color": "#4D5663"
         },
         "title": {
          "font": {
           "color": "#4D5663"
          },
          "text": ""
         },
         "zerolinecolor": "#E1E5ED"
        },
        "yaxis13": {
         "anchor": "x13",
         "domain": [
          0,
          0.1975
         ],
         "gridcolor": "#E1E5ED",
         "showgrid": false,
         "tickfont": {
          "color": "#4D5663"
         },
         "title": {
          "font": {
           "color": "#4D5663"
          },
          "text": ""
         },
         "zerolinecolor": "#E1E5ED"
        },
        "yaxis14": {
         "anchor": "x14",
         "domain": [
          0,
          0.1975
         ],
         "gridcolor": "#E1E5ED",
         "showgrid": false,
         "tickfont": {
          "color": "#4D5663"
         },
         "title": {
          "font": {
           "color": "#4D5663"
          },
          "text": ""
         },
         "zerolinecolor": "#E1E5ED"
        },
        "yaxis15": {
         "anchor": "x15",
         "domain": [
          0,
          0.1975
         ],
         "gridcolor": "#E1E5ED",
         "showgrid": false,
         "tickfont": {
          "color": "#4D5663"
         },
         "title": {
          "font": {
           "color": "#4D5663"
          },
          "text": ""
         },
         "zerolinecolor": "#E1E5ED"
        },
        "yaxis16": {
         "anchor": "x16",
         "domain": [
          0,
          0.1975
         ],
         "gridcolor": "#E1E5ED",
         "showgrid": false,
         "tickfont": {
          "color": "#4D5663"
         },
         "title": {
          "font": {
           "color": "#4D5663"
          },
          "text": ""
         },
         "zerolinecolor": "#E1E5ED"
        },
        "yaxis2": {
         "anchor": "x2",
         "domain": [
          0.8025,
          1
         ],
         "gridcolor": "#E1E5ED",
         "showgrid": false,
         "tickfont": {
          "color": "#4D5663"
         },
         "title": {
          "font": {
           "color": "#4D5663"
          },
          "text": ""
         },
         "zerolinecolor": "#E1E5ED"
        },
        "yaxis3": {
         "anchor": "x3",
         "domain": [
          0.8025,
          1
         ],
         "gridcolor": "#E1E5ED",
         "showgrid": false,
         "tickfont": {
          "color": "#4D5663"
         },
         "title": {
          "font": {
           "color": "#4D5663"
          },
          "text": ""
         },
         "zerolinecolor": "#E1E5ED"
        },
        "yaxis4": {
         "anchor": "x4",
         "domain": [
          0.8025,
          1
         ],
         "gridcolor": "#E1E5ED",
         "showgrid": false,
         "tickfont": {
          "color": "#4D5663"
         },
         "title": {
          "font": {
           "color": "#4D5663"
          },
          "text": ""
         },
         "zerolinecolor": "#E1E5ED"
        },
        "yaxis5": {
         "anchor": "x5",
         "domain": [
          0.535,
          0.7325
         ],
         "gridcolor": "#E1E5ED",
         "showgrid": false,
         "tickfont": {
          "color": "#4D5663"
         },
         "title": {
          "font": {
           "color": "#4D5663"
          },
          "text": ""
         },
         "zerolinecolor": "#E1E5ED"
        },
        "yaxis6": {
         "anchor": "x6",
         "domain": [
          0.535,
          0.7325
         ],
         "gridcolor": "#E1E5ED",
         "showgrid": false,
         "tickfont": {
          "color": "#4D5663"
         },
         "title": {
          "font": {
           "color": "#4D5663"
          },
          "text": ""
         },
         "zerolinecolor": "#E1E5ED"
        },
        "yaxis7": {
         "anchor": "x7",
         "domain": [
          0.535,
          0.7325
         ],
         "gridcolor": "#E1E5ED",
         "showgrid": false,
         "tickfont": {
          "color": "#4D5663"
         },
         "title": {
          "font": {
           "color": "#4D5663"
          },
          "text": ""
         },
         "zerolinecolor": "#E1E5ED"
        },
        "yaxis8": {
         "anchor": "x8",
         "domain": [
          0.535,
          0.7325
         ],
         "gridcolor": "#E1E5ED",
         "showgrid": false,
         "tickfont": {
          "color": "#4D5663"
         },
         "title": {
          "font": {
           "color": "#4D5663"
          },
          "text": ""
         },
         "zerolinecolor": "#E1E5ED"
        },
        "yaxis9": {
         "anchor": "x9",
         "domain": [
          0.2675,
          0.465
         ],
         "gridcolor": "#E1E5ED",
         "showgrid": false,
         "tickfont": {
          "color": "#4D5663"
         },
         "title": {
          "font": {
           "color": "#4D5663"
          },
          "text": ""
         },
         "zerolinecolor": "#E1E5ED"
        }
       }
      },
      "text/html": [
       "<div>                            <div id=\"7d75e3ea-c91d-4a7a-b005-e01ab3a0a448\" class=\"plotly-graph-div\" style=\"height:525px; width:100%;\"></div>            <script type=\"text/javascript\">                require([\"plotly\"], function(Plotly) {                    window.PLOTLYENV=window.PLOTLYENV || {};\n",
       "                    window.PLOTLYENV.BASE_URL='https://plot.ly';                                    if (document.getElementById(\"7d75e3ea-c91d-4a7a-b005-e01ab3a0a448\")) {                    Plotly.newPlot(                        \"7d75e3ea-c91d-4a7a-b005-e01ab3a0a448\",                        [{\"histfunc\": \"count\", \"histnorm\": \"\", \"marker\": {\"color\": \"rgba(255, 153, 51, 1.0)\", \"line\": {\"color\": \"#4D5663\", \"width\": 1.3}}, \"name\": \"A\", \"nbinsx\": 10, \"opacity\": 0.8, \"orientation\": \"v\", \"type\": \"histogram\", \"x\": [1.2828662516368237, -1.9058548130178599, 1.7624087399545465, -1.28957445810928, -0.33074735230222574, 1.3924138972481361, -1.0876116171939914, -1.2081372790816036, -0.6737965225857129, -0.02583692854927848, 0.8039293299766449, 1.0107446447097366, -1.4146549512974564, -0.15595360258756916, 1.1310264219534185, 0.3109506384339165, -0.3808054031911281, 0.11122446898664881, -0.9656072574207325, 0.2406238062862133, -0.8068648764125891, -1.6871947272058962, 1.2337296353563858, -0.3809284251154643, -0.35317470698447334, 0.43415144542077877, 1.2180163628219967, -1.522440486703186, 0.5217061847644993, 0.38561994701780056, -0.49192210133219766, 0.14013093395285253, 2.4036700387643384, -0.4807851905433463, -1.9605399057258375, 1.2669050634370032, -1.5308676262032017, -0.5190412053819773, 0.4173351672979796, -0.23687798244708996, -0.8460465955548907, -0.5084860834962257, 0.1738108848450604, 0.0368915898997711, 0.6805541276651929, -0.3118292802592112, 0.6187106394900223, -0.7343098042346263, 1.0517884026374926, -1.0677456222735553, -0.9589362399553518, -0.6589773644257099, -1.1643134480046182, 0.2627379525787662, -1.6330933755686416, 0.6797640558459586, -0.21807894242190407, 0.6121770011936802, -1.2288674416183698, -0.028932611373871618, -0.29558261017692433, 0.8851879307115434, -0.12808461099746693, 0.9982779724582205, -0.7046827243365449, -1.1674082125449132, 0.008171711724090178, 0.4552042065990801, 0.8047843719361977, 1.3520070749654678, -0.023124972881999134, -0.889286390339353, 0.8736949087856304, -0.4306513533340919, -0.3947564542130474, 0.9753568630991614, 0.6465523276736221, 1.1234495604869827, 0.7575077430654791, 0.10056159062489389, -0.5990740207238892, -0.04925861844922938, -0.5743835236711956, -0.2934599223661171, 0.13943105173979872, -1.1730514837867145, -1.4097168362462602, 0.2819429293041775, 1.8333068010035791, -0.8453840321261459, 0.28363834198412025, -1.2073436137625582, -0.7535816105045646, 0.4060306049615743, 0.48190397132211416, 0.42673882846182315, 2.706608622687043, -0.4285481488971416, 0.13524802574512346, -0.11575641589217416], \"xaxis\": \"x\", \"yaxis\": \"y\"}, {\"line\": {\"color\": \"rgba(128, 128, 128, 1.0)\", \"dash\": \"solid\", \"shape\": \"linear\", \"width\": 1.3}, \"marker\": {\"size\": 2, \"symbol\": \"circle\"}, \"mode\": \"markers\", \"name\": \"A\", \"text\": \"\", \"type\": \"scatter\", \"x\": [-0.5154028289519922, 0.0791322585661461, 1.0396515346220583, 0.4850278201225669, -1.6254111312880137, -0.998260106320457, 0.26303934236234766, -0.30773940814879197, -0.01094210364897688, -1.3944439761556933, 1.5055174490022059, 0.8239482622881219, -0.509754796806725, 0.7313794893071358, 0.8820097692652915, -0.5406830740138031, -1.1329492868192956, -0.40077704369678735, 0.40493122341053506, 0.640683739641404, -1.0204224910137554, 1.4889011107760302, 0.36589253033272673, -0.10252420879481028, -1.430282150047373, 0.14066371160501276, 0.6163784978253694, 1.432263924590453, 1.8492563020547392, -0.8217827592875484, -0.44599160091648204, 1.4894175755182744, 1.0176964004655251, 1.6807954863608192, -0.21163545755427834, -1.4275374906092662, -1.823583470739203, 2.1659367105415224, -1.3434598934659385, 0.22262118793658667, 0.02691957065464893, 1.2009810098660418, -1.0935773745230242, -1.5025461722914313, 1.0487359193007595, -0.2335583839744253, -1.0022135401686079, -1.8599184167196092, -0.22899476071839855, -0.8522397606714057, 1.0977669077056627, -0.3654870695184672, -0.26251197339235505, 1.5041915918704902, -0.1298061375478299, 0.027609862050904, -0.02269809222143529, -0.30059378354524874, 0.4221110297659695, -1.1626066888185207, 0.9309679489129465, -0.9547175245352093, -0.5855913889007434, -0.1491633236882833, -0.8179567266593832, -0.5065334580298471, 1.090214517366577, 0.9947655114561784, 0.9921809126586695, 0.12746228521287786, -0.7960222886985829, -0.6504377121940919, 0.4746746423422819, 0.7572970759682413, -0.9395071457654471, -0.3494968638336238, 1.3460158607638404, -0.5488662923381947, -1.4653280244485671, -1.4572637821760548, -0.3889838356638975, -0.20622999422701915, -0.6414210441959368, 1.060095370980204, 0.4516365774723491, 1.8616252137710345, -0.3596212431681085, -0.1469756823743527, 0.5071310239049722, 0.023489024913073517, -1.6734350889799126, 1.7108871056559394, 1.6637160594485334, -0.8199014490648515, 0.38052374775287356, -1.4915215740611367, -0.10226702648398565, -0.3668531484436365, -0.06217608712746471, 1.0770315841710956], \"xaxis\": \"x2\", \"y\": [1.2828662516368237, -1.9058548130178599, 1.7624087399545465, -1.28957445810928, -0.33074735230222574, 1.3924138972481361, -1.0876116171939914, -1.2081372790816036, -0.6737965225857129, -0.02583692854927848, 0.8039293299766449, 1.0107446447097366, -1.4146549512974564, -0.15595360258756916, 1.1310264219534185, 0.3109506384339165, -0.3808054031911281, 0.11122446898664881, -0.9656072574207325, 0.2406238062862133, -0.8068648764125891, -1.6871947272058962, 1.2337296353563858, -0.3809284251154643, -0.35317470698447334, 0.43415144542077877, 1.2180163628219967, -1.522440486703186, 0.5217061847644993, 0.38561994701780056, -0.49192210133219766, 0.14013093395285253, 2.4036700387643384, -0.4807851905433463, -1.9605399057258375, 1.2669050634370032, -1.5308676262032017, -0.5190412053819773, 0.4173351672979796, -0.23687798244708996, -0.8460465955548907, -0.5084860834962257, 0.1738108848450604, 0.0368915898997711, 0.6805541276651929, -0.3118292802592112, 0.6187106394900223, -0.7343098042346263, 1.0517884026374926, -1.0677456222735553, -0.9589362399553518, -0.6589773644257099, -1.1643134480046182, 0.2627379525787662, -1.6330933755686416, 0.6797640558459586, -0.21807894242190407, 0.6121770011936802, -1.2288674416183698, -0.028932611373871618, -0.29558261017692433, 0.8851879307115434, -0.12808461099746693, 0.9982779724582205, -0.7046827243365449, -1.1674082125449132, 0.008171711724090178, 0.4552042065990801, 0.8047843719361977, 1.3520070749654678, -0.023124972881999134, -0.889286390339353, 0.8736949087856304, -0.4306513533340919, -0.3947564542130474, 0.9753568630991614, 0.6465523276736221, 1.1234495604869827, 0.7575077430654791, 0.10056159062489389, -0.5990740207238892, -0.04925861844922938, -0.5743835236711956, -0.2934599223661171, 0.13943105173979872, -1.1730514837867145, -1.4097168362462602, 0.2819429293041775, 1.8333068010035791, -0.8453840321261459, 0.28363834198412025, -1.2073436137625582, -0.7535816105045646, 0.4060306049615743, 0.48190397132211416, 0.42673882846182315, 2.706608622687043, -0.4285481488971416, 0.13524802574512346, -0.11575641589217416], \"yaxis\": \"y2\"}, {\"line\": {\"color\": \"rgba(128, 128, 128, 1.0)\", \"dash\": \"solid\", \"shape\": \"linear\", \"width\": 1.3}, \"marker\": {\"size\": 2, \"symbol\": \"circle\"}, \"mode\": \"markers\", \"name\": \"A\", \"text\": \"\", \"type\": \"scatter\", \"x\": [-1.3535163580022544, 1.4003596234117344, 0.13469439790165721, 1.4051908037448164, 0.9580714977635231, -0.4095176349491406, 0.7580845633983917, -1.2819504250150386, 0.2086995055029189, 0.9329538542322144, -0.8016333047126879, -0.07771097622126454, -0.7721054100946949, -1.990676407866973, -0.7862268731312244, -1.5525540482500282, 0.15355932941990333, -0.7354191976403986, -0.2710262876002277, -1.1988608203442557, 3.0747486110269544, -0.5274923081062007, 0.04271981706349143, -0.9085064591077707, 1.9556268889088981, 0.29424423013466655, -0.5519571126618097, -0.008858948660685682, 0.3675294495702848, -1.1500645608143736, 0.557455375002619, 0.49747346009956683, -0.691892606369852, 0.3665233905015236, -0.6561323088805497, 0.7803476962794172, -0.47541673719023575, -0.9675490460126639, -0.9450344114735258, 0.5386395427237893, -1.1197794688078442, 0.6206147505716335, 0.13197887760118768, -1.92176418023807, 0.2383637161926735, -0.5624785667450038, -0.33247424484091215, 1.6424089724127477, -1.3213966449272294, 0.46841273984178117, 1.3272128288828362, -0.8992249573860571, 0.4456547578223136, -0.9539940253329383, -0.48834152263188163, -0.1537916076593378, -0.47663629366978105, 0.9865632059786338, 1.398277337906387, -1.2817926480198785, -0.49820050402222626, -0.9924294973256893, -0.06230149404281906, 0.12987207476010865, 2.028247243274949, 1.5903002635586032, -0.07037377541024276, -0.7456460135746772, 0.06619805039363856, 0.9516547628894232, 0.5760250487702471, 1.4064848448797052, -0.5870532543768849, -0.10386233005351653, -0.6026567159275114, -0.3977153514833081, -0.0789265337748859, -1.8778042312497178, 0.040799528854207436, -1.0036183678592239, -0.08819667574264149, -0.3928287950265648, 0.3816777150578995, -1.2046870162167262, 1.5657550525626636, -0.9107752964177663, -1.2806738271409532, -0.26936898286492883, -1.9725333411495, 0.12296147267332022, 1.3657654661570693, 1.3073215223367316, -0.26754155501266924, 0.3768637235704007, 0.09754703096082211, 0.2820622826087046, 0.8173612891250674, -0.6608882090748124, -2.1822590557928137, 1.1034159369692882], \"xaxis\": \"x3\", \"y\": [1.2828662516368237, -1.9058548130178599, 1.7624087399545465, -1.28957445810928, -0.33074735230222574, 1.3924138972481361, -1.0876116171939914, -1.2081372790816036, -0.6737965225857129, -0.02583692854927848, 0.8039293299766449, 1.0107446447097366, -1.4146549512974564, -0.15595360258756916, 1.1310264219534185, 0.3109506384339165, -0.3808054031911281, 0.11122446898664881, -0.9656072574207325, 0.2406238062862133, -0.8068648764125891, -1.6871947272058962, 1.2337296353563858, -0.3809284251154643, -0.35317470698447334, 0.43415144542077877, 1.2180163628219967, -1.522440486703186, 0.5217061847644993, 0.38561994701780056, -0.49192210133219766, 0.14013093395285253, 2.4036700387643384, -0.4807851905433463, -1.9605399057258375, 1.2669050634370032, -1.5308676262032017, -0.5190412053819773, 0.4173351672979796, -0.23687798244708996, -0.8460465955548907, -0.5084860834962257, 0.1738108848450604, 0.0368915898997711, 0.6805541276651929, -0.3118292802592112, 0.6187106394900223, -0.7343098042346263, 1.0517884026374926, -1.0677456222735553, -0.9589362399553518, -0.6589773644257099, -1.1643134480046182, 0.2627379525787662, -1.6330933755686416, 0.6797640558459586, -0.21807894242190407, 0.6121770011936802, -1.2288674416183698, -0.028932611373871618, -0.29558261017692433, 0.8851879307115434, -0.12808461099746693, 0.9982779724582205, -0.7046827243365449, -1.1674082125449132, 0.008171711724090178, 0.4552042065990801, 0.8047843719361977, 1.3520070749654678, -0.023124972881999134, -0.889286390339353, 0.8736949087856304, -0.4306513533340919, -0.3947564542130474, 0.9753568630991614, 0.6465523276736221, 1.1234495604869827, 0.7575077430654791, 0.10056159062489389, -0.5990740207238892, -0.04925861844922938, -0.5743835236711956, -0.2934599223661171, 0.13943105173979872, -1.1730514837867145, -1.4097168362462602, 0.2819429293041775, 1.8333068010035791, -0.8453840321261459, 0.28363834198412025, -1.2073436137625582, -0.7535816105045646, 0.4060306049615743, 0.48190397132211416, 0.42673882846182315, 2.706608622687043, -0.4285481488971416, 0.13524802574512346, -0.11575641589217416], \"yaxis\": \"y3\"}, {\"line\": {\"color\": \"rgba(128, 128, 128, 1.0)\", \"dash\": \"solid\", \"shape\": \"linear\", \"width\": 1.3}, \"marker\": {\"size\": 2, \"symbol\": \"circle\"}, \"mode\": \"markers\", \"name\": \"A\", \"text\": \"\", \"type\": \"scatter\", \"x\": [-0.7497552920964153, 2.4762369735940415, -1.7647726919066227, -0.8473079542231872, 0.7050963667311787, 0.40543749068007695, -0.7010925674186751, 1.0439091114782582, -0.2961776860098586, -0.29855672241806075, 0.15330071223009764, -0.22021786335174115, -0.89546554469811, 0.33188757696321547, 0.6584998986986181, -1.257840095410502, 0.32989298339205186, 0.26155572277123423, -2.4599125596351823, 1.5324733939085835, 0.9450039195953681, 0.06458813700390781, 1.180078426519659, 0.770746334051263, 0.3331657562209716, 0.9529659734434237, 0.6058425830713987, 1.130321723555387, -0.6012076342239905, -0.34611222631218846, 0.21616532446481254, 1.1727700390873312, -0.03924015219395926, -1.1090792840341646, 1.532860378030908, 0.2519668405699619, -0.9128546831010639, 0.3287694771317553, 0.5720919978606196, 1.4369524878863131, -2.31245474055154, 0.7269706912064975, -2.2724656376083847, 0.6217512624441843, -1.149150483928287, 0.762324242960001, 0.6181852981325022, 0.6154444175062248, 0.6859674764796967, 0.9094555455512773, 0.1961396911565603, -0.5423014129783554, -0.5210271381920242, 0.37889544571908496, 0.7668689861358123, 1.345999833593855, 0.3218285009041609, -2.1255575193508616, -1.213290320133076, 0.14200732909612496, 1.489444558077597, -0.8575976260970435, -0.016181857718749904, 0.5474280623300499, -0.6186054099057708, 0.6701846121674955, -0.6129910501193094, 0.5915715504687792, -2.4019243654380826, -0.09161155260406162, -0.18697809269040175, -4.511936563497754, 0.9863195440824328, 0.9704803541863959, -0.6153410592425291, -0.23481747222262805, 1.289113711541395, 0.27832680658922154, -0.08905471590134338, -0.08455371872639768, 0.232304339573224, -1.2447704846127374, -0.4827819375220341, 1.9442029515863137, 0.2452450897287286, 0.02414532793176462, 0.14455183945802416, 1.0281051344616066, 0.848766468848188, 0.4586400705500439, -0.9494760177454723, -0.9768566295613794, -0.7136253095848245, 0.5599199107843043, 0.08294018250090647, -0.593674636092453, -0.07216194231300613, 0.7427908989679947, 0.6608522588761498, -0.5965252550675559], \"xaxis\": \"x4\", \"y\": [1.2828662516368237, -1.9058548130178599, 1.7624087399545465, -1.28957445810928, -0.33074735230222574, 1.3924138972481361, -1.0876116171939914, -1.2081372790816036, -0.6737965225857129, -0.02583692854927848, 0.8039293299766449, 1.0107446447097366, -1.4146549512974564, -0.15595360258756916, 1.1310264219534185, 0.3109506384339165, -0.3808054031911281, 0.11122446898664881, -0.9656072574207325, 0.2406238062862133, -0.8068648764125891, -1.6871947272058962, 1.2337296353563858, -0.3809284251154643, -0.35317470698447334, 0.43415144542077877, 1.2180163628219967, -1.522440486703186, 0.5217061847644993, 0.38561994701780056, -0.49192210133219766, 0.14013093395285253, 2.4036700387643384, -0.4807851905433463, -1.9605399057258375, 1.2669050634370032, -1.5308676262032017, -0.5190412053819773, 0.4173351672979796, -0.23687798244708996, -0.8460465955548907, -0.5084860834962257, 0.1738108848450604, 0.0368915898997711, 0.6805541276651929, -0.3118292802592112, 0.6187106394900223, -0.7343098042346263, 1.0517884026374926, -1.0677456222735553, -0.9589362399553518, -0.6589773644257099, -1.1643134480046182, 0.2627379525787662, -1.6330933755686416, 0.6797640558459586, -0.21807894242190407, 0.6121770011936802, -1.2288674416183698, -0.028932611373871618, -0.29558261017692433, 0.8851879307115434, -0.12808461099746693, 0.9982779724582205, -0.7046827243365449, -1.1674082125449132, 0.008171711724090178, 0.4552042065990801, 0.8047843719361977, 1.3520070749654678, -0.023124972881999134, -0.889286390339353, 0.8736949087856304, -0.4306513533340919, -0.3947564542130474, 0.9753568630991614, 0.6465523276736221, 1.1234495604869827, 0.7575077430654791, 0.10056159062489389, -0.5990740207238892, -0.04925861844922938, -0.5743835236711956, -0.2934599223661171, 0.13943105173979872, -1.1730514837867145, -1.4097168362462602, 0.2819429293041775, 1.8333068010035791, -0.8453840321261459, 0.28363834198412025, -1.2073436137625582, -0.7535816105045646, 0.4060306049615743, 0.48190397132211416, 0.42673882846182315, 2.706608622687043, -0.4285481488971416, 0.13524802574512346, -0.11575641589217416], \"yaxis\": \"y4\"}, {\"line\": {\"color\": \"rgba(128, 128, 128, 1.0)\", \"dash\": \"solid\", \"shape\": \"linear\", \"width\": 1.3}, \"marker\": {\"size\": 2, \"symbol\": \"circle\"}, \"mode\": \"markers\", \"name\": \"B\", \"text\": \"\", \"type\": \"scatter\", \"x\": [1.2828662516368237, -1.9058548130178599, 1.7624087399545465, -1.28957445810928, -0.33074735230222574, 1.3924138972481361, -1.0876116171939914, -1.2081372790816036, -0.6737965225857129, -0.02583692854927848, 0.8039293299766449, 1.0107446447097366, -1.4146549512974564, -0.15595360258756916, 1.1310264219534185, 0.3109506384339165, -0.3808054031911281, 0.11122446898664881, -0.9656072574207325, 0.2406238062862133, -0.8068648764125891, -1.6871947272058962, 1.2337296353563858, -0.3809284251154643, -0.35317470698447334, 0.43415144542077877, 1.2180163628219967, -1.522440486703186, 0.5217061847644993, 0.38561994701780056, -0.49192210133219766, 0.14013093395285253, 2.4036700387643384, -0.4807851905433463, -1.9605399057258375, 1.2669050634370032, -1.5308676262032017, -0.5190412053819773, 0.4173351672979796, -0.23687798244708996, -0.8460465955548907, -0.5084860834962257, 0.1738108848450604, 0.0368915898997711, 0.6805541276651929, -0.3118292802592112, 0.6187106394900223, -0.7343098042346263, 1.0517884026374926, -1.0677456222735553, -0.9589362399553518, -0.6589773644257099, -1.1643134480046182, 0.2627379525787662, -1.6330933755686416, 0.6797640558459586, -0.21807894242190407, 0.6121770011936802, -1.2288674416183698, -0.028932611373871618, -0.29558261017692433, 0.8851879307115434, -0.12808461099746693, 0.9982779724582205, -0.7046827243365449, -1.1674082125449132, 0.008171711724090178, 0.4552042065990801, 0.8047843719361977, 1.3520070749654678, -0.023124972881999134, -0.889286390339353, 0.8736949087856304, -0.4306513533340919, -0.3947564542130474, 0.9753568630991614, 0.6465523276736221, 1.1234495604869827, 0.7575077430654791, 0.10056159062489389, -0.5990740207238892, -0.04925861844922938, -0.5743835236711956, -0.2934599223661171, 0.13943105173979872, -1.1730514837867145, -1.4097168362462602, 0.2819429293041775, 1.8333068010035791, -0.8453840321261459, 0.28363834198412025, -1.2073436137625582, -0.7535816105045646, 0.4060306049615743, 0.48190397132211416, 0.42673882846182315, 2.706608622687043, -0.4285481488971416, 0.13524802574512346, -0.11575641589217416], \"xaxis\": \"x5\", \"y\": [-0.5154028289519922, 0.0791322585661461, 1.0396515346220583, 0.4850278201225669, -1.6254111312880137, -0.998260106320457, 0.26303934236234766, -0.30773940814879197, -0.01094210364897688, -1.3944439761556933, 1.5055174490022059, 0.8239482622881219, -0.509754796806725, 0.7313794893071358, 0.8820097692652915, -0.5406830740138031, -1.1329492868192956, -0.40077704369678735, 0.40493122341053506, 0.640683739641404, -1.0204224910137554, 1.4889011107760302, 0.36589253033272673, -0.10252420879481028, -1.430282150047373, 0.14066371160501276, 0.6163784978253694, 1.432263924590453, 1.8492563020547392, -0.8217827592875484, -0.44599160091648204, 1.4894175755182744, 1.0176964004655251, 1.6807954863608192, -0.21163545755427834, -1.4275374906092662, -1.823583470739203, 2.1659367105415224, -1.3434598934659385, 0.22262118793658667, 0.02691957065464893, 1.2009810098660418, -1.0935773745230242, -1.5025461722914313, 1.0487359193007595, -0.2335583839744253, -1.0022135401686079, -1.8599184167196092, -0.22899476071839855, -0.8522397606714057, 1.0977669077056627, -0.3654870695184672, -0.26251197339235505, 1.5041915918704902, -0.1298061375478299, 0.027609862050904, -0.02269809222143529, -0.30059378354524874, 0.4221110297659695, -1.1626066888185207, 0.9309679489129465, -0.9547175245352093, -0.5855913889007434, -0.1491633236882833, -0.8179567266593832, -0.5065334580298471, 1.090214517366577, 0.9947655114561784, 0.9921809126586695, 0.12746228521287786, -0.7960222886985829, -0.6504377121940919, 0.4746746423422819, 0.7572970759682413, -0.9395071457654471, -0.3494968638336238, 1.3460158607638404, -0.5488662923381947, -1.4653280244485671, -1.4572637821760548, -0.3889838356638975, -0.20622999422701915, -0.6414210441959368, 1.060095370980204, 0.4516365774723491, 1.8616252137710345, -0.3596212431681085, -0.1469756823743527, 0.5071310239049722, 0.023489024913073517, -1.6734350889799126, 1.7108871056559394, 1.6637160594485334, -0.8199014490648515, 0.38052374775287356, -1.4915215740611367, -0.10226702648398565, -0.3668531484436365, -0.06217608712746471, 1.0770315841710956], \"yaxis\": \"y5\"}, {\"histfunc\": \"count\", \"histnorm\": \"\", \"marker\": {\"color\": \"rgba(55, 128, 191, 1.0)\", \"line\": {\"color\": \"#4D5663\", \"width\": 1.3}}, \"name\": \"B\", \"nbinsx\": 10, \"opacity\": 0.8, \"orientation\": \"v\", \"type\": \"histogram\", \"x\": [-0.5154028289519922, 0.0791322585661461, 1.0396515346220583, 0.4850278201225669, -1.6254111312880137, -0.998260106320457, 0.26303934236234766, -0.30773940814879197, -0.01094210364897688, -1.3944439761556933, 1.5055174490022059, 0.8239482622881219, -0.509754796806725, 0.7313794893071358, 0.8820097692652915, -0.5406830740138031, -1.1329492868192956, -0.40077704369678735, 0.40493122341053506, 0.640683739641404, -1.0204224910137554, 1.4889011107760302, 0.36589253033272673, -0.10252420879481028, -1.430282150047373, 0.14066371160501276, 0.6163784978253694, 1.432263924590453, 1.8492563020547392, -0.8217827592875484, -0.44599160091648204, 1.4894175755182744, 1.0176964004655251, 1.6807954863608192, -0.21163545755427834, -1.4275374906092662, -1.823583470739203, 2.1659367105415224, -1.3434598934659385, 0.22262118793658667, 0.02691957065464893, 1.2009810098660418, -1.0935773745230242, -1.5025461722914313, 1.0487359193007595, -0.2335583839744253, -1.0022135401686079, -1.8599184167196092, -0.22899476071839855, -0.8522397606714057, 1.0977669077056627, -0.3654870695184672, -0.26251197339235505, 1.5041915918704902, -0.1298061375478299, 0.027609862050904, -0.02269809222143529, -0.30059378354524874, 0.4221110297659695, -1.1626066888185207, 0.9309679489129465, -0.9547175245352093, -0.5855913889007434, -0.1491633236882833, -0.8179567266593832, -0.5065334580298471, 1.090214517366577, 0.9947655114561784, 0.9921809126586695, 0.12746228521287786, -0.7960222886985829, -0.6504377121940919, 0.4746746423422819, 0.7572970759682413, -0.9395071457654471, -0.3494968638336238, 1.3460158607638404, -0.5488662923381947, -1.4653280244485671, -1.4572637821760548, -0.3889838356638975, -0.20622999422701915, -0.6414210441959368, 1.060095370980204, 0.4516365774723491, 1.8616252137710345, -0.3596212431681085, -0.1469756823743527, 0.5071310239049722, 0.023489024913073517, -1.6734350889799126, 1.7108871056559394, 1.6637160594485334, -0.8199014490648515, 0.38052374775287356, -1.4915215740611367, -0.10226702648398565, -0.3668531484436365, -0.06217608712746471, 1.0770315841710956], \"xaxis\": \"x6\", \"yaxis\": \"y6\"}, {\"line\": {\"color\": \"rgba(128, 128, 128, 1.0)\", \"dash\": \"solid\", \"shape\": \"linear\", \"width\": 1.3}, \"marker\": {\"size\": 2, \"symbol\": \"circle\"}, \"mode\": \"markers\", \"name\": \"B\", \"text\": \"\", \"type\": \"scatter\", \"x\": [-1.3535163580022544, 1.4003596234117344, 0.13469439790165721, 1.4051908037448164, 0.9580714977635231, -0.4095176349491406, 0.7580845633983917, -1.2819504250150386, 0.2086995055029189, 0.9329538542322144, -0.8016333047126879, -0.07771097622126454, -0.7721054100946949, -1.990676407866973, -0.7862268731312244, -1.5525540482500282, 0.15355932941990333, -0.7354191976403986, -0.2710262876002277, -1.1988608203442557, 3.0747486110269544, -0.5274923081062007, 0.04271981706349143, -0.9085064591077707, 1.9556268889088981, 0.29424423013466655, -0.5519571126618097, -0.008858948660685682, 0.3675294495702848, -1.1500645608143736, 0.557455375002619, 0.49747346009956683, -0.691892606369852, 0.3665233905015236, -0.6561323088805497, 0.7803476962794172, -0.47541673719023575, -0.9675490460126639, -0.9450344114735258, 0.5386395427237893, -1.1197794688078442, 0.6206147505716335, 0.13197887760118768, -1.92176418023807, 0.2383637161926735, -0.5624785667450038, -0.33247424484091215, 1.6424089724127477, -1.3213966449272294, 0.46841273984178117, 1.3272128288828362, -0.8992249573860571, 0.4456547578223136, -0.9539940253329383, -0.48834152263188163, -0.1537916076593378, -0.47663629366978105, 0.9865632059786338, 1.398277337906387, -1.2817926480198785, -0.49820050402222626, -0.9924294973256893, -0.06230149404281906, 0.12987207476010865, 2.028247243274949, 1.5903002635586032, -0.07037377541024276, -0.7456460135746772, 0.06619805039363856, 0.9516547628894232, 0.5760250487702471, 1.4064848448797052, -0.5870532543768849, -0.10386233005351653, -0.6026567159275114, -0.3977153514833081, -0.0789265337748859, -1.8778042312497178, 0.040799528854207436, -1.0036183678592239, -0.08819667574264149, -0.3928287950265648, 0.3816777150578995, -1.2046870162167262, 1.5657550525626636, -0.9107752964177663, -1.2806738271409532, -0.26936898286492883, -1.9725333411495, 0.12296147267332022, 1.3657654661570693, 1.3073215223367316, -0.26754155501266924, 0.3768637235704007, 0.09754703096082211, 0.2820622826087046, 0.8173612891250674, -0.6608882090748124, -2.1822590557928137, 1.1034159369692882], \"xaxis\": \"x7\", \"y\": [-0.5154028289519922, 0.0791322585661461, 1.0396515346220583, 0.4850278201225669, -1.6254111312880137, -0.998260106320457, 0.26303934236234766, -0.30773940814879197, -0.01094210364897688, -1.3944439761556933, 1.5055174490022059, 0.8239482622881219, -0.509754796806725, 0.7313794893071358, 0.8820097692652915, -0.5406830740138031, -1.1329492868192956, -0.40077704369678735, 0.40493122341053506, 0.640683739641404, -1.0204224910137554, 1.4889011107760302, 0.36589253033272673, -0.10252420879481028, -1.430282150047373, 0.14066371160501276, 0.6163784978253694, 1.432263924590453, 1.8492563020547392, -0.8217827592875484, -0.44599160091648204, 1.4894175755182744, 1.0176964004655251, 1.6807954863608192, -0.21163545755427834, -1.4275374906092662, -1.823583470739203, 2.1659367105415224, -1.3434598934659385, 0.22262118793658667, 0.02691957065464893, 1.2009810098660418, -1.0935773745230242, -1.5025461722914313, 1.0487359193007595, -0.2335583839744253, -1.0022135401686079, -1.8599184167196092, -0.22899476071839855, -0.8522397606714057, 1.0977669077056627, -0.3654870695184672, -0.26251197339235505, 1.5041915918704902, -0.1298061375478299, 0.027609862050904, -0.02269809222143529, -0.30059378354524874, 0.4221110297659695, -1.1626066888185207, 0.9309679489129465, -0.9547175245352093, -0.5855913889007434, -0.1491633236882833, -0.8179567266593832, -0.5065334580298471, 1.090214517366577, 0.9947655114561784, 0.9921809126586695, 0.12746228521287786, -0.7960222886985829, -0.6504377121940919, 0.4746746423422819, 0.7572970759682413, -0.9395071457654471, -0.3494968638336238, 1.3460158607638404, -0.5488662923381947, -1.4653280244485671, -1.4572637821760548, -0.3889838356638975, -0.20622999422701915, -0.6414210441959368, 1.060095370980204, 0.4516365774723491, 1.8616252137710345, -0.3596212431681085, -0.1469756823743527, 0.5071310239049722, 0.023489024913073517, -1.6734350889799126, 1.7108871056559394, 1.6637160594485334, -0.8199014490648515, 0.38052374775287356, -1.4915215740611367, -0.10226702648398565, -0.3668531484436365, -0.06217608712746471, 1.0770315841710956], \"yaxis\": \"y7\"}, {\"line\": {\"color\": \"rgba(128, 128, 128, 1.0)\", \"dash\": \"solid\", \"shape\": \"linear\", \"width\": 1.3}, \"marker\": {\"size\": 2, \"symbol\": \"circle\"}, \"mode\": \"markers\", \"name\": \"B\", \"text\": \"\", \"type\": \"scatter\", \"x\": [-0.7497552920964153, 2.4762369735940415, -1.7647726919066227, -0.8473079542231872, 0.7050963667311787, 0.40543749068007695, -0.7010925674186751, 1.0439091114782582, -0.2961776860098586, -0.29855672241806075, 0.15330071223009764, -0.22021786335174115, -0.89546554469811, 0.33188757696321547, 0.6584998986986181, -1.257840095410502, 0.32989298339205186, 0.26155572277123423, -2.4599125596351823, 1.5324733939085835, 0.9450039195953681, 0.06458813700390781, 1.180078426519659, 0.770746334051263, 0.3331657562209716, 0.9529659734434237, 0.6058425830713987, 1.130321723555387, -0.6012076342239905, -0.34611222631218846, 0.21616532446481254, 1.1727700390873312, -0.03924015219395926, -1.1090792840341646, 1.532860378030908, 0.2519668405699619, -0.9128546831010639, 0.3287694771317553, 0.5720919978606196, 1.4369524878863131, -2.31245474055154, 0.7269706912064975, -2.2724656376083847, 0.6217512624441843, -1.149150483928287, 0.762324242960001, 0.6181852981325022, 0.6154444175062248, 0.6859674764796967, 0.9094555455512773, 0.1961396911565603, -0.5423014129783554, -0.5210271381920242, 0.37889544571908496, 0.7668689861358123, 1.345999833593855, 0.3218285009041609, -2.1255575193508616, -1.213290320133076, 0.14200732909612496, 1.489444558077597, -0.8575976260970435, -0.016181857718749904, 0.5474280623300499, -0.6186054099057708, 0.6701846121674955, -0.6129910501193094, 0.5915715504687792, -2.4019243654380826, -0.09161155260406162, -0.18697809269040175, -4.511936563497754, 0.9863195440824328, 0.9704803541863959, -0.6153410592425291, -0.23481747222262805, 1.289113711541395, 0.27832680658922154, -0.08905471590134338, -0.08455371872639768, 0.232304339573224, -1.2447704846127374, -0.4827819375220341, 1.9442029515863137, 0.2452450897287286, 0.02414532793176462, 0.14455183945802416, 1.0281051344616066, 0.848766468848188, 0.4586400705500439, -0.9494760177454723, -0.9768566295613794, -0.7136253095848245, 0.5599199107843043, 0.08294018250090647, -0.593674636092453, -0.07216194231300613, 0.7427908989679947, 0.6608522588761498, -0.5965252550675559], \"xaxis\": \"x8\", \"y\": [-0.5154028289519922, 0.0791322585661461, 1.0396515346220583, 0.4850278201225669, -1.6254111312880137, -0.998260106320457, 0.26303934236234766, -0.30773940814879197, -0.01094210364897688, -1.3944439761556933, 1.5055174490022059, 0.8239482622881219, -0.509754796806725, 0.7313794893071358, 0.8820097692652915, -0.5406830740138031, -1.1329492868192956, -0.40077704369678735, 0.40493122341053506, 0.640683739641404, -1.0204224910137554, 1.4889011107760302, 0.36589253033272673, -0.10252420879481028, -1.430282150047373, 0.14066371160501276, 0.6163784978253694, 1.432263924590453, 1.8492563020547392, -0.8217827592875484, -0.44599160091648204, 1.4894175755182744, 1.0176964004655251, 1.6807954863608192, -0.21163545755427834, -1.4275374906092662, -1.823583470739203, 2.1659367105415224, -1.3434598934659385, 0.22262118793658667, 0.02691957065464893, 1.2009810098660418, -1.0935773745230242, -1.5025461722914313, 1.0487359193007595, -0.2335583839744253, -1.0022135401686079, -1.8599184167196092, -0.22899476071839855, -0.8522397606714057, 1.0977669077056627, -0.3654870695184672, -0.26251197339235505, 1.5041915918704902, -0.1298061375478299, 0.027609862050904, -0.02269809222143529, -0.30059378354524874, 0.4221110297659695, -1.1626066888185207, 0.9309679489129465, -0.9547175245352093, -0.5855913889007434, -0.1491633236882833, -0.8179567266593832, -0.5065334580298471, 1.090214517366577, 0.9947655114561784, 0.9921809126586695, 0.12746228521287786, -0.7960222886985829, -0.6504377121940919, 0.4746746423422819, 0.7572970759682413, -0.9395071457654471, -0.3494968638336238, 1.3460158607638404, -0.5488662923381947, -1.4653280244485671, -1.4572637821760548, -0.3889838356638975, -0.20622999422701915, -0.6414210441959368, 1.060095370980204, 0.4516365774723491, 1.8616252137710345, -0.3596212431681085, -0.1469756823743527, 0.5071310239049722, 0.023489024913073517, -1.6734350889799126, 1.7108871056559394, 1.6637160594485334, -0.8199014490648515, 0.38052374775287356, -1.4915215740611367, -0.10226702648398565, -0.3668531484436365, -0.06217608712746471, 1.0770315841710956], \"yaxis\": \"y8\"}, {\"line\": {\"color\": \"rgba(128, 128, 128, 1.0)\", \"dash\": \"solid\", \"shape\": \"linear\", \"width\": 1.3}, \"marker\": {\"size\": 2, \"symbol\": \"circle\"}, \"mode\": \"markers\", \"name\": \"C\", \"text\": \"\", \"type\": \"scatter\", \"x\": [1.2828662516368237, -1.9058548130178599, 1.7624087399545465, -1.28957445810928, -0.33074735230222574, 1.3924138972481361, -1.0876116171939914, -1.2081372790816036, -0.6737965225857129, -0.02583692854927848, 0.8039293299766449, 1.0107446447097366, -1.4146549512974564, -0.15595360258756916, 1.1310264219534185, 0.3109506384339165, -0.3808054031911281, 0.11122446898664881, -0.9656072574207325, 0.2406238062862133, -0.8068648764125891, -1.6871947272058962, 1.2337296353563858, -0.3809284251154643, -0.35317470698447334, 0.43415144542077877, 1.2180163628219967, -1.522440486703186, 0.5217061847644993, 0.38561994701780056, -0.49192210133219766, 0.14013093395285253, 2.4036700387643384, -0.4807851905433463, -1.9605399057258375, 1.2669050634370032, -1.5308676262032017, -0.5190412053819773, 0.4173351672979796, -0.23687798244708996, -0.8460465955548907, -0.5084860834962257, 0.1738108848450604, 0.0368915898997711, 0.6805541276651929, -0.3118292802592112, 0.6187106394900223, -0.7343098042346263, 1.0517884026374926, -1.0677456222735553, -0.9589362399553518, -0.6589773644257099, -1.1643134480046182, 0.2627379525787662, -1.6330933755686416, 0.6797640558459586, -0.21807894242190407, 0.6121770011936802, -1.2288674416183698, -0.028932611373871618, -0.29558261017692433, 0.8851879307115434, -0.12808461099746693, 0.9982779724582205, -0.7046827243365449, -1.1674082125449132, 0.008171711724090178, 0.4552042065990801, 0.8047843719361977, 1.3520070749654678, -0.023124972881999134, -0.889286390339353, 0.8736949087856304, -0.4306513533340919, -0.3947564542130474, 0.9753568630991614, 0.6465523276736221, 1.1234495604869827, 0.7575077430654791, 0.10056159062489389, -0.5990740207238892, -0.04925861844922938, -0.5743835236711956, -0.2934599223661171, 0.13943105173979872, -1.1730514837867145, -1.4097168362462602, 0.2819429293041775, 1.8333068010035791, -0.8453840321261459, 0.28363834198412025, -1.2073436137625582, -0.7535816105045646, 0.4060306049615743, 0.48190397132211416, 0.42673882846182315, 2.706608622687043, -0.4285481488971416, 0.13524802574512346, -0.11575641589217416], \"xaxis\": \"x9\", \"y\": [-1.3535163580022544, 1.4003596234117344, 0.13469439790165721, 1.4051908037448164, 0.9580714977635231, -0.4095176349491406, 0.7580845633983917, -1.2819504250150386, 0.2086995055029189, 0.9329538542322144, -0.8016333047126879, -0.07771097622126454, -0.7721054100946949, -1.990676407866973, -0.7862268731312244, -1.5525540482500282, 0.15355932941990333, -0.7354191976403986, -0.2710262876002277, -1.1988608203442557, 3.0747486110269544, -0.5274923081062007, 0.04271981706349143, -0.9085064591077707, 1.9556268889088981, 0.29424423013466655, -0.5519571126618097, -0.008858948660685682, 0.3675294495702848, -1.1500645608143736, 0.557455375002619, 0.49747346009956683, -0.691892606369852, 0.3665233905015236, -0.6561323088805497, 0.7803476962794172, -0.47541673719023575, -0.9675490460126639, -0.9450344114735258, 0.5386395427237893, -1.1197794688078442, 0.6206147505716335, 0.13197887760118768, -1.92176418023807, 0.2383637161926735, -0.5624785667450038, -0.33247424484091215, 1.6424089724127477, -1.3213966449272294, 0.46841273984178117, 1.3272128288828362, -0.8992249573860571, 0.4456547578223136, -0.9539940253329383, -0.48834152263188163, -0.1537916076593378, -0.47663629366978105, 0.9865632059786338, 1.398277337906387, -1.2817926480198785, -0.49820050402222626, -0.9924294973256893, -0.06230149404281906, 0.12987207476010865, 2.028247243274949, 1.5903002635586032, -0.07037377541024276, -0.7456460135746772, 0.06619805039363856, 0.9516547628894232, 0.5760250487702471, 1.4064848448797052, -0.5870532543768849, -0.10386233005351653, -0.6026567159275114, -0.3977153514833081, -0.0789265337748859, -1.8778042312497178, 0.040799528854207436, -1.0036183678592239, -0.08819667574264149, -0.3928287950265648, 0.3816777150578995, -1.2046870162167262, 1.5657550525626636, -0.9107752964177663, -1.2806738271409532, -0.26936898286492883, -1.9725333411495, 0.12296147267332022, 1.3657654661570693, 1.3073215223367316, -0.26754155501266924, 0.3768637235704007, 0.09754703096082211, 0.2820622826087046, 0.8173612891250674, -0.6608882090748124, -2.1822590557928137, 1.1034159369692882], \"yaxis\": \"y9\"}, {\"line\": {\"color\": \"rgba(128, 128, 128, 1.0)\", \"dash\": \"solid\", \"shape\": \"linear\", \"width\": 1.3}, \"marker\": {\"size\": 2, \"symbol\": \"circle\"}, \"mode\": \"markers\", \"name\": \"C\", \"text\": \"\", \"type\": \"scatter\", \"x\": [-0.5154028289519922, 0.0791322585661461, 1.0396515346220583, 0.4850278201225669, -1.6254111312880137, -0.998260106320457, 0.26303934236234766, -0.30773940814879197, -0.01094210364897688, -1.3944439761556933, 1.5055174490022059, 0.8239482622881219, -0.509754796806725, 0.7313794893071358, 0.8820097692652915, -0.5406830740138031, -1.1329492868192956, -0.40077704369678735, 0.40493122341053506, 0.640683739641404, -1.0204224910137554, 1.4889011107760302, 0.36589253033272673, -0.10252420879481028, -1.430282150047373, 0.14066371160501276, 0.6163784978253694, 1.432263924590453, 1.8492563020547392, -0.8217827592875484, -0.44599160091648204, 1.4894175755182744, 1.0176964004655251, 1.6807954863608192, -0.21163545755427834, -1.4275374906092662, -1.823583470739203, 2.1659367105415224, -1.3434598934659385, 0.22262118793658667, 0.02691957065464893, 1.2009810098660418, -1.0935773745230242, -1.5025461722914313, 1.0487359193007595, -0.2335583839744253, -1.0022135401686079, -1.8599184167196092, -0.22899476071839855, -0.8522397606714057, 1.0977669077056627, -0.3654870695184672, -0.26251197339235505, 1.5041915918704902, -0.1298061375478299, 0.027609862050904, -0.02269809222143529, -0.30059378354524874, 0.4221110297659695, -1.1626066888185207, 0.9309679489129465, -0.9547175245352093, -0.5855913889007434, -0.1491633236882833, -0.8179567266593832, -0.5065334580298471, 1.090214517366577, 0.9947655114561784, 0.9921809126586695, 0.12746228521287786, -0.7960222886985829, -0.6504377121940919, 0.4746746423422819, 0.7572970759682413, -0.9395071457654471, -0.3494968638336238, 1.3460158607638404, -0.5488662923381947, -1.4653280244485671, -1.4572637821760548, -0.3889838356638975, -0.20622999422701915, -0.6414210441959368, 1.060095370980204, 0.4516365774723491, 1.8616252137710345, -0.3596212431681085, -0.1469756823743527, 0.5071310239049722, 0.023489024913073517, -1.6734350889799126, 1.7108871056559394, 1.6637160594485334, -0.8199014490648515, 0.38052374775287356, -1.4915215740611367, -0.10226702648398565, -0.3668531484436365, -0.06217608712746471, 1.0770315841710956], \"xaxis\": \"x10\", \"y\": [-1.3535163580022544, 1.4003596234117344, 0.13469439790165721, 1.4051908037448164, 0.9580714977635231, -0.4095176349491406, 0.7580845633983917, -1.2819504250150386, 0.2086995055029189, 0.9329538542322144, -0.8016333047126879, -0.07771097622126454, -0.7721054100946949, -1.990676407866973, -0.7862268731312244, -1.5525540482500282, 0.15355932941990333, -0.7354191976403986, -0.2710262876002277, -1.1988608203442557, 3.0747486110269544, -0.5274923081062007, 0.04271981706349143, -0.9085064591077707, 1.9556268889088981, 0.29424423013466655, -0.5519571126618097, -0.008858948660685682, 0.3675294495702848, -1.1500645608143736, 0.557455375002619, 0.49747346009956683, -0.691892606369852, 0.3665233905015236, -0.6561323088805497, 0.7803476962794172, -0.47541673719023575, -0.9675490460126639, -0.9450344114735258, 0.5386395427237893, -1.1197794688078442, 0.6206147505716335, 0.13197887760118768, -1.92176418023807, 0.2383637161926735, -0.5624785667450038, -0.33247424484091215, 1.6424089724127477, -1.3213966449272294, 0.46841273984178117, 1.3272128288828362, -0.8992249573860571, 0.4456547578223136, -0.9539940253329383, -0.48834152263188163, -0.1537916076593378, -0.47663629366978105, 0.9865632059786338, 1.398277337906387, -1.2817926480198785, -0.49820050402222626, -0.9924294973256893, -0.06230149404281906, 0.12987207476010865, 2.028247243274949, 1.5903002635586032, -0.07037377541024276, -0.7456460135746772, 0.06619805039363856, 0.9516547628894232, 0.5760250487702471, 1.4064848448797052, -0.5870532543768849, -0.10386233005351653, -0.6026567159275114, -0.3977153514833081, -0.0789265337748859, -1.8778042312497178, 0.040799528854207436, -1.0036183678592239, -0.08819667574264149, -0.3928287950265648, 0.3816777150578995, -1.2046870162167262, 1.5657550525626636, -0.9107752964177663, -1.2806738271409532, -0.26936898286492883, -1.9725333411495, 0.12296147267332022, 1.3657654661570693, 1.3073215223367316, -0.26754155501266924, 0.3768637235704007, 0.09754703096082211, 0.2820622826087046, 0.8173612891250674, -0.6608882090748124, -2.1822590557928137, 1.1034159369692882], \"yaxis\": \"y10\"}, {\"histfunc\": \"count\", \"histnorm\": \"\", \"marker\": {\"color\": \"rgba(50, 171, 96, 1.0)\", \"line\": {\"color\": \"#4D5663\", \"width\": 1.3}}, \"name\": \"C\", \"nbinsx\": 10, \"opacity\": 0.8, \"orientation\": \"v\", \"type\": \"histogram\", \"x\": [-1.3535163580022544, 1.4003596234117344, 0.13469439790165721, 1.4051908037448164, 0.9580714977635231, -0.4095176349491406, 0.7580845633983917, -1.2819504250150386, 0.2086995055029189, 0.9329538542322144, -0.8016333047126879, -0.07771097622126454, -0.7721054100946949, -1.990676407866973, -0.7862268731312244, -1.5525540482500282, 0.15355932941990333, -0.7354191976403986, -0.2710262876002277, -1.1988608203442557, 3.0747486110269544, -0.5274923081062007, 0.04271981706349143, -0.9085064591077707, 1.9556268889088981, 0.29424423013466655, -0.5519571126618097, -0.008858948660685682, 0.3675294495702848, -1.1500645608143736, 0.557455375002619, 0.49747346009956683, -0.691892606369852, 0.3665233905015236, -0.6561323088805497, 0.7803476962794172, -0.47541673719023575, -0.9675490460126639, -0.9450344114735258, 0.5386395427237893, -1.1197794688078442, 0.6206147505716335, 0.13197887760118768, -1.92176418023807, 0.2383637161926735, -0.5624785667450038, -0.33247424484091215, 1.6424089724127477, -1.3213966449272294, 0.46841273984178117, 1.3272128288828362, -0.8992249573860571, 0.4456547578223136, -0.9539940253329383, -0.48834152263188163, -0.1537916076593378, -0.47663629366978105, 0.9865632059786338, 1.398277337906387, -1.2817926480198785, -0.49820050402222626, -0.9924294973256893, -0.06230149404281906, 0.12987207476010865, 2.028247243274949, 1.5903002635586032, -0.07037377541024276, -0.7456460135746772, 0.06619805039363856, 0.9516547628894232, 0.5760250487702471, 1.4064848448797052, -0.5870532543768849, -0.10386233005351653, -0.6026567159275114, -0.3977153514833081, -0.0789265337748859, -1.8778042312497178, 0.040799528854207436, -1.0036183678592239, -0.08819667574264149, -0.3928287950265648, 0.3816777150578995, -1.2046870162167262, 1.5657550525626636, -0.9107752964177663, -1.2806738271409532, -0.26936898286492883, -1.9725333411495, 0.12296147267332022, 1.3657654661570693, 1.3073215223367316, -0.26754155501266924, 0.3768637235704007, 0.09754703096082211, 0.2820622826087046, 0.8173612891250674, -0.6608882090748124, -2.1822590557928137, 1.1034159369692882], \"xaxis\": \"x11\", \"yaxis\": \"y11\"}, {\"line\": {\"color\": \"rgba(128, 128, 128, 1.0)\", \"dash\": \"solid\", \"shape\": \"linear\", \"width\": 1.3}, \"marker\": {\"size\": 2, \"symbol\": \"circle\"}, \"mode\": \"markers\", \"name\": \"C\", \"text\": \"\", \"type\": \"scatter\", \"x\": [-0.7497552920964153, 2.4762369735940415, -1.7647726919066227, -0.8473079542231872, 0.7050963667311787, 0.40543749068007695, -0.7010925674186751, 1.0439091114782582, -0.2961776860098586, -0.29855672241806075, 0.15330071223009764, -0.22021786335174115, -0.89546554469811, 0.33188757696321547, 0.6584998986986181, -1.257840095410502, 0.32989298339205186, 0.26155572277123423, -2.4599125596351823, 1.5324733939085835, 0.9450039195953681, 0.06458813700390781, 1.180078426519659, 0.770746334051263, 0.3331657562209716, 0.9529659734434237, 0.6058425830713987, 1.130321723555387, -0.6012076342239905, -0.34611222631218846, 0.21616532446481254, 1.1727700390873312, -0.03924015219395926, -1.1090792840341646, 1.532860378030908, 0.2519668405699619, -0.9128546831010639, 0.3287694771317553, 0.5720919978606196, 1.4369524878863131, -2.31245474055154, 0.7269706912064975, -2.2724656376083847, 0.6217512624441843, -1.149150483928287, 0.762324242960001, 0.6181852981325022, 0.6154444175062248, 0.6859674764796967, 0.9094555455512773, 0.1961396911565603, -0.5423014129783554, -0.5210271381920242, 0.37889544571908496, 0.7668689861358123, 1.345999833593855, 0.3218285009041609, -2.1255575193508616, -1.213290320133076, 0.14200732909612496, 1.489444558077597, -0.8575976260970435, -0.016181857718749904, 0.5474280623300499, -0.6186054099057708, 0.6701846121674955, -0.6129910501193094, 0.5915715504687792, -2.4019243654380826, -0.09161155260406162, -0.18697809269040175, -4.511936563497754, 0.9863195440824328, 0.9704803541863959, -0.6153410592425291, -0.23481747222262805, 1.289113711541395, 0.27832680658922154, -0.08905471590134338, -0.08455371872639768, 0.232304339573224, -1.2447704846127374, -0.4827819375220341, 1.9442029515863137, 0.2452450897287286, 0.02414532793176462, 0.14455183945802416, 1.0281051344616066, 0.848766468848188, 0.4586400705500439, -0.9494760177454723, -0.9768566295613794, -0.7136253095848245, 0.5599199107843043, 0.08294018250090647, -0.593674636092453, -0.07216194231300613, 0.7427908989679947, 0.6608522588761498, -0.5965252550675559], \"xaxis\": \"x12\", \"y\": [-1.3535163580022544, 1.4003596234117344, 0.13469439790165721, 1.4051908037448164, 0.9580714977635231, -0.4095176349491406, 0.7580845633983917, -1.2819504250150386, 0.2086995055029189, 0.9329538542322144, -0.8016333047126879, -0.07771097622126454, -0.7721054100946949, -1.990676407866973, -0.7862268731312244, -1.5525540482500282, 0.15355932941990333, -0.7354191976403986, -0.2710262876002277, -1.1988608203442557, 3.0747486110269544, -0.5274923081062007, 0.04271981706349143, -0.9085064591077707, 1.9556268889088981, 0.29424423013466655, -0.5519571126618097, -0.008858948660685682, 0.3675294495702848, -1.1500645608143736, 0.557455375002619, 0.49747346009956683, -0.691892606369852, 0.3665233905015236, -0.6561323088805497, 0.7803476962794172, -0.47541673719023575, -0.9675490460126639, -0.9450344114735258, 0.5386395427237893, -1.1197794688078442, 0.6206147505716335, 0.13197887760118768, -1.92176418023807, 0.2383637161926735, -0.5624785667450038, -0.33247424484091215, 1.6424089724127477, -1.3213966449272294, 0.46841273984178117, 1.3272128288828362, -0.8992249573860571, 0.4456547578223136, -0.9539940253329383, -0.48834152263188163, -0.1537916076593378, -0.47663629366978105, 0.9865632059786338, 1.398277337906387, -1.2817926480198785, -0.49820050402222626, -0.9924294973256893, -0.06230149404281906, 0.12987207476010865, 2.028247243274949, 1.5903002635586032, -0.07037377541024276, -0.7456460135746772, 0.06619805039363856, 0.9516547628894232, 0.5760250487702471, 1.4064848448797052, -0.5870532543768849, -0.10386233005351653, -0.6026567159275114, -0.3977153514833081, -0.0789265337748859, -1.8778042312497178, 0.040799528854207436, -1.0036183678592239, -0.08819667574264149, -0.3928287950265648, 0.3816777150578995, -1.2046870162167262, 1.5657550525626636, -0.9107752964177663, -1.2806738271409532, -0.26936898286492883, -1.9725333411495, 0.12296147267332022, 1.3657654661570693, 1.3073215223367316, -0.26754155501266924, 0.3768637235704007, 0.09754703096082211, 0.2820622826087046, 0.8173612891250674, -0.6608882090748124, -2.1822590557928137, 1.1034159369692882], \"yaxis\": \"y12\"}, {\"line\": {\"color\": \"rgba(128, 128, 128, 1.0)\", \"dash\": \"solid\", \"shape\": \"linear\", \"width\": 1.3}, \"marker\": {\"size\": 2, \"symbol\": \"circle\"}, \"mode\": \"markers\", \"name\": \"D\", \"text\": \"\", \"type\": \"scatter\", \"x\": [1.2828662516368237, -1.9058548130178599, 1.7624087399545465, -1.28957445810928, -0.33074735230222574, 1.3924138972481361, -1.0876116171939914, -1.2081372790816036, -0.6737965225857129, -0.02583692854927848, 0.8039293299766449, 1.0107446447097366, -1.4146549512974564, -0.15595360258756916, 1.1310264219534185, 0.3109506384339165, -0.3808054031911281, 0.11122446898664881, -0.9656072574207325, 0.2406238062862133, -0.8068648764125891, -1.6871947272058962, 1.2337296353563858, -0.3809284251154643, -0.35317470698447334, 0.43415144542077877, 1.2180163628219967, -1.522440486703186, 0.5217061847644993, 0.38561994701780056, -0.49192210133219766, 0.14013093395285253, 2.4036700387643384, -0.4807851905433463, -1.9605399057258375, 1.2669050634370032, -1.5308676262032017, -0.5190412053819773, 0.4173351672979796, -0.23687798244708996, -0.8460465955548907, -0.5084860834962257, 0.1738108848450604, 0.0368915898997711, 0.6805541276651929, -0.3118292802592112, 0.6187106394900223, -0.7343098042346263, 1.0517884026374926, -1.0677456222735553, -0.9589362399553518, -0.6589773644257099, -1.1643134480046182, 0.2627379525787662, -1.6330933755686416, 0.6797640558459586, -0.21807894242190407, 0.6121770011936802, -1.2288674416183698, -0.028932611373871618, -0.29558261017692433, 0.8851879307115434, -0.12808461099746693, 0.9982779724582205, -0.7046827243365449, -1.1674082125449132, 0.008171711724090178, 0.4552042065990801, 0.8047843719361977, 1.3520070749654678, -0.023124972881999134, -0.889286390339353, 0.8736949087856304, -0.4306513533340919, -0.3947564542130474, 0.9753568630991614, 0.6465523276736221, 1.1234495604869827, 0.7575077430654791, 0.10056159062489389, -0.5990740207238892, -0.04925861844922938, -0.5743835236711956, -0.2934599223661171, 0.13943105173979872, -1.1730514837867145, -1.4097168362462602, 0.2819429293041775, 1.8333068010035791, -0.8453840321261459, 0.28363834198412025, -1.2073436137625582, -0.7535816105045646, 0.4060306049615743, 0.48190397132211416, 0.42673882846182315, 2.706608622687043, -0.4285481488971416, 0.13524802574512346, -0.11575641589217416], \"xaxis\": \"x13\", \"y\": [-0.7497552920964153, 2.4762369735940415, -1.7647726919066227, -0.8473079542231872, 0.7050963667311787, 0.40543749068007695, -0.7010925674186751, 1.0439091114782582, -0.2961776860098586, -0.29855672241806075, 0.15330071223009764, -0.22021786335174115, -0.89546554469811, 0.33188757696321547, 0.6584998986986181, -1.257840095410502, 0.32989298339205186, 0.26155572277123423, -2.4599125596351823, 1.5324733939085835, 0.9450039195953681, 0.06458813700390781, 1.180078426519659, 0.770746334051263, 0.3331657562209716, 0.9529659734434237, 0.6058425830713987, 1.130321723555387, -0.6012076342239905, -0.34611222631218846, 0.21616532446481254, 1.1727700390873312, -0.03924015219395926, -1.1090792840341646, 1.532860378030908, 0.2519668405699619, -0.9128546831010639, 0.3287694771317553, 0.5720919978606196, 1.4369524878863131, -2.31245474055154, 0.7269706912064975, -2.2724656376083847, 0.6217512624441843, -1.149150483928287, 0.762324242960001, 0.6181852981325022, 0.6154444175062248, 0.6859674764796967, 0.9094555455512773, 0.1961396911565603, -0.5423014129783554, -0.5210271381920242, 0.37889544571908496, 0.7668689861358123, 1.345999833593855, 0.3218285009041609, -2.1255575193508616, -1.213290320133076, 0.14200732909612496, 1.489444558077597, -0.8575976260970435, -0.016181857718749904, 0.5474280623300499, -0.6186054099057708, 0.6701846121674955, -0.6129910501193094, 0.5915715504687792, -2.4019243654380826, -0.09161155260406162, -0.18697809269040175, -4.511936563497754, 0.9863195440824328, 0.9704803541863959, -0.6153410592425291, -0.23481747222262805, 1.289113711541395, 0.27832680658922154, -0.08905471590134338, -0.08455371872639768, 0.232304339573224, -1.2447704846127374, -0.4827819375220341, 1.9442029515863137, 0.2452450897287286, 0.02414532793176462, 0.14455183945802416, 1.0281051344616066, 0.848766468848188, 0.4586400705500439, -0.9494760177454723, -0.9768566295613794, -0.7136253095848245, 0.5599199107843043, 0.08294018250090647, -0.593674636092453, -0.07216194231300613, 0.7427908989679947, 0.6608522588761498, -0.5965252550675559], \"yaxis\": \"y13\"}, {\"line\": {\"color\": \"rgba(128, 128, 128, 1.0)\", \"dash\": \"solid\", \"shape\": \"linear\", \"width\": 1.3}, \"marker\": {\"size\": 2, \"symbol\": \"circle\"}, \"mode\": \"markers\", \"name\": \"D\", \"text\": \"\", \"type\": \"scatter\", \"x\": [-0.5154028289519922, 0.0791322585661461, 1.0396515346220583, 0.4850278201225669, -1.6254111312880137, -0.998260106320457, 0.26303934236234766, -0.30773940814879197, -0.01094210364897688, -1.3944439761556933, 1.5055174490022059, 0.8239482622881219, -0.509754796806725, 0.7313794893071358, 0.8820097692652915, -0.5406830740138031, -1.1329492868192956, -0.40077704369678735, 0.40493122341053506, 0.640683739641404, -1.0204224910137554, 1.4889011107760302, 0.36589253033272673, -0.10252420879481028, -1.430282150047373, 0.14066371160501276, 0.6163784978253694, 1.432263924590453, 1.8492563020547392, -0.8217827592875484, -0.44599160091648204, 1.4894175755182744, 1.0176964004655251, 1.6807954863608192, -0.21163545755427834, -1.4275374906092662, -1.823583470739203, 2.1659367105415224, -1.3434598934659385, 0.22262118793658667, 0.02691957065464893, 1.2009810098660418, -1.0935773745230242, -1.5025461722914313, 1.0487359193007595, -0.2335583839744253, -1.0022135401686079, -1.8599184167196092, -0.22899476071839855, -0.8522397606714057, 1.0977669077056627, -0.3654870695184672, -0.26251197339235505, 1.5041915918704902, -0.1298061375478299, 0.027609862050904, -0.02269809222143529, -0.30059378354524874, 0.4221110297659695, -1.1626066888185207, 0.9309679489129465, -0.9547175245352093, -0.5855913889007434, -0.1491633236882833, -0.8179567266593832, -0.5065334580298471, 1.090214517366577, 0.9947655114561784, 0.9921809126586695, 0.12746228521287786, -0.7960222886985829, -0.6504377121940919, 0.4746746423422819, 0.7572970759682413, -0.9395071457654471, -0.3494968638336238, 1.3460158607638404, -0.5488662923381947, -1.4653280244485671, -1.4572637821760548, -0.3889838356638975, -0.20622999422701915, -0.6414210441959368, 1.060095370980204, 0.4516365774723491, 1.8616252137710345, -0.3596212431681085, -0.1469756823743527, 0.5071310239049722, 0.023489024913073517, -1.6734350889799126, 1.7108871056559394, 1.6637160594485334, -0.8199014490648515, 0.38052374775287356, -1.4915215740611367, -0.10226702648398565, -0.3668531484436365, -0.06217608712746471, 1.0770315841710956], \"xaxis\": \"x14\", \"y\": [-0.7497552920964153, 2.4762369735940415, -1.7647726919066227, -0.8473079542231872, 0.7050963667311787, 0.40543749068007695, -0.7010925674186751, 1.0439091114782582, -0.2961776860098586, -0.29855672241806075, 0.15330071223009764, -0.22021786335174115, -0.89546554469811, 0.33188757696321547, 0.6584998986986181, -1.257840095410502, 0.32989298339205186, 0.26155572277123423, -2.4599125596351823, 1.5324733939085835, 0.9450039195953681, 0.06458813700390781, 1.180078426519659, 0.770746334051263, 0.3331657562209716, 0.9529659734434237, 0.6058425830713987, 1.130321723555387, -0.6012076342239905, -0.34611222631218846, 0.21616532446481254, 1.1727700390873312, -0.03924015219395926, -1.1090792840341646, 1.532860378030908, 0.2519668405699619, -0.9128546831010639, 0.3287694771317553, 0.5720919978606196, 1.4369524878863131, -2.31245474055154, 0.7269706912064975, -2.2724656376083847, 0.6217512624441843, -1.149150483928287, 0.762324242960001, 0.6181852981325022, 0.6154444175062248, 0.6859674764796967, 0.9094555455512773, 0.1961396911565603, -0.5423014129783554, -0.5210271381920242, 0.37889544571908496, 0.7668689861358123, 1.345999833593855, 0.3218285009041609, -2.1255575193508616, -1.213290320133076, 0.14200732909612496, 1.489444558077597, -0.8575976260970435, -0.016181857718749904, 0.5474280623300499, -0.6186054099057708, 0.6701846121674955, -0.6129910501193094, 0.5915715504687792, -2.4019243654380826, -0.09161155260406162, -0.18697809269040175, -4.511936563497754, 0.9863195440824328, 0.9704803541863959, -0.6153410592425291, -0.23481747222262805, 1.289113711541395, 0.27832680658922154, -0.08905471590134338, -0.08455371872639768, 0.232304339573224, -1.2447704846127374, -0.4827819375220341, 1.9442029515863137, 0.2452450897287286, 0.02414532793176462, 0.14455183945802416, 1.0281051344616066, 0.848766468848188, 0.4586400705500439, -0.9494760177454723, -0.9768566295613794, -0.7136253095848245, 0.5599199107843043, 0.08294018250090647, -0.593674636092453, -0.07216194231300613, 0.7427908989679947, 0.6608522588761498, -0.5965252550675559], \"yaxis\": \"y14\"}, {\"line\": {\"color\": \"rgba(128, 128, 128, 1.0)\", \"dash\": \"solid\", \"shape\": \"linear\", \"width\": 1.3}, \"marker\": {\"size\": 2, \"symbol\": \"circle\"}, \"mode\": \"markers\", \"name\": \"D\", \"text\": \"\", \"type\": \"scatter\", \"x\": [-1.3535163580022544, 1.4003596234117344, 0.13469439790165721, 1.4051908037448164, 0.9580714977635231, -0.4095176349491406, 0.7580845633983917, -1.2819504250150386, 0.2086995055029189, 0.9329538542322144, -0.8016333047126879, -0.07771097622126454, -0.7721054100946949, -1.990676407866973, -0.7862268731312244, -1.5525540482500282, 0.15355932941990333, -0.7354191976403986, -0.2710262876002277, -1.1988608203442557, 3.0747486110269544, -0.5274923081062007, 0.04271981706349143, -0.9085064591077707, 1.9556268889088981, 0.29424423013466655, -0.5519571126618097, -0.008858948660685682, 0.3675294495702848, -1.1500645608143736, 0.557455375002619, 0.49747346009956683, -0.691892606369852, 0.3665233905015236, -0.6561323088805497, 0.7803476962794172, -0.47541673719023575, -0.9675490460126639, -0.9450344114735258, 0.5386395427237893, -1.1197794688078442, 0.6206147505716335, 0.13197887760118768, -1.92176418023807, 0.2383637161926735, -0.5624785667450038, -0.33247424484091215, 1.6424089724127477, -1.3213966449272294, 0.46841273984178117, 1.3272128288828362, -0.8992249573860571, 0.4456547578223136, -0.9539940253329383, -0.48834152263188163, -0.1537916076593378, -0.47663629366978105, 0.9865632059786338, 1.398277337906387, -1.2817926480198785, -0.49820050402222626, -0.9924294973256893, -0.06230149404281906, 0.12987207476010865, 2.028247243274949, 1.5903002635586032, -0.07037377541024276, -0.7456460135746772, 0.06619805039363856, 0.9516547628894232, 0.5760250487702471, 1.4064848448797052, -0.5870532543768849, -0.10386233005351653, -0.6026567159275114, -0.3977153514833081, -0.0789265337748859, -1.8778042312497178, 0.040799528854207436, -1.0036183678592239, -0.08819667574264149, -0.3928287950265648, 0.3816777150578995, -1.2046870162167262, 1.5657550525626636, -0.9107752964177663, -1.2806738271409532, -0.26936898286492883, -1.9725333411495, 0.12296147267332022, 1.3657654661570693, 1.3073215223367316, -0.26754155501266924, 0.3768637235704007, 0.09754703096082211, 0.2820622826087046, 0.8173612891250674, -0.6608882090748124, -2.1822590557928137, 1.1034159369692882], \"xaxis\": \"x15\", \"y\": [-0.7497552920964153, 2.4762369735940415, -1.7647726919066227, -0.8473079542231872, 0.7050963667311787, 0.40543749068007695, -0.7010925674186751, 1.0439091114782582, -0.2961776860098586, -0.29855672241806075, 0.15330071223009764, -0.22021786335174115, -0.89546554469811, 0.33188757696321547, 0.6584998986986181, -1.257840095410502, 0.32989298339205186, 0.26155572277123423, -2.4599125596351823, 1.5324733939085835, 0.9450039195953681, 0.06458813700390781, 1.180078426519659, 0.770746334051263, 0.3331657562209716, 0.9529659734434237, 0.6058425830713987, 1.130321723555387, -0.6012076342239905, -0.34611222631218846, 0.21616532446481254, 1.1727700390873312, -0.03924015219395926, -1.1090792840341646, 1.532860378030908, 0.2519668405699619, -0.9128546831010639, 0.3287694771317553, 0.5720919978606196, 1.4369524878863131, -2.31245474055154, 0.7269706912064975, -2.2724656376083847, 0.6217512624441843, -1.149150483928287, 0.762324242960001, 0.6181852981325022, 0.6154444175062248, 0.6859674764796967, 0.9094555455512773, 0.1961396911565603, -0.5423014129783554, -0.5210271381920242, 0.37889544571908496, 0.7668689861358123, 1.345999833593855, 0.3218285009041609, -2.1255575193508616, -1.213290320133076, 0.14200732909612496, 1.489444558077597, -0.8575976260970435, -0.016181857718749904, 0.5474280623300499, -0.6186054099057708, 0.6701846121674955, -0.6129910501193094, 0.5915715504687792, -2.4019243654380826, -0.09161155260406162, -0.18697809269040175, -4.511936563497754, 0.9863195440824328, 0.9704803541863959, -0.6153410592425291, -0.23481747222262805, 1.289113711541395, 0.27832680658922154, -0.08905471590134338, -0.08455371872639768, 0.232304339573224, -1.2447704846127374, -0.4827819375220341, 1.9442029515863137, 0.2452450897287286, 0.02414532793176462, 0.14455183945802416, 1.0281051344616066, 0.848766468848188, 0.4586400705500439, -0.9494760177454723, -0.9768566295613794, -0.7136253095848245, 0.5599199107843043, 0.08294018250090647, -0.593674636092453, -0.07216194231300613, 0.7427908989679947, 0.6608522588761498, -0.5965252550675559], \"yaxis\": \"y15\"}, {\"histfunc\": \"count\", \"histnorm\": \"\", \"marker\": {\"color\": \"rgba(128, 0, 128, 1.0)\", \"line\": {\"color\": \"#4D5663\", \"width\": 1.3}}, \"name\": \"D\", \"nbinsx\": 10, \"opacity\": 0.8, \"orientation\": \"v\", \"type\": \"histogram\", \"x\": [-0.7497552920964153, 2.4762369735940415, -1.7647726919066227, -0.8473079542231872, 0.7050963667311787, 0.40543749068007695, -0.7010925674186751, 1.0439091114782582, -0.2961776860098586, -0.29855672241806075, 0.15330071223009764, -0.22021786335174115, -0.89546554469811, 0.33188757696321547, 0.6584998986986181, -1.257840095410502, 0.32989298339205186, 0.26155572277123423, -2.4599125596351823, 1.5324733939085835, 0.9450039195953681, 0.06458813700390781, 1.180078426519659, 0.770746334051263, 0.3331657562209716, 0.9529659734434237, 0.6058425830713987, 1.130321723555387, -0.6012076342239905, -0.34611222631218846, 0.21616532446481254, 1.1727700390873312, -0.03924015219395926, -1.1090792840341646, 1.532860378030908, 0.2519668405699619, -0.9128546831010639, 0.3287694771317553, 0.5720919978606196, 1.4369524878863131, -2.31245474055154, 0.7269706912064975, -2.2724656376083847, 0.6217512624441843, -1.149150483928287, 0.762324242960001, 0.6181852981325022, 0.6154444175062248, 0.6859674764796967, 0.9094555455512773, 0.1961396911565603, -0.5423014129783554, -0.5210271381920242, 0.37889544571908496, 0.7668689861358123, 1.345999833593855, 0.3218285009041609, -2.1255575193508616, -1.213290320133076, 0.14200732909612496, 1.489444558077597, -0.8575976260970435, -0.016181857718749904, 0.5474280623300499, -0.6186054099057708, 0.6701846121674955, -0.6129910501193094, 0.5915715504687792, -2.4019243654380826, -0.09161155260406162, -0.18697809269040175, -4.511936563497754, 0.9863195440824328, 0.9704803541863959, -0.6153410592425291, -0.23481747222262805, 1.289113711541395, 0.27832680658922154, -0.08905471590134338, -0.08455371872639768, 0.232304339573224, -1.2447704846127374, -0.4827819375220341, 1.9442029515863137, 0.2452450897287286, 0.02414532793176462, 0.14455183945802416, 1.0281051344616066, 0.848766468848188, 0.4586400705500439, -0.9494760177454723, -0.9768566295613794, -0.7136253095848245, 0.5599199107843043, 0.08294018250090647, -0.593674636092453, -0.07216194231300613, 0.7427908989679947, 0.6608522588761498, -0.5965252550675559], \"xaxis\": \"x16\", \"yaxis\": \"y16\"}],                        {\"bargap\": 0.02, \"legend\": {\"bgcolor\": \"#F5F6F9\", \"font\": {\"color\": \"#4D5663\"}}, \"paper_bgcolor\": \"#F5F6F9\", \"plot_bgcolor\": \"#F5F6F9\", \"showlegend\": false, \"template\": {\"data\": {\"bar\": [{\"error_x\": {\"color\": \"#2a3f5f\"}, \"error_y\": {\"color\": \"#2a3f5f\"}, \"marker\": {\"line\": {\"color\": \"#E5ECF6\", \"width\": 0.5}}, \"type\": \"bar\"}], \"barpolar\": [{\"marker\": {\"line\": {\"color\": \"#E5ECF6\", \"width\": 0.5}}, \"type\": \"barpolar\"}], \"carpet\": [{\"aaxis\": {\"endlinecolor\": \"#2a3f5f\", \"gridcolor\": \"white\", \"linecolor\": \"white\", \"minorgridcolor\": \"white\", \"startlinecolor\": \"#2a3f5f\"}, \"baxis\": {\"endlinecolor\": \"#2a3f5f\", \"gridcolor\": \"white\", \"linecolor\": \"white\", \"minorgridcolor\": \"white\", \"startlinecolor\": \"#2a3f5f\"}, \"type\": \"carpet\"}], \"choropleth\": [{\"colorbar\": {\"outlinewidth\": 0, \"ticks\": \"\"}, \"type\": \"choropleth\"}], \"contour\": [{\"colorbar\": {\"outlinewidth\": 0, \"ticks\": \"\"}, \"colorscale\": [[0.0, \"#0d0887\"], [0.1111111111111111, \"#46039f\"], [0.2222222222222222, \"#7201a8\"], [0.3333333333333333, \"#9c179e\"], [0.4444444444444444, \"#bd3786\"], [0.5555555555555556, \"#d8576b\"], [0.6666666666666666, \"#ed7953\"], [0.7777777777777778, \"#fb9f3a\"], [0.8888888888888888, \"#fdca26\"], [1.0, \"#f0f921\"]], \"type\": \"contour\"}], \"contourcarpet\": [{\"colorbar\": {\"outlinewidth\": 0, \"ticks\": \"\"}, \"type\": \"contourcarpet\"}], \"heatmap\": [{\"colorbar\": {\"outlinewidth\": 0, \"ticks\": \"\"}, \"colorscale\": [[0.0, \"#0d0887\"], [0.1111111111111111, \"#46039f\"], [0.2222222222222222, \"#7201a8\"], [0.3333333333333333, \"#9c179e\"], [0.4444444444444444, \"#bd3786\"], [0.5555555555555556, \"#d8576b\"], [0.6666666666666666, \"#ed7953\"], [0.7777777777777778, \"#fb9f3a\"], [0.8888888888888888, \"#fdca26\"], [1.0, \"#f0f921\"]], \"type\": \"heatmap\"}], \"heatmapgl\": [{\"colorbar\": {\"outlinewidth\": 0, \"ticks\": \"\"}, \"colorscale\": [[0.0, \"#0d0887\"], [0.1111111111111111, \"#46039f\"], [0.2222222222222222, \"#7201a8\"], [0.3333333333333333, \"#9c179e\"], [0.4444444444444444, \"#bd3786\"], [0.5555555555555556, \"#d8576b\"], [0.6666666666666666, \"#ed7953\"], [0.7777777777777778, \"#fb9f3a\"], [0.8888888888888888, \"#fdca26\"], [1.0, \"#f0f921\"]], \"type\": \"heatmapgl\"}], \"histogram\": [{\"marker\": {\"colorbar\": {\"outlinewidth\": 0, \"ticks\": \"\"}}, \"type\": \"histogram\"}], \"histogram2d\": [{\"colorbar\": {\"outlinewidth\": 0, \"ticks\": \"\"}, \"colorscale\": [[0.0, \"#0d0887\"], [0.1111111111111111, \"#46039f\"], [0.2222222222222222, \"#7201a8\"], [0.3333333333333333, \"#9c179e\"], [0.4444444444444444, \"#bd3786\"], [0.5555555555555556, \"#d8576b\"], [0.6666666666666666, \"#ed7953\"], [0.7777777777777778, \"#fb9f3a\"], [0.8888888888888888, \"#fdca26\"], [1.0, \"#f0f921\"]], \"type\": \"histogram2d\"}], \"histogram2dcontour\": [{\"colorbar\": {\"outlinewidth\": 0, \"ticks\": \"\"}, \"colorscale\": [[0.0, \"#0d0887\"], [0.1111111111111111, \"#46039f\"], [0.2222222222222222, \"#7201a8\"], [0.3333333333333333, \"#9c179e\"], [0.4444444444444444, \"#bd3786\"], [0.5555555555555556, \"#d8576b\"], [0.6666666666666666, \"#ed7953\"], [0.7777777777777778, \"#fb9f3a\"], [0.8888888888888888, \"#fdca26\"], [1.0, \"#f0f921\"]], \"type\": \"histogram2dcontour\"}], \"mesh3d\": [{\"colorbar\": {\"outlinewidth\": 0, \"ticks\": \"\"}, \"type\": \"mesh3d\"}], \"parcoords\": [{\"line\": {\"colorbar\": {\"outlinewidth\": 0, \"ticks\": \"\"}}, \"type\": \"parcoords\"}], \"pie\": [{\"automargin\": true, \"type\": \"pie\"}], \"scatter\": [{\"marker\": {\"colorbar\": {\"outlinewidth\": 0, \"ticks\": \"\"}}, \"type\": \"scatter\"}], \"scatter3d\": [{\"line\": {\"colorbar\": {\"outlinewidth\": 0, \"ticks\": \"\"}}, \"marker\": {\"colorbar\": {\"outlinewidth\": 0, \"ticks\": \"\"}}, \"type\": \"scatter3d\"}], \"scattercarpet\": [{\"marker\": {\"colorbar\": {\"outlinewidth\": 0, \"ticks\": \"\"}}, \"type\": \"scattercarpet\"}], \"scattergeo\": [{\"marker\": {\"colorbar\": {\"outlinewidth\": 0, \"ticks\": \"\"}}, \"type\": \"scattergeo\"}], \"scattergl\": [{\"marker\": {\"colorbar\": {\"outlinewidth\": 0, \"ticks\": \"\"}}, \"type\": \"scattergl\"}], \"scattermapbox\": [{\"marker\": {\"colorbar\": {\"outlinewidth\": 0, \"ticks\": \"\"}}, \"type\": \"scattermapbox\"}], \"scatterpolar\": [{\"marker\": {\"colorbar\": {\"outlinewidth\": 0, \"ticks\": \"\"}}, \"type\": \"scatterpolar\"}], \"scatterpolargl\": [{\"marker\": {\"colorbar\": {\"outlinewidth\": 0, \"ticks\": \"\"}}, \"type\": \"scatterpolargl\"}], \"scatterternary\": [{\"marker\": {\"colorbar\": {\"outlinewidth\": 0, \"ticks\": \"\"}}, \"type\": \"scatterternary\"}], \"surface\": [{\"colorbar\": {\"outlinewidth\": 0, \"ticks\": \"\"}, \"colorscale\": [[0.0, \"#0d0887\"], [0.1111111111111111, \"#46039f\"], [0.2222222222222222, \"#7201a8\"], [0.3333333333333333, \"#9c179e\"], [0.4444444444444444, \"#bd3786\"], [0.5555555555555556, \"#d8576b\"], [0.6666666666666666, \"#ed7953\"], [0.7777777777777778, \"#fb9f3a\"], [0.8888888888888888, \"#fdca26\"], [1.0, \"#f0f921\"]], \"type\": \"surface\"}], \"table\": [{\"cells\": {\"fill\": {\"color\": \"#EBF0F8\"}, \"line\": {\"color\": \"white\"}}, \"header\": {\"fill\": {\"color\": \"#C8D4E3\"}, \"line\": {\"color\": \"white\"}}, \"type\": \"table\"}]}, \"layout\": {\"annotationdefaults\": {\"arrowcolor\": \"#2a3f5f\", \"arrowhead\": 0, \"arrowwidth\": 1}, \"autotypenumbers\": \"strict\", \"coloraxis\": {\"colorbar\": {\"outlinewidth\": 0, \"ticks\": \"\"}}, \"colorscale\": {\"diverging\": [[0, \"#8e0152\"], [0.1, \"#c51b7d\"], [0.2, \"#de77ae\"], [0.3, \"#f1b6da\"], [0.4, \"#fde0ef\"], [0.5, \"#f7f7f7\"], [0.6, \"#e6f5d0\"], [0.7, \"#b8e186\"], [0.8, \"#7fbc41\"], [0.9, \"#4d9221\"], [1, \"#276419\"]], \"sequential\": [[0.0, \"#0d0887\"], [0.1111111111111111, \"#46039f\"], [0.2222222222222222, \"#7201a8\"], [0.3333333333333333, \"#9c179e\"], [0.4444444444444444, \"#bd3786\"], [0.5555555555555556, \"#d8576b\"], [0.6666666666666666, \"#ed7953\"], [0.7777777777777778, \"#fb9f3a\"], [0.8888888888888888, \"#fdca26\"], [1.0, \"#f0f921\"]], \"sequentialminus\": [[0.0, \"#0d0887\"], [0.1111111111111111, \"#46039f\"], [0.2222222222222222, \"#7201a8\"], [0.3333333333333333, \"#9c179e\"], [0.4444444444444444, \"#bd3786\"], [0.5555555555555556, \"#d8576b\"], [0.6666666666666666, \"#ed7953\"], [0.7777777777777778, \"#fb9f3a\"], [0.8888888888888888, \"#fdca26\"], [1.0, \"#f0f921\"]]}, \"colorway\": [\"#636efa\", \"#EF553B\", \"#00cc96\", \"#ab63fa\", \"#FFA15A\", \"#19d3f3\", \"#FF6692\", \"#B6E880\", \"#FF97FF\", \"#FECB52\"], \"font\": {\"color\": \"#2a3f5f\"}, \"geo\": {\"bgcolor\": \"white\", \"lakecolor\": \"white\", \"landcolor\": \"#E5ECF6\", \"showlakes\": true, \"showland\": true, \"subunitcolor\": \"white\"}, \"hoverlabel\": {\"align\": \"left\"}, \"hovermode\": \"closest\", \"mapbox\": {\"style\": \"light\"}, \"paper_bgcolor\": \"white\", \"plot_bgcolor\": \"#E5ECF6\", \"polar\": {\"angularaxis\": {\"gridcolor\": \"white\", \"linecolor\": \"white\", \"ticks\": \"\"}, \"bgcolor\": \"#E5ECF6\", \"radialaxis\": {\"gridcolor\": \"white\", \"linecolor\": \"white\", \"ticks\": \"\"}}, \"scene\": {\"xaxis\": {\"backgroundcolor\": \"#E5ECF6\", \"gridcolor\": \"white\", \"gridwidth\": 2, \"linecolor\": \"white\", \"showbackground\": true, \"ticks\": \"\", \"zerolinecolor\": \"white\"}, \"yaxis\": {\"backgroundcolor\": \"#E5ECF6\", \"gridcolor\": \"white\", \"gridwidth\": 2, \"linecolor\": \"white\", \"showbackground\": true, \"ticks\": \"\", \"zerolinecolor\": \"white\"}, \"zaxis\": {\"backgroundcolor\": \"#E5ECF6\", \"gridcolor\": \"white\", \"gridwidth\": 2, \"linecolor\": \"white\", \"showbackground\": true, \"ticks\": \"\", \"zerolinecolor\": \"white\"}}, \"shapedefaults\": {\"line\": {\"color\": \"#2a3f5f\"}}, \"ternary\": {\"aaxis\": {\"gridcolor\": \"white\", \"linecolor\": \"white\", \"ticks\": \"\"}, \"baxis\": {\"gridcolor\": \"white\", \"linecolor\": \"white\", \"ticks\": \"\"}, \"bgcolor\": \"#E5ECF6\", \"caxis\": {\"gridcolor\": \"white\", \"linecolor\": \"white\", \"ticks\": \"\"}}, \"title\": {\"x\": 0.05}, \"xaxis\": {\"automargin\": true, \"gridcolor\": \"white\", \"linecolor\": \"white\", \"ticks\": \"\", \"title\": {\"standoff\": 15}, \"zerolinecolor\": \"white\", \"zerolinewidth\": 2}, \"yaxis\": {\"automargin\": true, \"gridcolor\": \"white\", \"linecolor\": \"white\", \"ticks\": \"\", \"title\": {\"standoff\": 15}, \"zerolinecolor\": \"white\", \"zerolinewidth\": 2}}}, \"title\": {\"font\": {\"color\": \"#4D5663\"}}, \"xaxis\": {\"anchor\": \"y\", \"domain\": [0.0, 0.2125], \"gridcolor\": \"#E1E5ED\", \"showgrid\": false, \"tickfont\": {\"color\": \"#4D5663\"}, \"title\": {\"font\": {\"color\": \"#4D5663\"}, \"text\": \"\"}, \"zerolinecolor\": \"#E1E5ED\"}, \"xaxis10\": {\"anchor\": \"y10\", \"domain\": [0.2625, 0.475], \"gridcolor\": \"#E1E5ED\", \"showgrid\": false, \"tickfont\": {\"color\": \"#4D5663\"}, \"title\": {\"font\": {\"color\": \"#4D5663\"}, \"text\": \"\"}, \"zerolinecolor\": \"#E1E5ED\"}, \"xaxis11\": {\"anchor\": \"y11\", \"domain\": [0.525, 0.7375], \"gridcolor\": \"#E1E5ED\", \"showgrid\": false, \"tickfont\": {\"color\": \"#4D5663\"}, \"title\": {\"font\": {\"color\": \"#4D5663\"}, \"text\": \"\"}, \"zerolinecolor\": \"#E1E5ED\"}, \"xaxis12\": {\"anchor\": \"y12\", \"domain\": [0.7875, 1.0], \"gridcolor\": \"#E1E5ED\", \"showgrid\": false, \"tickfont\": {\"color\": \"#4D5663\"}, \"title\": {\"font\": {\"color\": \"#4D5663\"}, \"text\": \"\"}, \"zerolinecolor\": \"#E1E5ED\"}, \"xaxis13\": {\"anchor\": \"y13\", \"domain\": [0.0, 0.2125], \"gridcolor\": \"#E1E5ED\", \"showgrid\": false, \"tickfont\": {\"color\": \"#4D5663\"}, \"title\": {\"font\": {\"color\": \"#4D5663\"}, \"text\": \"\"}, \"zerolinecolor\": \"#E1E5ED\"}, \"xaxis14\": {\"anchor\": \"y14\", \"domain\": [0.2625, 0.475], \"gridcolor\": \"#E1E5ED\", \"showgrid\": false, \"tickfont\": {\"color\": \"#4D5663\"}, \"title\": {\"font\": {\"color\": \"#4D5663\"}, \"text\": \"\"}, \"zerolinecolor\": \"#E1E5ED\"}, \"xaxis15\": {\"anchor\": \"y15\", \"domain\": [0.525, 0.7375], \"gridcolor\": \"#E1E5ED\", \"showgrid\": false, \"tickfont\": {\"color\": \"#4D5663\"}, \"title\": {\"font\": {\"color\": \"#4D5663\"}, \"text\": \"\"}, \"zerolinecolor\": \"#E1E5ED\"}, \"xaxis16\": {\"anchor\": \"y16\", \"domain\": [0.7875, 1.0], \"gridcolor\": \"#E1E5ED\", \"showgrid\": false, \"tickfont\": {\"color\": \"#4D5663\"}, \"title\": {\"font\": {\"color\": \"#4D5663\"}, \"text\": \"\"}, \"zerolinecolor\": \"#E1E5ED\"}, \"xaxis2\": {\"anchor\": \"y2\", \"domain\": [0.2625, 0.475], \"gridcolor\": \"#E1E5ED\", \"showgrid\": false, \"tickfont\": {\"color\": \"#4D5663\"}, \"title\": {\"font\": {\"color\": \"#4D5663\"}, \"text\": \"\"}, \"zerolinecolor\": \"#E1E5ED\"}, \"xaxis3\": {\"anchor\": \"y3\", \"domain\": [0.525, 0.7375], \"gridcolor\": \"#E1E5ED\", \"showgrid\": false, \"tickfont\": {\"color\": \"#4D5663\"}, \"title\": {\"font\": {\"color\": \"#4D5663\"}, \"text\": \"\"}, \"zerolinecolor\": \"#E1E5ED\"}, \"xaxis4\": {\"anchor\": \"y4\", \"domain\": [0.7875, 1.0], \"gridcolor\": \"#E1E5ED\", \"showgrid\": false, \"tickfont\": {\"color\": \"#4D5663\"}, \"title\": {\"font\": {\"color\": \"#4D5663\"}, \"text\": \"\"}, \"zerolinecolor\": \"#E1E5ED\"}, \"xaxis5\": {\"anchor\": \"y5\", \"domain\": [0.0, 0.2125], \"gridcolor\": \"#E1E5ED\", \"showgrid\": false, \"tickfont\": {\"color\": \"#4D5663\"}, \"title\": {\"font\": {\"color\": \"#4D5663\"}, \"text\": \"\"}, \"zerolinecolor\": \"#E1E5ED\"}, \"xaxis6\": {\"anchor\": \"y6\", \"domain\": [0.2625, 0.475], \"gridcolor\": \"#E1E5ED\", \"showgrid\": false, \"tickfont\": {\"color\": \"#4D5663\"}, \"title\": {\"font\": {\"color\": \"#4D5663\"}, \"text\": \"\"}, \"zerolinecolor\": \"#E1E5ED\"}, \"xaxis7\": {\"anchor\": \"y7\", \"domain\": [0.525, 0.7375], \"gridcolor\": \"#E1E5ED\", \"showgrid\": false, \"tickfont\": {\"color\": \"#4D5663\"}, \"title\": {\"font\": {\"color\": \"#4D5663\"}, \"text\": \"\"}, \"zerolinecolor\": \"#E1E5ED\"}, \"xaxis8\": {\"anchor\": \"y8\", \"domain\": [0.7875, 1.0], \"gridcolor\": \"#E1E5ED\", \"showgrid\": false, \"tickfont\": {\"color\": \"#4D5663\"}, \"title\": {\"font\": {\"color\": \"#4D5663\"}, \"text\": \"\"}, \"zerolinecolor\": \"#E1E5ED\"}, \"xaxis9\": {\"anchor\": \"y9\", \"domain\": [0.0, 0.2125], \"gridcolor\": \"#E1E5ED\", \"showgrid\": false, \"tickfont\": {\"color\": \"#4D5663\"}, \"title\": {\"font\": {\"color\": \"#4D5663\"}, \"text\": \"\"}, \"zerolinecolor\": \"#E1E5ED\"}, \"yaxis\": {\"anchor\": \"x\", \"domain\": [0.8025, 1.0], \"gridcolor\": \"#E1E5ED\", \"showgrid\": false, \"tickfont\": {\"color\": \"#4D5663\"}, \"title\": {\"font\": {\"color\": \"#4D5663\"}, \"text\": \"\"}, \"zerolinecolor\": \"#E1E5ED\"}, \"yaxis10\": {\"anchor\": \"x10\", \"domain\": [0.2675, 0.465], \"gridcolor\": \"#E1E5ED\", \"showgrid\": false, \"tickfont\": {\"color\": \"#4D5663\"}, \"title\": {\"font\": {\"color\": \"#4D5663\"}, \"text\": \"\"}, \"zerolinecolor\": \"#E1E5ED\"}, \"yaxis11\": {\"anchor\": \"x11\", \"domain\": [0.2675, 0.465], \"gridcolor\": \"#E1E5ED\", \"showgrid\": false, \"tickfont\": {\"color\": \"#4D5663\"}, \"title\": {\"font\": {\"color\": \"#4D5663\"}, \"text\": \"\"}, \"zerolinecolor\": \"#E1E5ED\"}, \"yaxis12\": {\"anchor\": \"x12\", \"domain\": [0.2675, 0.465], \"gridcolor\": \"#E1E5ED\", \"showgrid\": false, \"tickfont\": {\"color\": \"#4D5663\"}, \"title\": {\"font\": {\"color\": \"#4D5663\"}, \"text\": \"\"}, \"zerolinecolor\": \"#E1E5ED\"}, \"yaxis13\": {\"anchor\": \"x13\", \"domain\": [0.0, 0.1975], \"gridcolor\": \"#E1E5ED\", \"showgrid\": false, \"tickfont\": {\"color\": \"#4D5663\"}, \"title\": {\"font\": {\"color\": \"#4D5663\"}, \"text\": \"\"}, \"zerolinecolor\": \"#E1E5ED\"}, \"yaxis14\": {\"anchor\": \"x14\", \"domain\": [0.0, 0.1975], \"gridcolor\": \"#E1E5ED\", \"showgrid\": false, \"tickfont\": {\"color\": \"#4D5663\"}, \"title\": {\"font\": {\"color\": \"#4D5663\"}, \"text\": \"\"}, \"zerolinecolor\": \"#E1E5ED\"}, \"yaxis15\": {\"anchor\": \"x15\", \"domain\": [0.0, 0.1975], \"gridcolor\": \"#E1E5ED\", \"showgrid\": false, \"tickfont\": {\"color\": \"#4D5663\"}, \"title\": {\"font\": {\"color\": \"#4D5663\"}, \"text\": \"\"}, \"zerolinecolor\": \"#E1E5ED\"}, \"yaxis16\": {\"anchor\": \"x16\", \"domain\": [0.0, 0.1975], \"gridcolor\": \"#E1E5ED\", \"showgrid\": false, \"tickfont\": {\"color\": \"#4D5663\"}, \"title\": {\"font\": {\"color\": \"#4D5663\"}, \"text\": \"\"}, \"zerolinecolor\": \"#E1E5ED\"}, \"yaxis2\": {\"anchor\": \"x2\", \"domain\": [0.8025, 1.0], \"gridcolor\": \"#E1E5ED\", \"showgrid\": false, \"tickfont\": {\"color\": \"#4D5663\"}, \"title\": {\"font\": {\"color\": \"#4D5663\"}, \"text\": \"\"}, \"zerolinecolor\": \"#E1E5ED\"}, \"yaxis3\": {\"anchor\": \"x3\", \"domain\": [0.8025, 1.0], \"gridcolor\": \"#E1E5ED\", \"showgrid\": false, \"tickfont\": {\"color\": \"#4D5663\"}, \"title\": {\"font\": {\"color\": \"#4D5663\"}, \"text\": \"\"}, \"zerolinecolor\": \"#E1E5ED\"}, \"yaxis4\": {\"anchor\": \"x4\", \"domain\": [0.8025, 1.0], \"gridcolor\": \"#E1E5ED\", \"showgrid\": false, \"tickfont\": {\"color\": \"#4D5663\"}, \"title\": {\"font\": {\"color\": \"#4D5663\"}, \"text\": \"\"}, \"zerolinecolor\": \"#E1E5ED\"}, \"yaxis5\": {\"anchor\": \"x5\", \"domain\": [0.535, 0.7325], \"gridcolor\": \"#E1E5ED\", \"showgrid\": false, \"tickfont\": {\"color\": \"#4D5663\"}, \"title\": {\"font\": {\"color\": \"#4D5663\"}, \"text\": \"\"}, \"zerolinecolor\": \"#E1E5ED\"}, \"yaxis6\": {\"anchor\": \"x6\", \"domain\": [0.535, 0.7325], \"gridcolor\": \"#E1E5ED\", \"showgrid\": false, \"tickfont\": {\"color\": \"#4D5663\"}, \"title\": {\"font\": {\"color\": \"#4D5663\"}, \"text\": \"\"}, \"zerolinecolor\": \"#E1E5ED\"}, \"yaxis7\": {\"anchor\": \"x7\", \"domain\": [0.535, 0.7325], \"gridcolor\": \"#E1E5ED\", \"showgrid\": false, \"tickfont\": {\"color\": \"#4D5663\"}, \"title\": {\"font\": {\"color\": \"#4D5663\"}, \"text\": \"\"}, \"zerolinecolor\": \"#E1E5ED\"}, \"yaxis8\": {\"anchor\": \"x8\", \"domain\": [0.535, 0.7325], \"gridcolor\": \"#E1E5ED\", \"showgrid\": false, \"tickfont\": {\"color\": \"#4D5663\"}, \"title\": {\"font\": {\"color\": \"#4D5663\"}, \"text\": \"\"}, \"zerolinecolor\": \"#E1E5ED\"}, \"yaxis9\": {\"anchor\": \"x9\", \"domain\": [0.2675, 0.465], \"gridcolor\": \"#E1E5ED\", \"showgrid\": false, \"tickfont\": {\"color\": \"#4D5663\"}, \"title\": {\"font\": {\"color\": \"#4D5663\"}, \"text\": \"\"}, \"zerolinecolor\": \"#E1E5ED\"}},                        {\"showLink\": true, \"linkText\": \"Export to plot.ly\", \"plotlyServerURL\": \"https://plot.ly\", \"responsive\": true}                    ).then(function(){\n",
       "                            \n",
       "var gd = document.getElementById('7d75e3ea-c91d-4a7a-b005-e01ab3a0a448');\n",
       "var x = new MutationObserver(function (mutations, observer) {{\n",
       "        var display = window.getComputedStyle(gd).display;\n",
       "        if (!display || display === 'none') {{\n",
       "            console.log([gd, 'removed!']);\n",
       "            Plotly.purge(gd);\n",
       "            observer.disconnect();\n",
       "        }}\n",
       "}});\n",
       "\n",
       "// Listen for the removal of the full notebook cells\n",
       "var notebookContainer = gd.closest('#notebook-container');\n",
       "if (notebookContainer) {{\n",
       "    x.observe(notebookContainer, {childList: true});\n",
       "}}\n",
       "\n",
       "// Listen for the clearing of the current output cell\n",
       "var outputEl = gd.closest('.output');\n",
       "if (outputEl) {{\n",
       "    x.observe(outputEl, {childList: true});\n",
       "}}\n",
       "\n",
       "                        })                };                });            </script>        </div>"
      ]
     },
     "metadata": {},
     "output_type": "display_data"
    }
   ],
   "source": [
    "df.scatter_matrix()"
   ]
  },
  {
   "cell_type": "markdown",
   "metadata": {
    "collapsed": true
   },
   "source": [
    "# Great Job!"
   ]
  }
 ],
 "metadata": {
  "kernelspec": {
   "display_name": "Python 3 (ipykernel)",
   "language": "python",
   "name": "python3"
  },
  "language_info": {
   "codemirror_mode": {
    "name": "ipython",
    "version": 3
   },
   "file_extension": ".py",
   "mimetype": "text/x-python",
   "name": "python",
   "nbconvert_exporter": "python",
   "pygments_lexer": "ipython3",
   "version": "3.8.5"
  }
 },
 "nbformat": 4,
 "nbformat_minor": 1
}
